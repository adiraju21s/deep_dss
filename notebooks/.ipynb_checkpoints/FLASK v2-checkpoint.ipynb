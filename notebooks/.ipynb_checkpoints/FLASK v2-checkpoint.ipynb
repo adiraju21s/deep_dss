{
 "cells": [
  {
   "cell_type": "code",
   "execution_count": 7,
   "metadata": {},
   "outputs": [],
   "source": [
    "%load_ext autoreload\n",
    "\n",
    "%autoreload 2"
   ]
  },
  {
   "cell_type": "code",
   "execution_count": 3,
   "metadata": {},
   "outputs": [],
   "source": [
    "from deep_dss.utils import *\n",
    "\n",
    "import numpy as np\n",
    "import healpy as hp\n",
    "import pandas as pd\n",
    "import matplotlib as mpl\n",
    "import matplotlib.pyplot as plt"
   ]
  },
  {
   "cell_type": "code",
   "execution_count": 5,
   "metadata": {},
   "outputs": [],
   "source": [
    "%matplotlib inline"
   ]
  },
  {
   "cell_type": "code",
   "execution_count": 14,
   "metadata": {},
   "outputs": [],
   "source": [
    "sigma8 = np.linspace(0.5, 1.2, num=201)\n",
    "\n",
    "test_sig8 = np.random.choice(sigma8, 21, replace=False)\n",
    "rsig8 = np.setdiff1d(sigma8, test_sig8)\n",
    "\n",
    "train1_sig8 = np.random.choice(rsig8, 45, replace=False)\n",
    "rsig8 = np.setdiff1d(rsig8, train1_sig8)\n",
    "\n",
    "train2_sig8 = np.random.choice(rsig8, 45, replace=False)\n",
    "rsig8 = np.setdiff1d(rsig8, train2_sig8)\n",
    "\n",
    "train3_sig8 = np.random.choice(rsig8, 45, replace=False)\n",
    "rsig8 = np.setdiff1d(rsig8, train3_sig8)\n",
    "\n",
    "train4_sig8 = np.random.choice(rsig8, 45, replace=False)\n",
    "rsig8 = np.setdiff1d(rsig8, train4_sig8)\n"
   ]
  },
  {
   "cell_type": "code",
   "execution_count": 15,
   "metadata": {},
   "outputs": [
    {
     "data": {
      "text/plain": [
       "array([0.5   , 0.5035, 0.507 , 0.5105, 0.514 , 0.5175, 0.521 , 0.5245,\n",
       "       0.528 , 0.5315, 0.535 , 0.5385, 0.542 , 0.5455, 0.549 , 0.5525,\n",
       "       0.556 , 0.5595, 0.563 , 0.5665, 0.57  , 0.5735, 0.577 , 0.5805,\n",
       "       0.584 , 0.5875, 0.591 , 0.5945, 0.598 , 0.6015, 0.605 , 0.6085,\n",
       "       0.612 , 0.6155, 0.619 , 0.6225, 0.626 , 0.6295, 0.633 , 0.6365,\n",
       "       0.64  , 0.6435, 0.647 , 0.6505, 0.654 , 0.6575, 0.661 , 0.6645,\n",
       "       0.668 , 0.6715, 0.675 , 0.6785, 0.682 , 0.6855, 0.689 , 0.6925,\n",
       "       0.696 , 0.6995, 0.703 , 0.7065, 0.71  , 0.7135, 0.717 , 0.7205,\n",
       "       0.724 , 0.7275, 0.731 , 0.7345, 0.738 , 0.7415, 0.745 , 0.7485,\n",
       "       0.752 , 0.7555, 0.759 , 0.7625, 0.766 , 0.7695, 0.773 , 0.7765,\n",
       "       0.78  , 0.7835, 0.787 , 0.7905, 0.794 , 0.7975, 0.801 , 0.8045,\n",
       "       0.808 , 0.8115, 0.815 , 0.8185, 0.822 , 0.8255, 0.829 , 0.8325,\n",
       "       0.836 , 0.8395, 0.843 , 0.8465, 0.85  , 0.8535, 0.857 , 0.8605,\n",
       "       0.864 , 0.8675, 0.871 , 0.8745, 0.878 , 0.8815, 0.885 , 0.8885,\n",
       "       0.892 , 0.8955, 0.899 , 0.9025, 0.906 , 0.9095, 0.913 , 0.9165,\n",
       "       0.92  , 0.9235, 0.927 , 0.9305, 0.934 , 0.9375, 0.941 , 0.9445,\n",
       "       0.948 , 0.9515, 0.955 , 0.9585, 0.962 , 0.9655, 0.969 , 0.9725,\n",
       "       0.976 , 0.9795, 0.983 , 0.9865, 0.99  , 0.9935, 0.997 , 1.0005,\n",
       "       1.004 , 1.0075, 1.011 , 1.0145, 1.018 , 1.0215, 1.025 , 1.0285,\n",
       "       1.032 , 1.0355, 1.039 , 1.0425, 1.046 , 1.0495, 1.053 , 1.0565,\n",
       "       1.06  , 1.0635, 1.067 , 1.0705, 1.074 , 1.0775, 1.081 , 1.0845,\n",
       "       1.088 , 1.0915, 1.095 , 1.0985, 1.102 , 1.1055, 1.109 , 1.1125,\n",
       "       1.116 , 1.1195, 1.123 , 1.1265, 1.13  , 1.1335, 1.137 , 1.1405,\n",
       "       1.144 , 1.1475, 1.151 , 1.1545, 1.158 , 1.1615, 1.165 , 1.1685,\n",
       "       1.172 , 1.1755, 1.179 , 1.1825, 1.186 , 1.1895, 1.193 , 1.1965,\n",
       "       1.2   ])"
      ]
     },
     "execution_count": 15,
     "metadata": {},
     "output_type": "execute_result"
    }
   ],
   "source": [
    "sigma8"
   ]
  },
  {
   "cell_type": "code",
   "execution_count": 16,
   "metadata": {},
   "outputs": [
    {
     "data": {
      "text/plain": [
       "array([1.144 , 0.9865, 0.6855, 1.088 , 1.116 , 0.682 , 1.0565, 0.752 ,\n",
       "       0.9305, 1.0915, 0.5665, 0.647 , 0.871 , 0.9795, 1.2   , 1.13  ,\n",
       "       0.5735, 0.997 , 0.878 , 0.507 , 0.8115])"
      ]
     },
     "execution_count": 16,
     "metadata": {},
     "output_type": "execute_result"
    }
   ],
   "source": [
    "test_sig8"
   ]
  },
  {
   "cell_type": "code",
   "execution_count": 17,
   "metadata": {},
   "outputs": [
    {
     "data": {
      "text/plain": [
       "array([0.7345, 0.969 , 0.6435, 0.654 , 1.1895, 1.06  , 1.109 , 0.703 ,\n",
       "       1.032 , 1.1615, 1.0705, 0.759 , 0.5175, 0.885 , 0.9515, 0.6295,\n",
       "       0.7415, 0.605 , 0.5875, 0.7205, 0.7065, 1.1685, 0.773 , 1.179 ,\n",
       "       0.577 , 0.857 , 1.1195, 1.123 , 1.1965, 0.843 , 0.7975, 0.5245,\n",
       "       1.172 , 0.99  , 0.892 , 0.7485, 0.955 , 0.528 , 1.0845, 1.1265,\n",
       "       1.0005, 0.8535, 0.5   , 0.9165, 0.5105])"
      ]
     },
     "execution_count": 17,
     "metadata": {},
     "output_type": "execute_result"
    }
   ],
   "source": [
    "train1_sig8"
   ]
  },
  {
   "cell_type": "code",
   "execution_count": 18,
   "metadata": {},
   "outputs": [
    {
     "data": {
      "text/plain": [
       "array([0.5035, 1.025 , 0.6995, 0.5385, 0.6015, 1.018 , 0.829 , 0.927 ,\n",
       "       0.7905, 1.095 , 0.9655, 0.5595, 1.165 , 0.6645, 0.724 , 0.6155,\n",
       "       1.039 , 0.78  , 0.941 , 0.633 , 1.186 , 1.193 , 1.0635, 0.8675,\n",
       "       1.151 , 0.8815, 1.0775, 0.563 , 0.6925, 0.7555, 1.1755, 1.1335,\n",
       "       0.696 , 0.801 , 0.864 , 0.598 , 1.158 , 0.8955, 0.5315, 1.0355,\n",
       "       0.899 , 1.046 , 0.542 , 1.0215, 1.1825])"
      ]
     },
     "execution_count": 18,
     "metadata": {},
     "output_type": "execute_result"
    }
   ],
   "source": [
    "train2_sig8"
   ]
  },
  {
   "cell_type": "code",
   "execution_count": 19,
   "metadata": {},
   "outputs": [
    {
     "data": {
      "text/plain": [
       "array([0.8395, 0.689 , 0.8465, 0.6365, 1.0145, 0.6785, 1.004 , 1.1055,\n",
       "       1.053 , 0.57  , 1.0495, 0.8255, 0.668 , 1.137 , 0.5805, 0.9235,\n",
       "       0.619 , 0.661 , 0.7695, 0.7765, 0.9375, 0.836 , 0.591 , 0.906 ,\n",
       "       1.1545, 0.8745, 0.766 , 0.675 , 0.8885, 0.9095, 1.102 , 0.92  ,\n",
       "       0.556 , 1.011 , 1.0075, 0.6225, 0.5455, 0.6715, 0.626 , 0.983 ,\n",
       "       0.738 , 0.71  , 0.8325, 0.962 , 0.822 ])"
      ]
     },
     "execution_count": 19,
     "metadata": {},
     "output_type": "execute_result"
    }
   ],
   "source": [
    "train3_sig8"
   ]
  },
  {
   "cell_type": "code",
   "execution_count": 21,
   "metadata": {},
   "outputs": [
    {
     "data": {
      "text/plain": [
       "array([1.1475, 0.5525, 0.85  , 0.9445, 0.7835, 0.549 , 0.794 , 0.815 ,\n",
       "       0.9585, 0.6575, 0.9935, 1.067 , 0.8605, 0.514 , 1.0985, 1.0285,\n",
       "       0.612 , 1.1405, 1.081 , 0.948 , 0.6085, 0.934 , 0.731 , 0.7275,\n",
       "       0.5945, 0.913 , 0.787 , 1.0425, 0.7135, 0.808 , 1.074 , 0.8185,\n",
       "       0.6505, 0.9725, 0.976 , 0.9025, 0.8045, 0.584 , 0.535 , 0.717 ,\n",
       "       0.64  , 1.1125, 0.745 , 0.7625, 0.521 ])"
      ]
     },
     "execution_count": 21,
     "metadata": {},
     "output_type": "execute_result"
    }
   ],
   "source": [
    "train4_sig8"
   ]
  },
  {
   "cell_type": "raw",
   "metadata": {},
   "source": []
  }
 ],
 "metadata": {
  "kernelspec": {
   "display_name": "Python 3",
   "language": "python",
   "name": "python3"
  },
  "language_info": {
   "codemirror_mode": {
    "name": "ipython",
    "version": 3
   },
   "file_extension": ".py",
   "mimetype": "text/x-python",
   "name": "python",
   "nbconvert_exporter": "python",
   "pygments_lexer": "ipython3",
   "version": "3.8.5"
  }
 },
 "nbformat": 4,
 "nbformat_minor": 4
}
