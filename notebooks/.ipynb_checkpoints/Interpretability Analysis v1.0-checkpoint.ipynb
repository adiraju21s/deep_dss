{
 "cells": [
  {
   "cell_type": "markdown",
   "metadata": {},
   "source": [
    "# SphereNN Interpretability Analysis"
   ]
  },
  {
   "cell_type": "markdown",
   "metadata": {},
   "source": [
    "## Loading dependencies, data and model"
   ]
  },
  {
   "cell_type": "code",
   "execution_count": 1,
   "metadata": {},
   "outputs": [],
   "source": [
    "%load_ext autoreload\n",
    "%autoreload 2"
   ]
  },
  {
   "cell_type": "code",
   "execution_count": 3,
   "metadata": {},
   "outputs": [],
   "source": [
    "import os\n",
    "import pickle\n",
    "import numpy as np\n",
    "import healpy as hp\n",
    "import matplotlib.pyplot as plt\n",
    "import matplotlib as mpl\n",
    "import tensorflow as tf\n",
    "import tensorflow.keras as keras\n",
    "from deep_dss.helpers import *\n",
    "import warnings\n",
    "\n",
    "warnings.filterwarnings(action='once')\n",
    "\n",
    "# Run on GPU.\n",
    "os.environ[\"CUDA_VISIBLE_DEVICES\"] = \"0\""
   ]
  },
  {
   "cell_type": "code",
   "execution_count": 4,
   "metadata": {},
   "outputs": [
    {
     "name": "stderr",
     "output_type": "stream",
     "text": [
      "/Users/adiraju/opt/anaconda3/envs/deep_dss/lib/python3.8/site-packages/ipykernel/ipkernel.py:287: DeprecationWarning: `should_run_async` will not call `transform_cell` automatically in the future. Please pass the result to `transformed_cell` argument and any exception that happen during thetransform in `preprocessing_exc_tuple` in IPython 7.17 and above.\n",
      "  and should_run_async(code)\n"
     ]
    }
   ],
   "source": [
    "# Defaults\n",
    "plt.rcParams.update({\n",
    "'lines.color':'black',\n",
    "'font.family':'serif',\n",
    "'font.weight':'normal',\n",
    "'text.color':'black',\n",
    "'text.usetex': True,\n",
    "'axes.edgecolor':'black',\n",
    "'axes.linewidth':1.0,\n",
    "'axes.titlesize':'x-large',\n",
    "'axes.labelsize':'x-large',\n",
    "'axes.labelcolor':'black',\n",
    "'xtick.labelsize':'x-large',\n",
    "'xtick.minor.width':1.0,\n",
    "'xtick.major.width':1.0,\n",
    "'ytick.major.size':7,\n",
    "'ytick.minor.size':4,\n",
    "'ytick.major.pad':8,\n",
    "'ytick.minor.pad':8,\n",
    "'ytick.labelsize':'x-large',\n",
    "'ytick.minor.width':1.0,\n",
    "'ytick.major.width':1.0,\n",
    "'legend.numpoints':1,\n",
    "'legend.fontsize':'x-large',\n",
    "'legend.shadow':False,\n",
    "'legend.frameon':False})"
   ]
  },
  {
   "cell_type": "code",
   "execution_count": 5,
   "metadata": {},
   "outputs": [],
   "source": [
    "config = \"k\"\n",
    "channels = 1\n",
    "noiseless_m = False\n",
    "noiseless_kg = False\n",
    "free_bias = False\n",
    "gaussian = False\n",
    "\n",
    "order = 2\n",
    "nside = 1024\n",
    "\n",
    "val_set = \"TEST\"\n",
    "\n",
    "exp_name = \"spherenn-v3-simple-noisy-fixed-kappa\"\n",
    "num_id = 2\n",
    "checkpoint_path = \"../checkpoints/spherenn/{0}/{0}-{1}\".format(exp_name, num_id)\n",
    "checkpoint_dir = \"../checkpoints/spherenn/{0}\".format(exp_name)\n",
    "# !mkdir $checkpoint_dir\n",
    "log_dir = \"../log/{0}\".format(exp_name)\n",
    "# !mkdir $log_dir\n",
    "fig_dir = \"../figures/{0}\".format(exp_name)\n",
    "# !mkdir $fig_dir"
   ]
  },
  {
   "cell_type": "code",
   "execution_count": 6,
   "metadata": {},
   "outputs": [],
   "source": [
    "def num_cosmologies(dataset):\n",
    "    if dataset == \"TRAINLITE\":\n",
    "        return 16\n",
    "    if dataset == \"TESTLITE\":\n",
    "        return 4\n",
    "    if dataset == \"TEST\":\n",
    "        return 21\n",
    "    return 45\n",
    "\n",
    "def generate_reshaped_data(dataset):\n",
    "    print(\"Generating data for {0}!\".format(dataset))\n",
    "    num_cosmos = num_cosmologies(dataset)\n",
    "    data = split_count_and_lensing_maps_by_dataset(dataset, config=config, noiseless_m=noiseless_m,\n",
    "                                                  noiseless_kg=noiseless_kg, free_bias=free_bias, gaussian=gaussian)\n",
    "    data[\"x\"] = np.reshape(data[\"x\"], (12*(order**2)*num_cosmos, (nside//order)**2, channels))\n",
    "    data[\"y\"] = np.reshape(data[\"y\"], (12*(order**2)*num_cosmos, 1, 1))\n",
    "    return data"
   ]
  },
  {
   "cell_type": "code",
   "execution_count": 7,
   "metadata": {},
   "outputs": [],
   "source": [
    "def build_model():\n",
    "    return keras.Sequential([\n",
    "        keras.Input(shape=(262144, channels)),\n",
    "        keras.layers.Conv1D(64, 4, strides=4, activation='relu'),\n",
    "        keras.layers.Conv1D(128, 4, strides=4, activation='relu'),\n",
    "        keras.layers.Conv1D(256, 4, strides=4, activation='relu'),\n",
    "        keras.layers.Conv1D(256, 4, strides=4, activation='relu'),\n",
    "        keras.layers.Conv1D(256, 4, strides=4, activation='relu'),\n",
    "        keras.layers.Conv1D(256, 4, strides=4, activation='relu'),\n",
    "        keras.layers.Conv1D(256, 4, strides=4, activation='relu'),\n",
    "        keras.layers.Conv1D(256, 4, strides=4, activation='relu'),\n",
    "        keras.layers.Conv1D(1, 4, strides=4, activation='relu'),\n",
    "    ])\n",
    "\n",
    "def load_model():\n",
    "    model = build_model()\n",
    "    model.load_weights(checkpoint_path+\"-Q4\")\n",
    "    return model"
   ]
  },
  {
   "cell_type": "code",
   "execution_count": 8,
   "metadata": {},
   "outputs": [],
   "source": [
    "model = load_model()"
   ]
  },
  {
   "cell_type": "code",
   "execution_count": 9,
   "metadata": {},
   "outputs": [
    {
     "name": "stdout",
     "output_type": "stream",
     "text": [
      "Model: \"sequential\"\n",
      "_________________________________________________________________\n",
      "Layer (type)                 Output Shape              Param #   \n",
      "=================================================================\n",
      "conv1d (Conv1D)              (None, 65536, 64)         320       \n",
      "_________________________________________________________________\n",
      "conv1d_1 (Conv1D)            (None, 16384, 128)        32896     \n",
      "_________________________________________________________________\n",
      "conv1d_2 (Conv1D)            (None, 4096, 256)         131328    \n",
      "_________________________________________________________________\n",
      "conv1d_3 (Conv1D)            (None, 1024, 256)         262400    \n",
      "_________________________________________________________________\n",
      "conv1d_4 (Conv1D)            (None, 256, 256)          262400    \n",
      "_________________________________________________________________\n",
      "conv1d_5 (Conv1D)            (None, 64, 256)           262400    \n",
      "_________________________________________________________________\n",
      "conv1d_6 (Conv1D)            (None, 16, 256)           262400    \n",
      "_________________________________________________________________\n",
      "conv1d_7 (Conv1D)            (None, 4, 256)            262400    \n",
      "_________________________________________________________________\n",
      "conv1d_8 (Conv1D)            (None, 1, 1)              1025      \n",
      "=================================================================\n",
      "Total params: 1,477,569\n",
      "Trainable params: 1,477,569\n",
      "Non-trainable params: 0\n",
      "_________________________________________________________________\n"
     ]
    }
   ],
   "source": [
    "model.summary()"
   ]
  },
  {
   "cell_type": "code",
   "execution_count": 10,
   "metadata": {},
   "outputs": [
    {
     "name": "stdout",
     "output_type": "stream",
     "text": [
      "Generating data for TEST!\n"
     ]
    },
    {
     "name": "stderr",
     "output_type": "stream",
     "text": [
      "/Users/adiraju/opt/anaconda3/envs/deep_dss/lib/python3.8/site-packages/healpy/fitsfunc.py:368: UserWarning: If you are not specifying the input dtype and using the default np.float64 dtype of read_map(), please consider that it will change in a future version to None as to keep the same dtype of the input file: please explicitly set the dtype if it is important to you.\n",
      "  warnings.warn(\n",
      "/Users/adiraju/opt/anaconda3/envs/deep_dss/lib/python3.8/site-packages/healpy/fitsfunc.py:391: UserWarning: NSIDE = 1024\n",
      "  warnings.warn(\"NSIDE = {0:d}\".format(nside))\n",
      "/Users/adiraju/opt/anaconda3/envs/deep_dss/lib/python3.8/site-packages/healpy/fitsfunc.py:400: UserWarning: ORDERING = NESTED in fits file\n",
      "  warnings.warn(\"ORDERING = {0:s} in fits file\".format(ordering))\n",
      "/Users/adiraju/opt/anaconda3/envs/deep_dss/lib/python3.8/site-packages/healpy/fitsfunc.py:428: UserWarning: INDXSCHM = IMPLICIT\n",
      "  warnings.warn(\"INDXSCHM = {0:s}\".format(schm))\n",
      "/Users/adiraju/opt/anaconda3/envs/deep_dss/lib/python3.8/site-packages/healpy/fitsfunc.py:368: UserWarning: If you are not specifying the input dtype and using the default np.float64 dtype of read_map(), please consider that it will change in a future version to None as to keep the same dtype of the input file: please explicitly set the dtype if it is important to you.\n",
      "  warnings.warn(\n",
      "/Users/adiraju/opt/anaconda3/envs/deep_dss/lib/python3.8/site-packages/healpy/fitsfunc.py:391: UserWarning: NSIDE = 1024\n",
      "  warnings.warn(\"NSIDE = {0:d}\".format(nside))\n",
      "/Users/adiraju/opt/anaconda3/envs/deep_dss/lib/python3.8/site-packages/healpy/fitsfunc.py:400: UserWarning: ORDERING = NESTED in fits file\n",
      "  warnings.warn(\"ORDERING = {0:s} in fits file\".format(ordering))\n",
      "/Users/adiraju/opt/anaconda3/envs/deep_dss/lib/python3.8/site-packages/healpy/fitsfunc.py:428: UserWarning: INDXSCHM = IMPLICIT\n",
      "  warnings.warn(\"INDXSCHM = {0:s}\".format(schm))\n"
     ]
    }
   ],
   "source": [
    "data = generate_reshaped_data(\"TEST\")"
   ]
  },
  {
   "cell_type": "markdown",
   "metadata": {},
   "source": [
    "## Gradient Calculation: Example"
   ]
  },
  {
   "cell_type": "code",
   "execution_count": 11,
   "metadata": {},
   "outputs": [
    {
     "name": "stderr",
     "output_type": "stream",
     "text": [
      "/Users/adiraju/opt/anaconda3/envs/deep_dss/lib/python3.8/site-packages/ipykernel/ipkernel.py:287: DeprecationWarning: `should_run_async` will not call `transform_cell` automatically in the future. Please pass the result to `transformed_cell` argument and any exception that happen during thetransform in `preprocessing_exc_tuple` in IPython 7.17 and above.\n",
      "  and should_run_async(code)\n"
     ]
    }
   ],
   "source": [
    "ex_input_batch = data[\"x\"][:32]"
   ]
  },
  {
   "cell_type": "code",
   "execution_count": 12,
   "metadata": {},
   "outputs": [
    {
     "data": {
      "text/plain": [
       "(32, 262144, 1)"
      ]
     },
     "execution_count": 12,
     "metadata": {},
     "output_type": "execute_result"
    }
   ],
   "source": [
    "ex_input_batch.shape"
   ]
  },
  {
   "cell_type": "code",
   "execution_count": 13,
   "metadata": {},
   "outputs": [],
   "source": [
    "ex_label = data[\"y\"][:32]"
   ]
  },
  {
   "cell_type": "code",
   "execution_count": 14,
   "metadata": {},
   "outputs": [
    {
     "data": {
      "text/plain": [
       "(32, 1, 1)"
      ]
     },
     "execution_count": 14,
     "metadata": {},
     "output_type": "execute_result"
    }
   ],
   "source": [
    "ex_label.shape"
   ]
  },
  {
   "cell_type": "code",
   "execution_count": 15,
   "metadata": {},
   "outputs": [],
   "source": [
    "ex_input_tensor = tf.convert_to_tensor(ex_input_batch, dtype=tf.float32)\n",
    "ex_label_tensor = tf.convert_to_tensor(ex_label, dtype=tf.float32)"
   ]
  },
  {
   "cell_type": "code",
   "execution_count": 16,
   "metadata": {},
   "outputs": [],
   "source": [
    "loss_function = tf.keras.losses.MeanAbsoluteError()"
   ]
  },
  {
   "cell_type": "code",
   "execution_count": 17,
   "metadata": {},
   "outputs": [],
   "source": [
    "with tf.GradientTape() as tape:\n",
    "    tape.watch(ex_input_tensor)\n",
    "    output = model(ex_input_tensor)\n",
    "    loss = loss_function(ex_label_tensor, output)"
   ]
  },
  {
   "cell_type": "code",
   "execution_count": 18,
   "metadata": {},
   "outputs": [],
   "source": [
    "ex_grads = tape.gradient(loss, ex_input_tensor)"
   ]
  },
  {
   "cell_type": "code",
   "execution_count": 19,
   "metadata": {},
   "outputs": [
    {
     "data": {
      "text/plain": [
       "<tf.Tensor: shape=(32, 262144, 1), dtype=float32, numpy=\n",
       "array([[[-2.7103800e-08],\n",
       "        [ 1.7065428e-08],\n",
       "        [ 5.7919491e-09],\n",
       "        ...,\n",
       "        [ 4.5972243e-05],\n",
       "        [ 5.0681087e-05],\n",
       "        [ 4.9473096e-05]],\n",
       "\n",
       "       [[ 3.8028634e-06],\n",
       "        [ 3.6856984e-06],\n",
       "        [ 3.9841639e-06],\n",
       "        ...,\n",
       "        [ 2.7123579e-06],\n",
       "        [ 2.8676675e-06],\n",
       "        [ 2.7575043e-06]],\n",
       "\n",
       "       [[ 4.7878757e-08],\n",
       "        [ 7.2479853e-09],\n",
       "        [ 1.5875603e-08],\n",
       "        ...,\n",
       "        [-8.2739060e-10],\n",
       "        [-8.8732026e-09],\n",
       "        [ 7.5258821e-09]],\n",
       "\n",
       "       ...,\n",
       "\n",
       "       [[-5.5797900e-09],\n",
       "        [ 2.4282460e-09],\n",
       "        [ 2.1884234e-09],\n",
       "        ...,\n",
       "        [ 1.3117369e-07],\n",
       "        [-4.1996756e-08],\n",
       "        [-3.0883410e-07]],\n",
       "\n",
       "       [[ 2.9511817e-08],\n",
       "        [-2.3577144e-08],\n",
       "        [-1.7625016e-08],\n",
       "        ...,\n",
       "        [-2.5109256e-10],\n",
       "        [-3.5145845e-10],\n",
       "        [ 7.5434470e-10]],\n",
       "\n",
       "       [[ 6.9983908e-09],\n",
       "        [-2.0032094e-09],\n",
       "        [-9.0676284e-09],\n",
       "        ...,\n",
       "        [-1.4277201e-09],\n",
       "        [ 2.2178732e-09],\n",
       "        [-7.3944856e-10]]], dtype=float32)>"
      ]
     },
     "execution_count": 19,
     "metadata": {},
     "output_type": "execute_result"
    }
   ],
   "source": [
    "ex_grads"
   ]
  },
  {
   "cell_type": "code",
   "execution_count": 20,
   "metadata": {},
   "outputs": [],
   "source": [
    "def zscale(inputs):\n",
    "    return (inputs - np.mean(inputs))/np.std(inputs)"
   ]
  },
  {
   "cell_type": "code",
   "execution_count": 21,
   "metadata": {},
   "outputs": [],
   "source": [
    "ex_zscaled_grads = zscale(ex_grads)"
   ]
  },
  {
   "cell_type": "code",
   "execution_count": 22,
   "metadata": {},
   "outputs": [
    {
     "data": {
      "text/plain": [
       "<tf.Tensor: shape=(32, 262144, 1), dtype=float32, numpy=\n",
       "array([[[-0.21593493],\n",
       "        [-0.2142432 ],\n",
       "        [-0.21467498],\n",
       "        ...,\n",
       "        [ 1.5458928 ],\n",
       "        [ 1.7262471 ],\n",
       "        [ 1.6799797 ]],\n",
       "\n",
       "       [[-0.06924278],\n",
       "        [-0.07373033],\n",
       "        [-0.06229876],\n",
       "        ...,\n",
       "        [-0.11101039],\n",
       "        [-0.10506186],\n",
       "        [-0.10928123]],\n",
       "\n",
       "       [[-0.21306302],\n",
       "        [-0.21461922],\n",
       "        [-0.21428876],\n",
       "        ...,\n",
       "        [-0.21492851],\n",
       "        [-0.21523666],\n",
       "        [-0.21460856]],\n",
       "\n",
       "       ...,\n",
       "\n",
       "       [[-0.21511053],\n",
       "        [-0.21480381],\n",
       "        [-0.21481301],\n",
       "        ...,\n",
       "        [-0.20987272],\n",
       "        [-0.21650535],\n",
       "        [-0.22672552]],\n",
       "\n",
       "       [[-0.21376649],\n",
       "        [-0.21579985],\n",
       "        [-0.21557188],\n",
       "        ...,\n",
       "        [-0.21490644],\n",
       "        [-0.21491028],\n",
       "        [-0.21486792]],\n",
       "\n",
       "       [[-0.21462877],\n",
       "        [-0.21497354],\n",
       "        [-0.21524411],\n",
       "        ...,\n",
       "        [-0.21495152],\n",
       "        [-0.21481188],\n",
       "        [-0.21492514]]], dtype=float32)>"
      ]
     },
     "execution_count": 22,
     "metadata": {},
     "output_type": "execute_result"
    }
   ],
   "source": [
    "ex_zscaled_grads"
   ]
  },
  {
   "cell_type": "code",
   "execution_count": 23,
   "metadata": {},
   "outputs": [],
   "source": [
    "def full_map(partial_map):\n",
    "    fmap = np.zeros(hp.nside2npix(nside))\n",
    "    fmap[:(nside//order)**2] = np.copy(partial_map)\n",
    "    return fmap"
   ]
  },
  {
   "cell_type": "code",
   "execution_count": 24,
   "metadata": {},
   "outputs": [
    {
     "name": "stderr",
     "output_type": "stream",
     "text": [
      "<>:1: DeprecationWarning: invalid escape sequence \\s\n",
      "/Users/adiraju/opt/anaconda3/envs/deep_dss/lib/python3.8/site-packages/healpy/projaxes.py:920: MatplotlibDeprecationWarning: You are modifying the state of a globally registered colormap. In future versions, you will not be able to modify a registered colormap in-place. To remove this warning, you can make a copy of the colormap first. cmap = copy.copy(mpl.cm.get_cmap(\"viridis\"))\n",
      "  newcm.set_over(newcm(1.0))\n",
      "/Users/adiraju/opt/anaconda3/envs/deep_dss/lib/python3.8/site-packages/healpy/projaxes.py:202: MatplotlibDeprecationWarning: Passing parameters norm and vmin/vmax simultaneously is deprecated since 3.3 and will become an error two minor releases later. Please pass vmin/vmax directly to the norm when creating it.\n",
      "  aximg = self.imshow(\n"
     ]
    },
    {
     "data": {
      "image/png": "[encoded data removed]",
      "text/plain": [
       "<Figure size 612x388.8 with 2 Axes>"
      ]
     },
     "metadata": {
      "needs_background": "light"
     },
     "output_type": "display_data"
    }
   ],
   "source": [
    "hp.mollview(full_map(ex_input_batch[0,:,0]), nest=True, title=\"Example Input Map, $\\sigma_8=1.144$\")"
   ]
  },
  {
   "cell_type": "code",
   "execution_count": 25,
   "metadata": {},
   "outputs": [
    {
     "name": "stderr",
     "output_type": "stream",
     "text": [
      "/Users/adiraju/opt/anaconda3/envs/deep_dss/lib/python3.8/site-packages/ipykernel/ipkernel.py:287: DeprecationWarning: `should_run_async` will not call `transform_cell` automatically in the future. Please pass the result to `transformed_cell` argument and any exception that happen during thetransform in `preprocessing_exc_tuple` in IPython 7.17 and above.\n",
      "  and should_run_async(code)\n",
      "/Users/adiraju/opt/anaconda3/envs/deep_dss/lib/python3.8/site-packages/healpy/projaxes.py:920: MatplotlibDeprecationWarning: You are modifying the state of a globally registered colormap. In future versions, you will not be able to modify a registered colormap in-place. To remove this warning, you can make a copy of the colormap first. cmap = copy.copy(mpl.cm.get_cmap(\"viridis\"))\n",
      "  newcm.set_over(newcm(1.0))\n",
      "/Users/adiraju/opt/anaconda3/envs/deep_dss/lib/python3.8/site-packages/healpy/projaxes.py:202: MatplotlibDeprecationWarning: Passing parameters norm and vmin/vmax simultaneously is deprecated since 3.3 and will become an error two minor releases later. Please pass vmin/vmax directly to the norm when creating it.\n",
      "  aximg = self.imshow(\n"
     ]
    },
    {
     "data": {
      "image/png": "[encoded data removed]",
      "text/plain": [
       "<Figure size 612x388.8 with 2 Axes>"
      ]
     },
     "metadata": {
      "needs_background": "light"
     },
     "output_type": "display_data"
    }
   ],
   "source": [
    "hp.mollview(full_map(ex_zscaled_grads[0,:,0]), nest=True, \n",
    "            title=r\"Example zscaled gradients, $\\frac{\\partial NN}{\\partial x}$, $\\sigma_8=1.144$\")"
   ]
  },
  {
   "cell_type": "code",
   "execution_count": 26,
   "metadata": {},
   "outputs": [
    {
     "name": "stderr",
     "output_type": "stream",
     "text": [
      "/Users/adiraju/opt/anaconda3/envs/deep_dss/lib/python3.8/site-packages/ipykernel/ipkernel.py:287: DeprecationWarning: `should_run_async` will not call `transform_cell` automatically in the future. Please pass the result to `transformed_cell` argument and any exception that happen during thetransform in `preprocessing_exc_tuple` in IPython 7.17 and above.\n",
      "  and should_run_async(code)\n"
     ]
    }
   ],
   "source": [
    "ex_input_x_grads = np.multiply(ex_input_batch, ex_grads)\n",
    "ex_zscaled_input_x_grads = zscale(ex_input_x_grads)"
   ]
  },
  {
   "cell_type": "code",
   "execution_count": 27,
   "metadata": {},
   "outputs": [
    {
     "name": "stderr",
     "output_type": "stream",
     "text": [
      "/Users/adiraju/opt/anaconda3/envs/deep_dss/lib/python3.8/site-packages/healpy/projaxes.py:920: MatplotlibDeprecationWarning: You are modifying the state of a globally registered colormap. In future versions, you will not be able to modify a registered colormap in-place. To remove this warning, you can make a copy of the colormap first. cmap = copy.copy(mpl.cm.get_cmap(\"viridis\"))\n",
      "  newcm.set_over(newcm(1.0))\n",
      "/Users/adiraju/opt/anaconda3/envs/deep_dss/lib/python3.8/site-packages/healpy/projaxes.py:202: MatplotlibDeprecationWarning: Passing parameters norm and vmin/vmax simultaneously is deprecated since 3.3 and will become an error two minor releases later. Please pass vmin/vmax directly to the norm when creating it.\n",
      "  aximg = self.imshow(\n"
     ]
    },
    {
     "data": {
      "image/png": "[encoded data removed]",
      "text/plain": [
       "<Figure size 612x388.8 with 2 Axes>"
      ]
     },
     "metadata": {
      "needs_background": "light"
     },
     "output_type": "display_data"
    }
   ],
   "source": [
    "hp.mollview(full_map(ex_zscaled_input_x_grads[0,:,0]), nest=True,\n",
    "           title=r\"Example zscaled input x gradients, $\\frac{\\partial NN}{\\partial x} \\cdot x$, $\\sigma_8=1.144$\")"
   ]
  },
  {
   "cell_type": "markdown",
   "metadata": {},
   "source": [
    "## Binned saliency scores: example"
   ]
  },
  {
   "cell_type": "code",
   "execution_count": 28,
   "metadata": {},
   "outputs": [
    {
     "name": "stderr",
     "output_type": "stream",
     "text": [
      "/Users/adiraju/opt/anaconda3/envs/deep_dss/lib/python3.8/site-packages/ipykernel/ipkernel.py:287: DeprecationWarning: `should_run_async` will not call `transform_cell` automatically in the future. Please pass the result to `transformed_cell` argument and any exception that happen during thetransform in `preprocessing_exc_tuple` in IPython 7.17 and above.\n",
      "  and should_run_async(code)\n"
     ]
    }
   ],
   "source": [
    "ex_zscaled_input_map = zscale(ex_input_batch[0])"
   ]
  },
  {
   "cell_type": "code",
   "execution_count": 29,
   "metadata": {},
   "outputs": [],
   "source": [
    "ex_input_map = ex_input_batch[0]"
   ]
  },
  {
   "cell_type": "code",
   "execution_count": 30,
   "metadata": {},
   "outputs": [
    {
     "data": {
      "text/plain": [
       "array([[-0.13549139],\n",
       "       [-0.41784314],\n",
       "       [ 0.52914523],\n",
       "       ...,\n",
       "       [-0.38509454],\n",
       "       [-1.88786536],\n",
       "       [-1.03928114]])"
      ]
     },
     "execution_count": 30,
     "metadata": {},
     "output_type": "execute_result"
    }
   ],
   "source": [
    "ex_zscaled_input_map"
   ]
  },
  {
   "cell_type": "code",
   "execution_count": 31,
   "metadata": {},
   "outputs": [],
   "source": [
    "ex_zscaled_grads_map = ex_zscaled_grads[0,:,0].numpy()"
   ]
  },
  {
   "cell_type": "code",
   "execution_count": 32,
   "metadata": {},
   "outputs": [],
   "source": [
    "ex_zscaled_grads_map = np.reshape(ex_zscaled_grads_map, ex_zscaled_input_map.shape)"
   ]
  },
  {
   "cell_type": "code",
   "execution_count": 33,
   "metadata": {},
   "outputs": [
    {
     "data": {
      "text/plain": [
       "array([[-0.21593493],\n",
       "       [-0.2142432 ],\n",
       "       [-0.21467498],\n",
       "       ...,\n",
       "       [ 1.5458928 ],\n",
       "       [ 1.7262471 ],\n",
       "       [ 1.6799797 ]], dtype=float32)"
      ]
     },
     "execution_count": 33,
     "metadata": {},
     "output_type": "execute_result"
    }
   ],
   "source": [
    "ex_zscaled_grads_map"
   ]
  },
  {
   "cell_type": "code",
   "execution_count": 34,
   "metadata": {},
   "outputs": [],
   "source": [
    "ex_zscaled_input_x_grads_map = ex_zscaled_input_x_grads[0,:,0]"
   ]
  },
  {
   "cell_type": "code",
   "execution_count": 35,
   "metadata": {},
   "outputs": [],
   "source": [
    "ex_zscaled_input_x_grads_map = np.reshape(ex_zscaled_input_x_grads_map, ex_zscaled_input_map.shape)"
   ]
  },
  {
   "cell_type": "code",
   "execution_count": 36,
   "metadata": {},
   "outputs": [
    {
     "data": {
      "text/plain": [
       "array([[ 0.14484637],\n",
       "       [ 0.14451603],\n",
       "       [ 0.14485228],\n",
       "       ...,\n",
       "       [-0.41786858],\n",
       "       [-3.05509246],\n",
       "       [-1.55689734]])"
      ]
     },
     "execution_count": 36,
     "metadata": {},
     "output_type": "execute_result"
    }
   ],
   "source": [
    "ex_zscaled_input_x_grads_map"
   ]
  },
  {
   "cell_type": "code",
   "execution_count": 37,
   "metadata": {},
   "outputs": [],
   "source": [
    "from astropy.visualization import hist"
   ]
  },
  {
   "cell_type": "code",
   "execution_count": 38,
   "metadata": {},
   "outputs": [
    {
     "name": "stderr",
     "output_type": "stream",
     "text": [
      "<>:4: DeprecationWarning: invalid escape sequence \\k\n",
      "<>:6: DeprecationWarning: invalid escape sequence \\s\n",
      "<ipython-input-38-0a3747efd138>:8: UserWarning: Matplotlib is currently using module://ipykernel.pylab.backend_inline, which is a non-GUI backend, so cannot show the figure.\n",
      "  fig.show()\n"
     ]
    },
    {
     "data": {
      "image/png": "[encoded data removed]",
      "text/plain": [
       "<Figure size 432x288 with 1 Axes>"
      ]
     },
     "metadata": {
      "needs_background": "light"
     },
     "output_type": "display_data"
    }
   ],
   "source": [
    "fig, ax = plt.subplots()\n",
    "hist(ex_zscaled_input_map, bins=\"scott\", ax=ax, histtype=\"stepfilled\", alpha=0.8, density=True)\n",
    "# ax.set_xlim([-2.5, 2.5])\n",
    "ax.set_xlabel(\"Convergence, $\\kappa$\")\n",
    "ax.set_ylabel(\"Probability Density\")\n",
    "ax.set_title(\"Pixel Histogram $\\sigma_8=1.144$\")\n",
    "plt.tight_layout()\n",
    "fig.show()"
   ]
  },
  {
   "cell_type": "code",
   "execution_count": 39,
   "metadata": {},
   "outputs": [
    {
     "name": "stderr",
     "output_type": "stream",
     "text": [
      "/Users/adiraju/opt/anaconda3/envs/deep_dss/lib/python3.8/site-packages/ipykernel/ipkernel.py:287: DeprecationWarning: `should_run_async` will not call `transform_cell` automatically in the future. Please pass the result to `transformed_cell` argument and any exception that happen during thetransform in `preprocessing_exc_tuple` in IPython 7.17 and above.\n",
      "  and should_run_async(code)\n",
      "<>:6: DeprecationWarning: invalid escape sequence \\s\n",
      "<ipython-input-39-8a9aadd55541>:8: UserWarning: Matplotlib is currently using module://ipykernel.pylab.backend_inline, which is a non-GUI backend, so cannot show the figure.\n",
      "  fig.show()\n"
     ]
    },
    {
     "data": {
      "image/png": "[encoded data removed]",
      "text/plain": [
       "<Figure size 432x288 with 1 Axes>"
      ]
     },
     "metadata": {
      "needs_background": "light"
     },
     "output_type": "display_data"
    }
   ],
   "source": [
    "fig, ax = plt.subplots()\n",
    "hist(ex_zscaled_grads_map, bins=\"scott\", ax=ax, histtype=\"stepfilled\", alpha=0.8, density=True)\n",
    "# ax.set_xlim([-2.5, 2.5])\n",
    "ax.set_xlabel(r\"Gradient, $\\frac{\\partial NN}{\\partial x}$\")\n",
    "ax.set_ylabel(\"Probability Density\")\n",
    "ax.set_title(\"Gradient Histogram $\\sigma_8=1.144$\")\n",
    "plt.tight_layout()\n",
    "fig.show()"
   ]
  },
  {
   "cell_type": "code",
   "execution_count": 40,
   "metadata": {},
   "outputs": [
    {
     "name": "stderr",
     "output_type": "stream",
     "text": [
      "/Users/adiraju/opt/anaconda3/envs/deep_dss/lib/python3.8/site-packages/ipykernel/ipkernel.py:287: DeprecationWarning: `should_run_async` will not call `transform_cell` automatically in the future. Please pass the result to `transformed_cell` argument and any exception that happen during thetransform in `preprocessing_exc_tuple` in IPython 7.17 and above.\n",
      "  and should_run_async(code)\n",
      "<>:6: DeprecationWarning: invalid escape sequence \\s\n"
     ]
    },
    {
     "data": {
      "image/png": "[encoded data removed]",
      "text/plain": [
       "<Figure size 432x288 with 1 Axes>"
      ]
     },
     "metadata": {
      "needs_background": "light"
     },
     "output_type": "display_data"
    }
   ],
   "source": [
    "fig, ax = plt.subplots()\n",
    "hist(ex_zscaled_input_x_grads_map, bins=\"scott\", ax=ax, histtype=\"stepfilled\", alpha=0.8, density=True)\n",
    "# ax.set_xlim([-2.5, 2.5])\n",
    "ax.set_xlabel(r\"Input x Gradient, $\\frac{\\partial NN}{\\partial x} \\cdot x$\")\n",
    "ax.set_ylabel(\"Probability Density\")\n",
    "ax.set_title(\"Input x Gradient Histogram $\\sigma_8=1.144$\")\n",
    "plt.tight_layout()"
   ]
  },
  {
   "cell_type": "code",
   "execution_count": 41,
   "metadata": {},
   "outputs": [
    {
     "name": "stderr",
     "output_type": "stream",
     "text": [
      "/Users/adiraju/opt/anaconda3/envs/deep_dss/lib/python3.8/site-packages/ipykernel/ipkernel.py:287: DeprecationWarning: `should_run_async` will not call `transform_cell` automatically in the future. Please pass the result to `transformed_cell` argument and any exception that happen during thetransform in `preprocessing_exc_tuple` in IPython 7.17 and above.\n",
      "  and should_run_async(code)\n"
     ]
    }
   ],
   "source": [
    "from scipy import stats"
   ]
  },
  {
   "cell_type": "code",
   "execution_count": 42,
   "metadata": {},
   "outputs": [
    {
     "data": {
      "text/plain": [
       "DescribeResult(nobs=262144, minmax=(array([-3.7185966]), array([12.12126943])), mean=array([2.05998413e-17]), variance=array([1.00000381]), skewness=array([0.54381543]), kurtosis=array([1.70900629]))"
      ]
     },
     "execution_count": 42,
     "metadata": {},
     "output_type": "execute_result"
    }
   ],
   "source": [
    "stats.describe(ex_zscaled_input_map)"
   ]
  },
  {
   "cell_type": "code",
   "execution_count": 43,
   "metadata": {},
   "outputs": [],
   "source": [
    "x = np.ones(262144)"
   ]
  },
  {
   "cell_type": "code",
   "execution_count": 44,
   "metadata": {},
   "outputs": [
    {
     "data": {
      "text/plain": [
       "262144"
      ]
     },
     "execution_count": 44,
     "metadata": {},
     "output_type": "execute_result"
    }
   ],
   "source": [
    "x.shape[0]"
   ]
  },
  {
   "cell_type": "code",
   "execution_count": 45,
   "metadata": {},
   "outputs": [],
   "source": [
    "def square_sum(x):\n",
    "    return np.sum(np.multiply(x, x))/x.shape[0]"
   ]
  },
  {
   "cell_type": "code",
   "execution_count": 46,
   "metadata": {},
   "outputs": [],
   "source": [
    "bin_ss_grads = stats.binned_statistic(np.reshape(ex_zscaled_input_map, (262144)),\n",
    "                       np.reshape(ex_zscaled_grads_map, (262144)), statistic=square_sum, bins=40, range=(-20,20))"
   ]
  },
  {
   "cell_type": "code",
   "execution_count": 47,
   "metadata": {},
   "outputs": [
    {
     "name": "stderr",
     "output_type": "stream",
     "text": [
      "/Users/adiraju/opt/anaconda3/envs/deep_dss/lib/python3.8/site-packages/ipykernel/ipkernel.py:287: DeprecationWarning: `should_run_async` will not call `transform_cell` automatically in the future. Please pass the result to `transformed_cell` argument and any exception that happen during thetransform in `preprocessing_exc_tuple` in IPython 7.17 and above.\n",
      "  and should_run_async(code)\n"
     ]
    }
   ],
   "source": [
    "bin_mean_grads = stats.binned_statistic(np.reshape(ex_zscaled_input_map, (262144)),\n",
    "                       np.reshape(ex_zscaled_grads_map, (262144)), statistic='mean', bins=40, range=(-20,20))"
   ]
  },
  {
   "cell_type": "code",
   "execution_count": 48,
   "metadata": {},
   "outputs": [],
   "source": [
    "bin_ss_input_x_grads = stats.binned_statistic(np.reshape(ex_zscaled_input_map, (262144)),\n",
    "                       np.reshape(ex_zscaled_input_x_grads_map, (262144)), \n",
    "                                           statistic=square_sum, bins=40, range=(-20,20))"
   ]
  },
  {
   "cell_type": "code",
   "execution_count": 49,
   "metadata": {},
   "outputs": [
    {
     "name": "stderr",
     "output_type": "stream",
     "text": [
      "/Users/adiraju/opt/anaconda3/envs/deep_dss/lib/python3.8/site-packages/ipykernel/ipkernel.py:287: DeprecationWarning: `should_run_async` will not call `transform_cell` automatically in the future. Please pass the result to `transformed_cell` argument and any exception that happen during thetransform in `preprocessing_exc_tuple` in IPython 7.17 and above.\n",
      "  and should_run_async(code)\n"
     ]
    }
   ],
   "source": [
    "bin_mean_input_x_grads = stats.binned_statistic(np.reshape(ex_zscaled_input_map, (262144)),\n",
    "                       np.reshape(ex_zscaled_input_x_grads_map, (262144)), \n",
    "                                           statistic='mean', bins=40, range=(-20,20))"
   ]
  },
  {
   "cell_type": "code",
   "execution_count": 50,
   "metadata": {},
   "outputs": [
    {
     "data": {
      "text/plain": [
       "BinnedStatisticResult(statistic=array([        nan,         nan,         nan,         nan,         nan,\n",
       "               nan,         nan,         nan,         nan,         nan,\n",
       "               nan,         nan,         nan,         nan,         nan,\n",
       "               nan, 14.76858521,  7.7438358 ,  4.20041394,  1.82171789,\n",
       "        0.58937939,  0.15736057,  0.0551903 ,  0.04656236,  0.04654087,\n",
       "        0.04568446,  0.04644367,  0.04699946,  0.04625639,  0.04768386,\n",
       "        0.10730308,  0.0461335 ,  0.04618064,         nan,         nan,\n",
       "               nan,         nan,         nan,         nan,         nan]), bin_edges=array([-20., -19., -18., -17., -16., -15., -14., -13., -12., -11., -10.,\n",
       "        -9.,  -8.,  -7.,  -6.,  -5.,  -4.,  -3.,  -2.,  -1.,   0.,   1.,\n",
       "         2.,   3.,   4.,   5.,   6.,   7.,   8.,   9.,  10.,  11.,  12.,\n",
       "        13.,  14.,  15.,  16.,  17.,  18.,  19.,  20.]), binnumber=array([20, 20, 21, ..., 20, 19, 19]))"
      ]
     },
     "execution_count": 50,
     "metadata": {},
     "output_type": "execute_result"
    }
   ],
   "source": [
    "bin_ss_grads"
   ]
  },
  {
   "cell_type": "code",
   "execution_count": 51,
   "metadata": {},
   "outputs": [
    {
     "data": {
      "text/plain": [
       "BinnedStatisticResult(statistic=array([        nan,         nan,         nan,         nan,         nan,\n",
       "               nan,         nan,         nan,         nan,         nan,\n",
       "               nan,         nan,         nan,         nan,         nan,\n",
       "               nan, -2.06957274, -1.48921252, -0.99301074, -0.58921175,\n",
       "       -0.33816444, -0.24122044, -0.21811225, -0.21521358, -0.21544851,\n",
       "       -0.21298843, -0.21549963, -0.21674801, -0.21507233, -0.21831317,\n",
       "       -0.32757148, -0.21478711, -0.21489681,         nan,         nan,\n",
       "               nan,         nan,         nan,         nan,         nan]), bin_edges=array([-20., -19., -18., -17., -16., -15., -14., -13., -12., -11., -10.,\n",
       "        -9.,  -8.,  -7.,  -6.,  -5.,  -4.,  -3.,  -2.,  -1.,   0.,   1.,\n",
       "         2.,   3.,   4.,   5.,   6.,   7.,   8.,   9.,  10.,  11.,  12.,\n",
       "        13.,  14.,  15.,  16.,  17.,  18.,  19.,  20.]), binnumber=array([20, 20, 21, ..., 20, 19, 19]))"
      ]
     },
     "execution_count": 51,
     "metadata": {},
     "output_type": "execute_result"
    }
   ],
   "source": [
    "bin_mean_grads"
   ]
  },
  {
   "cell_type": "code",
   "execution_count": 52,
   "metadata": {},
   "outputs": [
    {
     "data": {
      "text/plain": [
       "BinnedStatisticResult(statistic=array([           nan,            nan,            nan,            nan,\n",
       "                  nan,            nan,            nan,            nan,\n",
       "                  nan,            nan,            nan,            nan,\n",
       "                  nan,            nan,            nan,            nan,\n",
       "       1.14437239e+02, 3.00400403e+01, 6.39081411e+00, 5.11153483e-01,\n",
       "       7.98059926e-02, 1.36202386e-01, 4.91325663e-02, 2.28898607e-02,\n",
       "       2.21526639e-02, 3.06461487e-02, 2.00743164e-02, 1.83817570e-02,\n",
       "       2.05812661e-02, 1.49778117e-02, 7.72165520e-01, 2.12755462e-02,\n",
       "       2.09507706e-02,            nan,            nan,            nan,\n",
       "                  nan,            nan,            nan,            nan]), bin_edges=array([-20., -19., -18., -17., -16., -15., -14., -13., -12., -11., -10.,\n",
       "        -9.,  -8.,  -7.,  -6.,  -5.,  -4.,  -3.,  -2.,  -1.,   0.,   1.,\n",
       "         2.,   3.,   4.,   5.,   6.,   7.,   8.,   9.,  10.,  11.,  12.,\n",
       "        13.,  14.,  15.,  16.,  17.,  18.,  19.,  20.]), binnumber=array([20, 20, 21, ..., 20, 19, 19]))"
      ]
     },
     "execution_count": 52,
     "metadata": {},
     "output_type": "execute_result"
    }
   ],
   "source": [
    "bin_ss_input_x_grads"
   ]
  },
  {
   "cell_type": "code",
   "execution_count": 53,
   "metadata": {},
   "outputs": [
    {
     "data": {
      "text/plain": [
       "BinnedStatisticResult(statistic=array([        nan,         nan,         nan,         nan,         nan,\n",
       "               nan,         nan,         nan,         nan,         nan,\n",
       "               nan,         nan,         nan,         nan,         nan,\n",
       "               nan,  5.40464327,  2.70432066,  1.09826327,  0.31635552,\n",
       "        0.10544718,  0.115045  ,  0.13846572,  0.14375572,  0.14249644,\n",
       "        0.1536057 ,  0.14126334,  0.13208824,  0.14340439,  0.11492477,\n",
       "       -0.87872949,  0.14586139,  0.14474381,         nan,         nan,\n",
       "               nan,         nan,         nan,         nan,         nan]), bin_edges=array([-20., -19., -18., -17., -16., -15., -14., -13., -12., -11., -10.,\n",
       "        -9.,  -8.,  -7.,  -6.,  -5.,  -4.,  -3.,  -2.,  -1.,   0.,   1.,\n",
       "         2.,   3.,   4.,   5.,   6.,   7.,   8.,   9.,  10.,  11.,  12.,\n",
       "        13.,  14.,  15.,  16.,  17.,  18.,  19.,  20.]), binnumber=array([20, 20, 21, ..., 20, 19, 19]))"
      ]
     },
     "execution_count": 53,
     "metadata": {},
     "output_type": "execute_result"
    }
   ],
   "source": [
    "bin_mean_input_x_grads"
   ]
  },
  {
   "cell_type": "code",
   "execution_count": 54,
   "metadata": {},
   "outputs": [
    {
     "name": "stderr",
     "output_type": "stream",
     "text": [
      "<>:3: DeprecationWarning: invalid escape sequence \\k\n"
     ]
    },
    {
     "data": {
      "text/plain": [
       "Text(0.5, 1.0, 'Average squared scaled gradient by binned r.m.s. $\\\\kappa$')"
      ]
     },
     "execution_count": 54,
     "metadata": {},
     "output_type": "execute_result"
    },
    {
     "data": {
      "image/png": "[encoded data removed]",
      "text/plain": [
       "<Figure size 432x288 with 1 Axes>"
      ]
     },
     "metadata": {
      "needs_background": "light"
     },
     "output_type": "display_data"
    }
   ],
   "source": [
    "plt.plot(np.linspace(-20, 20, num=40), bin_ss_grads.statistic)\n",
    "# plt.xticks(np.arange(-20, 20))\n",
    "plt.xlabel(\"Binned r.m.s. convergence, $\\kappa$\")\n",
    "plt.ylabel(\"Average squared scaled gradient\")\n",
    "plt.title(\"Average squared scaled gradient by binned r.m.s. $\\kappa$\")"
   ]
  },
  {
   "cell_type": "code",
   "execution_count": 55,
   "metadata": {},
   "outputs": [
    {
     "name": "stderr",
     "output_type": "stream",
     "text": [
      "/Users/adiraju/opt/anaconda3/envs/deep_dss/lib/python3.8/site-packages/ipykernel/ipkernel.py:287: DeprecationWarning: `should_run_async` will not call `transform_cell` automatically in the future. Please pass the result to `transformed_cell` argument and any exception that happen during thetransform in `preprocessing_exc_tuple` in IPython 7.17 and above.\n",
      "  and should_run_async(code)\n",
      "<>:3: DeprecationWarning: invalid escape sequence \\k\n"
     ]
    },
    {
     "data": {
      "text/plain": [
       "Text(0.5, 1.0, 'Average squared scaled input x gradient by binned r.m.s. $\\\\kappa$')"
      ]
     },
     "execution_count": 55,
     "metadata": {},
     "output_type": "execute_result"
    },
    {
     "data": {
      "image/png": "[encoded data removed]",
      "text/plain": [
       "<Figure size 432x288 with 1 Axes>"
      ]
     },
     "metadata": {
      "needs_background": "light"
     },
     "output_type": "display_data"
    }
   ],
   "source": [
    "plt.plot(np.linspace(-20, 20, num=40), bin_ss_input_x_grads.statistic)\n",
    "# plt.xticks(np.arange(-20, 20))\n",
    "plt.xlabel(\"Binned r.m.s. convergence, $\\kappa$\")\n",
    "plt.ylabel(\"Average squared scaled input x gradient\")\n",
    "plt.title(\"Average squared scaled input x gradient by binned r.m.s. $\\kappa$\")"
   ]
  },
  {
   "cell_type": "code",
   "execution_count": 56,
   "metadata": {},
   "outputs": [
    {
     "name": "stderr",
     "output_type": "stream",
     "text": [
      "/Users/adiraju/opt/anaconda3/envs/deep_dss/lib/python3.8/site-packages/ipykernel/ipkernel.py:287: DeprecationWarning: `should_run_async` will not call `transform_cell` automatically in the future. Please pass the result to `transformed_cell` argument and any exception that happen during thetransform in `preprocessing_exc_tuple` in IPython 7.17 and above.\n",
      "  and should_run_async(code)\n",
      "<>:3: DeprecationWarning: invalid escape sequence \\k\n"
     ]
    },
    {
     "data": {
      "text/plain": [
       "Text(0.5, 1.0, 'Mean scaled gradient by binned r.m.s. $\\\\kappa$')"
      ]
     },
     "execution_count": 56,
     "metadata": {},
     "output_type": "execute_result"
    },
    {
     "data": {
      "image/png": "[encoded data removed]",
      "text/plain": [
       "<Figure size 432x288 with 1 Axes>"
      ]
     },
     "metadata": {
      "needs_background": "light"
     },
     "output_type": "display_data"
    }
   ],
   "source": [
    "plt.plot(np.linspace(-20, 20, num=40), bin_mean_grads.statistic)\n",
    "# plt.xticks(np.arange(-20, 20))\n",
    "plt.xlabel(\"Binned r.m.s. convergence, $\\kappa$\")\n",
    "plt.ylabel(\"Mean scaled gradient\")\n",
    "plt.title(\"Mean scaled gradient by binned r.m.s. $\\kappa$\")"
   ]
  },
  {
   "cell_type": "code",
   "execution_count": 57,
   "metadata": {},
   "outputs": [
    {
     "name": "stderr",
     "output_type": "stream",
     "text": [
      "/Users/adiraju/opt/anaconda3/envs/deep_dss/lib/python3.8/site-packages/ipykernel/ipkernel.py:287: DeprecationWarning: `should_run_async` will not call `transform_cell` automatically in the future. Please pass the result to `transformed_cell` argument and any exception that happen during thetransform in `preprocessing_exc_tuple` in IPython 7.17 and above.\n",
      "  and should_run_async(code)\n",
      "<>:3: DeprecationWarning: invalid escape sequence \\k\n"
     ]
    },
    {
     "data": {
      "text/plain": [
       "Text(0.5, 1.0, 'Mean scaled input x gradient by binned r.m.s. $\\\\kappa$')"
      ]
     },
     "execution_count": 57,
     "metadata": {},
     "output_type": "execute_result"
    },
    {
     "data": {
      "image/png": "[encoded data removed]",
      "text/plain": [
       "<Figure size 432x288 with 1 Axes>"
      ]
     },
     "metadata": {
      "needs_background": "light"
     },
     "output_type": "display_data"
    }
   ],
   "source": [
    "plt.plot(np.linspace(-20, 20, num=40), bin_mean_input_x_grads.statistic)\n",
    "# plt.xticks(np.arange(-20, 20))\n",
    "plt.xlabel(\"Binned r.m.s. convergence, $\\kappa$\")\n",
    "plt.ylabel(\"Mean scaled input x gradient\")\n",
    "plt.title(\"Mean scaled input x gradient by binned r.m.s. $\\kappa$\")"
   ]
  },
  {
   "cell_type": "code",
   "execution_count": 58,
   "metadata": {},
   "outputs": [
    {
     "name": "stderr",
     "output_type": "stream",
     "text": [
      "/Users/adiraju/opt/anaconda3/envs/deep_dss/lib/python3.8/site-packages/ipykernel/ipkernel.py:287: DeprecationWarning: `should_run_async` will not call `transform_cell` automatically in the future. Please pass the result to `transformed_cell` argument and any exception that happen during thetransform in `preprocessing_exc_tuple` in IPython 7.17 and above.\n",
      "  and should_run_async(code)\n"
     ]
    },
    {
     "data": {
      "text/plain": [
       "DescribeResult(nobs=262144, minmax=(array([-0.09068563]), array([0.29808694])), mean=array([0.00058335]), variance=array([0.00060241]), skewness=array([0.54381543]), kurtosis=array([1.70900629]))"
      ]
     },
     "execution_count": 58,
     "metadata": {},
     "output_type": "execute_result"
    }
   ],
   "source": [
    "stats.describe(ex_input_map)"
   ]
  },
  {
   "cell_type": "code",
   "execution_count": 59,
   "metadata": {},
   "outputs": [
    {
     "data": {
      "text/plain": [
       "0.0005833477449716872"
      ]
     },
     "execution_count": 59,
     "metadata": {},
     "output_type": "execute_result"
    }
   ],
   "source": [
    "np.mean(ex_input_map)"
   ]
  },
  {
   "cell_type": "code",
   "execution_count": 60,
   "metadata": {},
   "outputs": [
    {
     "data": {
      "text/plain": [
       "0.024543930137853203"
      ]
     },
     "execution_count": 60,
     "metadata": {},
     "output_type": "execute_result"
    }
   ],
   "source": [
    "np.std(ex_input_map)"
   ]
  },
  {
   "cell_type": "markdown",
   "metadata": {},
   "source": [
    "## Two-point correlation saliency scores: example"
   ]
  },
  {
   "cell_type": "code",
   "execution_count": 61,
   "metadata": {},
   "outputs": [
    {
     "data": {
      "text/plain": [
       "array([[-0.00274214],\n",
       "       [-0.00967217],\n",
       "       [ 0.01357065],\n",
       "       ...,\n",
       "       [-0.00886839],\n",
       "       [-0.04575229],\n",
       "       [-0.0249247 ]])"
      ]
     },
     "execution_count": 61,
     "metadata": {},
     "output_type": "execute_result"
    }
   ],
   "source": [
    "ex_input_map"
   ]
  },
  {
   "cell_type": "code",
   "execution_count": 62,
   "metadata": {},
   "outputs": [
    {
     "data": {
      "text/plain": [
       "array([[-0.13549139],\n",
       "       [-0.41784314],\n",
       "       [ 0.52914523],\n",
       "       ...,\n",
       "       [-0.38509454],\n",
       "       [-1.88786536],\n",
       "       [-1.03928114]])"
      ]
     },
     "execution_count": 62,
     "metadata": {},
     "output_type": "execute_result"
    }
   ],
   "source": [
    "ex_zscaled_input_map"
   ]
  },
  {
   "cell_type": "code",
   "execution_count": 63,
   "metadata": {},
   "outputs": [
    {
     "data": {
      "text/plain": [
       "array([[-0.21593493],\n",
       "       [-0.2142432 ],\n",
       "       [-0.21467498],\n",
       "       ...,\n",
       "       [ 1.5458928 ],\n",
       "       [ 1.7262471 ],\n",
       "       [ 1.6799797 ]], dtype=float32)"
      ]
     },
     "execution_count": 63,
     "metadata": {},
     "output_type": "execute_result"
    }
   ],
   "source": [
    "ex_zscaled_grads_map"
   ]
  },
  {
   "cell_type": "code",
   "execution_count": 64,
   "metadata": {},
   "outputs": [
    {
     "data": {
      "text/plain": [
       "array([[ 0.14484637],\n",
       "       [ 0.14451603],\n",
       "       [ 0.14485228],\n",
       "       ...,\n",
       "       [-0.41786858],\n",
       "       [-3.05509246],\n",
       "       [-1.55689734]])"
      ]
     },
     "execution_count": 64,
     "metadata": {},
     "output_type": "execute_result"
    }
   ],
   "source": [
    "ex_zscaled_input_x_grads_map"
   ]
  },
  {
   "cell_type": "code",
   "execution_count": 65,
   "metadata": {},
   "outputs": [],
   "source": [
    "import treecorr"
   ]
  },
  {
   "cell_type": "code",
   "execution_count": 66,
   "metadata": {},
   "outputs": [],
   "source": [
    "pixel_dec = np.pi/2 - hp.pix2ang(nside, \n",
    "                                 np.arange(hp.nside2npix(nside)))[0]"
   ]
  },
  {
   "cell_type": "code",
   "execution_count": 67,
   "metadata": {},
   "outputs": [],
   "source": [
    "pixel_ra = hp.pix2ang(nside, np.arange(hp.nside2npix(nside)))[1]"
   ]
  },
  {
   "cell_type": "code",
   "execution_count": 68,
   "metadata": {},
   "outputs": [],
   "source": [
    "empty_map = np.zeros(hp.nside2npix(nside))"
   ]
  },
  {
   "cell_type": "code",
   "execution_count": 69,
   "metadata": {},
   "outputs": [],
   "source": [
    "ex_map_ring = hp.reorder(full_map(ex_input_map[:,0]), n2r=True)"
   ]
  },
  {
   "cell_type": "code",
   "execution_count": 70,
   "metadata": {},
   "outputs": [],
   "source": [
    "ex_map_catalogue = treecorr.Catalog(ra=pixel_ra, dec=pixel_dec, ra_units='rad', dec_units='rad',\n",
    "                                      k=ex_map_ring)"
   ]
  },
  {
   "cell_type": "code",
   "execution_count": 71,
   "metadata": {},
   "outputs": [],
   "source": [
    "sampled = np.zeros((nside//order)**2)"
   ]
  },
  {
   "cell_type": "code",
   "execution_count": 72,
   "metadata": {},
   "outputs": [],
   "source": [
    "import random"
   ]
  },
  {
   "cell_type": "code",
   "execution_count": 73,
   "metadata": {},
   "outputs": [
    {
     "data": {
      "text/plain": [
       "3.435486411817406"
      ]
     },
     "execution_count": 73,
     "metadata": {},
     "output_type": "execute_result"
    }
   ],
   "source": [
    "hp.nside2resol(nside, arcmin=True)"
   ]
  },
  {
   "cell_type": "code",
   "execution_count": 74,
   "metadata": {},
   "outputs": [
    {
     "data": {
      "text/plain": [
       "1758.9690428505119"
      ]
     },
     "execution_count": 74,
     "metadata": {},
     "output_type": "execute_result"
    }
   ],
   "source": [
    "hp.nside2resol(order, arcmin=True)"
   ]
  },
  {
   "cell_type": "code",
   "execution_count": 75,
   "metadata": {},
   "outputs": [],
   "source": [
    "def new_sample():\n",
    "    pixel_index = random.randint(0, (nside//order)**2 - 1)\n",
    "    while sampled[pixel_index] == 1:\n",
    "        pixel_index = random.randint(0, (nside//order)**2 - 1)\n",
    "    sampled[pixel_index] = 1\n",
    "    print(\"Sampling index \", pixel_index)\n",
    "    \n",
    "    empty_map[hp.nest2ring(nside, pixel_index)] = ex_input_map[pixel_index, 0]\n",
    "    print(\"Generating catalogue\")\n",
    "    empty_map_catalogue = treecorr.Catalog(ra=pixel_ra, dec=pixel_dec, ra_units='rad', dec_units='rad',\n",
    "                                      k=empty_map)\n",
    "    \n",
    "    print(\"Computing correlation\")\n",
    "    kk = treecorr.KKCorrelation(min_sep=5, max_sep=1750, nbins=120, sep_units='arcmin')\n",
    "    kk.process(ex_map_catalogue, empty_map_catalogue)\n",
    "    kk.write(\"2pcf.txt\")"
   ]
  },
  {
   "cell_type": "code",
   "execution_count": 76,
   "metadata": {},
   "outputs": [
    {
     "name": "stdout",
     "output_type": "stream",
     "text": [
      "Sampling index  171420\n",
      "Generating catalogue\n",
      "Computing correlation\n"
     ]
    }
   ],
   "source": [
    "new_sample()"
   ]
  },
  {
   "cell_type": "code",
   "execution_count": 77,
   "metadata": {},
   "outputs": [],
   "source": [
    "with open(\"dummy.txt\", \"r\") as f:\n",
    "    xi = float(f.readlines()[-1].split()[3])"
   ]
  },
  {
   "cell_type": "code",
   "execution_count": 78,
   "metadata": {},
   "outputs": [
    {
     "data": {
      "text/plain": [
       "(7,)"
      ]
     },
     "execution_count": 78,
     "metadata": {},
     "output_type": "execute_result"
    }
   ],
   "source": [
    "hp.query_disc(1024, hp.pix2vec(1024, hp.nest2ring(1024, 135521)), 5*np.pi/(60*180)).shape"
   ]
  },
  {
   "cell_type": "code",
   "execution_count": 79,
   "metadata": {},
   "outputs": [],
   "source": [
    "def two_pcf_saliency_estimate(index, radius, bin_width=3.5):\n",
    "    pixel_set = hp.query_disc(nside, hp.pix2vec(nside, hp.nest2ring(nside, index)), radius*np.pi/(60*180)).shape\n",
    "    small_set = hp.query_disc(nside, hp.pix2vec(nside, hp.nest2ring(nside, index)),\n",
    "                              (radius-bin_width)*np.pi/(60*180)).shape\n",
    "    annular_set = np.setdiff1d(pixel_set, small_set)\n",
    "    nnxi = ex_grads.numpy()[0,index,0]\n",
    "    fxi = np.sum(full_map(np.reshape(ex_input_map, (262144)))[annular_set])\n",
    "    if fxi == 0:\n",
    "        return np.inf\n",
    "    return (nside//order)**2 * nnxi / fxi"
   ]
  },
  {
   "cell_type": "code",
   "execution_count": 80,
   "metadata": {},
   "outputs": [
    {
     "data": {
      "text/plain": [
       "0.06401978459945723"
      ]
     },
     "execution_count": 80,
     "metadata": {},
     "output_type": "execute_result"
    }
   ],
   "source": [
    "two_pcf_saliency_estimate(135531, 10)"
   ]
  },
  {
   "cell_type": "code",
   "execution_count": 81,
   "metadata": {},
   "outputs": [
    {
     "data": {
      "text/plain": [
       "[<matplotlib.lines.Line2D at 0x7fe342f56d60>,\n",
       " <matplotlib.lines.Line2D at 0x7fe342f56d90>]"
      ]
     },
     "execution_count": 81,
     "metadata": {},
     "output_type": "execute_result"
    },
    {
     "data": {
      "image/png": "[encoded data removed]",
      "text/plain": [
       "<Figure size 432x288 with 1 Axes>"
      ]
     },
     "metadata": {
      "needs_background": "light"
     },
     "output_type": "display_data"
    }
   ],
   "source": [
    "plt.plot(np.arange(100), np.geomspace(5, 1750, num=100), 'b-', np.arange(100), np.linspace(5, 1750, num=100), 'r-')"
   ]
  },
  {
   "cell_type": "code",
   "execution_count": 82,
   "metadata": {},
   "outputs": [
    {
     "name": "stderr",
     "output_type": "stream",
     "text": [
      "/Users/adiraju/opt/anaconda3/envs/deep_dss/lib/python3.8/site-packages/ipykernel/ipkernel.py:287: DeprecationWarning: `should_run_async` will not call `transform_cell` automatically in the future. Please pass the result to `transformed_cell` argument and any exception that happen during thetransform in `preprocessing_exc_tuple` in IPython 7.17 and above.\n",
      "  and should_run_async(code)\n"
     ]
    },
    {
     "name": "stdout",
     "output_type": "stream",
     "text": [
      "21.7 ms ± 435 µs per loop (mean ± std. dev. of 7 runs, 10 loops each)\n"
     ]
    }
   ],
   "source": [
    "%timeit two_pcf_saliency_estimate(100, 1500)"
   ]
  },
  {
   "cell_type": "code",
   "execution_count": 83,
   "metadata": {},
   "outputs": [
    {
     "name": "stdout",
     "output_type": "stream",
     "text": [
      "n:  149 r:  1750.0 i:  260000 i:  2600000  160000 130000r:  157.248322147651 i:  210000r:  180.6711409395973 i:  20000r:  215.80536912751677 i:  20000 240000297.7852348993289 i:  120000 309.496644295302 i:  40000 321.20805369127515 i:  210000 344.6308724832215 i:  150000 356.3422818791946 i:  50000 90000414.8993288590604 i:  60000 220000 140000 70000 200000 i:  250000 508.59060402684565 i:  20000 i:  20000 70000 578.8590604026846 i:  210000 602.2818791946308 i:  20000120000 789.6644295302013 i:  30000\r"
     ]
    }
   ],
   "source": [
    "# Linearly spaced bin values\n",
    "\n",
    "num_lin_bins = 150\n",
    "pixel_freq = 1000\n",
    "lin_saliencies = np.zeros((num_lin_bins, (nside//order)**2))\n",
    "\n",
    "period = 10000\n",
    "\n",
    "for n, r in zip(np.arange(num_lin_bins), np.linspace(5, 1750, num=num_lin_bins)):\n",
    "    for i in range(0, (nside//order)**2, pixel_freq):\n",
    "        if i % period == 0: print(\"n: \", n, \"r: \", r, \"i: \", i, end=\"\\r\")\n",
    "        lin_saliencies[n, i] = two_pcf_saliency_estimate(i, r)"
   ]
  },
  {
   "cell_type": "code",
   "execution_count": 84,
   "metadata": {},
   "outputs": [],
   "source": [
    "valid_saliencies = []\n",
    "for i in range(num_lin_bins):\n",
    "    valid_saliencies.append([])\n",
    "    for j in np.where(lin_saliencies[i] != np.inf)[0]:\n",
    "        valid_saliencies[i].append(lin_saliencies[i,j])\n",
    "    valid_saliencies[i] = np.array(valid_saliencies[i])"
   ]
  },
  {
   "cell_type": "code",
   "execution_count": 85,
   "metadata": {},
   "outputs": [
    {
     "data": {
      "text/plain": [
       "[array([-0.43567739,  0.        ,  0.        , ...,  0.        ,\n",
       "         0.        ,  0.        ]),\n",
       " array([-0.76104297,  0.        ,  0.        , ...,  0.        ,\n",
       "         0.        ,  0.        ]),\n",
       " array([1.43541633, 0.        , 0.        , ..., 0.        , 0.        ,\n",
       "        0.        ]),\n",
       " array([0.81252448, 0.        , 0.        , ..., 0.        , 0.        ,\n",
       "        0.        ]),\n",
       " array([0.61981174, 0.        , 0.        , ..., 0.        , 0.        ,\n",
       "        0.        ]),\n",
       " array([-0.3983111,  0.       ,  0.       , ...,  0.       ,  0.       ,\n",
       "         0.       ]),\n",
       " array([-0.32936311,  0.        ,  0.        , ...,  0.        ,\n",
       "         0.        ,  0.        ]),\n",
       " array([0.57412877, 0.        , 0.        , ..., 0.        , 0.        ,\n",
       "        0.        ]),\n",
       " array([0.25663775, 0.        , 0.        , ..., 0.        , 0.        ,\n",
       "        0.        ]),\n",
       " array([-0.3632182,  0.       ,  0.       , ...,  0.       ,  0.       ,\n",
       "         0.       ]),\n",
       " array([0.3447704, 0.       , 0.       , ..., 0.       , 0.       ,\n",
       "        0.       ]),\n",
       " array([-45.74868764,   0.        ,   0.        , ...,   0.        ,\n",
       "          0.        ,   0.        ]),\n",
       " array([0.14768142, 0.        , 0.        , ..., 0.        , 0.        ,\n",
       "        0.        ]),\n",
       " array([-0.85181533,  0.        ,  0.        , ...,  0.        ,\n",
       "         0.        ,  0.        ]),\n",
       " array([0.23117644, 0.        , 0.        , ..., 0.        , 0.        ,\n",
       "        0.        ]),\n",
       " array([-0.38106276,  0.        ,  0.        , ...,  0.        ,\n",
       "         0.        ,  0.        ]),\n",
       " array([0.74624797, 0.        , 0.        , ..., 0.        , 0.        ,\n",
       "        0.        ]),\n",
       " array([-0.89085106,  0.        ,  0.        , ...,  0.        ,\n",
       "         0.        ,  0.        ]),\n",
       " array([1.06052516, 0.        , 0.        , ..., 0.        , 0.        ,\n",
       "        0.        ]),\n",
       " array([-0.22696891,  0.        ,  0.        , ...,  0.        ,\n",
       "         0.        ,  0.        ]),\n",
       " array([-0.18253959,  0.        ,  0.        , ...,  0.        ,\n",
       "         0.        ,  0.        ]),\n",
       " array([0.565924, 0.      , 0.      , ..., 0.      , 0.      , 0.      ]),\n",
       " array([-2.38759162,  0.        ,  0.        , ...,  0.        ,\n",
       "         0.        ,  0.        ]),\n",
       " array([-0.27466476,  0.        ,  0.        , ...,  0.        ,\n",
       "         0.        ,  0.        ]),\n",
       " array([-0.6895129,  0.       ,  0.       , ...,  0.       ,  0.       ,\n",
       "         0.       ]),\n",
       " array([0.60854051, 0.        , 0.        , ..., 0.        , 0.        ,\n",
       "        0.        ]),\n",
       " array([-7.57639969,  0.        ,  0.        , ...,  0.        ,\n",
       "         0.        ,  0.        ]),\n",
       " array([-0.08814228,  0.        ,  0.        , ...,  0.        ,\n",
       "         0.        ,  0.        ]),\n",
       " array([-0.33235929,  0.        ,  0.        , ...,  0.        ,\n",
       "         0.        ,  0.        ]),\n",
       " array([5.69147352, 0.        , 0.        , ..., 0.        , 0.        ,\n",
       "        0.        ]),\n",
       " array([-0.746612,  0.      ,  0.      , ...,  0.      ,  0.      ,\n",
       "         0.      ]),\n",
       " array([1.43412736, 0.        , 0.        , ..., 0.        , 0.        ,\n",
       "        0.        ]),\n",
       " array([-0.27363212,  0.        ,  0.        , ...,  0.        ,\n",
       "         0.        ,  0.        ]),\n",
       " array([-1.5826235,  0.       ,  0.       , ...,  0.       ,  0.       ,\n",
       "         0.       ]),\n",
       " array([0.40347083, 0.        , 0.        , ..., 0.        , 0.        ,\n",
       "        0.        ]),\n",
       " array([-0.51204644,  0.        ,  0.        , ...,  0.        ,\n",
       "         0.        ,  0.        ]),\n",
       " array([-0.25887025,  0.        ,  0.        , ...,  0.        ,\n",
       "         0.        ,  0.        ]),\n",
       " array([-0.78593147,  0.        ,  0.        , ...,  0.        ,\n",
       "         0.        ,  0.        ]),\n",
       " array([0.34733272, 0.        , 0.        , ..., 0.        , 0.        ,\n",
       "        0.        ]),\n",
       " array([-0.3756802,  0.       ,  0.       , ...,  0.       ,  0.       ,\n",
       "         0.       ]),\n",
       " array([-0.52898964,  0.        ,  0.        , ...,  0.        ,\n",
       "         0.        ,  0.        ]),\n",
       " array([-0.10857097,  0.        ,  0.        , ...,  0.        ,\n",
       "         0.        ,  0.        ]),\n",
       " array([-0.29644484,  0.        ,  0.        , ...,  0.        ,\n",
       "         0.        ,  0.        ]),\n",
       " array([0.19792636, 0.        , 0.        , ..., 0.        , 0.        ,\n",
       "        0.        ]),\n",
       " array([-0.78583462,  0.        ,  0.        , ...,  0.        ,\n",
       "         0.        ,  0.        ]),\n",
       " array([-0.56523881,  0.        ,  0.        , ...,  0.        ,\n",
       "         0.        ,  0.        ]),\n",
       " array([0.23541797, 0.        , 0.        , ..., 0.        , 0.        ,\n",
       "        0.        ]),\n",
       " array([-0.18716735,  0.        ,  0.        , ...,  0.        ,\n",
       "         0.        ,  0.        ]),\n",
       " array([15.48553652,  0.        ,  0.        , ...,  0.        ,\n",
       "         0.        ,  0.        ]),\n",
       " array([-0.18580764,  0.        ,  0.        , ...,  0.        ,\n",
       "         0.        ,  0.        ]),\n",
       " array([-2.47398747,  0.        ,  0.        , ...,  0.        ,\n",
       "         0.        ,  0.        ]),\n",
       " array([-0.24277582,  0.        ,  0.        , ...,  0.        ,\n",
       "         0.        ,  0.        ]),\n",
       " array([-1.01271782,  0.        ,  0.        , ...,  0.        ,\n",
       "         0.        ,  0.        ]),\n",
       " array([0.43812876, 0.        , 0.        , ..., 0.        , 0.        ,\n",
       "        0.        ]),\n",
       " array([-1.03104174,  0.        ,  0.        , ...,  0.        ,\n",
       "         0.        ,  0.        ]),\n",
       " array([-0.2669388,  0.       ,  0.       , ...,  0.       ,  0.       ,\n",
       "         0.       ]),\n",
       " array([0.7733287, 0.       , 0.       , ..., 0.       , 0.       ,\n",
       "        0.       ]),\n",
       " array([2.84066003, 0.        , 0.        , ..., 0.        , 0.        ,\n",
       "        0.        ]),\n",
       " array([-0.27010315,  0.        ,  0.        , ...,  0.        ,\n",
       "         0.        ,  0.        ]),\n",
       " array([0.44612333, 0.        , 0.        , ..., 0.        , 0.        ,\n",
       "        0.        ]),\n",
       " array([-2.80559193,  0.        ,  0.        , ...,  0.        ,\n",
       "         0.        ,  0.        ]),\n",
       " array([-1.21597156,  0.        ,  0.        , ...,  0.        ,\n",
       "         0.        ,  0.        ]),\n",
       " array([-1.55406891,  0.        ,  0.        , ...,  0.        ,\n",
       "         0.        ,  0.        ]),\n",
       " array([-0.35292194,  0.        ,  0.        , ...,  0.        ,\n",
       "         0.        ,  0.        ]),\n",
       " array([-0.1784008,  0.       ,  0.       , ...,  0.       ,  0.       ,\n",
       "         0.       ]),\n",
       " array([0.42789053, 0.        , 0.        , ..., 0.        , 0.        ,\n",
       "        0.        ]),\n",
       " array([0.12367192, 0.        , 0.        , ..., 0.        , 0.        ,\n",
       "        0.        ]),\n",
       " array([0.13739263, 0.        , 0.        , ..., 0.        , 0.        ,\n",
       "        0.        ]),\n",
       " array([0.78727255, 0.        , 0.        , ..., 0.        , 0.        ,\n",
       "        0.        ]),\n",
       " array([-0.71886822,  0.        ,  0.        , ...,  0.        ,\n",
       "         0.        ,  0.        ]),\n",
       " array([-0.4483473,  0.       ,  0.       , ...,  0.       ,  0.       ,\n",
       "         0.       ]),\n",
       " array([33.16772527,  0.        ,  0.        , ...,  0.        ,\n",
       "         0.        ,  0.        ]),\n",
       " array([0.66818822, 0.        , 0.        , ..., 0.        , 0.        ,\n",
       "        0.        ]),\n",
       " array([0.32970706, 0.        , 0.        , ..., 0.        , 0.        ,\n",
       "        0.        ]),\n",
       " array([-0.12378489,  0.        ,  0.        , ...,  0.        ,\n",
       "         0.        ,  0.        ]),\n",
       " array([0.21437897, 0.        , 0.        , ..., 0.        , 0.        ,\n",
       "        0.        ]),\n",
       " array([0.4921614, 0.       , 0.       , ..., 0.       , 0.       ,\n",
       "        0.       ]),\n",
       " array([0.60819246, 0.        , 0.        , ..., 0.        , 0.        ,\n",
       "        0.        ]),\n",
       " array([2.18177202, 0.        , 0.        , ..., 0.        , 0.        ,\n",
       "        0.        ]),\n",
       " array([15.09775825,  0.        ,  0.        , ...,  0.        ,\n",
       "         0.        ,  0.        ]),\n",
       " array([0.86833746, 0.        , 0.        , ..., 0.        , 0.        ,\n",
       "        0.        ]),\n",
       " array([0.3656571, 0.       , 0.       , ..., 0.       , 0.       ,\n",
       "        0.       ]),\n",
       " array([0.31976289, 0.        , 0.        , ..., 0.        , 0.        ,\n",
       "        0.        ]),\n",
       " array([0.4782301, 0.       , 0.       , ..., 0.       , 0.       ,\n",
       "        0.       ]),\n",
       " array([0.30872351, 0.        , 0.        , ..., 0.        , 0.        ,\n",
       "        0.        ]),\n",
       " array([0., 0., 0., ..., 0., 0., 0.]),\n",
       " array([0., 0., 0., ..., 0., 0., 0.]),\n",
       " array([0., 0., 0., ..., 0., 0., 0.]),\n",
       " array([0., 0., 0., ..., 0., 0., 0.]),\n",
       " array([0., 0., 0., ..., 0., 0., 0.]),\n",
       " array([0., 0., 0., ..., 0., 0., 0.]),\n",
       " array([0., 0., 0., ..., 0., 0., 0.]),\n",
       " array([0., 0., 0., ..., 0., 0., 0.]),\n",
       " array([0., 0., 0., ..., 0., 0., 0.]),\n",
       " array([0., 0., 0., ..., 0., 0., 0.]),\n",
       " array([0., 0., 0., ..., 0., 0., 0.]),\n",
       " array([0., 0., 0., ..., 0., 0., 0.]),\n",
       " array([0., 0., 0., ..., 0., 0., 0.]),\n",
       " array([0., 0., 0., ..., 0., 0., 0.]),\n",
       " array([0., 0., 0., ..., 0., 0., 0.]),\n",
       " array([0., 0., 0., ..., 0., 0., 0.]),\n",
       " array([0., 0., 0., ..., 0., 0., 0.]),\n",
       " array([0., 0., 0., ..., 0., 0., 0.]),\n",
       " array([0., 0., 0., ..., 0., 0., 0.]),\n",
       " array([0., 0., 0., ..., 0., 0., 0.]),\n",
       " array([0., 0., 0., ..., 0., 0., 0.]),\n",
       " array([0., 0., 0., ..., 0., 0., 0.]),\n",
       " array([0., 0., 0., ..., 0., 0., 0.]),\n",
       " array([0., 0., 0., ..., 0., 0., 0.]),\n",
       " array([0., 0., 0., ..., 0., 0., 0.]),\n",
       " array([0., 0., 0., ..., 0., 0., 0.]),\n",
       " array([0., 0., 0., ..., 0., 0., 0.]),\n",
       " array([0., 0., 0., ..., 0., 0., 0.]),\n",
       " array([0., 0., 0., ..., 0., 0., 0.]),\n",
       " array([0., 0., 0., ..., 0., 0., 0.]),\n",
       " array([0., 0., 0., ..., 0., 0., 0.]),\n",
       " array([0., 0., 0., ..., 0., 0., 0.]),\n",
       " array([0., 0., 0., ..., 0., 0., 0.]),\n",
       " array([0., 0., 0., ..., 0., 0., 0.]),\n",
       " array([0., 0., 0., ..., 0., 0., 0.]),\n",
       " array([0., 0., 0., ..., 0., 0., 0.]),\n",
       " array([0., 0., 0., ..., 0., 0., 0.]),\n",
       " array([0., 0., 0., ..., 0., 0., 0.]),\n",
       " array([0., 0., 0., ..., 0., 0., 0.]),\n",
       " array([0., 0., 0., ..., 0., 0., 0.]),\n",
       " array([0., 0., 0., ..., 0., 0., 0.]),\n",
       " array([0., 0., 0., ..., 0., 0., 0.]),\n",
       " array([0., 0., 0., ..., 0., 0., 0.]),\n",
       " array([0., 0., 0., ..., 0., 0., 0.]),\n",
       " array([0., 0., 0., ..., 0., 0., 0.]),\n",
       " array([0., 0., 0., ..., 0., 0., 0.]),\n",
       " array([0., 0., 0., ..., 0., 0., 0.]),\n",
       " array([0., 0., 0., ..., 0., 0., 0.]),\n",
       " array([0., 0., 0., ..., 0., 0., 0.]),\n",
       " array([0., 0., 0., ..., 0., 0., 0.]),\n",
       " array([0., 0., 0., ..., 0., 0., 0.]),\n",
       " array([0., 0., 0., ..., 0., 0., 0.]),\n",
       " array([0., 0., 0., ..., 0., 0., 0.]),\n",
       " array([0., 0., 0., ..., 0., 0., 0.]),\n",
       " array([0., 0., 0., ..., 0., 0., 0.]),\n",
       " array([0., 0., 0., ..., 0., 0., 0.]),\n",
       " array([0., 0., 0., ..., 0., 0., 0.]),\n",
       " array([0., 0., 0., ..., 0., 0., 0.]),\n",
       " array([0., 0., 0., ..., 0., 0., 0.]),\n",
       " array([0., 0., 0., ..., 0., 0., 0.]),\n",
       " array([0., 0., 0., ..., 0., 0., 0.]),\n",
       " array([0., 0., 0., ..., 0., 0., 0.]),\n",
       " array([0., 0., 0., ..., 0., 0., 0.]),\n",
       " array([0., 0., 0., ..., 0., 0., 0.]),\n",
       " array([0., 0., 0., ..., 0., 0., 0.])]"
      ]
     },
     "execution_count": 85,
     "metadata": {},
     "output_type": "execute_result"
    }
   ],
   "source": [
    "valid_saliencies"
   ]
  },
  {
   "cell_type": "code",
   "execution_count": 86,
   "metadata": {},
   "outputs": [],
   "source": [
    "mean_valid_saliencies = [np.mean(valid_saliencies[i]) for i in range(num_lin_bins)]"
   ]
  },
  {
   "cell_type": "code",
   "execution_count": 87,
   "metadata": {},
   "outputs": [
    {
     "data": {
      "text/plain": [
       "Text(0.5, 1.0, 'Mean single-pixel saliency estimates for $\\\\xi(r)$, $N=262$')"
      ]
     },
     "execution_count": 87,
     "metadata": {},
     "output_type": "execute_result"
    },
    {
     "data": {
      "image/png": "[encoded data removed]",
      "text/plain": [
       "<Figure size 432x288 with 1 Axes>"
      ]
     },
     "metadata": {
      "needs_background": "light"
     },
     "output_type": "display_data"
    }
   ],
   "source": [
    "plt.plot(np.linspace(5, 1750, num=num_lin_bins), mean_valid_saliencies)\n",
    "plt.xlabel(\"Scale, r (arcmin)\")\n",
    "plt.ylabel(\"Saliency, S\")\n",
    "plt.title(r\"Mean single-pixel saliency estimates for $\\xi(r)$, $N=262$\")"
   ]
  },
  {
   "cell_type": "code",
   "execution_count": 88,
   "metadata": {},
   "outputs": [
    {
     "name": "stdout",
     "output_type": "stream",
     "text": [
      "0 5.0\n",
      "1 16.711409395973156\n",
      "2 28.42281879194631\n",
      "3 40.13422818791946\n",
      "4 51.84563758389262\n",
      "5 63.557046979865774\n",
      "6 75.26845637583892\n",
      "7 86.97986577181209\n",
      "8 98.69127516778524\n",
      "9 110.40268456375838\n",
      "10 122.11409395973155\n",
      "11 133.8255033557047\n",
      "12 145.53691275167785\n",
      "13 157.248322147651\n",
      "14 168.95973154362417\n",
      "15 180.6711409395973\n",
      "16 192.38255033557047\n",
      "17 204.09395973154363\n",
      "18 215.80536912751677\n",
      "19 227.51677852348993\n",
      "20 239.2281879194631\n",
      "21 250.93959731543623\n",
      "22 262.6510067114094\n",
      "23 274.36241610738256\n",
      "24 286.0738255033557\n",
      "25 297.7852348993289\n",
      "26 309.496644295302\n",
      "27 321.20805369127515\n",
      "28 332.91946308724835\n",
      "29 344.6308724832215\n",
      "30 356.3422818791946\n",
      "31 368.0536912751678\n",
      "32 379.76510067114094\n",
      "33 391.4765100671141\n",
      "34 403.18791946308727\n",
      "35 414.8993288590604\n",
      "36 426.61073825503354\n",
      "37 438.32214765100673\n",
      "38 450.03355704697987\n",
      "39 461.744966442953\n",
      "40 473.4563758389262\n",
      "41 485.1677852348993\n",
      "42 496.87919463087246\n",
      "43 508.59060402684565\n",
      "44 520.3020134228188\n",
      "45 532.0134228187919\n",
      "46 543.7248322147651\n",
      "47 555.4362416107383\n",
      "48 567.1476510067114\n",
      "49 578.8590604026846\n",
      "50 590.5704697986578\n",
      "51 602.2818791946308\n",
      "52 613.993288590604\n",
      "53 625.7046979865772\n",
      "54 637.4161073825503\n",
      "55 649.1275167785235\n",
      "56 660.8389261744967\n",
      "57 672.5503355704698\n",
      "58 684.261744966443\n",
      "59 695.9731543624162\n",
      "60 707.6845637583892\n",
      "61 719.3959731543624\n",
      "62 731.1073825503356\n",
      "63 742.8187919463087\n",
      "64 754.5302013422819\n",
      "65 766.2416107382551\n",
      "66 777.9530201342282\n",
      "67 789.6644295302013\n",
      "68 801.3758389261745\n",
      "69 813.0872483221476\n",
      "70 824.7986577181208\n",
      "71 836.510067114094\n",
      "72 848.2214765100671\n",
      "73 859.9328859060403\n",
      "74 871.6442953020135\n",
      "75 883.3557046979865\n",
      "76 895.0671140939597\n",
      "77 906.7785234899329\n",
      "78 918.489932885906\n",
      "79 930.2013422818792\n",
      "80 941.9127516778524\n",
      "81 953.6241610738255\n",
      "82 965.3355704697987\n",
      "83 977.0469798657718\n",
      "84 988.7583892617449\n",
      "85 1000.4697986577181\n",
      "86 1012.1812080536913\n",
      "87 1023.8926174496644\n",
      "88 1035.6040268456377\n",
      "89 1047.3154362416108\n",
      "90 1059.0268456375838\n",
      "91 1070.7382550335572\n",
      "92 1082.4496644295302\n",
      "93 1094.1610738255033\n",
      "94 1105.8724832214766\n",
      "95 1117.5838926174497\n",
      "96 1129.2953020134228\n",
      "97 1141.006711409396\n",
      "98 1152.7181208053692\n",
      "99 1164.4295302013422\n",
      "100 1176.1409395973155\n",
      "101 1187.8523489932886\n",
      "102 1199.5637583892617\n",
      "103 1211.275167785235\n",
      "104 1222.986577181208\n",
      "105 1234.6979865771812\n",
      "106 1246.4093959731545\n",
      "107 1258.1208053691275\n",
      "108 1269.8322147651006\n",
      "109 1281.543624161074\n",
      "110 1293.255033557047\n",
      "111 1304.96644295302\n",
      "112 1316.6778523489934\n",
      "113 1328.3892617449665\n",
      "114 1340.1006711409395\n",
      "115 1351.8120805369128\n",
      "116 1363.523489932886\n",
      "117 1375.234899328859\n",
      "118 1386.9463087248323\n",
      "119 1398.6577181208054\n",
      "120 1410.3691275167785\n",
      "121 1422.0805369127518\n",
      "122 1433.7919463087248\n",
      "123 1445.503355704698\n",
      "124 1457.2147651006712\n",
      "125 1468.9261744966443\n",
      "126 1480.6375838926174\n",
      "127 1492.3489932885907\n",
      "128 1504.0604026845638\n",
      "129 1515.7718120805368\n",
      "130 1527.4832214765102\n",
      "131 1539.1946308724832\n",
      "132 1550.9060402684563\n",
      "133 1562.6174496644296\n",
      "134 1574.3288590604027\n",
      "135 1586.0402684563758\n",
      "136 1597.751677852349\n",
      "137 1609.4630872483222\n",
      "138 1621.1744966442952\n",
      "139 1632.8859060402685\n",
      "140 1644.5973154362416\n",
      "141 1656.3087248322147\n",
      "142 1668.020134228188\n",
      "143 1679.731543624161\n",
      "144 1691.4429530201342\n",
      "145 1703.1543624161075\n",
      "146 1714.8657718120805\n",
      "147 1726.5771812080536\n",
      "148 1738.288590604027\n",
      "149 1750.0\n"
     ]
    },
    {
     "name": "stderr",
     "output_type": "stream",
     "text": [
      "/Users/adiraju/opt/anaconda3/envs/deep_dss/lib/python3.8/site-packages/ipykernel/ipkernel.py:287: DeprecationWarning: `should_run_async` will not call `transform_cell` automatically in the future. Please pass the result to `transformed_cell` argument and any exception that happen during thetransform in `preprocessing_exc_tuple` in IPython 7.17 and above.\n",
      "  and should_run_async(code)\n"
     ]
    }
   ],
   "source": [
    "for n, r in zip(np.arange(num_lin_bins), np.linspace(5, 1750, num=num_lin_bins)):\n",
    "    print(n, r)"
   ]
  },
  {
   "cell_type": "code",
   "execution_count": 89,
   "metadata": {},
   "outputs": [
    {
     "data": {
      "text/plain": [
       "DescribeResult(nobs=262144, minmax=(-9867.359053327405, 14169.263838100667), mean=0.16990502118102524, variance=2383.7499893725058, skewness=156.29092522806334, kurtosis=56399.709473737144)"
      ]
     },
     "execution_count": 89,
     "metadata": {},
     "output_type": "execute_result"
    }
   ],
   "source": [
    "stats.describe(valid_saliencies[49])"
   ]
  },
  {
   "cell_type": "code",
   "execution_count": 90,
   "metadata": {},
   "outputs": [
    {
     "data": {
      "text/plain": [
       "Text(0.5, 1.0, 'Single-Pixel Saliency Histogram $\\\\sigma_8=1.144$, $n=1$, $r=578.86$')"
      ]
     },
     "execution_count": 90,
     "metadata": {},
     "output_type": "execute_result"
    },
    {
     "data": {
      "image/png": "[encoded data removed]",
      "text/plain": [
       "<Figure size 432x288 with 1 Axes>"
      ]
     },
     "metadata": {
      "needs_background": "light"
     },
     "output_type": "display_data"
    }
   ],
   "source": [
    "fig, ax = plt.subplots()\n",
    "# hist(lin_saliencies[49,:], bins=\"scott\", ax=ax, histtype=\"stepfilled\", density=True)\n",
    "ax.hist(valid_saliencies[49], bins=200)\n",
    "# ax.set_xlim([-2.5, 2.5])\n",
    "ax.set_xlabel(\"Saliency, S\")\n",
    "ax.set_ylabel(\"Probability Density\")\n",
    "ax.set_title(r\"Single-Pixel Saliency Histogram $\\sigma_8=1.144$, $n=1$, $r=578.86$\")"
   ]
  },
  {
   "cell_type": "code",
   "execution_count": 91,
   "metadata": {},
   "outputs": [
    {
     "name": "stderr",
     "output_type": "stream",
     "text": [
      "/Users/adiraju/opt/anaconda3/envs/deep_dss/lib/python3.8/site-packages/ipykernel/ipkernel.py:287: DeprecationWarning: `should_run_async` will not call `transform_cell` automatically in the future. Please pass the result to `transformed_cell` argument and any exception that happen during thetransform in `preprocessing_exc_tuple` in IPython 7.17 and above.\n",
      "  and should_run_async(code)\n"
     ]
    }
   ],
   "source": [
    "from scipy.special import comb\n",
    "\n",
    "average_saliencies = []\n",
    "\n",
    "k = 262\n",
    "n = 50\n",
    "m = 10000\n",
    "M = comb(k, n)\n",
    "m = min(m, M)\n",
    "\n",
    "for i in range(m):\n",
    "    pixel_set = np.random.choice(valid_saliencies[49], (n), replace=False)\n",
    "    average_saliencies.append(np.mean(pixel_set))"
   ]
  },
  {
   "cell_type": "code",
   "execution_count": 92,
   "metadata": {},
   "outputs": [
    {
     "data": {
      "text/plain": [
       "[0.0,\n",
       " 0.0,\n",
       " 0.0,\n",
       " 0.0,\n",
       " 0.0,\n",
       " 0.0,\n",
       " 0.0,\n",
       " 0.0,\n",
       " 0.007003318286256704,\n",
       " 0.0,\n",
       " 0.0,\n",
       " 0.0,\n",
       " 0.0,\n",
       " 0.0,\n",
       " 0.0,\n",
       " 0.0,\n",
       " 0.0,\n",
       " 0.0,\n",
       " 0.0,\n",
       " 0.0,\n",
       " 0.0,\n",
       " 0.0,\n",
       " 0.0,\n",
       " 0.0,\n",
       " 0.0,\n",
       " 0.0,\n",
       " 0.0,\n",
       " 0.0,\n",
       " 0.0,\n",
       " 0.0,\n",
       " 0.0,\n",
       " 0.0,\n",
       " 0.0,\n",
       " 0.0,\n",
       " 0.0,\n",
       " 0.0,\n",
       " 0.0,\n",
       " 0.0,\n",
       " 0.0,\n",
       " 0.0,\n",
       " 0.0,\n",
       " 110.33389261159147,\n",
       " 0.0,\n",
       " 0.0,\n",
       " 0.0,\n",
       " 0.0,\n",
       " 0.0,\n",
       " 0.0,\n",
       " 0.0,\n",
       " 0.0,\n",
       " 0.0,\n",
       " 0.0,\n",
       " 0.0,\n",
       " 0.0,\n",
       " 0.0,\n",
       " 0.0,\n",
       " 0.0,\n",
       " 0.0,\n",
       " 0.0,\n",
       " 0.0,\n",
       " 0.0,\n",
       " 0.0,\n",
       " 0.0,\n",
       " 0.0,\n",
       " 0.0,\n",
       " 0.0,\n",
       " 0.0,\n",
       " 0.0,\n",
       " 0.0,\n",
       " 0.0,\n",
       " 0.0,\n",
       " 0.0,\n",
       " 0.0,\n",
       " 0.0,\n",
       " 0.0,\n",
       " -2.3024586485330065,\n",
       " 0.0,\n",
       " 0.0,\n",
       " 0.0,\n",
       " 0.0,\n",
       " 0.0,\n",
       " 0.0,\n",
       " 0.0,\n",
       " 0.0,\n",
       " 0.0,\n",
       " 0.0,\n",
       " 0.0,\n",
       " 0.0,\n",
       " 0.0,\n",
       " 0.0,\n",
       " 0.0,\n",
       " 0.0,\n",
       " 0.0,\n",
       " 0.0,\n",
       " 0.0,\n",
       " 0.0,\n",
       " 0.0,\n",
       " 0.0,\n",
       " 0.0,\n",
       " 0.0,\n",
       " 0.0,\n",
       " 0.0,\n",
       " 0.0,\n",
       " 0.0,\n",
       " 0.0,\n",
       " 0.0,\n",
       " 0.0,\n",
       " 0.0,\n",
       " 0.0,\n",
       " 0.0,\n",
       " 0.0,\n",
       " 0.0,\n",
       " 0.0,\n",
       " 0.0,\n",
       " 0.0,\n",
       " 0.0,\n",
       " 0.0,\n",
       " 0.0,\n",
       " 0.0,\n",
       " 0.0,\n",
       " 0.0,\n",
       " 3.8958451026578262,\n",
       " 9.209292884630027,\n",
       " 0.0,\n",
       " 0.0,\n",
       " 0.0,\n",
       " 283.38527676201335,\n",
       " 0.0,\n",
       " 0.0,\n",
       " 0.0,\n",
       " 0.0,\n",
       " 0.0,\n",
       " 0.0,\n",
       " 0.0,\n",
       " 0.0,\n",
       " 0.0,\n",
       " 0.0,\n",
       " 0.0,\n",
       " 0.0,\n",
       " 0.0,\n",
       " 0.0,\n",
       " 0.0,\n",
       " 0.0,\n",
       " 0.0,\n",
       " 0.0,\n",
       " 0.0,\n",
       " 0.0,\n",
       " 0.0,\n",
       " 0.0,\n",
       " 0.0,\n",
       " 0.0,\n",
       " 0.0,\n",
       " 0.0,\n",
       " 0.0,\n",
       " 0.0,\n",
       " 0.0,\n",
       " 0.0,\n",
       " 0.0,\n",
       " -5.356102535906778,\n",
       " 0.0,\n",
       " 0.0,\n",
       " 0.0,\n",
       " 0.0,\n",
       " 0.0,\n",
       " 0.0,\n",
       " 0.0,\n",
       " 0.0,\n",
       " 0.0,\n",
       " 0.0,\n",
       " 0.0,\n",
       " 0.0,\n",
       " 0.0,\n",
       " 0.0,\n",
       " 34.71068309759443,\n",
       " 0.0,\n",
       " 0.0,\n",
       " 0.0,\n",
       " 0.0,\n",
       " 0.0,\n",
       " 0.0,\n",
       " 0.0,\n",
       " 0.0,\n",
       " 0.0,\n",
       " -7.203186063969414,\n",
       " 0.0,\n",
       " 0.0,\n",
       " 0.0,\n",
       " 0.0,\n",
       " 0.0,\n",
       " 0.0,\n",
       " 0.0,\n",
       " 0.0,\n",
       " 0.0,\n",
       " 0.0,\n",
       " 0.0,\n",
       " 0.0,\n",
       " 0.0,\n",
       " 0.0,\n",
       " 0.0,\n",
       " 0.0,\n",
       " 0.0,\n",
       " 0.0,\n",
       " 0.0,\n",
       " 0.0,\n",
       " 0.0,\n",
       " 0.0,\n",
       " 0.0,\n",
       " 0.0,\n",
       " 0.0,\n",
       " 0.0,\n",
       " 0.0,\n",
       " 0.0,\n",
       " 0.0,\n",
       " 0.0,\n",
       " 0.0,\n",
       " 0.0,\n",
       " 0.0,\n",
       " 0.0,\n",
       " 0.0,\n",
       " 0.0,\n",
       " 8.323525584539064,\n",
       " 0.0,\n",
       " 0.0,\n",
       " -5.1427895794937916e-05,\n",
       " 0.0,\n",
       " 0.0,\n",
       " 0.0,\n",
       " 0.0,\n",
       " 0.0,\n",
       " 0.0,\n",
       " 0.0,\n",
       " 0.0,\n",
       " 0.0,\n",
       " 0.0,\n",
       " 0.0,\n",
       " 0.0,\n",
       " 0.0,\n",
       " 0.0,\n",
       " 0.0,\n",
       " 0.0,\n",
       " 0.0,\n",
       " 0.0,\n",
       " -18.658230357508724,\n",
       " 0.0,\n",
       " 0.0,\n",
       " 0.0,\n",
       " 0.0,\n",
       " 0.0,\n",
       " 0.0,\n",
       " 0.0,\n",
       " 0.0,\n",
       " 0.0,\n",
       " 0.0006617445193108749,\n",
       " 0.0,\n",
       " 0.23430420482066638,\n",
       " 0.0,\n",
       " 0.0,\n",
       " 0.0,\n",
       " 0.0,\n",
       " 0.0,\n",
       " 0.0,\n",
       " 0.0,\n",
       " 0.0,\n",
       " 0.0,\n",
       " 0.0,\n",
       " 0.0,\n",
       " 0.0,\n",
       " 0.0,\n",
       " 0.0,\n",
       " 0.0,\n",
       " 0.0,\n",
       " 0.0,\n",
       " 0.0,\n",
       " 0.0,\n",
       " 0.0,\n",
       " 0.0,\n",
       " 0.0,\n",
       " 0.0,\n",
       " 0.0,\n",
       " 0.0,\n",
       " 0.0,\n",
       " 0.0,\n",
       " 0.0,\n",
       " 0.0,\n",
       " 0.0,\n",
       " 0.0,\n",
       " 0.0,\n",
       " 0.0,\n",
       " 0.0,\n",
       " 0.0,\n",
       " 0.0,\n",
       " 0.0,\n",
       " 0.0,\n",
       " 0.0,\n",
       " 0.0,\n",
       " 0.0,\n",
       " -7.022326533312248,\n",
       " 0.0,\n",
       " 0.0,\n",
       " 0.0,\n",
       " 0.0,\n",
       " 0.0,\n",
       " 0.0,\n",
       " 0.0,\n",
       " 0.0,\n",
       " 0.0,\n",
       " 0.0,\n",
       " 0.0,\n",
       " 0.0,\n",
       " 0.0,\n",
       " 0.0,\n",
       " 0.0,\n",
       " 0.0,\n",
       " 0.0,\n",
       " 0.0,\n",
       " 0.0,\n",
       " 0.0,\n",
       " 0.0,\n",
       " 0.0,\n",
       " 0.0,\n",
       " 0.0,\n",
       " 0.0,\n",
       " 0.0,\n",
       " 0.0,\n",
       " 0.0,\n",
       " -0.26551101654894455,\n",
       " 0.0,\n",
       " 0.0,\n",
       " 0.0,\n",
       " -0.18540705474075256,\n",
       " 0.0,\n",
       " 0.0,\n",
       " 0.0,\n",
       " 0.0,\n",
       " 0.0,\n",
       " 0.019163740091184944,\n",
       " 0.0,\n",
       " 0.0,\n",
       " 0.0,\n",
       " 0.0,\n",
       " 0.0,\n",
       " 0.0,\n",
       " 0.0,\n",
       " 0.0,\n",
       " 0.0,\n",
       " 0.0,\n",
       " 0.0,\n",
       " 0.0,\n",
       " 0.0,\n",
       " 0.0,\n",
       " -0.027084669155588045,\n",
       " 0.0,\n",
       " 0.0,\n",
       " 0.0,\n",
       " 0.0,\n",
       " 0.0,\n",
       " 0.0,\n",
       " 0.0,\n",
       " 0.0,\n",
       " 0.0,\n",
       " 0.0,\n",
       " 0.0,\n",
       " 0.0,\n",
       " 0.0,\n",
       " 0.0,\n",
       " 0.0,\n",
       " 0.0,\n",
       " 0.0,\n",
       " 0.0,\n",
       " 0.0,\n",
       " 0.0,\n",
       " 0.0,\n",
       " 0.0,\n",
       " 0.0,\n",
       " 0.0,\n",
       " -0.009426072755062966,\n",
       " 0.0,\n",
       " 0.0,\n",
       " 0.0,\n",
       " 0.0,\n",
       " 0.0,\n",
       " 0.0,\n",
       " 0.0,\n",
       " 0.0,\n",
       " 0.0,\n",
       " 0.0,\n",
       " 0.0,\n",
       " 0.0,\n",
       " 0.0,\n",
       " 0.0,\n",
       " 0.0,\n",
       " -0.00016238136846802689,\n",
       " 0.0,\n",
       " 0.0,\n",
       " 0.0,\n",
       " 0.0,\n",
       " 0.0005534702654727904,\n",
       " 0.0,\n",
       " 0.0,\n",
       " -0.26551101654894455,\n",
       " 0.0,\n",
       " 0.0,\n",
       " 0.0,\n",
       " 0.0,\n",
       " 0.0,\n",
       " 0.0,\n",
       " 0.0,\n",
       " 0.0,\n",
       " 0.0,\n",
       " 0.0,\n",
       " 0.0,\n",
       " 0.0,\n",
       " 0.0,\n",
       " 0.0,\n",
       " 0.0,\n",
       " 0.0,\n",
       " 0.0,\n",
       " 0.0,\n",
       " 0.0,\n",
       " 0.0,\n",
       " 0.0,\n",
       " 0.0,\n",
       " 0.0,\n",
       " 0.0,\n",
       " 0.0,\n",
       " 0.0,\n",
       " 0.0,\n",
       " 0.0,\n",
       " 6.916144186002759,\n",
       " 0.0,\n",
       " 0.0,\n",
       " 0.0,\n",
       " 0.0,\n",
       " 0.0,\n",
       " 0.0,\n",
       " 0.0,\n",
       " 0.0,\n",
       " 0.0,\n",
       " 0.0,\n",
       " 0.0,\n",
       " 0.0,\n",
       " 0.0,\n",
       " 0.0,\n",
       " 0.0,\n",
       " 0.0,\n",
       " 0.0,\n",
       " 0.0,\n",
       " 0.0,\n",
       " 0.0,\n",
       " 0.0,\n",
       " 0.0,\n",
       " 0.0,\n",
       " 0.0,\n",
       " 0.0,\n",
       " 0.0,\n",
       " 0.0,\n",
       " 0.0,\n",
       " 0.0,\n",
       " 0.0,\n",
       " 0.0,\n",
       " 0.0,\n",
       " 0.020483961951275526,\n",
       " 0.0,\n",
       " 0.0,\n",
       " 0.0,\n",
       " 0.0,\n",
       " 0.0,\n",
       " 0.0,\n",
       " 0.0,\n",
       " 0.0,\n",
       " 0.0,\n",
       " 0.0,\n",
       " 0.0,\n",
       " 0.0,\n",
       " 0.0,\n",
       " 0.0,\n",
       " 0.0,\n",
       " 0.0,\n",
       " 0.0,\n",
       " 0.0,\n",
       " 0.0,\n",
       " 0.0,\n",
       " 0.0,\n",
       " 0.0,\n",
       " 0.0,\n",
       " 0.0,\n",
       " 0.0,\n",
       " 0.0,\n",
       " 0.0,\n",
       " 0.0,\n",
       " 0.0,\n",
       " 0.0,\n",
       " 0.0,\n",
       " 0.0,\n",
       " 0.0,\n",
       " 0.0,\n",
       " 0.0,\n",
       " 0.0,\n",
       " 0.0,\n",
       " 0.0,\n",
       " 0.0,\n",
       " 0.0,\n",
       " 0.0,\n",
       " 0.0,\n",
       " 0.0,\n",
       " 0.0,\n",
       " 0.0,\n",
       " 0.0,\n",
       " 0.0,\n",
       " 0.0,\n",
       " -2.9441855656871944e-05,\n",
       " 0.0,\n",
       " 0.0,\n",
       " 0.0,\n",
       " 0.0,\n",
       " 0.0,\n",
       " 0.0,\n",
       " 0.0,\n",
       " 0.0,\n",
       " 0.0,\n",
       " 0.0,\n",
       " 0.0,\n",
       " 0.0,\n",
       " 0.0,\n",
       " 0.0,\n",
       " 0.0,\n",
       " 0.0,\n",
       " 0.0,\n",
       " 0.0,\n",
       " 0.0,\n",
       " 0.0,\n",
       " 0.0,\n",
       " 0.0,\n",
       " -0.00021833041945330093,\n",
       " 0.0,\n",
       " 0.0,\n",
       " 0.017833909497637766,\n",
       " 0.0,\n",
       " 0.0,\n",
       " 0.0,\n",
       " 0.0,\n",
       " 0.0,\n",
       " 0.0,\n",
       " 0.0,\n",
       " 0.0,\n",
       " 0.0,\n",
       " 0.0,\n",
       " 0.0,\n",
       " 0.0,\n",
       " 0.0,\n",
       " 0.0,\n",
       " 0.0,\n",
       " 0.0,\n",
       " 0.0,\n",
       " 0.0,\n",
       " 0.0,\n",
       " 0.0,\n",
       " 0.0,\n",
       " 0.0,\n",
       " 0.0,\n",
       " 0.0,\n",
       " 0.0,\n",
       " 0.0,\n",
       " 0.0,\n",
       " 0.0,\n",
       " 0.0,\n",
       " 0.0,\n",
       " 0.0,\n",
       " 0.0,\n",
       " 0.0,\n",
       " 0.0,\n",
       " 0.0,\n",
       " 0.0,\n",
       " 0.0,\n",
       " 0.0,\n",
       " 0.0,\n",
       " 0.0,\n",
       " 0.0,\n",
       " 0.0,\n",
       " 0.0,\n",
       " 0.0,\n",
       " 0.0,\n",
       " 0.0,\n",
       " 0.0,\n",
       " 0.0,\n",
       " 0.0,\n",
       " 0.0,\n",
       " 0.0,\n",
       " 0.0,\n",
       " 0.0,\n",
       " 0.0,\n",
       " 0.0,\n",
       " 0.0,\n",
       " 0.0,\n",
       " -0.06727849474600293,\n",
       " 0.0,\n",
       " 0.0,\n",
       " 0.0,\n",
       " 0.0,\n",
       " 0.0,\n",
       " 0.0,\n",
       " 0.0,\n",
       " 0.0,\n",
       " -0.004623946932878057,\n",
       " 0.0,\n",
       " 0.0,\n",
       " 0.0,\n",
       " 0.0,\n",
       " 0.0,\n",
       " 0.0,\n",
       " 0.0,\n",
       " 0.0,\n",
       " 0.008719529848236825,\n",
       " 0.0,\n",
       " 0.0,\n",
       " 0.0,\n",
       " 0.0,\n",
       " 0.0,\n",
       " 4.332821067639852,\n",
       " 0.0,\n",
       " 0.0,\n",
       " 0.0,\n",
       " 0.0,\n",
       " 0.0,\n",
       " 0.0,\n",
       " 0.0,\n",
       " 0.0,\n",
       " 0.0,\n",
       " 0.0,\n",
       " 0.0,\n",
       " 0.0,\n",
       " 0.0,\n",
       " 0.0,\n",
       " 0.0,\n",
       " 0.0,\n",
       " 0.0,\n",
       " 0.0,\n",
       " 0.0,\n",
       " 0.0,\n",
       " 0.0,\n",
       " -0.21425560580221054,\n",
       " 0.0,\n",
       " 0.0,\n",
       " 0.0,\n",
       " 0.0,\n",
       " 0.0,\n",
       " 0.0,\n",
       " 0.0,\n",
       " -0.0006220045896934719,\n",
       " 0.0,\n",
       " 0.0,\n",
       " 0.0,\n",
       " 0.0,\n",
       " 0.0,\n",
       " 0.0,\n",
       " 0.0,\n",
       " 0.0,\n",
       " 0.0,\n",
       " -0.010788088000510542,\n",
       " 0.0,\n",
       " 0.0,\n",
       " 0.0,\n",
       " 0.0,\n",
       " 0.0,\n",
       " 0.0,\n",
       " 0.0,\n",
       " 0.0,\n",
       " 0.0,\n",
       " 0.0,\n",
       " 0.0,\n",
       " 0.0,\n",
       " 0.0,\n",
       " 0.0,\n",
       " 0.0,\n",
       " 0.0,\n",
       " 0.0,\n",
       " 0.0,\n",
       " 0.0,\n",
       " 0.0,\n",
       " 0.0,\n",
       " 0.0006079829858232186,\n",
       " 0.0,\n",
       " 0.0,\n",
       " 0.0,\n",
       " 0.0,\n",
       " 0.0,\n",
       " 0.0,\n",
       " 0.0,\n",
       " 0.0,\n",
       " 0.0,\n",
       " 0.0,\n",
       " 0.0,\n",
       " 0.0,\n",
       " 0.0,\n",
       " 68.38505995020363,\n",
       " 0.0,\n",
       " 0.0,\n",
       " 0.0,\n",
       " 0.0,\n",
       " 0.0,\n",
       " 0.0,\n",
       " 0.0,\n",
       " 0.0,\n",
       " 0.0,\n",
       " 0.0,\n",
       " 0.0,\n",
       " 0.0,\n",
       " 0.0,\n",
       " 0.0,\n",
       " 0.0,\n",
       " 0.0,\n",
       " 0.0,\n",
       " 0.0,\n",
       " 0.0,\n",
       " 0.0,\n",
       " 0.0005992428018458223,\n",
       " 0.0,\n",
       " 0.0,\n",
       " 0.0,\n",
       " 0.0,\n",
       " 0.0,\n",
       " 0.0,\n",
       " 0.0,\n",
       " 0.0,\n",
       " 0.0,\n",
       " 0.0,\n",
       " 0.0,\n",
       " 0.0,\n",
       " 0.0,\n",
       " 0.0,\n",
       " 0.0,\n",
       " 0.0,\n",
       " 0.0,\n",
       " 0.0,\n",
       " 0.0,\n",
       " -0.2198916899008765,\n",
       " 0.0,\n",
       " 0.0,\n",
       " 0.0,\n",
       " 0.0,\n",
       " 0.0,\n",
       " 0.0,\n",
       " 0.0,\n",
       " 0.0,\n",
       " 0.0,\n",
       " 0.0,\n",
       " 0.0,\n",
       " 0.0,\n",
       " 0.0,\n",
       " 0.0,\n",
       " -0.001394723169963101,\n",
       " 0.0,\n",
       " 0.0,\n",
       " 0.0,\n",
       " 0.0,\n",
       " 0.0,\n",
       " 0.0,\n",
       " 0.0,\n",
       " 0.0,\n",
       " 0.0,\n",
       " 0.0,\n",
       " 0.0,\n",
       " 0.0,\n",
       " 0.0,\n",
       " 0.0,\n",
       " 0.0,\n",
       " -0.06727849474600293,\n",
       " 0.0,\n",
       " 0.0,\n",
       " 0.0,\n",
       " 0.0,\n",
       " -0.0030007645261676285,\n",
       " 0.0,\n",
       " 0.0,\n",
       " 0.0,\n",
       " 0.0,\n",
       " 0.0,\n",
       " 0.0,\n",
       " 0.0,\n",
       " 0.0,\n",
       " 0.0,\n",
       " 0.0,\n",
       " 0.0,\n",
       " 0.0,\n",
       " 0.0,\n",
       " 0.0,\n",
       " 0.0,\n",
       " 0.0,\n",
       " 0.0,\n",
       " 0.0,\n",
       " 0.0,\n",
       " 0.0,\n",
       " 0.0,\n",
       " 0.0,\n",
       " 0.0,\n",
       " 0.0,\n",
       " 0.0,\n",
       " 0.0,\n",
       " 0.0,\n",
       " 0.0,\n",
       " 0.0,\n",
       " 0.0,\n",
       " 0.0,\n",
       " 0.0,\n",
       " 0.0,\n",
       " 0.0,\n",
       " 0.0,\n",
       " 0.0,\n",
       " 0.0,\n",
       " 0.0,\n",
       " 0.0,\n",
       " 0.0,\n",
       " 0.0,\n",
       " 0.0,\n",
       " 0.0,\n",
       " 0.0,\n",
       " 0.0,\n",
       " 0.0,\n",
       " 0.0,\n",
       " 0.0,\n",
       " 0.0,\n",
       " 0.0,\n",
       " 0.0,\n",
       " 0.0,\n",
       " 0.0,\n",
       " 0.0,\n",
       " 0.0,\n",
       " 0.0,\n",
       " 0.0,\n",
       " 0.0,\n",
       " 0.0,\n",
       " 0.0,\n",
       " 0.0,\n",
       " 0.0,\n",
       " 0.0,\n",
       " 0.0,\n",
       " 0.0044575246969037335,\n",
       " 0.0,\n",
       " 0.0,\n",
       " 0.0,\n",
       " 0.0,\n",
       " 0.0,\n",
       " 0.0,\n",
       " 0.0,\n",
       " 0.0,\n",
       " 0.0,\n",
       " 0.0,\n",
       " 0.0,\n",
       " 0.0,\n",
       " 0.0,\n",
       " 121.18537001348378,\n",
       " 0.0,\n",
       " 0.0,\n",
       " 0.0,\n",
       " 0.0,\n",
       " 0.0,\n",
       " 0.0,\n",
       " 0.0,\n",
       " 0.0,\n",
       " 0.0,\n",
       " 0.0,\n",
       " 0.0,\n",
       " 0.0,\n",
       " 0.0,\n",
       " 0.0,\n",
       " 0.0,\n",
       " -0.06727849474600293,\n",
       " 0.0,\n",
       " 0.0,\n",
       " 0.0,\n",
       " 0.0,\n",
       " 0.0,\n",
       " 0.0,\n",
       " 0.0,\n",
       " 0.0,\n",
       " 0.0,\n",
       " 0.0,\n",
       " 0.0,\n",
       " 0.0,\n",
       " 0.0,\n",
       " 0.0,\n",
       " 0.0,\n",
       " 0.0,\n",
       " 0.0,\n",
       " 0.0,\n",
       " 0.0,\n",
       " 0.0,\n",
       " 0.0,\n",
       " 0.0,\n",
       " 0.0,\n",
       " 0.0,\n",
       " 0.0,\n",
       " 0.0,\n",
       " 0.0,\n",
       " 0.0,\n",
       " 0.0,\n",
       " 0.0,\n",
       " 0.0,\n",
       " 0.0,\n",
       " 0.0,\n",
       " 0.0,\n",
       " 0.0,\n",
       " 0.0,\n",
       " 0.0,\n",
       " 0.0,\n",
       " 0.0,\n",
       " 0.0,\n",
       " 0.0,\n",
       " 0.0,\n",
       " 0.0,\n",
       " 0.0,\n",
       " 0.0,\n",
       " 0.0,\n",
       " -0.00011619133138387734,\n",
       " 0.0,\n",
       " 0.0,\n",
       " 0.0,\n",
       " 0.0,\n",
       " 0.0,\n",
       " 0.0,\n",
       " 0.0,\n",
       " 0.0,\n",
       " 0.0,\n",
       " 0.0,\n",
       " 0.0,\n",
       " 0.0,\n",
       " 0.0,\n",
       " 0.0,\n",
       " 0.0,\n",
       " 0.0,\n",
       " 0.0,\n",
       " 0.0,\n",
       " 0.0,\n",
       " 0.0,\n",
       " 0.0,\n",
       " 0.0,\n",
       " 0.0,\n",
       " 0.0,\n",
       " 0.0,\n",
       " 0.0,\n",
       " 0.0,\n",
       " 0.021235363718111612,\n",
       " 0.0,\n",
       " 0.0,\n",
       " 266.11018356766476,\n",
       " 0.0,\n",
       " 0.0,\n",
       " 0.0,\n",
       " 0.0,\n",
       " 0.0,\n",
       " 0.0,\n",
       " 0.0,\n",
       " 0.0,\n",
       " 0.0,\n",
       " 0.0,\n",
       " 0.0,\n",
       " 0.0,\n",
       " 0.0,\n",
       " 0.0,\n",
       " 0.0,\n",
       " 0.0,\n",
       " 0.0,\n",
       " 0.0,\n",
       " 0.0,\n",
       " 0.0,\n",
       " 0.0,\n",
       " 0.0,\n",
       " 0.0,\n",
       " 0.0,\n",
       " 0.0,\n",
       " 0.0,\n",
       " 0.0,\n",
       " 0.0,\n",
       " 0.0,\n",
       " 0.0,\n",
       " 0.0,\n",
       " 0.0,\n",
       " 0.0,\n",
       " 0.0,\n",
       " 0.0,\n",
       " 0.0,\n",
       " 0.0,\n",
       " -2.1257111703498253,\n",
       " 0.0,\n",
       " 0.0,\n",
       " 0.0,\n",
       " 0.0,\n",
       " 0.0,\n",
       " 0.0,\n",
       " 0.0,\n",
       " 0.0,\n",
       " 0.0,\n",
       " 0.0,\n",
       " 0.0,\n",
       " 0.0,\n",
       " 0.0,\n",
       " 0.0,\n",
       " 0.0,\n",
       " 0.0,\n",
       " 0.0,\n",
       " ...]"
      ]
     },
     "execution_count": 92,
     "metadata": {},
     "output_type": "execute_result"
    }
   ],
   "source": [
    "average_saliencies"
   ]
  },
  {
   "cell_type": "code",
   "execution_count": 93,
   "metadata": {},
   "outputs": [
    {
     "data": {
      "text/plain": [
       "Text(0.5, 1.0, 'Multi-Pixel Saliency Histogram $\\\\sigma_8=1.144$, $n=20$, $r=578.86$')"
      ]
     },
     "execution_count": 93,
     "metadata": {},
     "output_type": "execute_result"
    },
    {
     "data": {
      "image/png": "[encoded data removed]",
      "text/plain": [
       "<Figure size 432x288 with 1 Axes>"
      ]
     },
     "metadata": {
      "needs_background": "light"
     },
     "output_type": "display_data"
    }
   ],
   "source": [
    "fig, ax = plt.subplots()\n",
    "# hist(lin_saliencies[49,:], bins=\"scott\", ax=ax, histtype=\"stepfilled\", density=True)\n",
    "ax.hist(average_saliencies, bins=200)\n",
    "# ax.set_xlim([-2.5, 2.5])\n",
    "ax.set_xlabel(\"Saliency, S\")\n",
    "ax.set_ylabel(\"Probability Density\")\n",
    "ax.set_title(r\"Multi-Pixel Saliency Histogram $\\sigma_8=1.144$, $n=20$, $r=578.86$\")"
   ]
  },
  {
   "cell_type": "code",
   "execution_count": 94,
   "metadata": {},
   "outputs": [
    {
     "name": "stderr",
     "output_type": "stream",
     "text": [
      "/Users/adiraju/opt/anaconda3/envs/deep_dss/lib/python3.8/site-packages/ipykernel/ipkernel.py:287: DeprecationWarning: `should_run_async` will not call `transform_cell` automatically in the future. Please pass the result to `transformed_cell` argument and any exception that happen during thetransform in `preprocessing_exc_tuple` in IPython 7.17 and above.\n",
      "  and should_run_async(code)\n"
     ]
    },
    {
     "data": {
      "text/plain": [
       "Text(0.5, 1.0, 'Multi-Pixel Saliency Histogram $\\\\sigma_8=1.144$, $n=10$, $r=578.86$')"
      ]
     },
     "execution_count": 94,
     "metadata": {},
     "output_type": "execute_result"
    },
    {
     "data": {
      "image/png": "[encoded data removed]",
      "text/plain": [
       "<Figure size 432x288 with 1 Axes>"
      ]
     },
     "metadata": {
      "needs_background": "light"
     },
     "output_type": "display_data"
    }
   ],
   "source": [
    "fig, ax = plt.subplots()\n",
    "# hist(lin_saliencies[49,:], bins=\"scott\", ax=ax, histtype=\"stepfilled\", density=True)\n",
    "ax.hist(average_saliencies, bins=200)\n",
    "# ax.set_xlim([-2.5, 2.5])\n",
    "ax.set_xlabel(\"Saliency, S\")\n",
    "ax.set_ylabel(\"Probability Density\")\n",
    "ax.set_title(r\"Multi-Pixel Saliency Histogram $\\sigma_8=1.144$, $n=10$, $r=578.86$\")"
   ]
  },
  {
   "cell_type": "code",
   "execution_count": 95,
   "metadata": {},
   "outputs": [],
   "source": [
    "def bin_score_averages(b, n):\n",
    "    average_saliencies = []\n",
    "\n",
    "    k = 262\n",
    "    m = 10000\n",
    "    M = comb(k, n)\n",
    "    m = min(m, M)\n",
    "\n",
    "    for i in range(m):\n",
    "        pixel_set = np.random.choice(lin_saliencies[b,:], (n), replace=False)\n",
    "        average_saliencies.append(np.mean(pixel_set))\n",
    "        \n",
    "    print(stats.describe(average_saliencies))\n",
    "    \n",
    "    fig, ax = plt.subplots()\n",
    "    # hist(lin_saliencies[49,:], bins=\"scott\", ax=ax, histtype=\"stepfilled\", density=True)\n",
    "    ax.hist(average_saliencies, bins=200)\n",
    "    # ax.set_xlim([-2.5, 2.5])\n",
    "    ax.set_xlabel(\"Saliency, S\")\n",
    "    ax.set_ylabel(\"Probability Density\")\n",
    "    ax.set_title(r\"Multi-Pixel Saliency Histogram $\\sigma_8=1.144$, $n={0}$, $r={1}$\".format(n, \n",
    "                                                                                             np.linspace(5, 1750, num=num_lin_bins)[b]))\n",
    "    fig.show()"
   ]
  },
  {
   "cell_type": "code",
   "execution_count": 96,
   "metadata": {},
   "outputs": [
    {
     "name": "stdout",
     "output_type": "stream",
     "text": [
      "DescribeResult(nobs=10000, minmax=(-89.1690539619673, 399.3565443827749), mean=0.03271554551933134, variance=24.20087436857844, skewness=55.375851036485905, kurtosis=4463.106141958277)\n"
     ]
    },
    {
     "name": "stderr",
     "output_type": "stream",
     "text": [
      "<ipython-input-95-c4b0a00dcbc3>:23: UserWarning: Matplotlib is currently using module://ipykernel.pylab.backend_inline, which is a non-GUI backend, so cannot show the figure.\n",
      "  fig.show()\n"
     ]
    },
    {
     "data": {
      "image/png": "[encoded data removed]",
      "text/plain": [
       "<Figure size 432x288 with 1 Axes>"
      ]
     },
     "metadata": {
      "needs_background": "light"
     },
     "output_type": "display_data"
    }
   ],
   "source": [
    "bin_score_averages(20, 20)"
   ]
  },
  {
   "cell_type": "code",
   "execution_count": 97,
   "metadata": {},
   "outputs": [
    {
     "name": "stderr",
     "output_type": "stream",
     "text": [
      "/Users/adiraju/opt/anaconda3/envs/deep_dss/lib/python3.8/site-packages/numpy/core/_methods.py:202: RuntimeWarning: invalid value encountered in subtract\n",
      "  x = asanyarray(arr - arrmean)\n",
      "/Users/adiraju/opt/anaconda3/envs/deep_dss/lib/python3.8/site-packages/scipy/stats/stats.py:1082: RuntimeWarning: invalid value encountered in subtract\n",
      "  a_zero_mean = a - np.expand_dims(np.mean(a, axis), axis)\n"
     ]
    },
    {
     "name": "stdout",
     "output_type": "stream",
     "text": [
      "DescribeResult(nobs=10000, minmax=(0.0, inf), mean=inf, variance=nan, skewness=nan, kurtosis=nan)\n"
     ]
    },
    {
     "ename": "ValueError",
     "evalue": "supplied range of [0.0, inf] is not finite",
     "output_type": "error",
     "traceback": [
      "\u001b[0;31m---------------------------------------------------------------------------\u001b[0m",
      "\u001b[0;31mValueError\u001b[0m                                Traceback (most recent call last)",
      "\u001b[0;32m<ipython-input-97-dce354663288>\u001b[0m in \u001b[0;36m<module>\u001b[0;34m\u001b[0m\n\u001b[0;32m----> 1\u001b[0;31m \u001b[0mbin_score_averages\u001b[0m\u001b[0;34m(\u001b[0m\u001b[0;36m109\u001b[0m\u001b[0;34m,\u001b[0m \u001b[0;36m2\u001b[0m\u001b[0;34m)\u001b[0m\u001b[0;34m\u001b[0m\u001b[0;34m\u001b[0m\u001b[0m\n\u001b[0m",
      "\u001b[0;32m<ipython-input-95-c4b0a00dcbc3>\u001b[0m in \u001b[0;36mbin_score_averages\u001b[0;34m(b, n)\u001b[0m\n\u001b[1;32m     15\u001b[0m     \u001b[0mfig\u001b[0m\u001b[0;34m,\u001b[0m \u001b[0max\u001b[0m \u001b[0;34m=\u001b[0m \u001b[0mplt\u001b[0m\u001b[0;34m.\u001b[0m\u001b[0msubplots\u001b[0m\u001b[0;34m(\u001b[0m\u001b[0;34m)\u001b[0m\u001b[0;34m\u001b[0m\u001b[0;34m\u001b[0m\u001b[0m\n\u001b[1;32m     16\u001b[0m     \u001b[0;31m# hist(lin_saliencies[49,:], bins=\"scott\", ax=ax, histtype=\"stepfilled\", density=True)\u001b[0m\u001b[0;34m\u001b[0m\u001b[0;34m\u001b[0m\u001b[0;34m\u001b[0m\u001b[0m\n\u001b[0;32m---> 17\u001b[0;31m     \u001b[0max\u001b[0m\u001b[0;34m.\u001b[0m\u001b[0mhist\u001b[0m\u001b[0;34m(\u001b[0m\u001b[0maverage_saliencies\u001b[0m\u001b[0;34m,\u001b[0m \u001b[0mbins\u001b[0m\u001b[0;34m=\u001b[0m\u001b[0;36m200\u001b[0m\u001b[0;34m)\u001b[0m\u001b[0;34m\u001b[0m\u001b[0;34m\u001b[0m\u001b[0m\n\u001b[0m\u001b[1;32m     18\u001b[0m     \u001b[0;31m# ax.set_xlim([-2.5, 2.5])\u001b[0m\u001b[0;34m\u001b[0m\u001b[0;34m\u001b[0m\u001b[0;34m\u001b[0m\u001b[0m\n\u001b[1;32m     19\u001b[0m     \u001b[0max\u001b[0m\u001b[0;34m.\u001b[0m\u001b[0mset_xlabel\u001b[0m\u001b[0;34m(\u001b[0m\u001b[0;34m\"Saliency, S\"\u001b[0m\u001b[0;34m)\u001b[0m\u001b[0;34m\u001b[0m\u001b[0;34m\u001b[0m\u001b[0m\n",
      "\u001b[0;32m~/opt/anaconda3/envs/deep_dss/lib/python3.8/site-packages/matplotlib/__init__.py\u001b[0m in \u001b[0;36minner\u001b[0;34m(ax, data, *args, **kwargs)\u001b[0m\n\u001b[1;32m   1429\u001b[0m     \u001b[0;32mdef\u001b[0m \u001b[0minner\u001b[0m\u001b[0;34m(\u001b[0m\u001b[0max\u001b[0m\u001b[0;34m,\u001b[0m \u001b[0;34m*\u001b[0m\u001b[0margs\u001b[0m\u001b[0;34m,\u001b[0m \u001b[0mdata\u001b[0m\u001b[0;34m=\u001b[0m\u001b[0;32mNone\u001b[0m\u001b[0;34m,\u001b[0m \u001b[0;34m**\u001b[0m\u001b[0mkwargs\u001b[0m\u001b[0;34m)\u001b[0m\u001b[0;34m:\u001b[0m\u001b[0;34m\u001b[0m\u001b[0;34m\u001b[0m\u001b[0m\n\u001b[1;32m   1430\u001b[0m         \u001b[0;32mif\u001b[0m \u001b[0mdata\u001b[0m \u001b[0;32mis\u001b[0m \u001b[0;32mNone\u001b[0m\u001b[0;34m:\u001b[0m\u001b[0;34m\u001b[0m\u001b[0;34m\u001b[0m\u001b[0m\n\u001b[0;32m-> 1431\u001b[0;31m             \u001b[0;32mreturn\u001b[0m \u001b[0mfunc\u001b[0m\u001b[0;34m(\u001b[0m\u001b[0max\u001b[0m\u001b[0;34m,\u001b[0m \u001b[0;34m*\u001b[0m\u001b[0mmap\u001b[0m\u001b[0;34m(\u001b[0m\u001b[0msanitize_sequence\u001b[0m\u001b[0;34m,\u001b[0m \u001b[0margs\u001b[0m\u001b[0;34m)\u001b[0m\u001b[0;34m,\u001b[0m \u001b[0;34m**\u001b[0m\u001b[0mkwargs\u001b[0m\u001b[0;34m)\u001b[0m\u001b[0;34m\u001b[0m\u001b[0;34m\u001b[0m\u001b[0m\n\u001b[0m\u001b[1;32m   1432\u001b[0m \u001b[0;34m\u001b[0m\u001b[0m\n\u001b[1;32m   1433\u001b[0m         \u001b[0mbound\u001b[0m \u001b[0;34m=\u001b[0m \u001b[0mnew_sig\u001b[0m\u001b[0;34m.\u001b[0m\u001b[0mbind\u001b[0m\u001b[0;34m(\u001b[0m\u001b[0max\u001b[0m\u001b[0;34m,\u001b[0m \u001b[0;34m*\u001b[0m\u001b[0margs\u001b[0m\u001b[0;34m,\u001b[0m \u001b[0;34m**\u001b[0m\u001b[0mkwargs\u001b[0m\u001b[0;34m)\u001b[0m\u001b[0;34m\u001b[0m\u001b[0;34m\u001b[0m\u001b[0m\n",
      "\u001b[0;32m~/opt/anaconda3/envs/deep_dss/lib/python3.8/site-packages/matplotlib/axes/_axes.py\u001b[0m in \u001b[0;36mhist\u001b[0;34m(self, x, bins, range, density, weights, cumulative, bottom, histtype, align, orientation, rwidth, log, color, label, stacked, **kwargs)\u001b[0m\n\u001b[1;32m   6633\u001b[0m             \u001b[0;31m# this will automatically overwrite bins,\u001b[0m\u001b[0;34m\u001b[0m\u001b[0;34m\u001b[0m\u001b[0;34m\u001b[0m\u001b[0m\n\u001b[1;32m   6634\u001b[0m             \u001b[0;31m# so that each histogram uses the same bins\u001b[0m\u001b[0;34m\u001b[0m\u001b[0;34m\u001b[0m\u001b[0;34m\u001b[0m\u001b[0m\n\u001b[0;32m-> 6635\u001b[0;31m             \u001b[0mm\u001b[0m\u001b[0;34m,\u001b[0m \u001b[0mbins\u001b[0m \u001b[0;34m=\u001b[0m \u001b[0mnp\u001b[0m\u001b[0;34m.\u001b[0m\u001b[0mhistogram\u001b[0m\u001b[0;34m(\u001b[0m\u001b[0mx\u001b[0m\u001b[0;34m[\u001b[0m\u001b[0mi\u001b[0m\u001b[0;34m]\u001b[0m\u001b[0;34m,\u001b[0m \u001b[0mbins\u001b[0m\u001b[0;34m,\u001b[0m \u001b[0mweights\u001b[0m\u001b[0;34m=\u001b[0m\u001b[0mw\u001b[0m\u001b[0;34m[\u001b[0m\u001b[0mi\u001b[0m\u001b[0;34m]\u001b[0m\u001b[0;34m,\u001b[0m \u001b[0;34m**\u001b[0m\u001b[0mhist_kwargs\u001b[0m\u001b[0;34m)\u001b[0m\u001b[0;34m\u001b[0m\u001b[0;34m\u001b[0m\u001b[0m\n\u001b[0m\u001b[1;32m   6636\u001b[0m             \u001b[0mtops\u001b[0m\u001b[0;34m.\u001b[0m\u001b[0mappend\u001b[0m\u001b[0;34m(\u001b[0m\u001b[0mm\u001b[0m\u001b[0;34m)\u001b[0m\u001b[0;34m\u001b[0m\u001b[0;34m\u001b[0m\u001b[0m\n\u001b[1;32m   6637\u001b[0m         \u001b[0mtops\u001b[0m \u001b[0;34m=\u001b[0m \u001b[0mnp\u001b[0m\u001b[0;34m.\u001b[0m\u001b[0marray\u001b[0m\u001b[0;34m(\u001b[0m\u001b[0mtops\u001b[0m\u001b[0;34m,\u001b[0m \u001b[0mfloat\u001b[0m\u001b[0;34m)\u001b[0m  \u001b[0;31m# causes problems later if it's an int\u001b[0m\u001b[0;34m\u001b[0m\u001b[0;34m\u001b[0m\u001b[0m\n",
      "\u001b[0;32m<__array_function__ internals>\u001b[0m in \u001b[0;36mhistogram\u001b[0;34m(*args, **kwargs)\u001b[0m\n",
      "\u001b[0;32m~/opt/anaconda3/envs/deep_dss/lib/python3.8/site-packages/numpy/lib/histograms.py\u001b[0m in \u001b[0;36mhistogram\u001b[0;34m(a, bins, range, normed, weights, density)\u001b[0m\n\u001b[1;32m    790\u001b[0m     \u001b[0ma\u001b[0m\u001b[0;34m,\u001b[0m \u001b[0mweights\u001b[0m \u001b[0;34m=\u001b[0m \u001b[0m_ravel_and_check_weights\u001b[0m\u001b[0;34m(\u001b[0m\u001b[0ma\u001b[0m\u001b[0;34m,\u001b[0m \u001b[0mweights\u001b[0m\u001b[0;34m)\u001b[0m\u001b[0;34m\u001b[0m\u001b[0;34m\u001b[0m\u001b[0m\n\u001b[1;32m    791\u001b[0m \u001b[0;34m\u001b[0m\u001b[0m\n\u001b[0;32m--> 792\u001b[0;31m     \u001b[0mbin_edges\u001b[0m\u001b[0;34m,\u001b[0m \u001b[0muniform_bins\u001b[0m \u001b[0;34m=\u001b[0m \u001b[0m_get_bin_edges\u001b[0m\u001b[0;34m(\u001b[0m\u001b[0ma\u001b[0m\u001b[0;34m,\u001b[0m \u001b[0mbins\u001b[0m\u001b[0;34m,\u001b[0m \u001b[0mrange\u001b[0m\u001b[0;34m,\u001b[0m \u001b[0mweights\u001b[0m\u001b[0;34m)\u001b[0m\u001b[0;34m\u001b[0m\u001b[0;34m\u001b[0m\u001b[0m\n\u001b[0m\u001b[1;32m    793\u001b[0m \u001b[0;34m\u001b[0m\u001b[0m\n\u001b[1;32m    794\u001b[0m     \u001b[0;31m# Histogram is an integer or a float array depending on the weights.\u001b[0m\u001b[0;34m\u001b[0m\u001b[0;34m\u001b[0m\u001b[0;34m\u001b[0m\u001b[0m\n",
      "\u001b[0;32m~/opt/anaconda3/envs/deep_dss/lib/python3.8/site-packages/numpy/lib/histograms.py\u001b[0m in \u001b[0;36m_get_bin_edges\u001b[0;34m(a, bins, range, weights)\u001b[0m\n\u001b[1;32m    424\u001b[0m             \u001b[0;32mraise\u001b[0m \u001b[0mValueError\u001b[0m\u001b[0;34m(\u001b[0m\u001b[0;34m'`bins` must be positive, when an integer'\u001b[0m\u001b[0;34m)\u001b[0m\u001b[0;34m\u001b[0m\u001b[0;34m\u001b[0m\u001b[0m\n\u001b[1;32m    425\u001b[0m \u001b[0;34m\u001b[0m\u001b[0m\n\u001b[0;32m--> 426\u001b[0;31m         \u001b[0mfirst_edge\u001b[0m\u001b[0;34m,\u001b[0m \u001b[0mlast_edge\u001b[0m \u001b[0;34m=\u001b[0m \u001b[0m_get_outer_edges\u001b[0m\u001b[0;34m(\u001b[0m\u001b[0ma\u001b[0m\u001b[0;34m,\u001b[0m \u001b[0mrange\u001b[0m\u001b[0;34m)\u001b[0m\u001b[0;34m\u001b[0m\u001b[0;34m\u001b[0m\u001b[0m\n\u001b[0m\u001b[1;32m    427\u001b[0m \u001b[0;34m\u001b[0m\u001b[0m\n\u001b[1;32m    428\u001b[0m     \u001b[0;32melif\u001b[0m \u001b[0mnp\u001b[0m\u001b[0;34m.\u001b[0m\u001b[0mndim\u001b[0m\u001b[0;34m(\u001b[0m\u001b[0mbins\u001b[0m\u001b[0;34m)\u001b[0m \u001b[0;34m==\u001b[0m \u001b[0;36m1\u001b[0m\u001b[0;34m:\u001b[0m\u001b[0;34m\u001b[0m\u001b[0;34m\u001b[0m\u001b[0m\n",
      "\u001b[0;32m~/opt/anaconda3/envs/deep_dss/lib/python3.8/site-packages/numpy/lib/histograms.py\u001b[0m in \u001b[0;36m_get_outer_edges\u001b[0;34m(a, range)\u001b[0m\n\u001b[1;32m    313\u001b[0m                 'max must be larger than min in range parameter.')\n\u001b[1;32m    314\u001b[0m         \u001b[0;32mif\u001b[0m \u001b[0;32mnot\u001b[0m \u001b[0;34m(\u001b[0m\u001b[0mnp\u001b[0m\u001b[0;34m.\u001b[0m\u001b[0misfinite\u001b[0m\u001b[0;34m(\u001b[0m\u001b[0mfirst_edge\u001b[0m\u001b[0;34m)\u001b[0m \u001b[0;32mand\u001b[0m \u001b[0mnp\u001b[0m\u001b[0;34m.\u001b[0m\u001b[0misfinite\u001b[0m\u001b[0;34m(\u001b[0m\u001b[0mlast_edge\u001b[0m\u001b[0;34m)\u001b[0m\u001b[0;34m)\u001b[0m\u001b[0;34m:\u001b[0m\u001b[0;34m\u001b[0m\u001b[0;34m\u001b[0m\u001b[0m\n\u001b[0;32m--> 315\u001b[0;31m             raise ValueError(\n\u001b[0m\u001b[1;32m    316\u001b[0m                 \"supplied range of [{}, {}] is not finite\".format(first_edge, last_edge))\n\u001b[1;32m    317\u001b[0m     \u001b[0;32melif\u001b[0m \u001b[0ma\u001b[0m\u001b[0;34m.\u001b[0m\u001b[0msize\u001b[0m \u001b[0;34m==\u001b[0m \u001b[0;36m0\u001b[0m\u001b[0;34m:\u001b[0m\u001b[0;34m\u001b[0m\u001b[0;34m\u001b[0m\u001b[0m\n",
      "\u001b[0;31mValueError\u001b[0m: supplied range of [0.0, inf] is not finite"
     ]
    },
    {
     "data": {
      "image/png": "[encoded data removed]",
      "text/plain": [
       "<Figure size 432x288 with 1 Axes>"
      ]
     },
     "metadata": {
      "needs_background": "light"
     },
     "output_type": "display_data"
    }
   ],
   "source": [
    "bin_score_averages(109, 2)"
   ]
  },
  {
   "cell_type": "code",
   "execution_count": null,
   "metadata": {},
   "outputs": [],
   "source": [
    "stats.describe(lin_saliencies[109,:])"
   ]
  },
  {
   "cell_type": "code",
   "execution_count": null,
   "metadata": {},
   "outputs": [],
   "source": [
    "lin_saliencies[109,:]"
   ]
  },
  {
   "cell_type": "code",
   "execution_count": null,
   "metadata": {},
   "outputs": [],
   "source": [
    "test_saliencies = np.zeros((1260, 150, 262144))"
   ]
  },
  {
   "cell_type": "code",
   "execution_count": null,
   "metadata": {},
   "outputs": [],
   "source": [
    "data[\"x\"]"
   ]
  },
  {
   "cell_type": "code",
   "execution_count": null,
   "metadata": {},
   "outputs": [],
   "source": [
    "def two_pcf_saliency_estimate(index, radius, bin_width=3.5):\n",
    "    pixel_set = hp.query_disc(nside, hp.pix2vec(nside, hp.nest2ring(nside, index)), radius*np.pi/(60*180)).shape\n",
    "    small_set = hp.query_disc(nside, hp.pix2vec(nside, hp.nest2ring(nside, index)),\n",
    "                              (radius-bin_width)*np.pi/(60*180)).shape\n",
    "    annular_set = np.setdiff1d(pixel_set, small_set)\n",
    "    nnxi = ex_grads.numpy()[0,index,0]\n",
    "    fxi = ex_input_map[index] * np.sum(full_map(np.reshape(ex_input_map, (262144)))[annular_set])\n",
    "    if fxi == 0:\n",
    "        return np.inf\n",
    "    return (nside//order)**2 * nnxi / fxi"
   ]
  },
  {
   "cell_type": "code",
   "execution_count": null,
   "metadata": {},
   "outputs": [],
   "source": [
    "for i in range(21):\n",
    "    print(\"On cosmology\", i)\n",
    "    input_batch = tf.convert_to_tensor(data[\"x\"][i*48:(i+1)*48], dtype=tf.float32)\n",
    "    label_batch = tf.convert_to_tensor(data[\"y\"][i*48:(i+1)*48], dtype=tf.float32)\n",
    "    \n",
    "    print(\"Computing gradients\")\n",
    "    with tf.GradientTape() as tape:\n",
    "        tape.watch(input_batch)\n",
    "        output = model(input_batch)\n",
    "        loss = loss_function(label_batch, output)\n",
    "        \n",
    "    grads = tape.gradient(loss, input_batch)\n",
    "    \n",
    "    for j in range(48):\n",
    "        print(\"On map\", j)\n",
    "        for n, r in zip(np.arange(num_lin_bins), np.linspace(5, 1750, num=num_lin_bins)):\n",
    "            for k in range(0, (nside//order)**2, pixel_freq):\n",
    "                if k % period == 0: print(\"n: \", n, \"r: \", r, \"k: \", k, end=\"\\r\")\n",
    "                pixel_set = hp.query_disc(nside, hp.pix2vec(nside, hp.nest2ring(nside, k)), r*np.pi/(60*180)).shape\n",
    "                small_set = hp.query_disc(nside, hp.pix2vec(nside, hp.nest2ring(nside, k)),\n",
    "                                          (r-3.5)*np.pi/(60*180)).shape\n",
    "                annular_set = np.setdiff1d(pixel_set, small_set)\n",
    "                nnxi = grads.numpy()[i*48+j,k,0]\n",
    "                fxi = data[\"x\"][i*48+j,k,0] * np.sum(full_map(np.reshape(data[\"x\"][i*48+j], (262144)))[annular_set])\n",
    "                if fxi == 0:\n",
    "                    test_saliencies[i*48+j,n,k] = np.inf\n",
    "                else:\n",
    "                    test_saliencies[i*48+j,n,k] = (nside//order)**2 * nnxi / fxi\n"
   ]
  },
  {
   "cell_type": "code",
   "execution_count": null,
   "metadata": {},
   "outputs": [],
   "source": []
  }
 ],
 "metadata": {
  "kernelspec": {
   "display_name": "Python 3",
   "language": "python",
   "name": "python3"
  },
  "language_info": {
   "codemirror_mode": {
    "name": "ipython",
    "version": 3
   },
   "file_extension": ".py",
   "mimetype": "text/x-python",
   "name": "python",
   "nbconvert_exporter": "python",
   "pygments_lexer": "ipython3",
   "version": "3.8.5"
  }
 },
 "nbformat": 4,
 "nbformat_minor": 4
}
