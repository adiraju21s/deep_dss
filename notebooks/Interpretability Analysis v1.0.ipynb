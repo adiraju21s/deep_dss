{
 "cells": [
  {
   "cell_type": "markdown",
   "metadata": {},
   "source": [
    "# SphereNN Interpretability Analysis"
   ]
  },
  {
   "cell_type": "markdown",
   "metadata": {},
   "source": [
    "## Loading dependencies, data and model"
   ]
  },
  {
   "cell_type": "code",
   "execution_count": 1,
   "metadata": {},
   "outputs": [],
   "source": [
    "%load_ext autoreload\n",
    "%autoreload 2"
   ]
  },
  {
   "cell_type": "code",
   "execution_count": 2,
   "metadata": {},
   "outputs": [],
   "source": [
    "import os\n",
    "import pickle\n",
    "import numpy as np\n",
    "import healpy as hp\n",
    "import matplotlib.pyplot as plt\n",
    "import matplotlib as mpl\n",
    "import tensorflow as tf\n",
    "import tensorflow.keras as keras\n",
    "from deep_dss.helpers import *\n",
    "import warnings\n",
    "\n",
    "warnings.filterwarnings(action='once')\n",
    "\n",
    "# Run on GPU.\n",
    "os.environ[\"CUDA_VISIBLE_DEVICES\"] = \"0\""
   ]
  },
  {
   "cell_type": "code",
   "execution_count": 3,
   "metadata": {},
   "outputs": [
    {
     "name": "stderr",
     "output_type": "stream",
     "text": [
      "/Users/adiraju/opt/anaconda3/envs/deep_dss/lib/python3.8/site-packages/ipykernel/ipkernel.py:287: DeprecationWarning: `should_run_async` will not call `transform_cell` automatically in the future. Please pass the result to `transformed_cell` argument and any exception that happen during thetransform in `preprocessing_exc_tuple` in IPython 7.17 and above.\n",
      "  and should_run_async(code)\n"
     ]
    }
   ],
   "source": [
    "# Defaults\n",
    "plt.rcParams.update({\n",
    "'lines.color':'black',\n",
    "'font.family':'serif',\n",
    "'font.weight':'normal',\n",
    "'text.color':'black',\n",
    "'text.usetex': True,\n",
    "'axes.edgecolor':'black',\n",
    "'axes.linewidth':1.0,\n",
    "'axes.titlesize':'x-large',\n",
    "'axes.labelsize':'x-large',\n",
    "'axes.labelcolor':'black',\n",
    "'xtick.labelsize':'x-large',\n",
    "'xtick.minor.width':1.0,\n",
    "'xtick.major.width':1.0,\n",
    "'ytick.major.size':7,\n",
    "'ytick.minor.size':4,\n",
    "'ytick.major.pad':8,\n",
    "'ytick.minor.pad':8,\n",
    "'ytick.labelsize':'x-large',\n",
    "'ytick.minor.width':1.0,\n",
    "'ytick.major.width':1.0,\n",
    "'legend.numpoints':1,\n",
    "'legend.fontsize':'x-large',\n",
    "'legend.shadow':False,\n",
    "'legend.frameon':False})"
   ]
  },
  {
   "cell_type": "code",
   "execution_count": 4,
   "metadata": {},
   "outputs": [],
   "source": [
    "config = \"k\"\n",
    "channels = 1\n",
    "noiseless_m = False\n",
    "noiseless_kg = False\n",
    "free_bias = False\n",
    "gaussian = False\n",
    "\n",
    "order = 2\n",
    "nside = 1024\n",
    "\n",
    "val_set = \"TEST\"\n",
    "\n",
    "exp_name = \"spherenn-v3-simple-noisy-fixed-kappa\"\n",
    "num_id = 2\n",
    "checkpoint_path = \"../checkpoints/spherenn/{0}/{0}-{1}\".format(exp_name, num_id)\n",
    "checkpoint_dir = \"../checkpoints/spherenn/{0}\".format(exp_name)\n",
    "# !mkdir $checkpoint_dir\n",
    "log_dir = \"../log/{0}\".format(exp_name)\n",
    "# !mkdir $log_dir\n",
    "fig_dir = \"../figures/{0}\".format(exp_name)\n",
    "# !mkdir $fig_dir"
   ]
  },
  {
   "cell_type": "code",
   "execution_count": 5,
   "metadata": {},
   "outputs": [],
   "source": [
    "def num_cosmologies(dataset):\n",
    "    if dataset == \"TRAINLITE\":\n",
    "        return 16\n",
    "    if dataset == \"TESTLITE\":\n",
    "        return 4\n",
    "    if dataset == \"TEST\":\n",
    "        return 21\n",
    "    return 45\n",
    "\n",
    "def generate_reshaped_data(dataset):\n",
    "    print(\"Generating data for {0}!\".format(dataset))\n",
    "    num_cosmos = num_cosmologies(dataset)\n",
    "    data = split_count_and_lensing_maps_by_dataset(dataset, config=config, noiseless_m=noiseless_m,\n",
    "                                                  noiseless_kg=noiseless_kg, free_bias=free_bias, gaussian=gaussian)\n",
    "    data[\"x\"] = np.reshape(data[\"x\"], (12*(order**2)*num_cosmos, (nside//order)**2, channels))\n",
    "    data[\"y\"] = np.reshape(data[\"y\"], (12*(order**2)*num_cosmos, 1, 1))\n",
    "    return data"
   ]
  },
  {
   "cell_type": "code",
   "execution_count": 6,
   "metadata": {},
   "outputs": [],
   "source": [
    "def build_model():\n",
    "    return keras.Sequential([\n",
    "        keras.Input(shape=(262144, channels)),\n",
    "        keras.layers.Conv1D(64, 4, strides=4, activation='relu'),\n",
    "        keras.layers.Conv1D(128, 4, strides=4, activation='relu'),\n",
    "        keras.layers.Conv1D(256, 4, strides=4, activation='relu'),\n",
    "        keras.layers.Conv1D(256, 4, strides=4, activation='relu'),\n",
    "        keras.layers.Conv1D(256, 4, strides=4, activation='relu'),\n",
    "        keras.layers.Conv1D(256, 4, strides=4, activation='relu'),\n",
    "        keras.layers.Conv1D(256, 4, strides=4, activation='relu'),\n",
    "        keras.layers.Conv1D(256, 4, strides=4, activation='relu'),\n",
    "        keras.layers.Conv1D(1, 4, strides=4, activation='relu'),\n",
    "    ])\n",
    "\n",
    "def load_model():\n",
    "    model = build_model()\n",
    "    model.load_weights(checkpoint_path+\"-Q4\")\n",
    "    return model"
   ]
  },
  {
   "cell_type": "code",
   "execution_count": 7,
   "metadata": {},
   "outputs": [],
   "source": [
    "model = load_model()"
   ]
  },
  {
   "cell_type": "code",
   "execution_count": 8,
   "metadata": {},
   "outputs": [
    {
     "name": "stdout",
     "output_type": "stream",
     "text": [
      "Model: \"sequential\"\n",
      "_________________________________________________________________\n",
      "Layer (type)                 Output Shape              Param #   \n",
      "=================================================================\n",
      "conv1d (Conv1D)              (None, 65536, 64)         320       \n",
      "_________________________________________________________________\n",
      "conv1d_1 (Conv1D)            (None, 16384, 128)        32896     \n",
      "_________________________________________________________________\n",
      "conv1d_2 (Conv1D)            (None, 4096, 256)         131328    \n",
      "_________________________________________________________________\n",
      "conv1d_3 (Conv1D)            (None, 1024, 256)         262400    \n",
      "_________________________________________________________________\n",
      "conv1d_4 (Conv1D)            (None, 256, 256)          262400    \n",
      "_________________________________________________________________\n",
      "conv1d_5 (Conv1D)            (None, 64, 256)           262400    \n",
      "_________________________________________________________________\n",
      "conv1d_6 (Conv1D)            (None, 16, 256)           262400    \n",
      "_________________________________________________________________\n",
      "conv1d_7 (Conv1D)            (None, 4, 256)            262400    \n",
      "_________________________________________________________________\n",
      "conv1d_8 (Conv1D)            (None, 1, 1)              1025      \n",
      "=================================================================\n",
      "Total params: 1,477,569\n",
      "Trainable params: 1,477,569\n",
      "Non-trainable params: 0\n",
      "_________________________________________________________________\n"
     ]
    }
   ],
   "source": [
    "model.summary()"
   ]
  },
  {
   "cell_type": "code",
   "execution_count": 9,
   "metadata": {},
   "outputs": [
    {
     "name": "stdout",
     "output_type": "stream",
     "text": [
      "Generating data for TEST!\n"
     ]
    },
    {
     "name": "stderr",
     "output_type": "stream",
     "text": [
      "/Users/adiraju/opt/anaconda3/envs/deep_dss/lib/python3.8/site-packages/healpy/fitsfunc.py:368: UserWarning: If you are not specifying the input dtype and using the default np.float64 dtype of read_map(), please consider that it will change in a future version to None as to keep the same dtype of the input file: please explicitly set the dtype if it is important to you.\n",
      "  warnings.warn(\n",
      "/Users/adiraju/opt/anaconda3/envs/deep_dss/lib/python3.8/site-packages/healpy/fitsfunc.py:391: UserWarning: NSIDE = 1024\n",
      "  warnings.warn(\"NSIDE = {0:d}\".format(nside))\n",
      "/Users/adiraju/opt/anaconda3/envs/deep_dss/lib/python3.8/site-packages/healpy/fitsfunc.py:400: UserWarning: ORDERING = NESTED in fits file\n",
      "  warnings.warn(\"ORDERING = {0:s} in fits file\".format(ordering))\n",
      "/Users/adiraju/opt/anaconda3/envs/deep_dss/lib/python3.8/site-packages/healpy/fitsfunc.py:428: UserWarning: INDXSCHM = IMPLICIT\n",
      "  warnings.warn(\"INDXSCHM = {0:s}\".format(schm))\n",
      "/Users/adiraju/opt/anaconda3/envs/deep_dss/lib/python3.8/site-packages/healpy/fitsfunc.py:368: UserWarning: If you are not specifying the input dtype and using the default np.float64 dtype of read_map(), please consider that it will change in a future version to None as to keep the same dtype of the input file: please explicitly set the dtype if it is important to you.\n",
      "  warnings.warn(\n",
      "/Users/adiraju/opt/anaconda3/envs/deep_dss/lib/python3.8/site-packages/healpy/fitsfunc.py:391: UserWarning: NSIDE = 1024\n",
      "  warnings.warn(\"NSIDE = {0:d}\".format(nside))\n",
      "/Users/adiraju/opt/anaconda3/envs/deep_dss/lib/python3.8/site-packages/healpy/fitsfunc.py:400: UserWarning: ORDERING = NESTED in fits file\n",
      "  warnings.warn(\"ORDERING = {0:s} in fits file\".format(ordering))\n",
      "/Users/adiraju/opt/anaconda3/envs/deep_dss/lib/python3.8/site-packages/healpy/fitsfunc.py:428: UserWarning: INDXSCHM = IMPLICIT\n",
      "  warnings.warn(\"INDXSCHM = {0:s}\".format(schm))\n"
     ]
    }
   ],
   "source": [
    "data = generate_reshaped_data(\"TEST\")"
   ]
  },
  {
   "cell_type": "markdown",
   "metadata": {},
   "source": [
    "## Gradient Calculation: Example"
   ]
  },
  {
   "cell_type": "code",
   "execution_count": 17,
   "metadata": {},
   "outputs": [],
   "source": [
    "ex_input_batch = data[\"x\"][:32]"
   ]
  },
  {
   "cell_type": "code",
   "execution_count": 19,
   "metadata": {},
   "outputs": [
    {
     "data": {
      "text/plain": [
       "(32, 262144, 1)"
      ]
     },
     "execution_count": 19,
     "metadata": {},
     "output_type": "execute_result"
    }
   ],
   "source": [
    "ex_input_batch.shape"
   ]
  },
  {
   "cell_type": "code",
   "execution_count": 20,
   "metadata": {},
   "outputs": [],
   "source": [
    "ex_label = data[\"y\"][:32]"
   ]
  },
  {
   "cell_type": "code",
   "execution_count": 21,
   "metadata": {},
   "outputs": [
    {
     "data": {
      "text/plain": [
       "(32, 1, 1)"
      ]
     },
     "execution_count": 21,
     "metadata": {},
     "output_type": "execute_result"
    }
   ],
   "source": [
    "ex_label.shape"
   ]
  },
  {
   "cell_type": "code",
   "execution_count": 34,
   "metadata": {},
   "outputs": [],
   "source": [
    "ex_input_tensor = tf.convert_to_tensor(ex_input_batch, dtype=tf.float32)\n",
    "ex_label_tensor = tf.convert_to_tensor(ex_label, dtype=tf.float32)"
   ]
  },
  {
   "cell_type": "code",
   "execution_count": 35,
   "metadata": {},
   "outputs": [],
   "source": [
    "loss_function = tf.keras.losses.MeanAbsoluteError()"
   ]
  },
  {
   "cell_type": "code",
   "execution_count": 36,
   "metadata": {},
   "outputs": [],
   "source": [
    "with tf.GradientTape() as tape:\n",
    "    tape.watch(ex_input_tensor)\n",
    "    output = model(ex_input_tensor)\n",
    "    loss = loss_function(ex_label_tensor, output)"
   ]
  },
  {
   "cell_type": "code",
   "execution_count": 37,
   "metadata": {},
   "outputs": [],
   "source": [
    "ex_grads = tape.gradient(loss, ex_input_tensor)"
   ]
  },
  {
   "cell_type": "code",
   "execution_count": 38,
   "metadata": {},
   "outputs": [
    {
     "data": {
      "text/plain": [
       "<tf.Tensor: shape=(32, 262144, 1), dtype=float32, numpy=\n",
       "array([[[ 1.5799237e-08],\n",
       "        [-8.9696526e-09],\n",
       "        [-3.5284176e-09],\n",
       "        ...,\n",
       "        [-1.2071956e-05],\n",
       "        [-1.3050388e-05],\n",
       "        [-1.2801165e-05]],\n",
       "\n",
       "       [[ 7.9881238e-06],\n",
       "        [ 7.7964369e-06],\n",
       "        [ 8.3400628e-06],\n",
       "        ...,\n",
       "        [ 0.0000000e+00],\n",
       "        [ 0.0000000e+00],\n",
       "        [ 0.0000000e+00]],\n",
       "\n",
       "       [[ 1.2285030e-08],\n",
       "        [-9.6585175e-09],\n",
       "        [ 5.7711463e-10],\n",
       "        ...,\n",
       "        [ 6.3810546e-08],\n",
       "        [-2.9243267e-08],\n",
       "        [-1.4116270e-07]],\n",
       "\n",
       "       ...,\n",
       "\n",
       "       [[-7.5028019e-08],\n",
       "        [ 3.6778751e-08],\n",
       "        [ 2.2362890e-08],\n",
       "        ...,\n",
       "        [-3.0546624e-05],\n",
       "        [-3.2628035e-05],\n",
       "        [-3.1369844e-05]],\n",
       "\n",
       "       [[ 1.1771780e-08],\n",
       "        [-2.0552372e-08],\n",
       "        [ 3.9368326e-09],\n",
       "        ...,\n",
       "        [ 1.1785882e-10],\n",
       "        [-2.8320560e-10],\n",
       "        [-2.4571871e-11]],\n",
       "\n",
       "       [[ 8.5809404e-09],\n",
       "        [ 2.8017680e-10],\n",
       "        [-9.8027702e-09],\n",
       "        ...,\n",
       "        [ 5.3159399e-10],\n",
       "        [ 1.4669324e-09],\n",
       "        [-1.4083508e-09]]], dtype=float32)>"
      ]
     },
     "execution_count": 38,
     "metadata": {},
     "output_type": "execute_result"
    }
   ],
   "source": [
    "ex_grads"
   ]
  },
  {
   "cell_type": "code",
   "execution_count": 39,
   "metadata": {},
   "outputs": [],
   "source": [
    "def zscale(inputs):\n",
    "    return (inputs - np.mean(inputs))/np.std(inputs)"
   ]
  },
  {
   "cell_type": "code",
   "execution_count": 40,
   "metadata": {},
   "outputs": [],
   "source": [
    "ex_zscaled_grads = zscale(ex_grads)"
   ]
  },
  {
   "cell_type": "code",
   "execution_count": 41,
   "metadata": {},
   "outputs": [
    {
     "data": {
      "text/plain": [
       "<tf.Tensor: shape=(32, 262144, 1), dtype=float32, numpy=\n",
       "array([[[-0.17578638],\n",
       "        [-0.17673229],\n",
       "        [-0.17652449],\n",
       "        ...,\n",
       "        [-0.63741   ],\n",
       "        [-0.67477566],\n",
       "        [-0.665258  ]],\n",
       "\n",
       "       [[ 0.12867154],\n",
       "        [ 0.12135115],\n",
       "        [ 0.14211187],\n",
       "        ...,\n",
       "        [-0.17638974],\n",
       "        [-0.17638974],\n",
       "        [-0.17638974]],\n",
       "\n",
       "       [[-0.17592059],\n",
       "        [-0.17675859],\n",
       "        [-0.17636772],\n",
       "        ...,\n",
       "        [-0.17395286],\n",
       "        [-0.17750654],\n",
       "        [-0.18178065]],\n",
       "\n",
       "       ...,\n",
       "\n",
       "       [[-0.17925501],\n",
       "        [-0.1749852 ],\n",
       "        [-0.17553571],\n",
       "        ...,\n",
       "        [-1.3429457 ],\n",
       "        [-1.4224334 ],\n",
       "        [-1.3743838 ]],\n",
       "\n",
       "       [[-0.1759402 ],\n",
       "        [-0.17717463],\n",
       "        [-0.1762394 ],\n",
       "        ...,\n",
       "        [-0.17638525],\n",
       "        [-0.17640057],\n",
       "        [-0.17639068]],\n",
       "\n",
       "       [[-0.17606205],\n",
       "        [-0.17637905],\n",
       "        [-0.17676412],\n",
       "        ...,\n",
       "        [-0.17636944],\n",
       "        [-0.17633373],\n",
       "        [-0.17644353]]], dtype=float32)>"
      ]
     },
     "execution_count": 41,
     "metadata": {},
     "output_type": "execute_result"
    }
   ],
   "source": [
    "ex_zscaled_grads"
   ]
  },
  {
   "cell_type": "code",
   "execution_count": 43,
   "metadata": {},
   "outputs": [],
   "source": [
    "def full_map(partial_map):\n",
    "    fmap = np.zeros(hp.nside2npix(nside))\n",
    "    fmap[:(nside//order)**2] = np.copy(partial_map)\n",
    "    return fmap"
   ]
  },
  {
   "cell_type": "code",
   "execution_count": 52,
   "metadata": {},
   "outputs": [
    {
     "name": "stderr",
     "output_type": "stream",
     "text": [
      "/Users/adiraju/opt/anaconda3/envs/deep_dss/lib/python3.8/site-packages/ipykernel/ipkernel.py:287: DeprecationWarning: `should_run_async` will not call `transform_cell` automatically in the future. Please pass the result to `transformed_cell` argument and any exception that happen during thetransform in `preprocessing_exc_tuple` in IPython 7.17 and above.\n",
      "  and should_run_async(code)\n",
      "<>:1: DeprecationWarning: invalid escape sequence \\s\n",
      "/Users/adiraju/opt/anaconda3/envs/deep_dss/lib/python3.8/site-packages/healpy/projaxes.py:920: MatplotlibDeprecationWarning: You are modifying the state of a globally registered colormap. In future versions, you will not be able to modify a registered colormap in-place. To remove this warning, you can make a copy of the colormap first. cmap = copy.copy(mpl.cm.get_cmap(\"viridis\"))\n",
      "  newcm.set_over(newcm(1.0))\n",
      "/Users/adiraju/opt/anaconda3/envs/deep_dss/lib/python3.8/site-packages/healpy/projaxes.py:202: MatplotlibDeprecationWarning: Passing parameters norm and vmin/vmax simultaneously is deprecated since 3.3 and will become an error two minor releases later. Please pass vmin/vmax directly to the norm when creating it.\n",
      "  aximg = self.imshow(\n"
     ]
    },
    {
     "data": {
      "image/png": "[encoded data removed]",
      "text/plain": [
       "<Figure size 612x388.8 with 2 Axes>"
      ]
     },
     "metadata": {
      "needs_background": "light"
     },
     "output_type": "display_data"
    }
   ],
   "source": [
    "hp.mollview(full_map(ex_input_batch[0,:,0]), nest=True, title=\"Example Input Map, $\\sigma_8=1.144$\")"
   ]
  },
  {
   "cell_type": "code",
   "execution_count": 62,
   "metadata": {},
   "outputs": [
    {
     "name": "stderr",
     "output_type": "stream",
     "text": [
      "/Users/adiraju/opt/anaconda3/envs/deep_dss/lib/python3.8/site-packages/ipykernel/ipkernel.py:287: DeprecationWarning: `should_run_async` will not call `transform_cell` automatically in the future. Please pass the result to `transformed_cell` argument and any exception that happen during thetransform in `preprocessing_exc_tuple` in IPython 7.17 and above.\n",
      "  and should_run_async(code)\n",
      "/Users/adiraju/opt/anaconda3/envs/deep_dss/lib/python3.8/site-packages/healpy/projaxes.py:920: MatplotlibDeprecationWarning: You are modifying the state of a globally registered colormap. In future versions, you will not be able to modify a registered colormap in-place. To remove this warning, you can make a copy of the colormap first. cmap = copy.copy(mpl.cm.get_cmap(\"viridis\"))\n",
      "  newcm.set_over(newcm(1.0))\n",
      "/Users/adiraju/opt/anaconda3/envs/deep_dss/lib/python3.8/site-packages/healpy/projaxes.py:202: MatplotlibDeprecationWarning: Passing parameters norm and vmin/vmax simultaneously is deprecated since 3.3 and will become an error two minor releases later. Please pass vmin/vmax directly to the norm when creating it.\n",
      "  aximg = self.imshow(\n"
     ]
    },
    {
     "data": {
      "image/png": "[encoded data removed]",
      "text/plain": [
       "<Figure size 612x388.8 with 2 Axes>"
      ]
     },
     "metadata": {
      "needs_background": "light"
     },
     "output_type": "display_data"
    }
   ],
   "source": [
    "hp.mollview(full_map(ex_zscaled_grads[0,:,0]), nest=True, \n",
    "            title=r\"Example zscaled gradients, $\\frac{\\partial NN}{\\partial x}$, $\\sigma_8=1.144$\")"
   ]
  },
  {
   "cell_type": "code",
   "execution_count": 63,
   "metadata": {},
   "outputs": [
    {
     "name": "stderr",
     "output_type": "stream",
     "text": [
      "/Users/adiraju/opt/anaconda3/envs/deep_dss/lib/python3.8/site-packages/ipykernel/ipkernel.py:287: DeprecationWarning: `should_run_async` will not call `transform_cell` automatically in the future. Please pass the result to `transformed_cell` argument and any exception that happen during thetransform in `preprocessing_exc_tuple` in IPython 7.17 and above.\n",
      "  and should_run_async(code)\n"
     ]
    }
   ],
   "source": [
    "ex_input_x_grads = np.multiply(ex_input_batch, ex_grads)\n",
    "ex_zscaled_input_x_grads = zscale(ex_input_x_grads)"
   ]
  },
  {
   "cell_type": "code",
   "execution_count": 64,
   "metadata": {},
   "outputs": [
    {
     "name": "stderr",
     "output_type": "stream",
     "text": [
      "/Users/adiraju/opt/anaconda3/envs/deep_dss/lib/python3.8/site-packages/healpy/projaxes.py:920: MatplotlibDeprecationWarning: You are modifying the state of a globally registered colormap. In future versions, you will not be able to modify a registered colormap in-place. To remove this warning, you can make a copy of the colormap first. cmap = copy.copy(mpl.cm.get_cmap(\"viridis\"))\n",
      "  newcm.set_over(newcm(1.0))\n",
      "/Users/adiraju/opt/anaconda3/envs/deep_dss/lib/python3.8/site-packages/healpy/projaxes.py:202: MatplotlibDeprecationWarning: Passing parameters norm and vmin/vmax simultaneously is deprecated since 3.3 and will become an error two minor releases later. Please pass vmin/vmax directly to the norm when creating it.\n",
      "  aximg = self.imshow(\n"
     ]
    },
    {
     "data": {
      "image/png": "[encoded data removed]",
      "text/plain": [
       "<Figure size 612x388.8 with 2 Axes>"
      ]
     },
     "metadata": {
      "needs_background": "light"
     },
     "output_type": "display_data"
    }
   ],
   "source": [
    "hp.mollview(full_map(ex_zscaled_input_x_grads[0,:,0]), nest=True,\n",
    "           title=r\"Example zscaled input x gradients, $\\frac{\\partial NN}{\\partial x} \\cdot x$, $\\sigma_8=1.144$\")"
   ]
  },
  {
   "cell_type": "markdown",
   "metadata": {},
   "source": [
    "## Binned saliency scores: example"
   ]
  },
  {
   "cell_type": "code",
   "execution_count": 65,
   "metadata": {},
   "outputs": [
    {
     "name": "stderr",
     "output_type": "stream",
     "text": [
      "/Users/adiraju/opt/anaconda3/envs/deep_dss/lib/python3.8/site-packages/ipykernel/ipkernel.py:287: DeprecationWarning: `should_run_async` will not call `transform_cell` automatically in the future. Please pass the result to `transformed_cell` argument and any exception that happen during thetransform in `preprocessing_exc_tuple` in IPython 7.17 and above.\n",
      "  and should_run_async(code)\n"
     ]
    }
   ],
   "source": [
    "ex_zscaled_input_map = zscale(ex_input_batch[0])"
   ]
  },
  {
   "cell_type": "code",
   "execution_count": 171,
   "metadata": {},
   "outputs": [
    {
     "name": "stderr",
     "output_type": "stream",
     "text": [
      "/Users/adiraju/opt/anaconda3/envs/deep_dss/lib/python3.8/site-packages/ipykernel/ipkernel.py:287: DeprecationWarning: `should_run_async` will not call `transform_cell` automatically in the future. Please pass the result to `transformed_cell` argument and any exception that happen during thetransform in `preprocessing_exc_tuple` in IPython 7.17 and above.\n",
      "  and should_run_async(code)\n"
     ]
    }
   ],
   "source": [
    "ex_input_map = ex_input_batch[0]"
   ]
  },
  {
   "cell_type": "code",
   "execution_count": 68,
   "metadata": {},
   "outputs": [
    {
     "data": {
      "text/plain": [
       "array([[-0.0913625 ],\n",
       "       [ 0.00816235],\n",
       "       [ 0.36135749],\n",
       "       ...,\n",
       "       [ 0.20887882],\n",
       "       [-0.1211046 ],\n",
       "       [-1.49866376]])"
      ]
     },
     "execution_count": 68,
     "metadata": {},
     "output_type": "execute_result"
    }
   ],
   "source": [
    "ex_zscaled_input_map"
   ]
  },
  {
   "cell_type": "code",
   "execution_count": 78,
   "metadata": {},
   "outputs": [],
   "source": [
    "ex_zscaled_grads_map = ex_zscaled_grads[0,:,0].numpy()"
   ]
  },
  {
   "cell_type": "code",
   "execution_count": 97,
   "metadata": {},
   "outputs": [
    {
     "name": "stderr",
     "output_type": "stream",
     "text": [
      "/Users/adiraju/opt/anaconda3/envs/deep_dss/lib/python3.8/site-packages/ipykernel/ipkernel.py:287: DeprecationWarning: `should_run_async` will not call `transform_cell` automatically in the future. Please pass the result to `transformed_cell` argument and any exception that happen during thetransform in `preprocessing_exc_tuple` in IPython 7.17 and above.\n",
      "  and should_run_async(code)\n"
     ]
    }
   ],
   "source": [
    "ex_zscaled_grads_map = np.reshape(ex_zscaled_grads_map, ex_zscaled_input_map.shape)"
   ]
  },
  {
   "cell_type": "code",
   "execution_count": 98,
   "metadata": {},
   "outputs": [
    {
     "data": {
      "text/plain": [
       "array([[-0.17578638],\n",
       "       [-0.17673229],\n",
       "       [-0.17652449],\n",
       "       ...,\n",
       "       [-0.63741   ],\n",
       "       [-0.67477566],\n",
       "       [-0.665258  ]], dtype=float32)"
      ]
     },
     "execution_count": 98,
     "metadata": {},
     "output_type": "execute_result"
    }
   ],
   "source": [
    "ex_zscaled_grads_map"
   ]
  },
  {
   "cell_type": "code",
   "execution_count": 73,
   "metadata": {},
   "outputs": [
    {
     "name": "stderr",
     "output_type": "stream",
     "text": [
      "/Users/adiraju/opt/anaconda3/envs/deep_dss/lib/python3.8/site-packages/ipykernel/ipkernel.py:287: DeprecationWarning: `should_run_async` will not call `transform_cell` automatically in the future. Please pass the result to `transformed_cell` argument and any exception that happen during thetransform in `preprocessing_exc_tuple` in IPython 7.17 and above.\n",
      "  and should_run_async(code)\n"
     ]
    }
   ],
   "source": [
    "ex_zscaled_input_x_grads_map = ex_zscaled_input_x_grads[0,:,0]"
   ]
  },
  {
   "cell_type": "code",
   "execution_count": 100,
   "metadata": {},
   "outputs": [
    {
     "name": "stderr",
     "output_type": "stream",
     "text": [
      "/Users/adiraju/opt/anaconda3/envs/deep_dss/lib/python3.8/site-packages/ipykernel/ipkernel.py:287: DeprecationWarning: `should_run_async` will not call `transform_cell` automatically in the future. Please pass the result to `transformed_cell` argument and any exception that happen during thetransform in `preprocessing_exc_tuple` in IPython 7.17 and above.\n",
      "  and should_run_async(code)\n"
     ]
    }
   ],
   "source": [
    "ex_zscaled_input_x_grads_map = np.reshape(ex_zscaled_input_x_grads_map, ex_zscaled_input_map.shape)"
   ]
  },
  {
   "cell_type": "code",
   "execution_count": 101,
   "metadata": {},
   "outputs": [
    {
     "data": {
      "text/plain": [
       "array([[0.11955785],\n",
       "       [0.11958438],\n",
       "       [0.119548  ],\n",
       "       ...,\n",
       "       [0.02434701],\n",
       "       [0.16269212],\n",
       "       [0.75999144]])"
      ]
     },
     "execution_count": 101,
     "metadata": {},
     "output_type": "execute_result"
    }
   ],
   "source": [
    "ex_zscaled_input_x_grads_map"
   ]
  },
  {
   "cell_type": "code",
   "execution_count": 70,
   "metadata": {},
   "outputs": [
    {
     "name": "stderr",
     "output_type": "stream",
     "text": [
      "/Users/adiraju/opt/anaconda3/envs/deep_dss/lib/python3.8/site-packages/ipykernel/ipkernel.py:287: DeprecationWarning: `should_run_async` will not call `transform_cell` automatically in the future. Please pass the result to `transformed_cell` argument and any exception that happen during thetransform in `preprocessing_exc_tuple` in IPython 7.17 and above.\n",
      "  and should_run_async(code)\n"
     ]
    }
   ],
   "source": [
    "from astropy.visualization import hist"
   ]
  },
  {
   "cell_type": "code",
   "execution_count": 84,
   "metadata": {},
   "outputs": [
    {
     "name": "stderr",
     "output_type": "stream",
     "text": [
      "/Users/adiraju/opt/anaconda3/envs/deep_dss/lib/python3.8/site-packages/ipykernel/ipkernel.py:287: DeprecationWarning: `should_run_async` will not call `transform_cell` automatically in the future. Please pass the result to `transformed_cell` argument and any exception that happen during thetransform in `preprocessing_exc_tuple` in IPython 7.17 and above.\n",
      "  and should_run_async(code)\n",
      "<>:4: DeprecationWarning: invalid escape sequence \\k\n",
      "<>:6: DeprecationWarning: invalid escape sequence \\s\n",
      "<ipython-input-84-0a3747efd138>:8: UserWarning: Matplotlib is currently using module://ipykernel.pylab.backend_inline, which is a non-GUI backend, so cannot show the figure.\n",
      "  fig.show()\n"
     ]
    },
    {
     "data": {
      "image/png": "[encoded data removed]",
      "text/plain": [
       "<Figure size 432x288 with 1 Axes>"
      ]
     },
     "metadata": {
      "needs_background": "light"
     },
     "output_type": "display_data"
    }
   ],
   "source": [
    "fig, ax = plt.subplots()\n",
    "hist(ex_zscaled_input_map, bins=\"scott\", ax=ax, histtype=\"stepfilled\", alpha=0.8, density=True)\n",
    "# ax.set_xlim([-2.5, 2.5])\n",
    "ax.set_xlabel(\"Convergence, $\\kappa$\")\n",
    "ax.set_ylabel(\"Probability Density\")\n",
    "ax.set_title(\"Pixel Histogram $\\sigma_8=1.144$\")\n",
    "plt.tight_layout()\n",
    "fig.show()"
   ]
  },
  {
   "cell_type": "code",
   "execution_count": 104,
   "metadata": {},
   "outputs": [
    {
     "name": "stderr",
     "output_type": "stream",
     "text": [
      "/Users/adiraju/opt/anaconda3/envs/deep_dss/lib/python3.8/site-packages/ipykernel/ipkernel.py:287: DeprecationWarning: `should_run_async` will not call `transform_cell` automatically in the future. Please pass the result to `transformed_cell` argument and any exception that happen during thetransform in `preprocessing_exc_tuple` in IPython 7.17 and above.\n",
      "  and should_run_async(code)\n",
      "<>:6: DeprecationWarning: invalid escape sequence \\s\n",
      "<ipython-input-104-8a9aadd55541>:8: UserWarning: Matplotlib is currently using module://ipykernel.pylab.backend_inline, which is a non-GUI backend, so cannot show the figure.\n",
      "  fig.show()\n"
     ]
    },
    {
     "data": {
      "image/png": "[encoded data removed]",
      "text/plain": [
       "<Figure size 432x288 with 1 Axes>"
      ]
     },
     "metadata": {
      "needs_background": "light"
     },
     "output_type": "display_data"
    }
   ],
   "source": [
    "fig, ax = plt.subplots()\n",
    "hist(ex_zscaled_grads_map, bins=\"scott\", ax=ax, histtype=\"stepfilled\", alpha=0.8, density=True)\n",
    "# ax.set_xlim([-2.5, 2.5])\n",
    "ax.set_xlabel(r\"Gradient, $\\frac{\\partial NN}{\\partial x}$\")\n",
    "ax.set_ylabel(\"Probability Density\")\n",
    "ax.set_title(\"Gradient Histogram $\\sigma_8=1.144$\")\n",
    "plt.tight_layout()\n",
    "fig.show()"
   ]
  },
  {
   "cell_type": "code",
   "execution_count": 102,
   "metadata": {},
   "outputs": [
    {
     "name": "stderr",
     "output_type": "stream",
     "text": [
      "<>:6: DeprecationWarning: invalid escape sequence \\s\n"
     ]
    },
    {
     "data": {
      "image/png": "[encoded data removed]",
      "text/plain": [
       "<Figure size 432x288 with 1 Axes>"
      ]
     },
     "metadata": {
      "needs_background": "light"
     },
     "output_type": "display_data"
    }
   ],
   "source": [
    "fig, ax = plt.subplots()\n",
    "hist(ex_zscaled_input_x_grads_map, bins=\"scott\", ax=ax, histtype=\"stepfilled\", alpha=0.8, density=True)\n",
    "# ax.set_xlim([-2.5, 2.5])\n",
    "ax.set_xlabel(r\"Input x Gradient, $\\frac{\\partial NN}{\\partial x} \\cdot x$\")\n",
    "ax.set_ylabel(\"Probability Density\")\n",
    "ax.set_title(\"Input x Gradient Histogram $\\sigma_8=1.144$\")\n",
    "plt.tight_layout()"
   ]
  },
  {
   "cell_type": "code",
   "execution_count": 107,
   "metadata": {},
   "outputs": [],
   "source": [
    "from scipy import stats"
   ]
  },
  {
   "cell_type": "code",
   "execution_count": 108,
   "metadata": {},
   "outputs": [
    {
     "data": {
      "text/plain": [
       "DescribeResult(nobs=262144, minmax=(array([-4.1478746]), array([12.7910947])), mean=array([0.]), variance=array([1.00000381]), skewness=array([0.5554876]), kurtosis=array([1.77895625]))"
      ]
     },
     "execution_count": 108,
     "metadata": {},
     "output_type": "execute_result"
    }
   ],
   "source": [
    "stats.describe(ex_zscaled_input_map)"
   ]
  },
  {
   "cell_type": "code",
   "execution_count": 134,
   "metadata": {},
   "outputs": [],
   "source": [
    "x = np.ones(262144)"
   ]
  },
  {
   "cell_type": "code",
   "execution_count": 135,
   "metadata": {},
   "outputs": [
    {
     "data": {
      "text/plain": [
       "262144"
      ]
     },
     "execution_count": 135,
     "metadata": {},
     "output_type": "execute_result"
    }
   ],
   "source": [
    "x.shape[0]"
   ]
  },
  {
   "cell_type": "code",
   "execution_count": 143,
   "metadata": {},
   "outputs": [
    {
     "name": "stderr",
     "output_type": "stream",
     "text": [
      "/Users/adiraju/opt/anaconda3/envs/deep_dss/lib/python3.8/site-packages/ipykernel/ipkernel.py:287: DeprecationWarning: `should_run_async` will not call `transform_cell` automatically in the future. Please pass the result to `transformed_cell` argument and any exception that happen during thetransform in `preprocessing_exc_tuple` in IPython 7.17 and above.\n",
      "  and should_run_async(code)\n"
     ]
    }
   ],
   "source": [
    "def square_sum(x):\n",
    "    return np.sum(np.multiply(x, x))/x.shape[0]"
   ]
  },
  {
   "cell_type": "code",
   "execution_count": 148,
   "metadata": {},
   "outputs": [],
   "source": [
    "bin_ss_grads = stats.binned_statistic(np.reshape(ex_zscaled_input_map, (262144)),\n",
    "                       np.reshape(ex_zscaled_grads_map, (262144)), statistic=square_sum, bins=40, range=(-20,20))"
   ]
  },
  {
   "cell_type": "code",
   "execution_count": 150,
   "metadata": {},
   "outputs": [
    {
     "name": "stderr",
     "output_type": "stream",
     "text": [
      "/Users/adiraju/opt/anaconda3/envs/deep_dss/lib/python3.8/site-packages/ipykernel/ipkernel.py:287: DeprecationWarning: `should_run_async` will not call `transform_cell` automatically in the future. Please pass the result to `transformed_cell` argument and any exception that happen during thetransform in `preprocessing_exc_tuple` in IPython 7.17 and above.\n",
      "  and should_run_async(code)\n"
     ]
    }
   ],
   "source": [
    "bin_mean_grads = stats.binned_statistic(np.reshape(ex_zscaled_input_map, (262144)),\n",
    "                       np.reshape(ex_zscaled_grads_map, (262144)), statistic='mean', bins=40, range=(-20,20))"
   ]
  },
  {
   "cell_type": "code",
   "execution_count": 149,
   "metadata": {},
   "outputs": [
    {
     "name": "stderr",
     "output_type": "stream",
     "text": [
      "/Users/adiraju/opt/anaconda3/envs/deep_dss/lib/python3.8/site-packages/ipykernel/ipkernel.py:287: DeprecationWarning: `should_run_async` will not call `transform_cell` automatically in the future. Please pass the result to `transformed_cell` argument and any exception that happen during thetransform in `preprocessing_exc_tuple` in IPython 7.17 and above.\n",
      "  and should_run_async(code)\n"
     ]
    }
   ],
   "source": [
    "bin_ss_input_x_grads = stats.binned_statistic(np.reshape(ex_zscaled_input_map, (262144)),\n",
    "                       np.reshape(ex_zscaled_input_x_grads_map, (262144)), \n",
    "                                           statistic=square_sum, bins=40, range=(-20,20))"
   ]
  },
  {
   "cell_type": "code",
   "execution_count": 151,
   "metadata": {},
   "outputs": [],
   "source": [
    "bin_mean_input_x_grads = stats.binned_statistic(np.reshape(ex_zscaled_input_map, (262144)),\n",
    "                       np.reshape(ex_zscaled_input_x_grads_map, (262144)), \n",
    "                                           statistic='mean', bins=40, range=(-20,20))"
   ]
  },
  {
   "cell_type": "code",
   "execution_count": 152,
   "metadata": {},
   "outputs": [
    {
     "data": {
      "text/plain": [
       "BinnedStatisticResult(statistic=array([        nan,         nan,         nan,         nan,         nan,\n",
       "               nan,         nan,         nan,         nan,         nan,\n",
       "               nan,         nan,         nan,         nan,         nan,\n",
       "        0.3413972 , 13.4141453 ,  6.16986164,  3.51759364,  1.50177791,\n",
       "        0.47665862,  0.1127574 ,  0.08377422,  0.03099235,  0.03061862,\n",
       "        0.03096202,  0.03098969,  0.03026482,  0.03038229,  0.03109082,\n",
       "        0.03111334,  0.03634349,  0.03147375,         nan,         nan,\n",
       "               nan,         nan,         nan,         nan,         nan]), bin_edges=array([-20., -19., -18., -17., -16., -15., -14., -13., -12., -11., -10.,\n",
       "        -9.,  -8.,  -7.,  -6.,  -5.,  -4.,  -3.,  -2.,  -1.,   0.,   1.,\n",
       "         2.,   3.,   4.,   5.,   6.,   7.,   8.,   9.,  10.,  11.,  12.,\n",
       "        13.,  14.,  15.,  16.,  17.,  18.,  19.,  20.]), binnumber=array([20, 21, 21, ..., 21, 20, 19]))"
      ]
     },
     "execution_count": 152,
     "metadata": {},
     "output_type": "execute_result"
    }
   ],
   "source": [
    "bin_ss_grads"
   ]
  },
  {
   "cell_type": "code",
   "execution_count": 153,
   "metadata": {},
   "outputs": [
    {
     "data": {
      "text/plain": [
       "BinnedStatisticResult(statistic=array([        nan,         nan,         nan,         nan,         nan,\n",
       "               nan,         nan,         nan,         nan,         nan,\n",
       "               nan,         nan,         nan,         nan,         nan,\n",
       "        0.58429205,  1.89484235,  1.06859418,  0.61277639,  0.21540012,\n",
       "       -0.04744884, -0.1517069 , -0.16932327, -0.17522083, -0.17402173,\n",
       "       -0.17556959, -0.17602993, -0.17378548, -0.17423569, -0.17632588,\n",
       "       -0.17638974, -0.19063969, -0.17740843,         nan,         nan,\n",
       "               nan,         nan,         nan,         nan,         nan]), bin_edges=array([-20., -19., -18., -17., -16., -15., -14., -13., -12., -11., -10.,\n",
       "        -9.,  -8.,  -7.,  -6.,  -5.,  -4.,  -3.,  -2.,  -1.,   0.,   1.,\n",
       "         2.,   3.,   4.,   5.,   6.,   7.,   8.,   9.,  10.,  11.,  12.,\n",
       "        13.,  14.,  15.,  16.,  17.,  18.,  19.,  20.]), binnumber=array([20, 21, 21, ..., 21, 20, 19]))"
      ]
     },
     "execution_count": 153,
     "metadata": {},
     "output_type": "execute_result"
    }
   ],
   "source": [
    "bin_mean_grads"
   ]
  },
  {
   "cell_type": "code",
   "execution_count": 154,
   "metadata": {},
   "outputs": [
    {
     "data": {
      "text/plain": [
       "BinnedStatisticResult(statistic=array([           nan,            nan,            nan,            nan,\n",
       "                  nan,            nan,            nan,            nan,\n",
       "                  nan,            nan,            nan,            nan,\n",
       "                  nan,            nan,            nan, 7.11118384e+00,\n",
       "       1.08279518e+02, 2.66430971e+01, 5.71008272e+00, 4.09137840e-01,\n",
       "       9.57330237e-02, 1.45865425e-01, 2.23269188e-01, 1.82058655e-02,\n",
       "       2.19234734e-02, 1.82760822e-02, 1.49079813e-02, 2.15648928e-02,\n",
       "       1.96705609e-02, 1.44336522e-02, 1.43027450e-02, 5.26927281e-04,\n",
       "       1.16639926e-02,            nan,            nan,            nan,\n",
       "                  nan,            nan,            nan,            nan]), bin_edges=array([-20., -19., -18., -17., -16., -15., -14., -13., -12., -11., -10.,\n",
       "        -9.,  -8.,  -7.,  -6.,  -5.,  -4.,  -3.,  -2.,  -1.,   0.,   1.,\n",
       "         2.,   3.,   4.,   5.,   6.,   7.,   8.,   9.,  10.,  11.,  12.,\n",
       "        13.,  14.,  15.,  16.,  17.,  18.,  19.,  20.]), binnumber=array([20, 21, 21, ..., 21, 20, 19]))"
      ]
     },
     "execution_count": 154,
     "metadata": {},
     "output_type": "execute_result"
    }
   ],
   "source": [
    "bin_ss_input_x_grads"
   ]
  },
  {
   "cell_type": "code",
   "execution_count": 155,
   "metadata": {},
   "outputs": [
    {
     "data": {
      "text/plain": [
       "BinnedStatisticResult(statistic=array([        nan,         nan,         nan,         nan,         nan,\n",
       "               nan,         nan,         nan,         nan,         nan,\n",
       "               nan,         nan,         nan,         nan,         nan,\n",
       "       -2.6666803 , -5.72126247, -2.39978768, -0.84861048, -0.05966886,\n",
       "        0.15947249,  0.14777208,  0.13346555,  0.1232944 ,  0.12896103,\n",
       "        0.12362062,  0.12164575,  0.13697112,  0.13548092,  0.1201389 ,\n",
       "        0.11959408, -0.0229549 ,  0.10799997,         nan,         nan,\n",
       "               nan,         nan,         nan,         nan,         nan]), bin_edges=array([-20., -19., -18., -17., -16., -15., -14., -13., -12., -11., -10.,\n",
       "        -9.,  -8.,  -7.,  -6.,  -5.,  -4.,  -3.,  -2.,  -1.,   0.,   1.,\n",
       "         2.,   3.,   4.,   5.,   6.,   7.,   8.,   9.,  10.,  11.,  12.,\n",
       "        13.,  14.,  15.,  16.,  17.,  18.,  19.,  20.]), binnumber=array([20, 21, 21, ..., 21, 20, 19]))"
      ]
     },
     "execution_count": 155,
     "metadata": {},
     "output_type": "execute_result"
    }
   ],
   "source": [
    "bin_mean_input_x_grads"
   ]
  },
  {
   "cell_type": "code",
   "execution_count": 167,
   "metadata": {},
   "outputs": [
    {
     "name": "stderr",
     "output_type": "stream",
     "text": [
      "/Users/adiraju/opt/anaconda3/envs/deep_dss/lib/python3.8/site-packages/ipykernel/ipkernel.py:287: DeprecationWarning: `should_run_async` will not call `transform_cell` automatically in the future. Please pass the result to `transformed_cell` argument and any exception that happen during thetransform in `preprocessing_exc_tuple` in IPython 7.17 and above.\n",
      "  and should_run_async(code)\n",
      "<>:3: DeprecationWarning: invalid escape sequence \\k\n"
     ]
    },
    {
     "data": {
      "text/plain": [
       "Text(0.5, 1.0, 'Average squared scaled gradient by binned r.m.s. $\\\\kappa$')"
      ]
     },
     "execution_count": 167,
     "metadata": {},
     "output_type": "execute_result"
    },
    {
     "data": {
      "image/png": "[encoded data removed]",
      "text/plain": [
       "<Figure size 432x288 with 1 Axes>"
      ]
     },
     "metadata": {
      "needs_background": "light"
     },
     "output_type": "display_data"
    }
   ],
   "source": [
    "plt.plot(np.linspace(-20, 20, num=40), bin_ss_grads.statistic)\n",
    "# plt.xticks(np.arange(-20, 20))\n",
    "plt.xlabel(\"Binned r.m.s. convergence, $\\kappa$\")\n",
    "plt.ylabel(\"Average squared scaled gradient\")\n",
    "plt.title(\"Average squared scaled gradient by binned r.m.s. $\\kappa$\")"
   ]
  },
  {
   "cell_type": "code",
   "execution_count": 168,
   "metadata": {},
   "outputs": [
    {
     "name": "stderr",
     "output_type": "stream",
     "text": [
      "/Users/adiraju/opt/anaconda3/envs/deep_dss/lib/python3.8/site-packages/ipykernel/ipkernel.py:287: DeprecationWarning: `should_run_async` will not call `transform_cell` automatically in the future. Please pass the result to `transformed_cell` argument and any exception that happen during thetransform in `preprocessing_exc_tuple` in IPython 7.17 and above.\n",
      "  and should_run_async(code)\n",
      "<>:3: DeprecationWarning: invalid escape sequence \\k\n"
     ]
    },
    {
     "data": {
      "text/plain": [
       "Text(0.5, 1.0, 'Average squared scaled input x gradient by binned r.m.s. $\\\\kappa$')"
      ]
     },
     "execution_count": 168,
     "metadata": {},
     "output_type": "execute_result"
    },
    {
     "data": {
      "image/png": "[encoded data removed]",
      "text/plain": [
       "<Figure size 432x288 with 1 Axes>"
      ]
     },
     "metadata": {
      "needs_background": "light"
     },
     "output_type": "display_data"
    }
   ],
   "source": [
    "plt.plot(np.linspace(-20, 20, num=40), bin_ss_input_x_grads.statistic)\n",
    "# plt.xticks(np.arange(-20, 20))\n",
    "plt.xlabel(\"Binned r.m.s. convergence, $\\kappa$\")\n",
    "plt.ylabel(\"Average squared scaled input x gradient\")\n",
    "plt.title(\"Average squared scaled input x gradient by binned r.m.s. $\\kappa$\")"
   ]
  },
  {
   "cell_type": "code",
   "execution_count": 169,
   "metadata": {},
   "outputs": [
    {
     "name": "stderr",
     "output_type": "stream",
     "text": [
      "/Users/adiraju/opt/anaconda3/envs/deep_dss/lib/python3.8/site-packages/ipykernel/ipkernel.py:287: DeprecationWarning: `should_run_async` will not call `transform_cell` automatically in the future. Please pass the result to `transformed_cell` argument and any exception that happen during thetransform in `preprocessing_exc_tuple` in IPython 7.17 and above.\n",
      "  and should_run_async(code)\n",
      "<>:3: DeprecationWarning: invalid escape sequence \\k\n"
     ]
    },
    {
     "data": {
      "text/plain": [
       "Text(0.5, 1.0, 'Mean scaled gradient by binned r.m.s. $\\\\kappa$')"
      ]
     },
     "execution_count": 169,
     "metadata": {},
     "output_type": "execute_result"
    },
    {
     "data": {
      "image/png": "[encoded data removed]",
      "text/plain": [
       "<Figure size 432x288 with 1 Axes>"
      ]
     },
     "metadata": {
      "needs_background": "light"
     },
     "output_type": "display_data"
    }
   ],
   "source": [
    "plt.plot(np.linspace(-20, 20, num=40), bin_mean_grads.statistic)\n",
    "# plt.xticks(np.arange(-20, 20))\n",
    "plt.xlabel(\"Binned r.m.s. convergence, $\\kappa$\")\n",
    "plt.ylabel(\"Mean scaled gradient\")\n",
    "plt.title(\"Mean scaled gradient by binned r.m.s. $\\kappa$\")"
   ]
  },
  {
   "cell_type": "code",
   "execution_count": 170,
   "metadata": {},
   "outputs": [
    {
     "name": "stderr",
     "output_type": "stream",
     "text": [
      "/Users/adiraju/opt/anaconda3/envs/deep_dss/lib/python3.8/site-packages/ipykernel/ipkernel.py:287: DeprecationWarning: `should_run_async` will not call `transform_cell` automatically in the future. Please pass the result to `transformed_cell` argument and any exception that happen during thetransform in `preprocessing_exc_tuple` in IPython 7.17 and above.\n",
      "  and should_run_async(code)\n",
      "<>:3: DeprecationWarning: invalid escape sequence \\k\n"
     ]
    },
    {
     "data": {
      "text/plain": [
       "Text(0.5, 1.0, 'Mean scaled input x gradient by binned r.m.s. $\\\\kappa$')"
      ]
     },
     "execution_count": 170,
     "metadata": {},
     "output_type": "execute_result"
    },
    {
     "data": {
      "image/png": "[encoded data removed]",
      "text/plain": [
       "<Figure size 432x288 with 1 Axes>"
      ]
     },
     "metadata": {
      "needs_background": "light"
     },
     "output_type": "display_data"
    }
   ],
   "source": [
    "plt.plot(np.linspace(-20, 20, num=40), bin_mean_input_x_grads.statistic)\n",
    "# plt.xticks(np.arange(-20, 20))\n",
    "plt.xlabel(\"Binned r.m.s. convergence, $\\kappa$\")\n",
    "plt.ylabel(\"Mean scaled input x gradient\")\n",
    "plt.title(\"Mean scaled input x gradient by binned r.m.s. $\\kappa$\")"
   ]
  },
  {
   "cell_type": "code",
   "execution_count": 172,
   "metadata": {},
   "outputs": [
    {
     "name": "stderr",
     "output_type": "stream",
     "text": [
      "/Users/adiraju/opt/anaconda3/envs/deep_dss/lib/python3.8/site-packages/ipykernel/ipkernel.py:287: DeprecationWarning: `should_run_async` will not call `transform_cell` automatically in the future. Please pass the result to `transformed_cell` argument and any exception that happen during thetransform in `preprocessing_exc_tuple` in IPython 7.17 and above.\n",
      "  and should_run_async(code)\n"
     ]
    },
    {
     "data": {
      "text/plain": [
       "DescribeResult(nobs=262144, minmax=(array([-0.10119582]), array([0.31444355])), mean=array([0.0005825]), variance=array([0.00060209]), skewness=array([0.5554876]), kurtosis=array([1.77895625]))"
      ]
     },
     "execution_count": 172,
     "metadata": {},
     "output_type": "execute_result"
    }
   ],
   "source": [
    "stats.describe(ex_input_map)"
   ]
  },
  {
   "cell_type": "code",
   "execution_count": 173,
   "metadata": {},
   "outputs": [
    {
     "data": {
      "text/plain": [
       "0.0005825046129199853"
      ]
     },
     "execution_count": 173,
     "metadata": {},
     "output_type": "execute_result"
    }
   ],
   "source": [
    "np.mean(ex_input_map)"
   ]
  },
  {
   "cell_type": "code",
   "execution_count": 174,
   "metadata": {},
   "outputs": [
    {
     "data": {
      "text/plain": [
       "0.024537465267773083"
      ]
     },
     "execution_count": 174,
     "metadata": {},
     "output_type": "execute_result"
    }
   ],
   "source": [
    "np.std(ex_input_map)"
   ]
  },
  {
   "cell_type": "markdown",
   "metadata": {},
   "source": [
    "## Two-point correlation saliency scores: example"
   ]
  },
  {
   "cell_type": "code",
   "execution_count": 175,
   "metadata": {},
   "outputs": [
    {
     "data": {
      "text/plain": [
       "array([[-0.0016593 ],\n",
       "       [ 0.00078279],\n",
       "       [ 0.0094493 ],\n",
       "       ...,\n",
       "       [ 0.00570786],\n",
       "       [-0.0023891 ],\n",
       "       [-0.03619091]])"
      ]
     },
     "execution_count": 175,
     "metadata": {},
     "output_type": "execute_result"
    }
   ],
   "source": [
    "ex_input_map"
   ]
  },
  {
   "cell_type": "code",
   "execution_count": 176,
   "metadata": {},
   "outputs": [
    {
     "data": {
      "text/plain": [
       "array([[-0.0913625 ],\n",
       "       [ 0.00816235],\n",
       "       [ 0.36135749],\n",
       "       ...,\n",
       "       [ 0.20887882],\n",
       "       [-0.1211046 ],\n",
       "       [-1.49866376]])"
      ]
     },
     "execution_count": 176,
     "metadata": {},
     "output_type": "execute_result"
    }
   ],
   "source": [
    "ex_zscaled_input_map"
   ]
  },
  {
   "cell_type": "code",
   "execution_count": 180,
   "metadata": {},
   "outputs": [
    {
     "data": {
      "text/plain": [
       "array([[-0.17578638],\n",
       "       [-0.17673229],\n",
       "       [-0.17652449],\n",
       "       ...,\n",
       "       [-0.63741   ],\n",
       "       [-0.67477566],\n",
       "       [-0.665258  ]], dtype=float32)"
      ]
     },
     "execution_count": 180,
     "metadata": {},
     "output_type": "execute_result"
    }
   ],
   "source": [
    "ex_zscaled_grads_map"
   ]
  },
  {
   "cell_type": "code",
   "execution_count": 181,
   "metadata": {},
   "outputs": [
    {
     "data": {
      "text/plain": [
       "array([[0.11955785],\n",
       "       [0.11958438],\n",
       "       [0.119548  ],\n",
       "       ...,\n",
       "       [0.02434701],\n",
       "       [0.16269212],\n",
       "       [0.75999144]])"
      ]
     },
     "execution_count": 181,
     "metadata": {},
     "output_type": "execute_result"
    }
   ],
   "source": [
    "ex_zscaled_input_x_grads_map"
   ]
  },
  {
   "cell_type": "code",
   "execution_count": 182,
   "metadata": {},
   "outputs": [],
   "source": [
    "import treecorr"
   ]
  },
  {
   "cell_type": "code",
   "execution_count": 185,
   "metadata": {},
   "outputs": [],
   "source": [
    "pixel_dec = np.pi/2 - hp.pix2ang(nside, \n",
    "                                 np.arange(hp.nside2npix(nside)))[0]"
   ]
  },
  {
   "cell_type": "code",
   "execution_count": 186,
   "metadata": {},
   "outputs": [],
   "source": [
    "pixel_ra = hp.pix2ang(nside, np.arange(hp.nside2npix(nside)))[1]"
   ]
  },
  {
   "cell_type": "code",
   "execution_count": null,
   "metadata": {},
   "outputs": [],
   "source": []
  }
 ],
 "metadata": {
  "kernelspec": {
   "display_name": "Python 3",
   "language": "python",
   "name": "python3"
  },
  "language_info": {
   "codemirror_mode": {
    "name": "ipython",
    "version": 3
   },
   "file_extension": ".py",
   "mimetype": "text/x-python",
   "name": "python",
   "nbconvert_exporter": "python",
   "pygments_lexer": "ipython3",
   "version": "3.8.5"
  }
 },
 "nbformat": 4,
 "nbformat_minor": 4
}
