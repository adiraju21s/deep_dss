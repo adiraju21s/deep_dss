{
 "cells": [
  {
   "cell_type": "markdown",
   "metadata": {},
   "source": [
    "# Power Spectrum Analysis"
   ]
  },
  {
   "cell_type": "markdown",
   "metadata": {},
   "source": [
    "## Configuration"
   ]
  },
  {
   "cell_type": "code",
   "execution_count": 1,
   "metadata": {},
   "outputs": [],
   "source": [
    "%load_ext autoreload\n",
    "%autoreload 2"
   ]
  },
  {
   "cell_type": "code",
   "execution_count": 2,
   "metadata": {},
   "outputs": [],
   "source": [
    "import os\n",
    "import pickle\n",
    "import numpy as np\n",
    "import healpy as hp\n",
    "import matplotlib.pyplot as plt\n",
    "import matplotlib as mpl\n",
    "from deep_dss.helpers import *\n",
    "import pymaster as nmt\n",
    "import warnings\n",
    "\n",
    "warnings.filterwarnings(action='once')\n",
    "\n",
    "# Run on GPU.\n",
    "os.environ[\"CUDA_VISIBLE_DEVICES\"] = \"0\""
   ]
  },
  {
   "cell_type": "code",
   "execution_count": 192,
   "metadata": {},
   "outputs": [],
   "source": [
    "# Defaults\n",
    "plt.rcParams.update({\n",
    "'lines.color':'black',\n",
    "'font.family':'serif',\n",
    "'font.weight':'normal',\n",
    "'text.color':'black',\n",
    "'text.usetex': True,\n",
    "'axes.edgecolor':'black',\n",
    "'axes.linewidth':1.0,\n",
    "'axes.titlesize':'x-large',\n",
    "'axes.labelsize':'x-large',\n",
    "'axes.labelcolor':'black',\n",
    "'xtick.labelsize':'x-large',\n",
    "'xtick.minor.width':1.0,\n",
    "'xtick.major.width':1.0,\n",
    "'ytick.major.size':7,\n",
    "'ytick.minor.size':4,\n",
    "'ytick.major.pad':8,\n",
    "'ytick.minor.pad':8,\n",
    "'ytick.labelsize':'x-large',\n",
    "'ytick.minor.width':1.0,\n",
    "'ytick.major.width':1.0,\n",
    "'legend.numpoints':1,\n",
    "'legend.fontsize':'x-large',\n",
    "'legend.shadow':False,\n",
    "'legend.frameon':False})"
   ]
  },
  {
   "cell_type": "code",
   "execution_count": 32,
   "metadata": {},
   "outputs": [],
   "source": [
    "# Config variables\n",
    "config = \"ck\"\n",
    "zscale = True\n",
    "nside = 1024\n",
    "order = 2\n",
    "gaussian = False\n",
    "free_bias = False\n",
    "prior_low = 0.8\n",
    "prior_high = 3.0"
   ]
  },
  {
   "cell_type": "code",
   "execution_count": 33,
   "metadata": {},
   "outputs": [
    {
     "name": "stdout",
     "output_type": "stream",
     "text": [
      "Here?\n"
     ]
    },
    {
     "name": "stderr",
     "output_type": "stream",
     "text": [
      "/Users/adiraju/opt/anaconda3/envs/deep_dss/lib/python3.8/site-packages/healpy/fitsfunc.py:368: UserWarning: If you are not specifying the input dtype and using the default np.float64 dtype of read_map(), please consider that it will change in a future version to None as to keep the same dtype of the input file: please explicitly set the dtype if it is important to you.\n",
      "  warnings.warn(\n",
      "/Users/adiraju/opt/anaconda3/envs/deep_dss/lib/python3.8/site-packages/healpy/fitsfunc.py:391: UserWarning: NSIDE = 1024\n",
      "  warnings.warn(\"NSIDE = {0:d}\".format(nside))\n",
      "/Users/adiraju/opt/anaconda3/envs/deep_dss/lib/python3.8/site-packages/healpy/fitsfunc.py:400: UserWarning: ORDERING = NESTED in fits file\n",
      "  warnings.warn(\"ORDERING = {0:s} in fits file\".format(ordering))\n",
      "/Users/adiraju/opt/anaconda3/envs/deep_dss/lib/python3.8/site-packages/healpy/fitsfunc.py:428: UserWarning: INDXSCHM = IMPLICIT\n",
      "  warnings.warn(\"INDXSCHM = {0:s}\".format(schm))\n"
     ]
    }
   ],
   "source": [
    "# Using covariance Q1 data\n",
    "# data = split_count_and_lensing_maps_by_dataset(\"COVQ1\", config=config, covariance=True, zscale=zscale)\n",
    "data = split_count_and_lensing_maps_by_vals([201], config=config, covariance=True, zscale=zscale)"
   ]
  },
  {
   "cell_type": "code",
   "execution_count": 34,
   "metadata": {},
   "outputs": [
    {
     "name": "stderr",
     "output_type": "stream",
     "text": [
      "/Users/adiraju/opt/anaconda3/envs/deep_dss/lib/python3.8/site-packages/ipykernel/ipkernel.py:287: DeprecationWarning: `should_run_async` will not call `transform_cell` automatically in the future. Please pass the result to `transformed_cell` argument and any exception that happen during thetransform in `preprocessing_exc_tuple` in IPython 7.17 and above.\n",
      "  and should_run_async(code)\n"
     ]
    },
    {
     "data": {
      "text/plain": [
       "{'x': array([[[ 0.        ,  0.30429895],\n",
       "         [ 1.        , -0.65595962],\n",
       "         [ 0.        , -0.79615904],\n",
       "         ...,\n",
       "         [ 0.        , -1.49107177],\n",
       "         [ 0.        , -0.56381842],\n",
       "         [ 0.        , -0.61929955]],\n",
       " \n",
       "        [[ 0.        ,  0.11355799],\n",
       "         [ 0.        , -1.55102042],\n",
       "         [ 2.        ,  0.33895299],\n",
       "         ...,\n",
       "         [ 0.        , -0.44619274],\n",
       "         [ 0.        ,  1.50813034],\n",
       "         [ 0.        , -0.01360027]],\n",
       " \n",
       "        [[ 2.        , -0.22484896],\n",
       "         [ 0.        , -1.92205302],\n",
       "         [ 0.        , -0.127974  ],\n",
       "         ...,\n",
       "         [ 0.        ,  0.5292191 ],\n",
       "         [ 3.        ,  0.96369903],\n",
       "         [ 0.        ,  1.87358235]],\n",
       " \n",
       "        ...,\n",
       " \n",
       "        [[ 1.        , -0.96500346],\n",
       "         [ 0.        ,  0.13938627],\n",
       "         [ 0.        ,  0.03983091],\n",
       "         ...,\n",
       "         [ 0.        , -0.63907131],\n",
       "         [ 0.        ,  0.21478645],\n",
       "         [ 0.        ,  0.71340601]],\n",
       " \n",
       "        [[ 0.        ,  0.27350518],\n",
       "         [ 0.        ,  0.52754334],\n",
       "         [ 1.        , -0.9669579 ],\n",
       "         ...,\n",
       "         [ 1.        ,  1.04438159],\n",
       "         [ 0.        ,  0.59255884],\n",
       "         [ 1.        ,  1.11569436]],\n",
       " \n",
       "        [[ 0.        ,  0.92015209],\n",
       "         [ 1.        ,  1.61574312],\n",
       "         [ 1.        ,  1.24262557],\n",
       "         ...,\n",
       "         [ 1.        ,  0.45420634],\n",
       "         [ 2.        ,  0.21901148],\n",
       "         [ 1.        ,  0.49459456]]]),\n",
       " 'y': array([[201.  ,   1.54],\n",
       "        [201.  ,   1.54],\n",
       "        [201.  ,   1.54],\n",
       "        [201.  ,   1.54],\n",
       "        [201.  ,   1.54],\n",
       "        [201.  ,   1.54],\n",
       "        [201.  ,   1.54],\n",
       "        [201.  ,   1.54],\n",
       "        [201.  ,   1.54],\n",
       "        [201.  ,   1.54],\n",
       "        [201.  ,   1.54],\n",
       "        [201.  ,   1.54],\n",
       "        [201.  ,   1.54],\n",
       "        [201.  ,   1.54],\n",
       "        [201.  ,   1.54],\n",
       "        [201.  ,   1.54],\n",
       "        [201.  ,   1.54],\n",
       "        [201.  ,   1.54],\n",
       "        [201.  ,   1.54],\n",
       "        [201.  ,   1.54],\n",
       "        [201.  ,   1.54],\n",
       "        [201.  ,   1.54],\n",
       "        [201.  ,   1.54],\n",
       "        [201.  ,   1.54],\n",
       "        [201.  ,   1.54],\n",
       "        [201.  ,   1.54],\n",
       "        [201.  ,   1.54],\n",
       "        [201.  ,   1.54],\n",
       "        [201.  ,   1.54],\n",
       "        [201.  ,   1.54],\n",
       "        [201.  ,   1.54],\n",
       "        [201.  ,   1.54],\n",
       "        [201.  ,   1.54],\n",
       "        [201.  ,   1.54],\n",
       "        [201.  ,   1.54],\n",
       "        [201.  ,   1.54],\n",
       "        [201.  ,   1.54],\n",
       "        [201.  ,   1.54],\n",
       "        [201.  ,   1.54],\n",
       "        [201.  ,   1.54],\n",
       "        [201.  ,   1.54],\n",
       "        [201.  ,   1.54],\n",
       "        [201.  ,   1.54],\n",
       "        [201.  ,   1.54],\n",
       "        [201.  ,   1.54],\n",
       "        [201.  ,   1.54],\n",
       "        [201.  ,   1.54],\n",
       "        [201.  ,   1.54]])}"
      ]
     },
     "execution_count": 34,
     "metadata": {},
     "output_type": "execute_result"
    }
   ],
   "source": [
    "data"
   ]
  },
  {
   "cell_type": "code",
   "execution_count": 35,
   "metadata": {},
   "outputs": [
    {
     "data": {
      "text/plain": [
       "(48, 262144, 2)"
      ]
     },
     "execution_count": 35,
     "metadata": {},
     "output_type": "execute_result"
    }
   ],
   "source": [
    "data = data[\"x\"]\n",
    "data.shapem"
   ]
  },
  {
   "cell_type": "markdown",
   "metadata": {},
   "source": [
    "## Computing C_ells"
   ]
  },
  {
   "cell_type": "code",
   "execution_count": 142,
   "metadata": {},
   "outputs": [],
   "source": [
    "bias = 1.54\n",
    "density_arcmins = 0.04377 # Tracer density, galaxies/arcmin^2\n",
    "density_steradians = density_arcmins * 3600 * (180/np.pi)**2"
   ]
  },
  {
   "cell_type": "code",
   "execution_count": 143,
   "metadata": {},
   "outputs": [
    {
     "data": {
      "text/plain": [
       "517278.36218405055"
      ]
     },
     "execution_count": 143,
     "metadata": {},
     "output_type": "execute_result"
    }
   ],
   "source": [
    "density_steradians"
   ]
  },
  {
   "cell_type": "code",
   "execution_count": 124,
   "metadata": {},
   "outputs": [
    {
     "data": {
      "image/png": "[encoded data removed]",
      "text/plain": [
       "<Figure size 612x388.8 with 2 Axes>"
      ]
     },
     "metadata": {
      "needs_background": "light"
     },
     "output_type": "display_data"
    }
   ],
   "source": [
    "# Create mask for partial sky maps\n",
    "mask_map = np.zeros(hp.nside2npix(nside))\n",
    "mask_map[:(nside//order)**2] = 1\n",
    "mask_map = hp.reorder(mask_map, n2r=True)\n",
    "mask = nmt.mask_apodization(mask_map,\n",
    "                            1., apotype=\"Smooth\")\n",
    "hp.mollview(mask_map, title=\"C_ell mask map\")"
   ]
  },
  {
   "cell_type": "code",
   "execution_count": 141,
   "metadata": {},
   "outputs": [
    {
     "name": "stderr",
     "output_type": "stream",
     "text": [
      "/Users/adiraju/opt/anaconda3/envs/deep_dss/lib/python3.8/site-packages/ipykernel/ipkernel.py:287: DeprecationWarning: `should_run_async` will not call `transform_cell` automatically in the future. Please pass the result to `transformed_cell` argument and any exception that happen during thetransform in `preprocessing_exc_tuple` in IPython 7.17 and above.\n",
      "  and should_run_async(code)\n",
      "/Users/adiraju/opt/anaconda3/envs/deep_dss/lib/python3.8/site-packages/healpy/projaxes.py:920: MatplotlibDeprecationWarning: You are modifying the state of a globally registered colormap. In future versions, you will not be able to modify a registered colormap in-place. To remove this warning, you can make a copy of the colormap first. cmap = copy.copy(mpl.cm.get_cmap(\"viridis\"))\n",
      "  newcm.set_over(newcm(1.0))\n",
      "/Users/adiraju/opt/anaconda3/envs/deep_dss/lib/python3.8/site-packages/healpy/projaxes.py:202: MatplotlibDeprecationWarning: Passing parameters norm and vmin/vmax simultaneously is deprecated since 3.3 and will become an error two minor releases later. Please pass vmin/vmax directly to the norm when creating it.\n",
      "  aximg = self.imshow(\n"
     ]
    },
    {
     "data": {
      "image/png": "[encoded data removed]",
      "text/plain": [
       "<Figure size 612x388.8 with 2 Axes>"
      ]
     },
     "metadata": {
      "needs_background": "light"
     },
     "output_type": "display_data"
    }
   ],
   "source": [
    "# Create full-sky version of counts map\n",
    "\n",
    "count_map = np.zeros(hp.nside2npix(nside))\n",
    "count_map[:(nside//order)**2] = np.copy(data[0,:,0])\n",
    "count_map = hp.reorder(count_map, n2r=True)\n",
    "hp.mollview(count_map, title=\"Sample galaxy count map\")"
   ]
  },
  {
   "cell_type": "code",
   "execution_count": 125,
   "metadata": {},
   "outputs": [
    {
     "data": {
      "image/png": "[encoded data removed]",
      "text/plain": [
       "<Figure size 612x388.8 with 2 Axes>"
      ]
     },
     "metadata": {
      "needs_background": "light"
     },
     "output_type": "display_data"
    }
   ],
   "source": [
    "# Create full-sky version of lensing map\n",
    "lensing_map = np.zeros(hp.nside2npix(nside))\n",
    "lensing_map[:(nside//order)**2] = np.copy(data[0,:,1])\n",
    "lensing_map = hp.reorder(lensing_map, n2r=True)\n",
    "hp.mollview(lensing_map, title=\"Sample lensing map\")"
   ]
  },
  {
   "cell_type": "code",
   "execution_count": 156,
   "metadata": {},
   "outputs": [],
   "source": [
    "# Create Namaster fields from maps\n",
    "count_field = nmt.NmtField(mask, [count_map])\n",
    "lensing_field = nmt.NmtField(mask, [lensing_map])"
   ]
  },
  {
   "cell_type": "code",
   "execution_count": 190,
   "metadata": {},
   "outputs": [
    {
     "name": "stdout",
     "output_type": "stream",
     "text": [
      "[   5.5   13.5   21.5   29.5   37.5   45.5   53.5   61.5   69.5   77.5\n",
      "   85.5   93.5  101.5  109.5  117.5  125.5  133.5  141.5  149.5  157.5\n",
      "  165.5  173.5  181.5  189.5  197.5  205.5  213.5  221.5  229.5  237.5\n",
      "  245.5  253.5  261.5  269.5  277.5  285.5  293.5  301.5  309.5  317.5\n",
      "  325.5  333.5  341.5  349.5  357.5  365.5  373.5  381.5  389.5  397.5\n",
      "  405.5  413.5  421.5  429.5  437.5  445.5  453.5  461.5  469.5  477.5\n",
      "  485.5  493.5  501.5  509.5  517.5  525.5  533.5  541.5  549.5  557.5\n",
      "  565.5  573.5  581.5  589.5  597.5  605.5  613.5  621.5  629.5  637.5\n",
      "  645.5  653.5  661.5  669.5  677.5  685.5  693.5  701.5  709.5  717.5\n",
      "  725.5  733.5  741.5  749.5  757.5  765.5  773.5  781.5  789.5  797.5\n",
      "  805.5  813.5  821.5  829.5  837.5  845.5  853.5  861.5  869.5  877.5\n",
      "  885.5  893.5  901.5  909.5  917.5  925.5  933.5  941.5  949.5  957.5\n",
      "  965.5  973.5  981.5  989.5  997.5 1005.5 1013.5 1021.5 1029.5 1037.5\n",
      " 1045.5 1053.5 1061.5 1069.5 1077.5 1085.5 1093.5 1101.5 1109.5 1117.5\n",
      " 1125.5 1133.5 1141.5 1149.5 1157.5 1165.5 1173.5 1181.5 1189.5 1197.5\n",
      " 1205.5 1213.5 1221.5 1229.5 1237.5 1245.5 1253.5 1261.5 1269.5 1277.5\n",
      " 1285.5 1293.5 1301.5 1309.5 1317.5 1325.5 1333.5 1341.5 1349.5 1357.5\n",
      " 1365.5 1373.5 1381.5 1389.5 1397.5 1405.5 1413.5 1421.5 1429.5 1437.5\n",
      " 1445.5 1453.5 1461.5 1469.5 1477.5 1485.5 1493.5 1501.5 1509.5 1517.5\n",
      " 1525.5 1533.5 1541.5 1549.5 1557.5 1565.5 1573.5 1581.5 1589.5 1597.5\n",
      " 1605.5 1613.5 1621.5 1629.5 1637.5 1645.5 1653.5 1661.5 1669.5 1677.5\n",
      " 1685.5 1693.5 1701.5 1709.5 1717.5 1725.5 1733.5 1741.5 1749.5 1757.5\n",
      " 1765.5 1773.5 1781.5 1789.5 1797.5 1805.5 1813.5 1821.5 1829.5 1837.5\n",
      " 1845.5 1853.5 1861.5 1869.5 1877.5 1885.5 1893.5 1901.5 1909.5 1917.5\n",
      " 1925.5 1933.5 1941.5 1949.5 1957.5 1965.5 1973.5 1981.5 1989.5 1997.5\n",
      " 2005.5 2013.5 2021.5 2029.5 2037.5 2045.5 2053.5 2061.5 2069.5 2077.5\n",
      " 2085.5 2093.5 2101.5 2109.5 2117.5 2125.5 2133.5 2141.5 2149.5 2157.5\n",
      " 2165.5 2173.5 2181.5 2189.5 2197.5 2205.5 2213.5 2221.5 2229.5 2237.5\n",
      " 2245.5 2253.5 2261.5 2269.5 2277.5 2285.5 2293.5 2301.5 2309.5 2317.5\n",
      " 2325.5 2333.5 2341.5 2349.5 2357.5 2365.5 2373.5 2381.5 2389.5 2397.5\n",
      " 2405.5 2413.5 2421.5 2429.5 2437.5 2445.5 2453.5 2461.5 2469.5 2477.5\n",
      " 2485.5 2493.5 2501.5 2509.5 2517.5 2525.5 2533.5 2541.5 2549.5 2557.5\n",
      " 2565.5 2573.5 2581.5 2589.5 2597.5 2605.5 2613.5 2621.5 2629.5 2637.5\n",
      " 2645.5 2653.5 2661.5 2669.5 2677.5 2685.5 2693.5 2701.5 2709.5 2717.5\n",
      " 2725.5 2733.5 2741.5 2749.5 2757.5 2765.5 2773.5 2781.5 2789.5 2797.5\n",
      " 2805.5 2813.5 2821.5 2829.5 2837.5 2845.5 2853.5 2861.5 2869.5 2877.5\n",
      " 2885.5 2893.5 2901.5 2909.5 2917.5 2925.5 2933.5 2941.5 2949.5 2957.5\n",
      " 2965.5 2973.5 2981.5 2989.5 2997.5 3005.5 3013.5 3021.5 3029.5 3037.5\n",
      " 3045.5 3053.5 3061.5]\n"
     ]
    },
    {
     "name": "stderr",
     "output_type": "stream",
     "text": [
      "/Users/adiraju/opt/anaconda3/envs/deep_dss/lib/python3.8/site-packages/ipykernel/ipkernel.py:287: DeprecationWarning: `should_run_async` will not call `transform_cell` automatically in the future. Please pass the result to `transformed_cell` argument and any exception that happen during thetransform in `preprocessing_exc_tuple` in IPython 7.17 and above.\n",
      "  and should_run_async(code)\n"
     ]
    }
   ],
   "source": [
    "# Initialize binning scheme with four ells per bandpower\n",
    "binning = nmt.NmtBin.from_nside_linear(nside, 8)\n",
    "ell_arr = binning.get_effective_ells()\n",
    "print(ell_arr)"
   ]
  },
  {
   "cell_type": "code",
   "execution_count": 191,
   "metadata": {},
   "outputs": [],
   "source": [
    "# Compute MASTER estimator\n",
    "cl_gg = nmt.compute_full_master(count_field, count_field, binning)\n",
    "cl_gk = nmt.compute_full_master(count_field, lensing_field, binning)\n",
    "cl_kk = nmt.compute_full_master(lensing_field, lensing_field, binning)"
   ]
  },
  {
   "cell_type": "code",
   "execution_count": 158,
   "metadata": {},
   "outputs": [
    {
     "data": {
      "text/plain": [
       "array([[-3.89666735e+02,  7.69853457e+02, -1.13064412e+03,\n",
       "         1.46321951e+03, -1.75967535e+03,  2.01329907e+03,\n",
       "        -2.21878388e+03,  2.37238621e+03, -2.47201982e+03,\n",
       "         2.51728843e+03, -2.50945448e+03,  2.45134951e+03,\n",
       "        -2.34722586e+03,  2.20256110e+03, -2.02382227e+03,\n",
       "         1.81820091e+03, -1.59332961e+03,  1.35699310e+03,\n",
       "        -1.11684470e+03,  8.80140509e+02, -6.53500283e+02,\n",
       "         4.42705035e+02, -2.52537038e+02,  8.66681893e+01,\n",
       "         5.24017070e+01, -1.63355741e+02,  2.46022367e+02,\n",
       "        -3.01292931e+02,  3.31000849e+02, -3.37769110e+02,\n",
       "         3.24835053e+02, -2.95861031e+02,  2.54740676e+02,\n",
       "        -2.05409279e+02,  1.51667161e+02, -9.70228321e+01,\n",
       "         4.45623227e+01,  3.15131054e+00, -4.41452015e+01,\n",
       "         7.70700741e+01, -1.01200235e+02,  1.16402964e+02,\n",
       "        -1.23080645e+02,  1.22090909e+02, -1.14650147e+02,\n",
       "         1.02226946e+02, -8.64314245e+01,  6.89069188e+01,\n",
       "        -5.12292882e+01,  3.48190143e+01, -2.08695899e+01,\n",
       "         1.02951902e+01, -3.69887416e+00,  1.36176827e+00,\n",
       "        -3.25209395e+00,  9.05230142e+00, -1.82012369e+01,\n",
       "         2.99480618e+01, -4.34137513e+01,  5.76562496e+01,\n",
       "        -7.17350217e+01,  8.47714000e+01, -9.60012360e+01,\n",
       "         1.04817403e+02, -1.10799978e+02,  1.13733317e+02,\n",
       "        -1.13609471e+02,  1.10618777e+02, -1.05128614e+02,\n",
       "         9.76524629e+01, -8.88113782e+01,  7.92907597e+01,\n",
       "        -6.97949621e+01,  6.10027320e+01, -5.35258437e+01,\n",
       "         4.78733670e+01, -4.44232129e+01,  4.34024580e+01,\n",
       "        -4.48770203e+01,  4.87510562e+01, -5.47755667e+01,\n",
       "         6.25655306e+01, -7.16241310e+01,  8.13726250e+01,\n",
       "        -9.11838787e+01,  1.00417794e+02, -1.08456455e+02,\n",
       "         1.14737370e+02, -1.18782907e+02,  1.20224708e+02,\n",
       "        -1.18821820e+02,  1.14471960e+02, -1.07215418e+02,\n",
       "         9.72317859e+01, -8.48297034e+01,  7.04305037e+01,\n",
       "        -5.45465918e+01,  3.77558887e+01, -2.06735184e+01,\n",
       "         3.92234501e+00,  1.18963862e+01, -2.62307489e+01,\n",
       "         3.86030552e+01, -4.86307592e+01,  5.60425779e+01,\n",
       "        -6.06890441e+01,  6.25472531e+01, -6.17195478e+01,\n",
       "         5.84264521e+01, -5.29941497e+01,  4.58373084e+01,\n",
       "        -3.74379867e+01,  2.83218079e+01, -1.90324069e+01,\n",
       "         1.01055136e+01, -2.04375352e+00, -4.70650974e+00,\n",
       "         9.77536493e+00, -1.28855212e+01,  1.38638757e+01,\n",
       "        -1.26478229e+01,  9.28624761e+00, -3.93505981e+00,\n",
       "        -3.15228790e+00,  1.16388794e+01, -2.11221386e+01,\n",
       "         3.11545208e+01, -4.12658969e+01,  5.09865800e+01,\n",
       "        -5.98697138e+01,  6.75120016e+01, -7.35716572e+01,\n",
       "         7.77828054e+01, -7.99655907e+01,  8.00316812e+01,\n",
       "        -7.79849056e+01,  7.39172671e+01, -6.80005849e+01,\n",
       "         6.04745006e+01, -5.16315154e+01,  4.18001467e+01,\n",
       "        -3.13270961e+01,  2.05596130e+01, -9.82893340e+00,\n",
       "        -5.64175214e-01,  1.03611290e+01, -1.93538621e+01,\n",
       "         2.73895693e+01, -3.43716726e+01,  4.02573093e+01,\n",
       "        -4.50516337e+01,  4.87996310e+01, -5.15760913e+01,\n",
       "         5.34746961e+01, -5.45969671e+01,  5.50420478e+01,\n",
       "        -5.48979566e+01,  5.42350411e+01, -5.31019471e+01,\n",
       "         5.15244377e+01, -4.95069471e+01,  4.70367503e+01,\n",
       "        -4.40902096e+01,  4.06406022e+01, -3.66666994e+01,\n",
       "         3.21614059e+01, -2.71395666e+01,  2.16442926e+01,\n",
       "        -1.57510703e+01,  9.56930157e+00, -3.24087896e+00,\n",
       "        -3.06412898e+00,  9.15461846e+00, -1.48278916e+01,\n",
       "         1.98809089e+01, -2.41224948e+01,  2.73857447e+01,\n",
       "        -2.95396251e+01,  3.04990034e+01, -3.02322148e+01,\n",
       "         2.87656437e+01, -2.61847602e+01,  2.26315175e+01,\n",
       "        -1.82980497e+01,  1.34170764e+01, -8.24944323e+00,\n",
       "         3.06965300e+00,  1.84982390e+00, -6.25433676e+00,\n",
       "         9.92203474e+00, -1.26769361e+01,  1.43993105e+01,\n",
       "        -1.50325653e+01,  1.45862554e+01, -1.31348843e+01,\n",
       "         1.08126462e+01, -7.80433716e+00,  4.33311317e+00,\n",
       "        -6.45794909e-01, -3.00322015e+00,  6.36846888e+00,\n",
       "        -9.22917300e+00,  1.14032780e+01, -1.27587564e+01,\n",
       "         1.32215373e+01, -1.27794390e+01,  1.14819746e+01,\n",
       "        -9.43596459e+00,  6.79738019e+00, -3.75990637e+00,\n",
       "         5.41131754e-01,  2.63278159e+00, -5.54277849e+00,\n",
       "         7.99196220e+00, -9.81888372e+00,  1.09082642e+01,\n",
       "        -1.11983405e+01,  1.06844402e+01, -9.41848503e+00,\n",
       "         7.50458759e+00, -5.09099161e+00,  2.35904838e+00,\n",
       "         4.90063161e-01, -3.24981847e+00,  5.72309710e+00,\n",
       "        -7.73605596e+00,  9.15025664e+00, -9.87209287e+00,\n",
       "         9.85897929e+00, -9.12178817e+00,  7.72349346e+00,\n",
       "        -5.77405148e+00,  3.42201547e+00, -8.43410383e-01,\n",
       "        -1.77121291e+00,  4.23069506e+00, -6.35706007e+00,\n",
       "         7.99828560e+00, -9.03903816e+00,  9.40872268e+00,\n",
       "        -9.08619049e+00,  8.10087398e+00, -6.53020914e+00,\n",
       "         4.49365044e+00, -2.14363693e+00, -3.45718719e-01,\n",
       "         2.79147762e+00, -5.01522754e+00,  6.85605503e+00,\n",
       "        -8.18211724e+00,  8.90006821e+00, -8.96157923e+00,\n",
       "         8.36659066e+00, -7.16298209e+00,  5.44280262e+00,\n",
       "        -3.33525597e+00,  9.97075571e-01,  1.39909775e+00,\n",
       "        -3.67738492e+00,  5.67154919e+00, -7.23705673e+00,\n",
       "         8.26153507e+00, -8.67278228e+00,  8.44384768e+00,\n",
       "        -7.59473734e+00,  6.19073506e+00, -4.33737494e+00,\n",
       "         2.17255084e+00,  1.43744192e-01, -2.44119557e+00,\n",
       "         4.55168730e+00, -6.32155419e+00,  7.62277059e+00,\n",
       "        -8.36216417e+00,  8.48808640e+00, -7.99397521e+00,\n",
       "         6.91864768e+00, -5.34323423e+00,  3.38507628e+00,\n",
       "        -1.18896176e+00, -1.08356497e+00,  3.26611089e+00,\n",
       "        -5.19960321e+00,  6.74391219e+00, -7.78799525e+00,\n",
       "         8.25791411e+00, -8.12205834e+00,  7.39329476e+00,\n",
       "        -6.12780870e+00,  4.42082797e+00, -2.39945978e+00,\n",
       "         2.13273698e-01,  1.97677031e+00, -4.01013577e+00,\n",
       "         5.73848486e+00, -7.03646923e+00,  7.81084133e+00,\n",
       "        -8.00712881e+00,  7.61348853e+00, -6.66138113e+00,\n",
       "         5.22311177e+00, -3.40634319e+00,  1.34608588e+00,\n",
       "         8.05331320e-01, -2.88947580e+00,  4.75347385e+00,\n",
       "        -6.26117925e+00,  7.30312084e+00, -7.80440823e+00,\n",
       "         7.73012042e+00, -7.08770059e+00,  5.92627880e+00,\n",
       "        -4.33289777e+00,  2.42601557e+00, -3.46684715e-01,\n",
       "        -1.75185302e+00,  3.71547404e+00, -5.40045967e+00,\n",
       "         6.68402543e+00, -7.47323758e+00,  7.71175417e+00,\n",
       "        -7.38381297e+00,  6.51527819e+00, -5.17158280e+00,\n",
       "         3.45281974e+00, -1.48626855e+00, -5.83009930e-01,\n",
       "         2.60289443e+00, -4.42536407e+00,  5.91736412e+00,\n",
       "        -6.97049931e+00,  7.50892840e+00, -7.49480462e+00,\n",
       "         6.93095207e+00, -5.86051171e+00,  4.36367116e+00,\n",
       "        -2.55164512e+00,  5.58440674e-01,  1.46906604e+00,\n",
       "        -3.38192595e+00,  5.04007149e+00, -6.32254677e+00,\n",
       "         7.13634592e+00, -7.42313128e+00,  7.16343132e+00,\n",
       "        -6.37793156e+00,  5.12586008e+00, -3.50050523e+00,\n",
       "         1.62229195e+00,  3.70159020e-01, -2.33023340e+00,\n",
       "         4.11412606e+00, -5.59136449e+00,  6.65436583e+00,\n",
       "        -7.22624610e+00,  7.26639531e+00, -6.77333253e+00,\n",
       "         5.78472527e+00, -4.37449500e+00,  2.64731003e+00,\n",
       "        -7.30797996e-01, -1.23386149e+00,  3.10235635e+00,\n",
       "        -4.73782040e+00,  6.02087637e+00, -6.85832524e+00,\n",
       "         7.18993428e+00, -6.99274580e+00,  6.28268190e+00,\n",
       "        -5.11324718e+00,  3.57152078e+00, -1.77165528e+00,\n",
       "        -1.53552660e-01,  2.06247671e+00, -3.81505847e+00,\n",
       "         5.28310078e+00, -6.35962316e+00,  6.96667542e+00,\n",
       "        -7.06095979e+00,  6.63693675e+00, -5.72710835e+00,\n",
       "         4.39955284e+00, -2.75281455e+00,  9.08610618e-01,\n",
       "         9.97181186e-01, -2.82451440e+00,  4.43948016e+00,\n",
       "        -5.72409919e+00,  6.58495812e+00, -6.95998124e+00,\n",
       "         6.82292400e+00, -6.18518663e+00,  5.09489996e+00,\n",
       "        -3.63327793e+00,  1.90859227e+00, -4.81357330e-02,\n",
       "        -1.81115031e+00,  3.53277073e+00, -4.99067473e+00,\n",
       "         6.07850041e+00, -6.71731261e+00,  6.86134617e+00,\n",
       "        -6.50126200e+00,  5.66476152e+00, -4.41443897e+00,\n",
       "         2.84312126e+00, -1.06695950e+00, -7.83134271e-01,\n",
       "         2.57115343e+00, -4.16597280e+00,  5.45097938e+00,\n",
       "        -6.33257648e+00,  6.74701897e+00, -6.66499747e+00,\n",
       "         6.09372511e+00, -5.07629972e+00,  3.68847336e+00,\n",
       "        -2.03299249e+00,  2.32011395e-01,  1.58194049e+00,\n",
       "        -3.27569076e+00,  4.72522080e+00, -5.82472505e+00,\n",
       "         6.49435207e+00, -6.68598445e+00,  6.38671210e+00,\n",
       "        -5.61967412e+00,  4.44229393e+00, -2.94196242e+00,\n",
       "         1.22957063e+00,  5.68707070e-01, -2.32068908e+00,\n",
       "         3.89792357e+00, -5.18508768e+00,  6.08843909e+00,\n",
       "        -6.54262491e+00,  6.51542999e+00, -6.01004234e+00,\n",
       "         5.06474903e+00, -3.75002334e+00,  2.16329286e+00,\n",
       "        -4.21703964e-01, -1.34650580e+00,  3.01146830e+00,\n",
       "        -4.45120265e+00,  5.56056937e+00, -6.25892748e+00,\n",
       "         6.49601370e+00, -6.25553974e+00,  5.55632476e+00,\n",
       "        -4.45080775e+00,  3.02113713e+00, -1.37304558e+00,\n",
       "        -3.71950197e-01,  2.08552677e+00, -3.64197470e+00,\n",
       "         4.92743756e+00, -5.84822482e+00,  6.33765882e+00,\n",
       "        -6.36088466e+00,  5.91736925e+00, -5.04083531e+00,\n",
       "         3.79672008e+00, -2.27727042e+00,  5.94722329e-01,\n",
       "         1.12700900e+00, -2.76144016e+00,  4.18883240e+00,\n",
       "        -5.30494600e+00,  6.02867730e+00, -6.30793441e+00,\n",
       "         6.12340779e+00, -5.48988374e+00,  4.45509016e+00,\n",
       "        -3.09608602e+00,  1.51354340e+00,  1.75728074e-01,\n",
       "        -1.84738374e+00,  3.37871723e+00, -4.65765104e+00,\n",
       "         5.59095964e+00, -6.11104822e+00,  6.18086821e+00,\n",
       "        -5.79653649e+00,  4.98754904e+00, -3.81450236e+00,\n",
       "         2.36457390e+00, -7.45023400e-01, -9.24726682e-01,\n",
       "         2.52191966e+00, -3.92947662e+00,  5.04460299e+00,\n",
       "        -5.78628272e+00,  6.10118753e+00, -5.96749655e+00,\n",
       "         5.39642303e+00, -4.43127349e+00,  3.14418392e+00,\n",
       "        -1.63070898e+00,  2.74301043e-03,  1.61977839e+00,\n",
       "        -3.11770556e+00,  4.38145197e+00, -5.31900464e+00,\n",
       "         5.86265269e+00, -5.97386774e+00,  5.64605820e+00,\n",
       "        -4.90492700e+00,  3.80648684e+00, -2.43281332e+00,\n",
       "         8.85931490e-01,  7.19785548e-01, -2.26606300e+00,\n",
       "         3.63946426e+00, -4.73970760e+00,  5.48701864e+00,\n",
       "        -5.82790838e+00,  5.73902853e+00, -5.22875369e+00,\n",
       "         4.33645423e+00, -3.12945119e+00,  1.69795491e+00,\n",
       "        -1.48299861e-01, -1.40494490e+00,  2.84747915e+00,\n",
       "        -4.07368098e+00,  4.99437640e+00, -5.54332393e+00,\n",
       "         5.68201340e+00, -5.40235667e+00,  4.72715604e+00,\n",
       "        -3.70824718e+00,  2.42254325e+00, -9.66207222e-01,\n",
       "        -5.52535664e-01,  2.02147729e+00, -3.33272347e+00,\n",
       "         4.39066255e+00, -5.11894556e+00,  5.46603922e+00,\n",
       "        -5.40886983e+00,  4.95437642e+00, -4.13878919e+00,\n",
       "         3.02478009e+00, -1.69662961e+00,  2.53858776e-01,\n",
       "         1.19626611e+00, -2.54671789e+00,  3.69865645e+00,\n",
       "        -4.56867959e+00,  5.09491006e+00, -5.24139961e+00,\n",
       "         5.00061027e+00, -4.39372401e+00,  3.46885092e+00,\n",
       "        -2.29720707e+00,  9.67643298e-01,  4.20131921e-01,\n",
       "        -1.76304142e+00,  2.96235011e+00, -3.93094150e+00,\n",
       "         4.59969807e+00, -4.92243427e+00,  4.87910992e+00,\n",
       "        -4.47701944e+00,  3.74996293e+00, -2.75541298e+00,\n",
       "         1.56998105e+00, -2.83470921e-01, -1.00794418e+00,\n",
       "         2.20897103e+00, -3.23225197e+00,  4.00476835e+00,\n",
       "        -4.47305097e+00,  4.60689250e+00, -4.40123374e+00,\n",
       "         3.87618270e+00, -3.07511970e+00,  2.06113181e+00,\n",
       "        -9.12004353e-01, -2.85760431e-01,  1.44350727e+00,\n",
       "        -2.47699932e+00,  3.31257677e+00, -3.89237884e+00,\n",
       "         4.17833444e+00, -4.15457417e+00,  3.82819594e+00,\n",
       "        -3.22828425e+00,  2.40337182e+00, -1.41749348e+00,\n",
       "         3.45227674e-01,  7.33962106e-01, -1.74157860e+00,\n",
       "         2.60578182e+00, -3.26643505e+00,  3.67923381e+00,\n",
       "        -3.81856823e+00,  3.67902073e+00, -3.27535147e+00,\n",
       "         2.64108310e+00, -1.82574321e+00,  8.91064255e-01,\n",
       "         9.36460081e-02, -1.05654877e+00,  1.92844861e+00,\n",
       "        -2.64766319e+00,  3.16432961e+00, -3.44378489e+00,\n",
       "         3.46887191e+00, -3.24094888e+00,  2.77962301e+00,\n",
       "        -2.12115701e+00,  1.31574704e+00, -4.23791153e-01,\n",
       "        -4.88509377e-01,  1.35398216e+00, -2.10933129e+00,\n",
       "         2.69973280e+00, -3.08277279e+00,  3.23152370e+00,\n",
       "        -3.13646204e+00,  2.80615895e+00, -2.26661781e+00,\n",
       "         1.55937259e+00, -7.38402852e-01, -1.33839275e-01,\n",
       "         9.91086233e-01, -1.76818212e+00,  2.40599773e+00,\n",
       "        -2.85589868e+00,  3.08349986e+00, -3.07134686e+00,\n",
       "         2.82038624e+00, -2.35001760e+00,  1.69677549e+00,\n",
       "        -9.11645864e-01,  5.62670712e-02,  8.01787907e-01,\n",
       "        -1.59422908e+00,  2.25744916e+00, -2.73761113e+00,\n",
       "         2.99509398e+00, -3.00784935e+00,  2.77345447e+00,\n",
       "        -2.30958526e+00,  1.65290341e+00, -8.56335677e-01,\n",
       "        -1.50045730e-02,  8.89023034e-01, -1.69250451e+00,\n",
       "         2.35722391e+00, -2.82573357e+00,  3.05639766e+00,\n",
       "        -3.02715535e+00,  2.73773234e+00, -2.21000407e+00,\n",
       "         1.48650447e+00, -6.27098138e-01, -2.95862432e-01,\n",
       "         1.20358324e+00, -2.01749887e+00,  2.66607158e+00,\n",
       "        -3.09105623e+00,  3.25274460e+00, -3.13364331e+00,\n",
       "         2.74031227e+00, -2.10309875e+00,  1.27383674e+00,\n",
       "        -3.21615529e-01, -6.72966931e-01,  1.62465295e+00,\n",
       "        -2.45081666e+00,  3.07863890e+00, -3.45146811e+00,\n",
       "         3.53388112e+00, -3.31491966e+00,  2.80928464e+00,\n",
       "        -2.05629779e+00,  1.11678013e+00, -6.80324458e-02,\n",
       "        -1.00258664e+00,  2.00501459e+00, -2.85407305e+00,\n",
       "         3.47671892e+00, -3.81826642e+00,  3.84712610e+00,\n",
       "        -3.55758204e+00,  2.97044324e+00, -2.13143762e+00,\n",
       "         1.10755431e+00,  1.84387571e-02, -1.15477145e+00,\n",
       "         2.20825194e+00, -3.09195422e+00,  3.73243932e+00,\n",
       "        -4.07584697e+00,  4.09241683e+00, -3.77899639e+00,\n",
       "         3.15939417e+00, -2.28247512e+00,  1.21822211e+00,\n",
       "        -5.20145650e-02, -1.12233339e+00,  2.21027190e+00,\n",
       "        -3.12424815e+00,  3.79090080e+00, -4.15704415e+00,\n",
       "         4.19401863e+00, -3.89996880e+00,  3.29993057e+00,\n",
       "        -2.44364972e+00,  1.40138571e+00, -2.57983608e-01,\n",
       "        -8.94206935e-01,  1.96303716e+00, -2.86416049e+00,\n",
       "         3.52795414e+00, -3.90510111e+00,  3.97043578e+00,\n",
       "        -3.72466250e+00,  3.19389136e+00, -2.42698295e+00,\n",
       "         1.49102740e+00, -4.65308840e-01, -5.65623989e-01,\n",
       "         1.51922890e+00, -2.32186340e+00,  2.91476801e+00,\n",
       "        -3.25855746e+00,  3.33592294e+00, -3.15228221e+00,\n",
       "         2.73444088e+00, -2.12738009e+00,  1.38958826e+00,\n",
       "        -5.87348408e-01, -2.11389263e-01,  9.43032621e-01,\n",
       "        -1.55364408e+00,  2.00311322e+00, -2.26779133e+00,\n",
       "         2.34148121e+00, -2.23470199e+00,  1.97246660e+00,\n",
       "        -1.59080468e+00,  1.13252340e+00, -6.42611643e-01,\n",
       "         1.63847428e-01,  2.67019642e-01, -6.22089517e-01,\n",
       "         8.83983560e-01, -1.04621949e+00,  1.11242927e+00,\n",
       "        -1.09455299e+00,  1.01038512e+00, -8.80760042e-01,\n",
       "         7.26821028e-01, -5.67629129e-01,  4.18437016e-01,\n",
       "        -2.89695987e-01,  1.86887042e-01, -1.11013280e-01,\n",
       "         5.96391703e-02, -2.81624411e-02,  1.11366194e-02,\n",
       "        -3.35099538e-03,  5.96435616e-04]])"
      ]
     },
     "execution_count": 158,
     "metadata": {},
     "output_type": "execute_result"
    }
   ],
   "source": [
    "cl_gg"
   ]
  },
  {
   "cell_type": "code",
   "execution_count": 159,
   "metadata": {},
   "outputs": [
    {
     "data": {
      "text/plain": [
       "array([[-6.11749521e+01,  1.20076016e+02, -1.74494728e+02,\n",
       "         2.22434257e+02, -2.62180261e+02,  2.92371376e+02,\n",
       "        -3.12053284e+02,  3.20718885e+02, -3.18319954e+02,\n",
       "         3.05261566e+02, -2.82374893e+02,  2.50870405e+02,\n",
       "        -2.12273653e+02,  1.68349168e+02, -1.21013994e+02,\n",
       "         7.22468437e+01, -2.39965695e+01, -2.19044311e+01,\n",
       "         6.38192847e+01, -1.00372504e+02,  1.30501455e+02,\n",
       "        -1.53489695e+02,  1.68982492e+02, -1.76982775e+02,\n",
       "         1.77829753e+02, -1.72160853e+02,  1.60860484e+02,\n",
       "        -1.44998052e+02,  1.25759659e+02, -1.04376867e+02,\n",
       "         8.20571500e+01, -5.99193775e+01,  3.89382248e+01,\n",
       "        -1.98997525e+01,  3.37099723e+00,  1.03159389e+01,\n",
       "        -2.10643493e+01,  2.89990113e+01, -3.44388459e+01,\n",
       "         3.78587270e+01, -3.98429383e+01,  4.10337644e+01,\n",
       "        -4.20782992e+01,  4.35773574e+01, -4.60392790e+01,\n",
       "         4.98419333e+01, -5.52048060e+01,  6.21730892e+01,\n",
       "        -7.06142868e+01,  8.02275884e+01, -9.05648959e+01,\n",
       "         1.01062185e+02, -1.11078769e+02,  1.19941952e+02,\n",
       "        -1.26993857e+02,  1.31637535e+02, -1.33379089e+02,\n",
       "         1.31863335e+02, -1.26900447e+02,  1.18482156e+02,\n",
       "        -1.06786288e+02,  9.21696455e+01, -7.51495644e+01,\n",
       "         5.63755928e+01, -3.65929930e+01,  1.66006886e+01,\n",
       "         2.79391576e+00, -2.08200686e+01,  3.67861728e+01,\n",
       "        -5.01168076e+01,  6.03822579e+01, -6.73186099e+01,\n",
       "         7.08375995e+01, -7.10256154e+01,  6.81323614e+01,\n",
       "        -6.25500162e+01,  5.47846777e+01, -4.54219676e+01,\n",
       "         3.50893699e+01, -2.44177327e+01,  1.40045963e+01,\n",
       "        -4.38154999e+00, -4.01222453e+00,  1.08488268e+01,\n",
       "        -1.59218657e+01,  1.91478581e+01, -2.05589300e+01,\n",
       "         2.02879346e+01, -1.85472702e+01,  1.56033778e+01,\n",
       "        -1.17489190e+01,  7.27501929e+00, -2.44561507e+00,\n",
       "        -2.52398429e+00,  7.48283920e+00, -1.23531378e+01,\n",
       "         1.71314906e+01, -2.18826549e+01,  2.67263822e+01,\n",
       "        -3.18183840e+01,  3.73271349e+01, -4.34083067e+01,\n",
       "         5.01790887e+01, -5.76944487e+01,  6.59274665e+01,\n",
       "        -7.47554321e+01,  8.39531971e+01, -9.31945184e+01,\n",
       "         1.02061809e+02, -1.10063879e+02,  1.16660868e+02,\n",
       "        -1.21294789e+02,  1.23423983e+02, -1.22559111e+02,\n",
       "         1.18298454e+02, -1.10360021e+02,  9.86083682e+01,\n",
       "        -8.30740724e+01,  6.39644657e+01, -4.16645644e+01,\n",
       "         1.67279568e+01,  1.01422107e+01, -3.81211452e+01,\n",
       "         6.62978706e+01, -9.37162407e+01,  1.19419306e+02,\n",
       "        -1.42494492e+02,  1.62117111e+02, -1.77589727e+02,\n",
       "         1.88375254e+02, -1.94121928e+02,  1.94678879e+02,\n",
       "        -1.90101526e+02,  1.80646647e+02, -1.66757525e+02,\n",
       "         1.49040198e+02, -1.28232207e+02,  1.05165776e+02,\n",
       "        -8.07274294e+01,  5.58163984e+01, -3.13039408e+01,\n",
       "         7.99577867e+00,  1.34006009e+01, -3.23021975e+01,\n",
       "         4.82693206e+01, -6.10162998e+01,  7.04140271e+01,\n",
       "        -7.64845997e+01,  7.93888913e+01, -7.94080831e+01,\n",
       "         7.69205851e+01, -7.23758385e+01,  6.62666559e+01,\n",
       "        -5.91016004e+01,  5.13789488e+01, -4.35634195e+01,\n",
       "         3.60667314e+01, -2.92326377e+01,  2.33269029e+01,\n",
       "        -1.85322424e+01,  1.49480831e+01, -1.25946421e+01,\n",
       "         1.14207200e+01, -1.13143684e+01,  1.21156109e+01,\n",
       "        -1.36302650e+01,  1.56440650e+01, -1.79362494e+01,\n",
       "         2.02920134e+01, -2.25132322e+01,  2.44271821e+01,\n",
       "        -2.58929742e+01,  2.68057222e+01, -2.70984410e+01,\n",
       "         2.67419344e+01, -2.57428675e+01,  2.41403949e+01,\n",
       "        -2.20016288e+01,  1.94163406e+01, -1.64911668e+01,\n",
       "         1.33436706e+01, -1.00964416e+01,  6.87150045e+00,\n",
       "        -3.78512771e+00,  9.43294780e-01,  1.56227523e+00,\n",
       "        -3.65728238e+00,  5.28727068e+00, -6.41919767e+00,\n",
       "         7.04219170e+00, -7.16743242e+00,  6.82720400e+00,\n",
       "        -6.07309471e+00,  4.97343917e+00, -3.61002445e+00,\n",
       "         2.07420242e+00, -4.62511313e-01, -1.12797670e+00,\n",
       "         2.60443418e+00, -3.88289900e+00,  4.89255490e+00,\n",
       "        -5.57938239e+00,  5.90901143e+00, -5.86852952e+00,\n",
       "         5.46715996e+00, -4.73567025e+00,  3.72455345e+00,\n",
       "        -2.50100502e+00,  1.14488060e+00,  2.56194176e-01,\n",
       "        -1.61222710e+00,  2.83651105e+00, -3.85110988e+00,\n",
       "         4.59187622e+00, -5.01262421e+00,  5.08819836e+00,\n",
       "        -4.81618448e+00,  4.21716438e+00, -3.33342241e+00,\n",
       "         2.22621590e+00, -9.71731660e-01, -3.43981646e-01,\n",
       "         1.63080832e+00, -2.80066275e+00,  3.77351769e+00,\n",
       "        -4.48289520e+00,  4.88048670e+00, -4.93952594e+00,\n",
       "         4.65670807e+00, -4.05247021e+00,  3.16964462e+00,\n",
       "        -2.07051317e+00,  8.32511174e-01,  4.57177860e-01,\n",
       "        -1.70771102e+00,  2.83097670e+00, -3.74779931e+00,\n",
       "         4.39355876e+00, -4.72276998e+00,  4.71234463e+00,\n",
       "        -4.36325681e+00,  3.70051864e+00, -2.77142603e+00,\n",
       "         1.64223263e+00, -3.93445464e-01, -8.85884206e-01,\n",
       "         2.10451095e+00, -3.17549337e+00,  4.02241230e+00,\n",
       "        -4.58482538e+00,  4.82260060e+00, -4.71877967e+00,\n",
       "         4.28080044e+00, -3.53995241e+00,  2.54913644e+00,\n",
       "        -1.37905257e+00,  1.13127255e-01,  1.15848557e+00,\n",
       "        -2.34537284e+00,  3.36336104e+00, -4.14054343e+00,\n",
       "         4.62243693e+00, -4.77585892e+00,  4.59128018e+00,\n",
       "        -4.08345052e+00,  3.29029367e+00, -2.27010627e+00,\n",
       "         1.09731122e+00,  1.42964073e-01, -1.36105378e+00,\n",
       "         2.46925623e+00, -3.38815692e+00,  4.05235752e+00,\n",
       "        -4.41515396e+00,  4.45186741e+00, -4.16155037e+00,\n",
       "         3.56698376e+00, -2.71293573e+00,  1.66284563e+00,\n",
       "        -4.94141808e-01, -7.07427104e-01,  1.85406448e+00,\n",
       "        -2.86231167e+00,  3.65911605e+00, -4.18710789e+00,\n",
       "         4.40873144e+00, -4.30890512e+00,  3.89605517e+00,\n",
       "        -3.20141093e+00,  2.27665847e+00, -1.19009266e+00,\n",
       "         2.15869088e-02,  1.14328536e+00, -2.21951087e+00,\n",
       "         3.12884902e+00, -3.80551722e+00,  4.20096470e+00,\n",
       "        -4.28735341e+00,  4.05953504e+00, -3.53534397e+00,\n",
       "         2.75422725e+00, -1.77428267e+00,  6.67957656e-01,\n",
       "         4.83303981e-01, -1.59504037e+00,  2.58596846e+00,\n",
       "        -3.38391330e+00,  3.93106978e+00, -4.18817656e+00,\n",
       "         4.13734122e+00, -3.78327494e+00,  3.15288366e+00,\n",
       "        -2.29322191e+00,  1.26799155e+00, -1.52819291e-01,\n",
       "        -9.70310401e-01,  2.01908814e+00, -2.91690219e+00,\n",
       "         3.59843980e+00, -4.01442851e+00,  4.13520536e+00,\n",
       "        -3.95282180e+00,  3.48156807e+00, -2.75685154e+00,\n",
       "         1.83254638e+00, -7.76982623e-01, -3.32095173e-01,\n",
       "         1.41326201e+00, -2.38738323e+00,  3.18341417e+00,\n",
       "        -3.74357493e+00,  4.02755342e+00, -4.01540221e+00,\n",
       "         3.70894432e+00, -3.13157122e+00,  2.32646770e+00,\n",
       "        -1.35338368e+00,  2.84208717e-01,  8.02338302e-01,\n",
       "        -1.82649573e+00,  2.71331776e+00, -3.39814871e+00,\n",
       "         3.83134159e+00, -3.98184803e+00,  3.83944934e+00,\n",
       "        -3.41543807e+00,  2.74173573e+00, -1.86848545e+00,\n",
       "         8.60330840e-01,  2.08376059e-01, -1.25904721e+00,\n",
       "         2.21464205e+00, -3.00530717e+00,  3.57348693e+00,\n",
       "        -3.87810528e+00,  3.89753911e+00, -3.63114450e+00,\n",
       "         3.09925217e+00, -2.34161227e+00,  1.41443053e+00,\n",
       "        -3.86193338e-01, -6.67381645e-01,  1.66892844e+00,\n",
       "        -2.54510596e+00,  3.23197401e+00, -3.67965210e+00,\n",
       "         3.85594787e+00, -3.74866402e+00,  3.36644486e+00,\n",
       "        -2.73808185e+00,  1.91035313e+00, -9.44535845e-01,\n",
       "        -8.81217065e-02,  1.11165946e+00, -2.05098746e+00,\n",
       "         2.83739751e+00, -3.41358338e+00,  3.73782052e+00,\n",
       "        -3.78698094e+00,  3.55818851e+00, -3.06897022e+00,\n",
       "         2.35592164e+00, -1.47196585e+00,  4.82432768e-01,\n",
       "         5.39772446e-01, -1.51953506e+00,  2.38505384e+00,\n",
       "        -3.07309711e+00,  3.53362717e+00, -3.73343226e+00,\n",
       "         3.65852781e+00, -3.31512648e+00,  2.72913727e+00,\n",
       "        -1.94420845e+00,  1.01848435e+00, -2.02952281e-02,\n",
       "        -9.76879225e-01,  1.89982275e+00, -2.68095135e+00,\n",
       "         3.26326506e+00, -3.60450204e+00,  3.68020793e+00,\n",
       "        -3.48548373e+00,  3.03530191e+00, -2.36335354e+00,\n",
       "         1.51953467e+00, -5.66235848e-01, -4.26261484e-01,\n",
       "         1.38497044e+00, -2.23955888e+00,  2.92751271e+00,\n",
       "        -3.39870172e+00,  3.61903544e+00, -3.57292507e+00,\n",
       "         3.26438791e+00, -2.71669983e+00,  1.97064809e+00,\n",
       "        -1.08148978e+00,  1.14863778e-01,  8.58057737e-01,\n",
       "        -1.76580549e+00,  2.54186571e+00, -3.12954751e+00,\n",
       "         3.48613060e+00, -3.58596473e+00,  3.42231976e+00,\n",
       "        -3.00783086e+00,  2.37353097e+00, -1.56652427e+00,\n",
       "         6.46493133e-01,  3.18717909e-01, -1.25809976e+00,\n",
       "         2.10270754e+00, -2.79071661e+00,  3.27195302e+00,\n",
       "        -3.51154857e+00,  3.49247382e+00, -3.21674424e+00,\n",
       "         2.70523409e+00, -1.99609560e+00,  1.14192196e+00,\n",
       "        -2.05846658e-01, -7.43118319e-01,  1.63517044e+00,\n",
       "        -2.40484360e+00,  2.99581722e+00, -3.36503385e+00,\n",
       "         3.48583783e+00, -3.34989796e+00,  2.96778480e+00,\n",
       "        -2.36814827e+00,  1.59557824e+00, -7.07286662e-01,\n",
       "        -2.31123330e-01,  1.15050242e+00, -1.98324619e+00,\n",
       "         2.66827041e+00, -3.15548700e+00,  3.40947061e+00,\n",
       "        -3.41203278e+00,  3.16353061e+00, -2.68279858e+00,\n",
       "         2.00573191e+00, -1.18260425e+00,  2.74344411e-01,\n",
       "         6.51975717e-01, -1.52808836e+00,  2.28956264e+00,\n",
       "        -2.88054133e+00,  3.25784351e+00, -3.39411971e+00,\n",
       "         3.27984158e+00, -2.92396851e+00,  2.35325908e+00,\n",
       "        -1.61026365e+00,  7.50163501e-01,  1.63324269e-01,\n",
       "        -1.06265746e+00,  1.88146203e+00, -2.55942312e+00,\n",
       "         3.04673115e+00, -3.30773892e+00,  3.32357687e+00,\n",
       "        -3.09351799e+00,  2.63501032e+00, -1.98235841e+00,\n",
       "         1.18416912e+00, -2.99737140e-01, -6.05348197e-01,\n",
       "         1.46406401e+00, -2.21290990e+00,  2.79660557e+00,\n",
       "        -3.17217004e+00,  3.31209285e+00, -3.20635438e+00,\n",
       "         2.86315540e+00, -2.30828911e+00,  1.58322028e+00,\n",
       "        -7.41996191e-01, -1.52766330e-01,  1.03453512e+00,\n",
       "        -1.83779836e+00,  2.50293249e+00, -2.98062396e+00,\n",
       "         3.23553395e+00, -3.24891781e+00,  3.02002075e+00,\n",
       "        -2.56613008e+00,  1.92129341e+00, -1.13378179e+00,\n",
       "         2.62501023e-01,  6.27395744e-01, -1.46936182e+00,\n",
       "         2.20042321e+00, -2.76587816e+00,  3.12339379e+00,\n",
       "        -3.24617772e+00,  3.12500030e+00, -2.76890602e+00,\n",
       "         2.20456501e+00, -1.47429953e+00,  6.32944340e-01,\n",
       "         2.56245038e-01, -1.12631813e+00,  1.91164965e+00,\n",
       "        -2.55287046e+00,  3.00135062e+00, -3.22288434e+00,\n",
       "         3.20031220e+00, -2.93486639e+00,  2.44614432e+00,\n",
       "        -1.77069321e+00,  9.59322414e-01, -7.33196044e-02,\n",
       "        -8.20134223e-01,  1.65302346e+00, -2.36164305e+00,\n",
       "         2.89145320e+00, -3.20126293e+00,  3.26643927e+00,\n",
       "        -3.08087650e+00,  2.65758196e+00, -2.02781066e+00,\n",
       "         1.23881614e+00, -3.50361173e-01, -5.69745080e-01,\n",
       "         1.45076551e+00, -2.22441726e+00,  2.83012448e+00,\n",
       "        -3.21972827e+00,  3.36130280e+00, -3.24176612e+00,\n",
       "         2.86808513e+00, -2.26695365e+00,  1.48296211e+00,\n",
       "        -5.75366936e-01, -3.86301603e-01,  1.32748226e+00,\n",
       "        -2.17428201e+00,  2.85920673e+00, -3.32648056e+00,\n",
       "         3.53654513e+00, -3.46937269e+00,  3.12632962e+00,\n",
       "        -2.53040901e+00,  1.72479954e+00, -7.69857192e-01,\n",
       "        -2.61304764e-01,  1.28830524e+00, -2.22965002e+00,\n",
       "         3.00910009e+00, -3.56175674e+00,  3.83939024e+00,\n",
       "        -3.81457745e+00,  3.48330455e+00, -2.86579105e+00,\n",
       "         2.00543308e+00, -9.65895956e-01, -1.73455931e-01,\n",
       "         1.32348220e+00, -2.39210681e+00,  3.29157463e+00,\n",
       "        -3.94554817e+00,  4.29549405e+00, -4.30582251e+00,\n",
       "         3.96734635e+00, -3.29872350e+00,  2.34572137e+00,\n",
       "        -1.17827901e+00, -1.14453349e-01,  1.43077387e+00,\n",
       "        -2.66429438e+00,  3.71243082e+00, -4.48484034e+00,\n",
       "         4.91112700e+00, -4.94715949e+00,  4.57944484e+00,\n",
       "        -3.82712560e+00,  2.74136964e+00, -1.40210277e+00,\n",
       "        -8.77238823e-02,  1.60994781e+00, -3.04050311e+00,\n",
       "         4.25950354e+00, -5.16127119e+00,  5.66348396e+00,\n",
       "        -5.71463645e+00,  5.29914270e+00, -4.43957239e+00,\n",
       "         3.19575806e+00, -1.66075084e+00, -4.61061355e-02,\n",
       "         1.78848993e+00, -3.42405242e+00,  4.81614336e+00,\n",
       "        -5.84531182e+00,  6.41961924e+00, -6.48285543e+00,\n",
       "         6.01992482e+00, -5.05888448e+00,  3.66940784e+00,\n",
       "        -1.95772822e+00,  5.84398986e-02,  1.87621178e+00,\n",
       "        -3.68867899e+00,  5.22909278e+00, -6.36777968e+00,\n",
       "         7.00626703e+00, -7.08582249e+00,  6.59279098e+00,\n",
       "        -5.56023676e+00,  4.06572342e+00, -2.22537465e+00,\n",
       "         1.84684641e-01,  1.89318355e+00, -3.84064905e+00,\n",
       "         5.49942316e+00, -6.73353380e+00,  7.44058062e+00,\n",
       "        -7.56027268e+00,  7.07953743e+00, -6.03375692e+00,\n",
       "         4.50403794e+00, -2.61072167e+00,  5.03682956e-01,\n",
       "         1.64978886e+00, -3.67851491e+00,  5.42125213e+00,\n",
       "        -6.73967186e+00,  7.52944075e+00, -7.72850176e+00,\n",
       "         7.32190120e+00, -6.34278770e+00,  4.86953431e+00,\n",
       "        -3.01924374e+00,  9.38203535e-01,  1.20992018e+00,\n",
       "        -3.25716824e+00,  5.04459609e+00, -6.43472841e+00,\n",
       "         7.32218599e+00, -7.64165110e+00,  7.37258565e+00,\n",
       "        -6.54036154e+00,  5.21377838e+00, -3.49920643e+00,\n",
       "         1.53187535e+00,  5.34969241e-01, -2.54215519e+00,\n",
       "         4.33695819e+00, -5.78478840e+00,  6.77930013e+00,\n",
       "        -7.25016193e+00,  7.16793402e+00, -6.54572138e+00,\n",
       "         5.43754316e+00, -3.93359055e+00,  2.15280326e+00,\n",
       "        -2.33373104e-01, -1.67805346e+00,  3.43763765e+00,\n",
       "        -4.91519988e+00,  6.00385486e+00, -6.62771107e+00,\n",
       "         6.74709716e+00, -6.36095331e+00,  5.50626979e+00,\n",
       "        -4.25465868e+00,  2.70637495e+00, -9.82278223e-01,\n",
       "        -7.85621786e-01,  2.46430036e+00, -3.92975671e+00,\n",
       "         5.07620234e+00, -5.82371682e+00,  6.12382436e+00,\n",
       "        -5.96259375e+00,  5.36107634e+00, -4.37307826e+00,\n",
       "         3.08048870e+00, -1.58654847e+00,  7.61006653e-03,\n",
       "         1.53596451e+00, -2.92904730e+00,  4.07042707e+00,\n",
       "        -4.88025870e+00,  5.30573450e+00, -5.32455265e+00,\n",
       "         4.94595944e+00, -4.20931397e+00,  3.18033977e+00,\n",
       "        -1.94538940e+00,  6.04221293e-01,  7.38119518e-01,\n",
       "        -1.97964137e+00,  3.02930312e+00, -3.81383703e+00,\n",
       "         4.28297283e+00, -4.41267537e+00,  4.20618213e+00,\n",
       "        -3.69280829e+00,  2.92468520e+00, -1.97174949e+00,\n",
       "         9.15461208e-01,  1.58199712e-01, -1.16583778e+00,\n",
       "         2.03325746e+00, -2.70104434e+00,  3.12868076e+00,\n",
       "        -3.29690107e+00,  3.20816092e+00, -2.88525626e+00,\n",
       "         2.36829735e+00, -1.71037078e+00,  9.72339749e-01,\n",
       "        -2.17272268e-01, -4.94983344e-01,  1.11260591e+00,\n",
       "        -1.59559218e+00,  1.91825208e+00, -2.07025756e+00,\n",
       "         2.05624482e+00, -1.89409815e+00,  1.61217429e+00,\n",
       "        -1.24579838e+00,  8.33429767e-01, -4.12884781e-01,\n",
       "         1.79913461e-02,  3.24037995e-01, -5.94310104e-01,\n",
       "         7.82945325e-01, -8.88787743e-01,  9.18265749e-01,\n",
       "        -8.83611041e-01,  8.00708670e-01, -6.86858462e-01,\n",
       "         5.58719049e-01, -4.30651238e-01,  3.13609620e-01,\n",
       "        -2.14639333e-01,  1.36955477e-01, -8.04954493e-02,\n",
       "         4.27950802e-02, -1.99986497e-02,  7.82268515e-03,\n",
       "        -2.32642533e-03,  4.07307882e-04]])"
      ]
     },
     "execution_count": 159,
     "metadata": {},
     "output_type": "execute_result"
    }
   ],
   "source": [
    "cl_gk"
   ]
  },
  {
   "cell_type": "code",
   "execution_count": 160,
   "metadata": {},
   "outputs": [
    {
     "data": {
      "text/plain": [
       "array([[-5.52732107e+02,  1.08809659e+03, -1.58943499e+03,\n",
       "         2.04147787e+03, -2.43095772e+03,  2.74713192e+03,\n",
       "        -2.98218804e+03,  3.13152159e+03, -3.19386244e+03,\n",
       "         3.17125798e+03, -3.06890623e+03,  2.89485547e+03,\n",
       "        -2.65958068e+03,  2.37546412e+03, -2.05620049e+03,\n",
       "         1.71616155e+03, -1.36974628e+03,  1.03075219e+03,\n",
       "        -7.11791804e+02,  4.23787335e+02, -1.75559770e+02,\n",
       "        -2.64656630e+01,  1.78430125e+02, -2.79080493e+02,\n",
       "         3.29682374e+02, -3.33812692e+02,  2.97048548e+02,\n",
       "        -2.26569891e+02,  1.30700706e+02, -1.84130240e+01,\n",
       "        -1.01177434e+02,  2.19299143e+02, -3.27969590e+02,\n",
       "         4.20376826e+02, -4.91178008e+02,  5.36703929e+02,\n",
       "        -5.55060767e+02,  5.46129031e+02, -5.11462555e+02,\n",
       "         4.54098772e+02, -3.78293269e+02,  2.89198007e+02,\n",
       "        -1.92502792e+02,  9.40633614e+01,  4.62989322e-01,\n",
       "        -8.59519974e+01,  1.58099782e+02, -2.13646851e+02,\n",
       "         2.50528765e+02, -2.67946353e+02,  2.66355201e+02,\n",
       "        -2.47377407e+02,  2.13644594e+02, -1.68583819e+02,\n",
       "         1.16162443e+02, -6.06086598e+01,  6.12683542e+00,\n",
       "         4.33749990e+01, -8.45277721e+01,  1.14700527e+02,\n",
       "        -1.32143942e+02,  1.36071595e+02, -1.26674982e+02,\n",
       "         1.05073919e+02, -7.32070144e+01,  3.36717318e+01,\n",
       "         1.04748100e+01, -5.59392811e+01,  9.94251919e+01,\n",
       "        -1.37859230e+02,  1.68596698e+02, -1.89592225e+02,\n",
       "         1.99525986e+02, -1.97877360e+02,  1.84942927e+02,\n",
       "        -1.61798196e+02,  1.30207547e+02, -9.24887865e+01,\n",
       "         5.13429657e+01, -9.66111676e+00, -2.96782651e+01,\n",
       "         6.40076302e+01, -9.10508557e+01,  1.09074457e+02,\n",
       "        -1.16999337e+02,  1.14466642e+02, -1.01853495e+02,\n",
       "         8.02387824e+01, -5.13215373e+01,  1.72985093e+01,\n",
       "         1.92907807e+01, -5.57401715e+01,  8.93626087e+01,\n",
       "        -1.17672508e+02,  1.38553053e+02, -1.50397011e+02,\n",
       "         1.52212419e+02, -1.43686135e+02,  1.25201936e+02,\n",
       "        -9.78120813e+01,  6.31651756e+01, -2.33951909e+01,\n",
       "        -1.90201812e+01,  6.14226409e+01, -1.01146483e+02,\n",
       "         1.35690806e+02, -1.62879202e+02,  1.80997041e+02,\n",
       "        -1.88897358e+02,  1.86069269e+02, -1.72664609e+02,\n",
       "         1.49482118e+02, -1.17910333e+02,  7.98338926e+01,\n",
       "        -3.75094340e+01, -6.58009662e+00,  4.98835158e+01,\n",
       "        -8.99411304e+01,  1.24536340e+02, -1.51829245e+02,\n",
       "         1.70464494e+02, -1.79646656e+02,  1.79179328e+02,\n",
       "        -1.69465903e+02,  1.51473051e+02, -1.26659670e+02,\n",
       "         9.68767658e+01, -6.42449391e+01,  3.10178643e+01,\n",
       "         5.59670725e-01, -2.83899013e+01,  5.06481977e+01,\n",
       "        -6.58893686e+01,  7.31283438e+01, -7.18906407e+01,\n",
       "         6.22306383e+01, -4.47170610e+01,  2.03878659e+01,\n",
       "         9.32218635e+00, -4.26757246e+01,  7.77425948e+01,\n",
       "        -1.12517890e+02,  1.45041058e+02, -1.73508533e+02,\n",
       "         1.96373650e+02, -2.12427960e+02,  2.20860045e+02,\n",
       "        -2.21288852e+02,  2.13770844e+02, -1.98781310e+02,\n",
       "         1.77172266e+02, -1.50110203e+02,  1.18998514e+02,\n",
       "        -8.53896341e+01,  5.08928470e+01, -1.70831630e+01,\n",
       "        -1.45831033e+01,  4.28417125e+01, -6.66787507e+01,\n",
       "         8.53714082e+01, -9.85095709e+01,  1.05998273e+02,\n",
       "        -1.08041734e+02,  1.05111270e+02, -9.78997151e+01,\n",
       "         8.72661782e+01, -7.41747898e+01,  5.96317504e+01,\n",
       "        -4.46243187e+01,  3.00655638e+01, -1.67475324e+01,\n",
       "         5.30536196e+00,  3.80653267e+00, -1.03253245e+01,\n",
       "         1.41782646e+01, -1.54695458e+01,  1.44574690e+01,\n",
       "        -1.15238297e+01,  7.13825787e+00, -1.81992042e+00,\n",
       "        -3.90058162e+00,  9.51694406e+00, -1.45782209e+01,\n",
       "         1.87138361e+01, -2.16511600e+01,  2.32253834e+01,\n",
       "        -2.33814145e+01,  2.21685341e+01, -1.97285154e+01,\n",
       "         1.62787118e+01, -1.20913986e+01,  7.47123639e+00,\n",
       "        -2.73226206e+00, -1.82383911e+00,  5.92704211e+00,\n",
       "        -9.35461160e+00,  1.19424943e+01, -1.35918549e+01,\n",
       "         1.42709091e+01, -1.40120884e+01,  1.29052855e+01,\n",
       "        -1.10877315e+01,  8.73163032e+00, -6.03033209e+00,\n",
       "         3.18427168e+00, -3.87410475e-01, -2.18475970e+00,\n",
       "         4.38519895e+00, -6.10257353e+00,  7.26573011e+00,\n",
       "        -7.84510297e+00,  7.85141660e+00, -7.33176965e+00,\n",
       "         6.36375480e+00, -5.04797156e+00,  3.49971761e+00,\n",
       "        -1.84028713e+00,  1.88668202e-01,  1.34605685e+00,\n",
       "        -2.67097721e+00,  3.71416874e+00, -4.42767143e+00,\n",
       "         4.78878074e+00, -4.79951451e+00,  4.48461653e+00,\n",
       "        -3.88816087e+00,  3.06926654e+00, -2.09709102e+00,\n",
       "         1.04565711e+00,  1.13260121e-02, -1.00510928e+00,\n",
       "         1.87598698e+00, -2.57638447e+00,  3.07304989e+00,\n",
       "        -3.34806034e+00,  3.39888731e+00, -3.23738637e+00,\n",
       "         2.88805572e+00, -2.38554094e+00,  1.77178802e+00,\n",
       "        -1.09284928e+00,  3.95766991e-01,  2.74472169e-01,\n",
       "        -8.77540534e-01,  1.37999567e+00, -1.75683357e+00,\n",
       "         1.99250917e+00, -2.08121933e+00,  2.02666304e+00,\n",
       "        -1.84116071e+00,  1.54439047e+00, -1.16168835e+00,\n",
       "         7.22193044e-01, -2.56808919e-01, -2.03734567e-01,\n",
       "         6.30773776e-01, -9.99281287e-01,  1.28921372e+00,\n",
       "        -1.48640697e+00,  1.58315196e+00, -1.57827373e+00,\n",
       "         1.47691241e+00, -1.28985349e+00,  1.03264401e+00,\n",
       "        -7.24384114e-01,  3.86459802e-01, -4.11015015e-02,\n",
       "        -2.89952174e-01,  5.86790632e-01, -8.32427060e-01,\n",
       "         1.01375605e+00, -1.12215800e+00,  1.15390584e+00,\n",
       "        -1.11017257e+00,  9.96829806e-01, -8.23892001e-01,\n",
       "         6.04803347e-01, -3.55451669e-01,  9.31424197e-02,\n",
       "         1.64564075e-01, -4.00924036e-01,  6.01090658e-01,\n",
       "        -7.52964652e-01,  8.47940018e-01, -8.81333673e-01,\n",
       "         8.52635079e-01, -7.65411962e-01,  6.27034738e-01,\n",
       "        -4.48081870e-01,  2.41626329e-01, -2.22905086e-02,\n",
       "        -1.94702278e-01,  3.94584030e-01, -5.63980090e-01,\n",
       "         6.91819407e-01, -7.70004964e-01,  7.93954073e-01,\n",
       "        -7.62827361e-01,  6.79576373e-01, -5.50661787e-01,\n",
       "         3.85614071e-01, -1.96312995e-01, -3.80932799e-03,\n",
       "         2.00740796e-01, -3.80820836e-01,  5.31716849e-01,\n",
       "        -6.43222519e-01,  7.07984427e-01, -7.21951953e-01,\n",
       "         6.84673778e-01, -5.99267319e-01,  4.72213707e-01,\n",
       "        -3.12842867e-01,  1.32693814e-01,  5.53386265e-02,\n",
       "        -2.37879419e-01,  4.02055148e-01, -5.36356343e-01,\n",
       "         6.31483338e-01, -6.80953230e-01,  6.81582788e-01,\n",
       "        -6.33657062e-01,  5.40927322e-01, -4.10292392e-01,\n",
       "         2.51326169e-01, -7.55494909e-02, -1.04362193e-01,\n",
       "         2.75524082e-01, -4.25728895e-01,  5.44352369e-01,\n",
       "        -6.23065652e-01,  6.56465205e-01, -6.42407105e-01,\n",
       "         5.82183029e-01, -4.80379912e-01,  3.44569095e-01,\n",
       "        -1.84716352e-01,  1.24892059e-02,  1.59623108e-01,\n",
       "        -3.19176867e-01,  4.54710866e-01, -5.56532153e-01,\n",
       "         6.17443739e-01, -6.33221902e-01,  6.02944730e-01,\n",
       "        -5.29010753e-01,  4.16989673e-01, -2.75170526e-01,\n",
       "         1.13990960e-01,  5.47685925e-02, -2.18803340e-01,\n",
       "         3.66219179e-01, -4.86357660e-01,  5.70601615e-01,\n",
       "        -6.12957052e-01,  6.10518353e-01, -5.63632288e-01,\n",
       "         4.75897871e-01, -3.53861344e-01,  2.06559200e-01,\n",
       "        -4.48199024e-02, -1.19497384e-01,  2.74402891e-01,\n",
       "        -4.08618457e-01,  5.12433539e-01, -5.78370384e-01,\n",
       "         6.01761652e-01, -5.81047032e-01,  5.17909840e-01,\n",
       "        -4.17109176e-01,  2.86159289e-01, -1.34737292e-01,\n",
       "        -2.59982924e-02,  1.84260763e-01, -3.28469078e-01,\n",
       "         4.48126228e-01, -5.34548911e-01,  5.81533737e-01,\n",
       "        -5.85768206e-01,  5.47101581e-01, -4.68511697e-01,\n",
       "         3.55908304e-01, -2.17659568e-01,  6.40036157e-02,\n",
       "         9.37415387e-02, -2.43979751e-01,  3.75719593e-01,\n",
       "        -4.79348625e-01,  5.47365868e-01, -5.74894606e-01,\n",
       "         5.60065635e-01, -5.04112014e-01,  4.11301828e-01,\n",
       "        -2.88583916e-01,  1.45100653e-01,  8.52370096e-03,\n",
       "        -1.60937484e-01,  3.00931983e-01, -4.18233853e-01,\n",
       "         5.04291629e-01, -5.52866951e-01,  5.60520960e-01,\n",
       "        -5.26827991e-01,  4.54430270e-01, -3.48801444e-01,\n",
       "         2.17867853e-01, -7.13799300e-02, -7.97784329e-02,\n",
       "         2.24429825e-01, -3.51899201e-01,  4.52833272e-01,\n",
       "        -5.19854717e-01,  5.48137750e-01, -5.35723366e-01,\n",
       "         4.83691017e-01, -3.96035012e-01,  2.79393085e-01,\n",
       "        -1.42516950e-01, -4.35509418e-03,  1.50290959e-01,\n",
       "        -2.84449785e-01,  3.96917302e-01, -4.79408969e-01,\n",
       "         5.25916938e-01, -5.33117298e-01,  5.00641868e-01,\n",
       "        -4.31066297e-01,  3.29741461e-01, -2.04354141e-01,\n",
       "         6.43795977e-02,  7.96612035e-02, -2.16963491e-01,\n",
       "         3.37278421e-01, -4.31647527e-01,  4.93104357e-01,\n",
       "        -5.17160584e-01,  5.02169179e-01, -4.49411659e-01,\n",
       "         3.63025865e-01, -2.49656821e-01,  1.17982208e-01,\n",
       "         2.19788794e-02, -1.59594437e-01,  2.84455517e-01,\n",
       "        -3.87135644e-01,  4.59932406e-01, -4.97421656e-01,\n",
       "         4.96893263e-01, -4.58528352e-01,  3.85411824e-01,\n",
       "        -2.83263610e-01,  1.60026629e-01, -2.52278555e-02,\n",
       "        -1.10721170e-01,  2.37356371e-01, -3.44934987e-01,\n",
       "         4.25218029e-01, -4.72078696e-01,  4.82004771e-01,\n",
       "        -4.54345446e-01,  3.91393705e-01, -2.98183148e-01,\n",
       "         1.82129163e-01, -5.24251757e-02, -8.06432234e-02,\n",
       "         2.06530213e-01, -3.15233042e-01,  3.98107932e-01,\n",
       "        -4.48533394e-01,  4.62470373e-01, -4.38769355e-01,\n",
       "         3.79307765e-01, -2.88832311e-01,  1.74628221e-01,\n",
       "        -4.59255084e-02, -8.67942103e-02,  2.12661735e-01,\n",
       "        -3.21263818e-01,  4.03519963e-01, -4.52405032e-01,\n",
       "         4.63576436e-01, -4.35735030e-01,  3.70804917e-01,\n",
       "        -2.73796093e-01,  1.52474491e-01, -1.67445970e-02,\n",
       "        -1.22098189e-01,  2.52299689e-01, -3.62582070e-01,\n",
       "         4.43114860e-01, -4.86337001e-01,  4.87670348e-01,\n",
       "        -4.45944168e-01,  3.63620651e-01, -2.46660632e-01,\n",
       "         1.04158428e-01,  5.23472725e-02, -2.09732771e-01,\n",
       "         3.54359695e-01, -4.73170007e-01,  5.54829583e-01,\n",
       "        -5.90710218e-01,  5.75748915e-01, -5.08983013e-01,\n",
       "         3.93828962e-01, -2.37954151e-01,  5.28479188e-02,\n",
       "         1.46991532e-01, -3.45101026e-01,  5.24361564e-01,\n",
       "        -6.68362424e-01,  7.62830174e-01, -7.96892750e-01,\n",
       "         7.64181818e-01, -6.63565357e-01,  4.99545419e-01,\n",
       "        -2.82161770e-01,  2.64932371e-02,  2.48332248e-01,\n",
       "        -5.20456300e-01,  7.66957781e-01, -9.65638246e-01,\n",
       "         1.09690854e+00, -1.14551087e+00,  1.10204505e+00,\n",
       "        -9.64052407e-01,  7.36661850e-01, -4.32605349e-01,\n",
       "         7.16782996e-02,  3.20455693e-01, -7.13939878e-01,\n",
       "         1.07689925e+00, -1.37784776e+00,  1.58826427e+00,\n",
       "        -1.68503820e+00,  1.65268723e+00, -1.48504915e+00,\n",
       "         1.18639592e+00, -7.71729692e-01,  2.66304915e-01,\n",
       "         2.95744778e-01, -8.73519915e-01,  1.42218574e+00,\n",
       "        -1.89624178e+00,  2.25310259e+00, -2.45662238e+00,\n",
       "         2.48039096e+00, -2.31042113e+00,  1.94708348e+00,\n",
       "        -1.40597975e+00,  7.17734821e-01,  7.34645034e-02,\n",
       "        -9.12432901e-01,  1.73663095e+00, -2.48056732e+00,\n",
       "         3.08076815e+00, -3.48085549e+00,  3.63645061e+00,\n",
       "        -3.51939431e+00,  3.12102923e+00, -2.45410143e+00,\n",
       "         1.55316623e+00, -4.73257040e-01, -7.13082935e-01,\n",
       "         1.92038538e+00, -3.05609230e+00,  4.02737493e+00,\n",
       "        -4.74835616e+00,  5.14729578e+00, -5.17306931e+00,\n",
       "         4.80049088e+00, -4.03387970e+00,  2.90858498e+00,\n",
       "        -1.49011090e+00, -1.29133857e-01,  1.83545990e+00,\n",
       "        -3.50149321e+00,  4.99537449e+00, -6.19082331e+00,\n",
       "         6.97742724e+00, -7.27024807e+00,  7.01804433e+00,\n",
       "        -6.20926334e+00,  4.87529497e+00, -3.09045875e+00,\n",
       "         9.68632128e-01,  1.34351958e+00, -3.67625558e+00,\n",
       "         5.84892546e+00, -7.68363683e+00,  9.01952194e+00,\n",
       "        -9.72638106e+00,  9.71667386e+00, -8.95469272e+00,\n",
       "         7.46212458e+00, -5.31925157e+00,  2.66156371e+00,\n",
       "         3.28285287e-01, -3.43266140e+00,  6.41459951e+00,\n",
       "        -9.03571473e+00,  1.10751316e+01, -1.23478350e+01,\n",
       "         1.27210290e+01, -1.21269749e+01,  1.05712105e+01,\n",
       "        -8.13517874e+00,  4.97291860e+00, -1.30173736e+00,\n",
       "        -2.61251904e+00,  6.47471446e+00, -9.98269772e+00,\n",
       "         1.28510129e+01, -1.48340766e+01,  1.57470305e+01,\n",
       "        -1.54824050e+01,  1.40212135e+01, -1.14373026e+01,\n",
       "         7.89450548e+00, -3.63650874e+00, -1.02987007e+00,\n",
       "         5.75694076e+00, -1.01822017e+01,  1.39563403e+01,\n",
       "        -1.67708880e+01,  1.83834245e+01, -1.86381733e+01,\n",
       "         1.74803483e+01, -1.49628710e+01,  1.12448595e+01,\n",
       "        -6.58171995e+00,  1.30754458e+00,  4.18906316e+00,\n",
       "        -9.49386738e+00,  1.41985162e+01, -1.79321742e+01,\n",
       "         2.03908945e+01, -2.13622990e+01,  2.07436521e+01,\n",
       "        -1.85517070e+01,  1.49235292e+01, -1.01079775e+01,\n",
       "         4.44847907e+00,  1.64180213e+00, -7.71047771e+00,\n",
       "         1.32999457e+01, -1.79822090e+01,  2.13919266e+01,\n",
       "        -2.32550248e+01,  2.34107127e+01, -2.18250428e+01,\n",
       "         1.85949836e+01, -1.39425027e+01,  8.19911776e+00,\n",
       "        -1.78191800e+00, -4.83708827e+00,  1.11661121e+01,\n",
       "        -1.67304662e+01,  2.11084952e+01, -2.39637182e+01,\n",
       "         2.50708156e+01, -2.43333551e+01,  2.17919636e+01,\n",
       "        -1.76221736e+01,  1.21221523e+01, -5.69108920e+00,\n",
       "        -1.20007508e+00,  8.04350492e+00, -1.43322140e+01,\n",
       "         1.95979695e+01, -2.34464083e+01,  2.55868121e+01,\n",
       "        -2.58541936e+01,  2.42220967e+01, -2.08050289e+01,\n",
       "         1.58503980e+01, -9.72042817e+00,  2.86547797e+00,\n",
       "         4.20936864e+00, -1.09818448e+01,  1.69514698e+01,\n",
       "        -2.16769268e+01,  2.48091246e+01, -2.61173471e+01,\n",
       "         2.55066000e+01, -2.30247258e+01,  1.88588262e+01,\n",
       "        -1.33211388e+01,  6.82552480e+00,  1.43768842e-01,\n",
       "        -7.06860432e+00,  1.34360346e+01, -1.87768901e+01,\n",
       "         2.27010256e+01, -2.49264356e+01,  2.53001011e+01,\n",
       "        -2.38088908e+01,  2.05797823e+01, -1.58693196e+01,\n",
       "         1.00432450e+01, -3.54782167e+00, -3.12480529e+00,\n",
       "         9.47458209e+00, -1.50317850e+01,  1.93926366e+01,\n",
       "        -2.22494372e+01,  2.34129852e+01, -2.28254940e+01,\n",
       "         2.05631746e+01, -1.68282785e+01,  1.19314487e+01,\n",
       "        -6.26578234e+00,  2.74875159e-01,  5.58262304e+00,\n",
       "        -1.08689664e+01,  1.52009882e+01, -1.82787271e+01,\n",
       "         1.99068876e+01, -2.00074285e+01,  1.86225335e+01,\n",
       "        -1.59078232e+01,  1.21166795e+01, -7.57707143e+00,\n",
       "         2.66307181e+00,  2.23654185e+00, -6.74982319e+00,\n",
       "         1.05507981e+01, -1.33837479e+01,  1.50808447e+01,\n",
       "        -1.55717764e+01,  1.48849189e+01, -1.31401707e+01,\n",
       "         1.05344782e+01, -7.32150494e+00,  3.78754869e+00,\n",
       "        -2.25885298e-01, -3.08803365e+00,  5.91847012e+00,\n",
       "        -8.08646662e+00,  9.48090873e+00, -1.00628178e+01,\n",
       "         9.86297195e+00, -8.97338800e+00,  7.53395209e+00,\n",
       "        -5.71569805e+00,  3.70266416e+00, -1.67409568e+00,\n",
       "        -2.11191324e-01,  1.82699668e+00, -3.08745071e+00,\n",
       "         3.94995102e+00, -4.41338105e+00,  4.51235506e+00,\n",
       "        -4.30843928e+00,  3.87973552e+00, -3.31010716e+00,\n",
       "         2.67942782e+00, -2.05578668e+00,  1.49043195e+00,\n",
       "        -1.01560010e+00,  6.45164939e-01, -3.77484383e-01,\n",
       "         1.99757721e-01, -9.29009322e-02,  3.61601511e-02,\n",
       "        -1.06993306e-02,  1.86569336e-03]])"
      ]
     },
     "execution_count": 160,
     "metadata": {},
     "output_type": "execute_result"
    }
   ],
   "source": [
    "cl_kk"
   ]
  },
  {
   "cell_type": "code",
   "execution_count": 161,
   "metadata": {},
   "outputs": [
    {
     "data": {
      "text/plain": [
       "Text(0.5, 1.0, 'MASTER estimate for galaxy auto-correlation')"
      ]
     },
     "execution_count": 161,
     "metadata": {},
     "output_type": "execute_result"
    },
    {
     "data": {
      "image/png": "[encoded data removed]",
      "text/plain": [
       "<Figure size 432x288 with 1 Axes>"
      ]
     },
     "metadata": {
      "needs_background": "light"
     },
     "output_type": "display_data"
    }
   ],
   "source": [
    "plt.plot(ell_arr, cl_gg[0])\n",
    "plt.title(\"MASTER estimate for galaxy auto-correlation\")"
   ]
  },
  {
   "cell_type": "code",
   "execution_count": 164,
   "metadata": {},
   "outputs": [
    {
     "name": "stderr",
     "output_type": "stream",
     "text": [
      "/Users/adiraju/opt/anaconda3/envs/deep_dss/lib/python3.8/site-packages/ipykernel/ipkernel.py:287: DeprecationWarning: `should_run_async` will not call `transform_cell` automatically in the future. Please pass the result to `transformed_cell` argument and any exception that happen during thetransform in `preprocessing_exc_tuple` in IPython 7.17 and above.\n",
      "  and should_run_async(code)\n"
     ]
    },
    {
     "data": {
      "text/plain": [
       "Text(0.5, 1.0, 'MASTER estimate for galaxy-lensing cross-correlation')"
      ]
     },
     "execution_count": 164,
     "metadata": {},
     "output_type": "execute_result"
    },
    {
     "data": {
      "image/png": "[encoded data removed]",
      "text/plain": [
       "<Figure size 432x288 with 1 Axes>"
      ]
     },
     "metadata": {
      "needs_background": "light"
     },
     "output_type": "display_data"
    }
   ],
   "source": [
    "plt.plot(ell_arr, cl_gk[0])\n",
    "plt.title(\"MASTER estimate for galaxy-lensing cross-correlation\")"
   ]
  },
  {
   "cell_type": "code",
   "execution_count": 189,
   "metadata": {},
   "outputs": [
    {
     "name": "stderr",
     "output_type": "stream",
     "text": [
      "/Users/adiraju/opt/anaconda3/envs/deep_dss/lib/python3.8/site-packages/ipykernel/ipkernel.py:287: DeprecationWarning: `should_run_async` will not call `transform_cell` automatically in the future. Please pass the result to `transformed_cell` argument and any exception that happen during thetransform in `preprocessing_exc_tuple` in IPython 7.17 and above.\n",
      "  and should_run_async(code)\n"
     ]
    },
    {
     "data": {
      "text/plain": [
       "Text(0.5, 1.0, 'MASTER estimate for lensing auto-correlation')"
      ]
     },
     "execution_count": 189,
     "metadata": {},
     "output_type": "execute_result"
    },
    {
     "data": {
      "image/png": "[encoded data removed]",
      "text/plain": [
       "<Figure size 432x288 with 1 Axes>"
      ]
     },
     "metadata": {
      "needs_background": "light"
     },
     "output_type": "display_data"
    }
   ],
   "source": [
    "plt.plot(ell_arr, cl_kk[0])\n",
    "plt.title(\"MASTER estimate for lensing auto-correlation\")"
   ]
  },
  {
   "cell_type": "code",
   "execution_count": 94,
   "metadata": {},
   "outputs": [
    {
     "name": "stderr",
     "output_type": "stream",
     "text": [
      "/Users/adiraju/opt/anaconda3/envs/deep_dss/lib/python3.8/site-packages/ipykernel/ipkernel.py:287: DeprecationWarning: `should_run_async` will not call `transform_cell` automatically in the future. Please pass the result to `transformed_cell` argument and any exception that happen during thetransform in `preprocessing_exc_tuple` in IPython 7.17 and above.\n",
      "  and should_run_async(code)\n"
     ]
    }
   ],
   "source": [
    "c_ell_path = \"../data/flaskv3/input/dss-0.85/dss-0.85-Cl-\""
   ]
  },
  {
   "cell_type": "code",
   "execution_count": 166,
   "metadata": {},
   "outputs": [
    {
     "name": "stderr",
     "output_type": "stream",
     "text": [
      "/Users/adiraju/opt/anaconda3/envs/deep_dss/lib/python3.8/site-packages/ipykernel/ipkernel.py:287: DeprecationWarning: `should_run_async` will not call `transform_cell` automatically in the future. Please pass the result to `transformed_cell` argument and any exception that happen during thetransform in `preprocessing_exc_tuple` in IPython 7.17 and above.\n",
      "  and should_run_async(code)\n"
     ]
    }
   ],
   "source": [
    "cl_gg_trough = pd.read_csv(c_ell_path+\"f1z1f1z1.dat\", sep=' ', header=None)\n",
    "cl_gg_trough.columns = ['L', 'CL']\n",
    "cl_gg_trough.index = np.arange(10000)"
   ]
  },
  {
   "cell_type": "code",
   "execution_count": 167,
   "metadata": {},
   "outputs": [],
   "source": [
    "cl_gg_trough['CL'] = cl_gg_trough['CL']*bias**2 + 1/density_steradians"
   ]
  },
  {
   "cell_type": "code",
   "execution_count": 168,
   "metadata": {},
   "outputs": [
    {
     "data": {
      "text/html": [
       "<div>\n",
       "<style scoped>\n",
       "    .dataframe tbody tr th:only-of-type {\n",
       "        vertical-align: middle;\n",
       "    }\n",
       "\n",
       "    .dataframe tbody tr th {\n",
       "        vertical-align: top;\n",
       "    }\n",
       "\n",
       "    .dataframe thead th {\n",
       "        text-align: right;\n",
       "    }\n",
       "</style>\n",
       "<table border=\"1\" class=\"dataframe\">\n",
       "  <thead>\n",
       "    <tr style=\"text-align: right;\">\n",
       "      <th></th>\n",
       "      <th>L</th>\n",
       "      <th>CL</th>\n",
       "    </tr>\n",
       "  </thead>\n",
       "  <tbody>\n",
       "    <tr>\n",
       "      <th>0</th>\n",
       "      <td>0.0</td>\n",
       "      <td>0.000002</td>\n",
       "    </tr>\n",
       "    <tr>\n",
       "      <th>1</th>\n",
       "      <td>1.0</td>\n",
       "      <td>0.000002</td>\n",
       "    </tr>\n",
       "    <tr>\n",
       "      <th>2</th>\n",
       "      <td>2.0</td>\n",
       "      <td>0.000021</td>\n",
       "    </tr>\n",
       "    <tr>\n",
       "      <th>3</th>\n",
       "      <td>3.0</td>\n",
       "      <td>0.000035</td>\n",
       "    </tr>\n",
       "    <tr>\n",
       "      <th>4</th>\n",
       "      <td>4.0</td>\n",
       "      <td>0.000045</td>\n",
       "    </tr>\n",
       "    <tr>\n",
       "      <th>...</th>\n",
       "      <td>...</td>\n",
       "      <td>...</td>\n",
       "    </tr>\n",
       "    <tr>\n",
       "      <th>9995</th>\n",
       "      <td>9995.0</td>\n",
       "      <td>0.000002</td>\n",
       "    </tr>\n",
       "    <tr>\n",
       "      <th>9996</th>\n",
       "      <td>9996.0</td>\n",
       "      <td>0.000002</td>\n",
       "    </tr>\n",
       "    <tr>\n",
       "      <th>9997</th>\n",
       "      <td>9997.0</td>\n",
       "      <td>0.000002</td>\n",
       "    </tr>\n",
       "    <tr>\n",
       "      <th>9998</th>\n",
       "      <td>9998.0</td>\n",
       "      <td>0.000002</td>\n",
       "    </tr>\n",
       "    <tr>\n",
       "      <th>9999</th>\n",
       "      <td>9999.0</td>\n",
       "      <td>0.000002</td>\n",
       "    </tr>\n",
       "  </tbody>\n",
       "</table>\n",
       "<p>10000 rows × 2 columns</p>\n",
       "</div>"
      ],
      "text/plain": [
       "           L        CL\n",
       "0        0.0  0.000002\n",
       "1        1.0  0.000002\n",
       "2        2.0  0.000021\n",
       "3        3.0  0.000035\n",
       "4        4.0  0.000045\n",
       "...      ...       ...\n",
       "9995  9995.0  0.000002\n",
       "9996  9996.0  0.000002\n",
       "9997  9997.0  0.000002\n",
       "9998  9998.0  0.000002\n",
       "9999  9999.0  0.000002\n",
       "\n",
       "[10000 rows x 2 columns]"
      ]
     },
     "execution_count": 168,
     "metadata": {},
     "output_type": "execute_result"
    }
   ],
   "source": [
    "cl_gg_trough"
   ]
  },
  {
   "cell_type": "code",
   "execution_count": 169,
   "metadata": {},
   "outputs": [
    {
     "name": "stderr",
     "output_type": "stream",
     "text": [
      "/Users/adiraju/opt/anaconda3/envs/deep_dss/lib/python3.8/site-packages/ipykernel/ipkernel.py:287: DeprecationWarning: `should_run_async` will not call `transform_cell` automatically in the future. Please pass the result to `transformed_cell` argument and any exception that happen during thetransform in `preprocessing_exc_tuple` in IPython 7.17 and above.\n",
      "  and should_run_async(code)\n"
     ]
    }
   ],
   "source": [
    "cl_gk_trough = pd.read_csv(c_ell_path+\"f1z1f2z1.dat\", sep=' ', header=None)\n",
    "cl_gk_trough.columns = ['L', 'CL']\n",
    "cl_gk_trough.index = np.arange(10000)"
   ]
  },
  {
   "cell_type": "code",
   "execution_count": 170,
   "metadata": {},
   "outputs": [],
   "source": [
    "cl_gk_trough['CL'] = bias*cl_gk_trough['CL']"
   ]
  },
  {
   "cell_type": "code",
   "execution_count": 171,
   "metadata": {},
   "outputs": [
    {
     "data": {
      "text/html": [
       "<div>\n",
       "<style scoped>\n",
       "    .dataframe tbody tr th:only-of-type {\n",
       "        vertical-align: middle;\n",
       "    }\n",
       "\n",
       "    .dataframe tbody tr th {\n",
       "        vertical-align: top;\n",
       "    }\n",
       "\n",
       "    .dataframe thead th {\n",
       "        text-align: right;\n",
       "    }\n",
       "</style>\n",
       "<table border=\"1\" class=\"dataframe\">\n",
       "  <thead>\n",
       "    <tr style=\"text-align: right;\">\n",
       "      <th></th>\n",
       "      <th>L</th>\n",
       "      <th>CL</th>\n",
       "    </tr>\n",
       "  </thead>\n",
       "  <tbody>\n",
       "    <tr>\n",
       "      <th>0</th>\n",
       "      <td>0.0</td>\n",
       "      <td>0.000000e+00</td>\n",
       "    </tr>\n",
       "    <tr>\n",
       "      <th>1</th>\n",
       "      <td>1.0</td>\n",
       "      <td>0.000000e+00</td>\n",
       "    </tr>\n",
       "    <tr>\n",
       "      <th>2</th>\n",
       "      <td>2.0</td>\n",
       "      <td>3.073930e-07</td>\n",
       "    </tr>\n",
       "    <tr>\n",
       "      <th>3</th>\n",
       "      <td>3.0</td>\n",
       "      <td>5.163153e-07</td>\n",
       "    </tr>\n",
       "    <tr>\n",
       "      <th>4</th>\n",
       "      <td>4.0</td>\n",
       "      <td>6.719013e-07</td>\n",
       "    </tr>\n",
       "    <tr>\n",
       "      <th>...</th>\n",
       "      <td>...</td>\n",
       "      <td>...</td>\n",
       "    </tr>\n",
       "    <tr>\n",
       "      <th>9995</th>\n",
       "      <td>9995.0</td>\n",
       "      <td>2.910872e-10</td>\n",
       "    </tr>\n",
       "    <tr>\n",
       "      <th>9996</th>\n",
       "      <td>9996.0</td>\n",
       "      <td>2.910246e-10</td>\n",
       "    </tr>\n",
       "    <tr>\n",
       "      <th>9997</th>\n",
       "      <td>9997.0</td>\n",
       "      <td>2.909620e-10</td>\n",
       "    </tr>\n",
       "    <tr>\n",
       "      <th>9998</th>\n",
       "      <td>9998.0</td>\n",
       "      <td>2.908994e-10</td>\n",
       "    </tr>\n",
       "    <tr>\n",
       "      <th>9999</th>\n",
       "      <td>9999.0</td>\n",
       "      <td>2.908369e-10</td>\n",
       "    </tr>\n",
       "  </tbody>\n",
       "</table>\n",
       "<p>10000 rows × 2 columns</p>\n",
       "</div>"
      ],
      "text/plain": [
       "           L            CL\n",
       "0        0.0  0.000000e+00\n",
       "1        1.0  0.000000e+00\n",
       "2        2.0  3.073930e-07\n",
       "3        3.0  5.163153e-07\n",
       "4        4.0  6.719013e-07\n",
       "...      ...           ...\n",
       "9995  9995.0  2.910872e-10\n",
       "9996  9996.0  2.910246e-10\n",
       "9997  9997.0  2.909620e-10\n",
       "9998  9998.0  2.908994e-10\n",
       "9999  9999.0  2.908369e-10\n",
       "\n",
       "[10000 rows x 2 columns]"
      ]
     },
     "execution_count": 171,
     "metadata": {},
     "output_type": "execute_result"
    }
   ],
   "source": [
    "cl_gk_trough"
   ]
  },
  {
   "cell_type": "code",
   "execution_count": 172,
   "metadata": {},
   "outputs": [
    {
     "name": "stderr",
     "output_type": "stream",
     "text": [
      "/Users/adiraju/opt/anaconda3/envs/deep_dss/lib/python3.8/site-packages/ipykernel/ipkernel.py:287: DeprecationWarning: `should_run_async` will not call `transform_cell` automatically in the future. Please pass the result to `transformed_cell` argument and any exception that happen during thetransform in `preprocessing_exc_tuple` in IPython 7.17 and above.\n",
      "  and should_run_async(code)\n"
     ]
    }
   ],
   "source": [
    "cl_k1k1_trough = pd.read_csv(c_ell_path+\"f2z1f2z1.dat\", sep=' ', header=None)\n",
    "cl_k1k1_trough.columns = ['L', 'CL']\n",
    "cl_k1k1_trough.index = np.arange(10000)\n",
    "\n",
    "cl_k2k2_trough = pd.read_csv(c_ell_path+\"f2z2f2z2.dat\", sep=' ', header=None)\n",
    "cl_k2k2_trough.columns = ['L', 'CL']\n",
    "cl_k2k2_trough.index = np.arange(10000)\n",
    "\n",
    "cl_kk_trough = pd.read_csv(c_ell_path+\"f1z1f2z1.dat\", sep=' ', header=None)\n",
    "cl_kk_trough.columns = ['L', 'CL']\n",
    "cl_kk_trough.index = np.arange(10000)\n",
    "cl_kk_trough['CL'] = cl_k1k1_trough['CL'] + cl_k2k2_trough['CL']"
   ]
  },
  {
   "cell_type": "code",
   "execution_count": 173,
   "metadata": {},
   "outputs": [
    {
     "data": {
      "text/html": [
       "<div>\n",
       "<style scoped>\n",
       "    .dataframe tbody tr th:only-of-type {\n",
       "        vertical-align: middle;\n",
       "    }\n",
       "\n",
       "    .dataframe tbody tr th {\n",
       "        vertical-align: top;\n",
       "    }\n",
       "\n",
       "    .dataframe thead th {\n",
       "        text-align: right;\n",
       "    }\n",
       "</style>\n",
       "<table border=\"1\" class=\"dataframe\">\n",
       "  <thead>\n",
       "    <tr style=\"text-align: right;\">\n",
       "      <th></th>\n",
       "      <th>L</th>\n",
       "      <th>CL</th>\n",
       "    </tr>\n",
       "  </thead>\n",
       "  <tbody>\n",
       "    <tr>\n",
       "      <th>0</th>\n",
       "      <td>0.0</td>\n",
       "      <td>0.000000e+00</td>\n",
       "    </tr>\n",
       "    <tr>\n",
       "      <th>1</th>\n",
       "      <td>1.0</td>\n",
       "      <td>0.000000e+00</td>\n",
       "    </tr>\n",
       "    <tr>\n",
       "      <th>2</th>\n",
       "      <td>2.0</td>\n",
       "      <td>1.951003e-08</td>\n",
       "    </tr>\n",
       "    <tr>\n",
       "      <th>3</th>\n",
       "      <td>3.0</td>\n",
       "      <td>2.813902e-08</td>\n",
       "    </tr>\n",
       "    <tr>\n",
       "      <th>4</th>\n",
       "      <td>4.0</td>\n",
       "      <td>3.265473e-08</td>\n",
       "    </tr>\n",
       "    <tr>\n",
       "      <th>...</th>\n",
       "      <td>...</td>\n",
       "      <td>...</td>\n",
       "    </tr>\n",
       "    <tr>\n",
       "      <th>9995</th>\n",
       "      <td>9995.0</td>\n",
       "      <td>8.427463e-12</td>\n",
       "    </tr>\n",
       "    <tr>\n",
       "      <th>9996</th>\n",
       "      <td>9996.0</td>\n",
       "      <td>8.425706e-12</td>\n",
       "    </tr>\n",
       "    <tr>\n",
       "      <th>9997</th>\n",
       "      <td>9997.0</td>\n",
       "      <td>8.423950e-12</td>\n",
       "    </tr>\n",
       "    <tr>\n",
       "      <th>9998</th>\n",
       "      <td>9998.0</td>\n",
       "      <td>8.422195e-12</td>\n",
       "    </tr>\n",
       "    <tr>\n",
       "      <th>9999</th>\n",
       "      <td>9999.0</td>\n",
       "      <td>8.420440e-12</td>\n",
       "    </tr>\n",
       "  </tbody>\n",
       "</table>\n",
       "<p>10000 rows × 2 columns</p>\n",
       "</div>"
      ],
      "text/plain": [
       "           L            CL\n",
       "0        0.0  0.000000e+00\n",
       "1        1.0  0.000000e+00\n",
       "2        2.0  1.951003e-08\n",
       "3        3.0  2.813902e-08\n",
       "4        4.0  3.265473e-08\n",
       "...      ...           ...\n",
       "9995  9995.0  8.427463e-12\n",
       "9996  9996.0  8.425706e-12\n",
       "9997  9997.0  8.423950e-12\n",
       "9998  9998.0  8.422195e-12\n",
       "9999  9999.0  8.420440e-12\n",
       "\n",
       "[10000 rows x 2 columns]"
      ]
     },
     "execution_count": 173,
     "metadata": {},
     "output_type": "execute_result"
    }
   ],
   "source": [
    "cl_kk_trough"
   ]
  },
  {
   "cell_type": "code",
   "execution_count": 174,
   "metadata": {},
   "outputs": [
    {
     "name": "stderr",
     "output_type": "stream",
     "text": [
      "/Users/adiraju/opt/anaconda3/envs/deep_dss/lib/python3.8/site-packages/ipykernel/ipkernel.py:287: DeprecationWarning: `should_run_async` will not call `transform_cell` automatically in the future. Please pass the result to `transformed_cell` argument and any exception that happen during thetransform in `preprocessing_exc_tuple` in IPython 7.17 and above.\n",
      "  and should_run_async(code)\n"
     ]
    },
    {
     "data": {
      "text/plain": [
       "Text(0.5, 1.0, 'Trough_lenser galaxy auto-correlation')"
      ]
     },
     "execution_count": 174,
     "metadata": {},
     "output_type": "execute_result"
    },
    {
     "data": {
      "image/png": "[encoded data removed]",
      "text/plain": [
       "<Figure size 432x288 with 1 Axes>"
      ]
     },
     "metadata": {
      "needs_background": "light"
     },
     "output_type": "display_data"
    }
   ],
   "source": [
    "plt.plot(cl_gg_trough['L'], cl_gg_trough['CL'])\n",
    "plt.title(\"Trough_lenser galaxy auto-correlation\")"
   ]
  },
  {
   "cell_type": "code",
   "execution_count": 175,
   "metadata": {},
   "outputs": [
    {
     "name": "stderr",
     "output_type": "stream",
     "text": [
      "/Users/adiraju/opt/anaconda3/envs/deep_dss/lib/python3.8/site-packages/ipykernel/ipkernel.py:287: DeprecationWarning: `should_run_async` will not call `transform_cell` automatically in the future. Please pass the result to `transformed_cell` argument and any exception that happen during thetransform in `preprocessing_exc_tuple` in IPython 7.17 and above.\n",
      "  and should_run_async(code)\n"
     ]
    },
    {
     "data": {
      "text/plain": [
       "Text(0.5, 1.0, 'Trough_lenser galaxy-lensing cross-correlation')"
      ]
     },
     "execution_count": 175,
     "metadata": {},
     "output_type": "execute_result"
    },
    {
     "data": {
      "image/png": "[encoded data removed]",
      "text/plain": [
       "<Figure size 432x288 with 1 Axes>"
      ]
     },
     "metadata": {
      "needs_background": "light"
     },
     "output_type": "display_data"
    }
   ],
   "source": [
    "plt.plot(cl_gk_trough['L'], cl_gk_trough['CL'])\n",
    "plt.title(\"Trough_lenser galaxy-lensing cross-correlation\")"
   ]
  },
  {
   "cell_type": "code",
   "execution_count": 176,
   "metadata": {},
   "outputs": [
    {
     "name": "stderr",
     "output_type": "stream",
     "text": [
      "/Users/adiraju/opt/anaconda3/envs/deep_dss/lib/python3.8/site-packages/ipykernel/ipkernel.py:287: DeprecationWarning: `should_run_async` will not call `transform_cell` automatically in the future. Please pass the result to `transformed_cell` argument and any exception that happen during thetransform in `preprocessing_exc_tuple` in IPython 7.17 and above.\n",
      "  and should_run_async(code)\n"
     ]
    },
    {
     "data": {
      "text/plain": [
       "Text(0.5, 1.0, 'Trough_lenser lensing auto-correlation')"
      ]
     },
     "execution_count": 176,
     "metadata": {},
     "output_type": "execute_result"
    },
    {
     "data": {
      "image/png": "[encoded data removed]",
      "text/plain": [
       "<Figure size 432x288 with 1 Axes>"
      ]
     },
     "metadata": {
      "needs_background": "light"
     },
     "output_type": "display_data"
    }
   ],
   "source": [
    "plt.plot(cl_kk_trough['L'], cl_kk_trough['CL'])\n",
    "plt.title(\"Trough_lenser lensing auto-correlation\")"
   ]
  },
  {
   "cell_type": "code",
   "execution_count": 188,
   "metadata": {},
   "outputs": [
    {
     "name": "stderr",
     "output_type": "stream",
     "text": [
      "/Users/adiraju/opt/anaconda3/envs/deep_dss/lib/python3.8/site-packages/ipykernel/ipkernel.py:287: DeprecationWarning: `should_run_async` will not call `transform_cell` automatically in the future. Please pass the result to `transformed_cell` argument and any exception that happen during thetransform in `preprocessing_exc_tuple` in IPython 7.17 and above.\n",
      "  and should_run_async(code)\n"
     ]
    },
    {
     "data": {
      "text/plain": [
       "Text(0.5, 1.0, 'Predicted vs. measured galaxy auto-correlations')"
      ]
     },
     "execution_count": 188,
     "metadata": {},
     "output_type": "execute_result"
    },
    {
     "data": {
      "image/png": "[encoded data removed]",
      "text/plain": [
       "<Figure size 432x288 with 1 Axes>"
      ]
     },
     "metadata": {
      "needs_background": "light"
     },
     "output_type": "display_data"
    }
   ],
   "source": [
    "plt.plot(ell_arr, cl_gg[0], 'b-', label='obs')\n",
    "plt.plot(cl_gg_trough['L'][:int(np.ceil(np.max(ell_arr)))], 1e8*cl_gg_trough['CL'][:int(np.ceil(np.max(ell_arr)))],\n",
    "         'r-', label='pred')\n",
    "plt.legend()\n",
    "plt.title(\"Predicted vs. measured galaxy auto-correlations\")"
   ]
  },
  {
   "cell_type": "code",
   "execution_count": null,
   "metadata": {},
   "outputs": [],
   "source": []
  },
  {
   "cell_type": "code",
   "execution_count": 187,
   "metadata": {},
   "outputs": [
    {
     "name": "stderr",
     "output_type": "stream",
     "text": [
      "/Users/adiraju/opt/anaconda3/envs/deep_dss/lib/python3.8/site-packages/ipykernel/ipkernel.py:287: DeprecationWarning: `should_run_async` will not call `transform_cell` automatically in the future. Please pass the result to `transformed_cell` argument and any exception that happen during thetransform in `preprocessing_exc_tuple` in IPython 7.17 and above.\n",
      "  and should_run_async(code)\n"
     ]
    },
    {
     "data": {
      "text/plain": [
       "Text(0.5, 1.0, 'Predicted vs. measured galaxy-lensing cross-correlations')"
      ]
     },
     "execution_count": 187,
     "metadata": {},
     "output_type": "execute_result"
    },
    {
     "data": {
      "image/png": "[encoded data removed]",
      "text/plain": [
       "<Figure size 432x288 with 1 Axes>"
      ]
     },
     "metadata": {
      "needs_background": "light"
     },
     "output_type": "display_data"
    }
   ],
   "source": [
    "plt.plot(ell_arr, cl_gk[0], 'b-', label='obs')\n",
    "plt.plot(cl_gk_trough['L'][:int(np.ceil(np.max(ell_arr)))], 1e8*cl_gk_trough['CL'][:int(np.ceil(np.max(ell_arr)))],\n",
    "         'r-', label='pred')\n",
    "plt.legend()\n",
    "plt.title(\"Predicted vs. measured galaxy-lensing cross-correlations\")"
   ]
  },
  {
   "cell_type": "code",
   "execution_count": 186,
   "metadata": {},
   "outputs": [
    {
     "name": "stderr",
     "output_type": "stream",
     "text": [
      "/Users/adiraju/opt/anaconda3/envs/deep_dss/lib/python3.8/site-packages/ipykernel/ipkernel.py:287: DeprecationWarning: `should_run_async` will not call `transform_cell` automatically in the future. Please pass the result to `transformed_cell` argument and any exception that happen during thetransform in `preprocessing_exc_tuple` in IPython 7.17 and above.\n",
      "  and should_run_async(code)\n"
     ]
    },
    {
     "data": {
      "text/plain": [
       "Text(0.5, 1.0, 'Predicted vs. measured lensing auto-correlations')"
      ]
     },
     "execution_count": 186,
     "metadata": {},
     "output_type": "execute_result"
    },
    {
     "data": {
      "image/png": "[encoded data removed]",
      "text/plain": [
       "<Figure size 432x288 with 1 Axes>"
      ]
     },
     "metadata": {
      "needs_background": "light"
     },
     "output_type": "display_data"
    }
   ],
   "source": [
    "plt.plot(ell_arr, cl_kk[0], 'b-', label='obs')\n",
    "plt.plot(cl_kk_trough['L'][:int(np.ceil(np.max(ell_arr)))], 1e11*cl_kk_trough['CL'][:int(np.ceil(np.max(ell_arr)))],\n",
    "         'r-', label='pred')\n",
    "plt.legend()\n",
    "plt.title(\"Predicted vs. measured lensing auto-correlations\")"
   ]
  },
  {
   "cell_type": "code",
   "execution_count": null,
   "metadata": {},
   "outputs": [],
   "source": []
  }
 ],
 "metadata": {
  "kernelspec": {
   "display_name": "Python 3",
   "language": "python",
   "name": "python3"
  },
  "language_info": {
   "codemirror_mode": {
    "name": "ipython",
    "version": 3
   },
   "file_extension": ".py",
   "mimetype": "text/x-python",
   "name": "python",
   "nbconvert_exporter": "python",
   "pygments_lexer": "ipython3",
   "version": "3.8.5"
  }
 },
 "nbformat": 4,
 "nbformat_minor": 4
}
