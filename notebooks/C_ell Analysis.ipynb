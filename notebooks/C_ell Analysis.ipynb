{
 "cells": [
  {
   "cell_type": "markdown",
   "metadata": {},
   "source": [
    "# Power Spectrum Analysis"
   ]
  },
  {
   "cell_type": "markdown",
   "metadata": {},
   "source": [
    "## Configuration"
   ]
  },
  {
   "cell_type": "code",
   "execution_count": 2,
   "metadata": {},
   "outputs": [],
   "source": [
    "%load_ext autoreload\n",
    "%autoreload 2"
   ]
  },
  {
   "cell_type": "code",
   "execution_count": 3,
   "metadata": {},
   "outputs": [],
   "source": [
    "import os\n",
    "import pickle\n",
    "import numpy as np\n",
    "import healpy as hp\n",
    "import matplotlib.pyplot as plt\n",
    "import matplotlib as mpl\n",
    "from deep_dss.helpers import *\n",
    "import pymaster as nmt\n",
    "import warnings\n",
    "\n",
    "warnings.filterwarnings(action='once')\n",
    "\n",
    "# Run on GPU.\n",
    "os.environ[\"CUDA_VISIBLE_DEVICES\"] = \"0\""
   ]
  },
  {
   "cell_type": "code",
   "execution_count": 4,
   "metadata": {},
   "outputs": [
    {
     "name": "stderr",
     "output_type": "stream",
     "text": [
      "/Users/adiraju/opt/anaconda3/envs/deep_dss/lib/python3.8/site-packages/ipykernel/ipkernel.py:287: DeprecationWarning: `should_run_async` will not call `transform_cell` automatically in the future. Please pass the result to `transformed_cell` argument and any exception that happen during thetransform in `preprocessing_exc_tuple` in IPython 7.17 and above.\n",
      "  and should_run_async(code)\n"
     ]
    }
   ],
   "source": [
    "# Defaults\n",
    "plt.rcParams.update({\n",
    "'lines.color':'black',\n",
    "'font.family':'serif',\n",
    "'font.weight':'normal',\n",
    "'text.color':'black',\n",
    "'text.usetex': True,\n",
    "'axes.edgecolor':'black',\n",
    "'axes.linewidth':1.0,\n",
    "'axes.titlesize':'x-large',\n",
    "'axes.labelsize':'x-large',\n",
    "'axes.labelcolor':'black',\n",
    "'xtick.labelsize':'x-large',\n",
    "'xtick.minor.width':1.0,\n",
    "'xtick.major.width':1.0,\n",
    "'ytick.major.size':7,\n",
    "'ytick.minor.size':4,\n",
    "'ytick.major.pad':8,\n",
    "'ytick.minor.pad':8,\n",
    "'ytick.labelsize':'x-large',\n",
    "'ytick.minor.width':1.0,\n",
    "'ytick.major.width':1.0,\n",
    "'legend.numpoints':1,\n",
    "'legend.fontsize':'x-large',\n",
    "'legend.shadow':False,\n",
    "'legend.frameon':False})"
   ]
  },
  {
   "cell_type": "code",
   "execution_count": 5,
   "metadata": {},
   "outputs": [],
   "source": [
    "# Config variables\n",
    "config = \"ck\"\n",
    "zscale = True\n",
    "nside = 1024\n",
    "order = 2\n",
    "gaussian = False\n",
    "free_bias = False\n",
    "prior_low = 0.8\n",
    "prior_high = 3.0"
   ]
  },
  {
   "cell_type": "code",
   "execution_count": 6,
   "metadata": {},
   "outputs": [
    {
     "name": "stderr",
     "output_type": "stream",
     "text": [
      "/Users/adiraju/opt/anaconda3/envs/deep_dss/lib/python3.8/site-packages/healpy/fitsfunc.py:368: UserWarning: If you are not specifying the input dtype and using the default np.float64 dtype of read_map(), please consider that it will change in a future version to None as to keep the same dtype of the input file: please explicitly set the dtype if it is important to you.\n",
      "  warnings.warn(\n",
      "/Users/adiraju/opt/anaconda3/envs/deep_dss/lib/python3.8/site-packages/healpy/fitsfunc.py:391: UserWarning: NSIDE = 1024\n",
      "  warnings.warn(\"NSIDE = {0:d}\".format(nside))\n",
      "/Users/adiraju/opt/anaconda3/envs/deep_dss/lib/python3.8/site-packages/healpy/fitsfunc.py:400: UserWarning: ORDERING = NESTED in fits file\n",
      "  warnings.warn(\"ORDERING = {0:s} in fits file\".format(ordering))\n",
      "/Users/adiraju/opt/anaconda3/envs/deep_dss/lib/python3.8/site-packages/healpy/fitsfunc.py:428: UserWarning: INDXSCHM = IMPLICIT\n",
      "  warnings.warn(\"INDXSCHM = {0:s}\".format(schm))\n",
      "/Users/adiraju/opt/anaconda3/envs/deep_dss/lib/python3.8/site-packages/healpy/fitsfunc.py:368: UserWarning: If you are not specifying the input dtype and using the default np.float64 dtype of read_map(), please consider that it will change in a future version to None as to keep the same dtype of the input file: please explicitly set the dtype if it is important to you.\n",
      "  warnings.warn(\n",
      "/Users/adiraju/opt/anaconda3/envs/deep_dss/lib/python3.8/site-packages/healpy/fitsfunc.py:391: UserWarning: NSIDE = 1024\n",
      "  warnings.warn(\"NSIDE = {0:d}\".format(nside))\n",
      "/Users/adiraju/opt/anaconda3/envs/deep_dss/lib/python3.8/site-packages/healpy/fitsfunc.py:400: UserWarning: ORDERING = NESTED in fits file\n",
      "  warnings.warn(\"ORDERING = {0:s} in fits file\".format(ordering))\n",
      "/Users/adiraju/opt/anaconda3/envs/deep_dss/lib/python3.8/site-packages/healpy/fitsfunc.py:428: UserWarning: INDXSCHM = IMPLICIT\n",
      "  warnings.warn(\"INDXSCHM = {0:s}\".format(schm))\n"
     ]
    }
   ],
   "source": [
    "# Using covariance Q1 data\n",
    "# data = split_count_and_lensing_maps_by_dataset(\"COVQ1\", config=config, covariance=True, zscale=zscale)\n",
    "data = split_count_and_lensing_maps_by_vals([201], config=config, covariance=True, zscale=zscale)"
   ]
  },
  {
   "cell_type": "code",
   "execution_count": 7,
   "metadata": {},
   "outputs": [
    {
     "name": "stderr",
     "output_type": "stream",
     "text": [
      "/Users/adiraju/opt/anaconda3/envs/deep_dss/lib/python3.8/site-packages/ipykernel/ipkernel.py:287: DeprecationWarning: `should_run_async` will not call `transform_cell` automatically in the future. Please pass the result to `transformed_cell` argument and any exception that happen during thetransform in `preprocessing_exc_tuple` in IPython 7.17 and above.\n",
      "  and should_run_async(code)\n"
     ]
    },
    {
     "data": {
      "text/plain": [
       "{'x': array([[[ 0.        , -1.01371929],\n",
       "         [ 0.        , -0.299405  ],\n",
       "         [ 0.        ,  0.27382059],\n",
       "         ...,\n",
       "         [ 0.        , -0.43330287],\n",
       "         [ 0.        , -1.01612761],\n",
       "         [ 0.        , -1.21846043]],\n",
       " \n",
       "        [[ 0.        ,  0.93302327],\n",
       "         [ 0.        , -0.38506608],\n",
       "         [ 1.        ,  0.24338131],\n",
       "         ...,\n",
       "         [ 0.        ,  0.50579427],\n",
       "         [ 0.        ,  0.5116162 ],\n",
       "         [ 2.        ,  0.26097505]],\n",
       " \n",
       "        [[ 0.        , -1.47426815],\n",
       "         [ 0.        , -1.33638096],\n",
       "         [ 0.        , -0.60784905],\n",
       "         ...,\n",
       "         [ 2.        , -1.07038273],\n",
       "         [ 3.        ,  2.30057749],\n",
       "         [ 1.        ,  1.32391871]],\n",
       " \n",
       "        ...,\n",
       " \n",
       "        [[ 0.        , -1.50377169],\n",
       "         [ 1.        , -1.18341234],\n",
       "         [ 0.        , -2.03975963],\n",
       "         ...,\n",
       "         [ 1.        ,  1.21231524],\n",
       "         [ 0.        ,  1.93704527],\n",
       "         [ 0.        , -0.19952708]],\n",
       " \n",
       "        [[ 0.        , -0.0885949 ],\n",
       "         [ 0.        ,  0.29733486],\n",
       "         [ 0.        ,  1.29719352],\n",
       "         ...,\n",
       "         [ 0.        ,  1.43948279],\n",
       "         [ 0.        ,  1.35968495],\n",
       "         [ 4.        , -1.22754387]],\n",
       " \n",
       "        [[ 0.        ,  0.14301931],\n",
       "         [ 0.        ,  2.28429098],\n",
       "         [ 0.        ,  0.08026142],\n",
       "         ...,\n",
       "         [ 1.        ,  0.03624419],\n",
       "         [ 2.        ,  0.82299642],\n",
       "         [ 0.        , -0.56090282]]]),\n",
       " 'y': array([[201.  ,   1.54],\n",
       "        [201.  ,   1.54],\n",
       "        [201.  ,   1.54],\n",
       "        [201.  ,   1.54],\n",
       "        [201.  ,   1.54],\n",
       "        [201.  ,   1.54],\n",
       "        [201.  ,   1.54],\n",
       "        [201.  ,   1.54],\n",
       "        [201.  ,   1.54],\n",
       "        [201.  ,   1.54],\n",
       "        [201.  ,   1.54],\n",
       "        [201.  ,   1.54],\n",
       "        [201.  ,   1.54],\n",
       "        [201.  ,   1.54],\n",
       "        [201.  ,   1.54],\n",
       "        [201.  ,   1.54],\n",
       "        [201.  ,   1.54],\n",
       "        [201.  ,   1.54],\n",
       "        [201.  ,   1.54],\n",
       "        [201.  ,   1.54],\n",
       "        [201.  ,   1.54],\n",
       "        [201.  ,   1.54],\n",
       "        [201.  ,   1.54],\n",
       "        [201.  ,   1.54],\n",
       "        [201.  ,   1.54],\n",
       "        [201.  ,   1.54],\n",
       "        [201.  ,   1.54],\n",
       "        [201.  ,   1.54],\n",
       "        [201.  ,   1.54],\n",
       "        [201.  ,   1.54],\n",
       "        [201.  ,   1.54],\n",
       "        [201.  ,   1.54],\n",
       "        [201.  ,   1.54],\n",
       "        [201.  ,   1.54],\n",
       "        [201.  ,   1.54],\n",
       "        [201.  ,   1.54],\n",
       "        [201.  ,   1.54],\n",
       "        [201.  ,   1.54],\n",
       "        [201.  ,   1.54],\n",
       "        [201.  ,   1.54],\n",
       "        [201.  ,   1.54],\n",
       "        [201.  ,   1.54],\n",
       "        [201.  ,   1.54],\n",
       "        [201.  ,   1.54],\n",
       "        [201.  ,   1.54],\n",
       "        [201.  ,   1.54],\n",
       "        [201.  ,   1.54],\n",
       "        [201.  ,   1.54]])}"
      ]
     },
     "execution_count": 7,
     "metadata": {},
     "output_type": "execute_result"
    }
   ],
   "source": [
    "data"
   ]
  },
  {
   "cell_type": "code",
   "execution_count": 8,
   "metadata": {},
   "outputs": [
    {
     "data": {
      "text/plain": [
       "(48, 262144, 2)"
      ]
     },
     "execution_count": 8,
     "metadata": {},
     "output_type": "execute_result"
    }
   ],
   "source": [
    "data = data[\"x\"]\n",
    "data.shape"
   ]
  },
  {
   "cell_type": "markdown",
   "metadata": {},
   "source": [
    "## Computing C_ells"
   ]
  },
  {
   "cell_type": "code",
   "execution_count": 9,
   "metadata": {},
   "outputs": [],
   "source": [
    "bias = 1.54\n",
    "density_arcmins = 0.04377 # Tracer density, galaxies/arcmin^2\n",
    "density_steradians = density_arcmins * 3600 * (180/np.pi)**2"
   ]
  },
  {
   "cell_type": "code",
   "execution_count": 10,
   "metadata": {},
   "outputs": [
    {
     "data": {
      "text/plain": [
       "517278.36218405055"
      ]
     },
     "execution_count": 10,
     "metadata": {},
     "output_type": "execute_result"
    }
   ],
   "source": [
    "density_steradians"
   ]
  },
  {
   "cell_type": "code",
   "execution_count": null,
   "metadata": {},
   "outputs": [
    {
     "name": "stderr",
     "output_type": "stream",
     "text": [
      "/Users/adiraju/opt/anaconda3/envs/deep_dss/lib/python3.8/site-packages/ipykernel/ipkernel.py:287: DeprecationWarning: `should_run_async` will not call `transform_cell` automatically in the future. Please pass the result to `transformed_cell` argument and any exception that happen during thetransform in `preprocessing_exc_tuple` in IPython 7.17 and above.\n",
      "  and should_run_async(code)\n"
     ]
    }
   ],
   "source": [
    "# Create mask for partial sky maps\n",
    "mask_map = np.zeros(hp.nside2npix(nside))\n",
    "mask_map[:(nside//order)**2] = 1\n",
    "mask_map = hp.reorder(mask_map, n2r=True)\n",
    "mask = nmt.mask_apodization(mask_map,\n",
    "                            1., apotype=\"Smooth\")"
   ]
  },
  {
   "cell_type": "code",
   "execution_count": null,
   "metadata": {},
   "outputs": [],
   "source": [
    "hp.mollview(mask_map, title=\"$C()\")"
   ]
  },
  {
   "cell_type": "code",
   "execution_count": null,
   "metadata": {},
   "outputs": [],
   "source": [
    "# Create full-sky version of counts map\n",
    "\n",
    "count_map = np.zeros(hp.nside2npix(nside))\n",
    "count_map[:(nside//order)**2] = np.copy(data[0,:,0])\n",
    "count_map = hp.reorder(count_map, n2r=True)\n",
    "hp.mollview(count_map, title=\"Sample galaxy count map\")"
   ]
  },
  {
   "cell_type": "code",
   "execution_count": null,
   "metadata": {},
   "outputs": [],
   "source": [
    "# Create full-sky version of lensing map\n",
    "lensing_map = np.zeros(hp.nside2npix(nside))\n",
    "lensing_map[:(nside//order)**2] = np.copy(data[0,:,1])\n",
    "lensing_map = hp.reorder(lensing_map, n2r=True)\n",
    "hp.mollview(lensing_map, title=\"Sample lensing map\")"
   ]
  },
  {
   "cell_type": "code",
   "execution_count": null,
   "metadata": {},
   "outputs": [],
   "source": [
    "# Create Namaster fields from maps\n",
    "count_field = nmt.NmtField(mask, [count_map])\n",
    "lensing_field = nmt.NmtField(mask, [lensing_map])"
   ]
  },
  {
   "cell_type": "code",
   "execution_count": null,
   "metadata": {},
   "outputs": [],
   "source": [
    "full_count_map = np.reshape(data[:,:,0], (48*262144))\n",
    "full_lensing_map = np.reshape(data[:,:,1], (48*262144))"
   ]
  },
  {
   "cell_type": "code",
   "execution_count": null,
   "metadata": {},
   "outputs": [],
   "source": [
    "full_count_map = hp.reorder(full_count_map, n2r=True)\n",
    "full_lensing_map = hp.reorder(full_lensing_map, n2r=True)"
   ]
  },
  {
   "cell_type": "code",
   "execution_count": null,
   "metadata": {},
   "outputs": [],
   "source": [
    "hp.mollview(full_count_map)"
   ]
  },
  {
   "cell_type": "code",
   "execution_count": null,
   "metadata": {},
   "outputs": [],
   "source": [
    "hp.mollview(full_lensing_map)"
   ]
  },
  {
   "cell_type": "code",
   "execution_count": null,
   "metadata": {},
   "outputs": [],
   "source": [
    "# Create Namaster fields from maps\n",
    "full_count_field = nmt.NmtField(np.zeros(hp.nside2npix(nside)), [full_count_map])\n",
    "full_lensing_field = nmt.NmtField(np.zeros(hp.nside2npix(nside)), [full_lensing_map])"
   ]
  },
  {
   "cell_type": "code",
   "execution_count": null,
   "metadata": {},
   "outputs": [],
   "source": [
    "# Initialize binning scheme with four ells per bandpower\n",
    "binning = nmt.NmtBin.from_nside_linear(nside, 8)\n",
    "ell_arr = binning.get_effective_ells()\n",
    "print(ell_arr)"
   ]
  },
  {
   "cell_type": "code",
   "execution_count": null,
   "metadata": {},
   "outputs": [],
   "source": [
    "# Compute MASTER estimator\n",
    "cl_gg_full = nmt.compute_full_master(full_count_field, full_count_field, binning)\n",
    "cl_gk_full = nmt.compute_full_master(full_count_field, full_lensing_field, binning)\n",
    "cl_kk_full = nmt.compute_full_master(full_lensing_field, full_lensing_field, binning)"
   ]
  },
  {
   "cell_type": "code",
   "execution_count": null,
   "metadata": {},
   "outputs": [],
   "source": [
    "# Compute MASTER estimator\n",
    "cl_gg = nmt.compute_full_master(count_field, count_field, binning)\n",
    "cl_gk = nmt.compute_full_master(count_field, lensing_field, binning)\n",
    "cl_kk = nmt.compute_full_master(lensing_field, lensing_field, binning)"
   ]
  },
  {
   "cell_type": "code",
   "execution_count": null,
   "metadata": {},
   "outputs": [],
   "source": [
    "cl_gg"
   ]
  },
  {
   "cell_type": "code",
   "execution_count": null,
   "metadata": {},
   "outputs": [],
   "source": [
    "cl_gk"
   ]
  },
  {
   "cell_type": "code",
   "execution_count": null,
   "metadata": {},
   "outputs": [],
   "source": [
    "cl_kk"
   ]
  },
  {
   "cell_type": "code",
   "execution_count": 161,
   "metadata": {},
   "outputs": [
    {
     "data": {
      "text/plain": [
       "Text(0.5, 1.0, 'MASTER estimate for galaxy auto-correlation')"
      ]
     },
     "execution_count": 161,
     "metadata": {},
     "output_type": "execute_result"
    },
    {
     "data": {
      "image/png": "[encoded data removed]",
      "text/plain": [
       "<Figure size 432x288 with 1 Axes>"
      ]
     },
     "metadata": {
      "needs_background": "light"
     },
     "output_type": "display_data"
    }
   ],
   "source": [
    "plt.plot(ell_arr, cl_gg[0])\n",
    "plt.title(\"MASTER estimate for galaxy auto-correlation\")"
   ]
  },
  {
   "cell_type": "code",
   "execution_count": 164,
   "metadata": {},
   "outputs": [
    {
     "name": "stderr",
     "output_type": "stream",
     "text": [
      "/Users/adiraju/opt/anaconda3/envs/deep_dss/lib/python3.8/site-packages/ipykernel/ipkernel.py:287: DeprecationWarning: `should_run_async` will not call `transform_cell` automatically in the future. Please pass the result to `transformed_cell` argument and any exception that happen during thetransform in `preprocessing_exc_tuple` in IPython 7.17 and above.\n",
      "  and should_run_async(code)\n"
     ]
    },
    {
     "data": {
      "text/plain": [
       "Text(0.5, 1.0, 'MASTER estimate for galaxy-lensing cross-correlation')"
      ]
     },
     "execution_count": 164,
     "metadata": {},
     "output_type": "execute_result"
    },
    {
     "data": {
      "image/png": "[encoded data removed]",
      "text/plain": [
       "<Figure size 432x288 with 1 Axes>"
      ]
     },
     "metadata": {
      "needs_background": "light"
     },
     "output_type": "display_data"
    }
   ],
   "source": [
    "plt.plot(ell_arr, cl_gk[0])\n",
    "plt.title(\"MASTER estimate for galaxy-lensing cross-correlation\")"
   ]
  },
  {
   "cell_type": "code",
   "execution_count": 189,
   "metadata": {},
   "outputs": [
    {
     "name": "stderr",
     "output_type": "stream",
     "text": [
      "/Users/adiraju/opt/anaconda3/envs/deep_dss/lib/python3.8/site-packages/ipykernel/ipkernel.py:287: DeprecationWarning: `should_run_async` will not call `transform_cell` automatically in the future. Please pass the result to `transformed_cell` argument and any exception that happen during thetransform in `preprocessing_exc_tuple` in IPython 7.17 and above.\n",
      "  and should_run_async(code)\n"
     ]
    },
    {
     "data": {
      "text/plain": [
       "Text(0.5, 1.0, 'MASTER estimate for lensing auto-correlation')"
      ]
     },
     "execution_count": 189,
     "metadata": {},
     "output_type": "execute_result"
    },
    {
     "data": {
      "image/png": "[encoded data removed]",
      "text/plain": [
       "<Figure size 432x288 with 1 Axes>"
      ]
     },
     "metadata": {
      "needs_background": "light"
     },
     "output_type": "display_data"
    }
   ],
   "source": [
    "plt.plot(ell_arr, cl_kk[0])\n",
    "plt.title(\"MASTER estimate for lensing auto-correlation\")"
   ]
  },
  {
   "cell_type": "code",
   "execution_count": 94,
   "metadata": {},
   "outputs": [
    {
     "name": "stderr",
     "output_type": "stream",
     "text": [
      "/Users/adiraju/opt/anaconda3/envs/deep_dss/lib/python3.8/site-packages/ipykernel/ipkernel.py:287: DeprecationWarning: `should_run_async` will not call `transform_cell` automatically in the future. Please pass the result to `transformed_cell` argument and any exception that happen during thetransform in `preprocessing_exc_tuple` in IPython 7.17 and above.\n",
      "  and should_run_async(code)\n"
     ]
    }
   ],
   "source": [
    "c_ell_path = \"../data/flaskv3/input/dss-0.85/dss-0.85-Cl-\""
   ]
  },
  {
   "cell_type": "code",
   "execution_count": 166,
   "metadata": {},
   "outputs": [
    {
     "name": "stderr",
     "output_type": "stream",
     "text": [
      "/Users/adiraju/opt/anaconda3/envs/deep_dss/lib/python3.8/site-packages/ipykernel/ipkernel.py:287: DeprecationWarning: `should_run_async` will not call `transform_cell` automatically in the future. Please pass the result to `transformed_cell` argument and any exception that happen during thetransform in `preprocessing_exc_tuple` in IPython 7.17 and above.\n",
      "  and should_run_async(code)\n"
     ]
    }
   ],
   "source": [
    "cl_gg_trough = pd.read_csv(c_ell_path+\"f1z1f1z1.dat\", sep=' ', header=None)\n",
    "cl_gg_trough.columns = ['L', 'CL']\n",
    "cl_gg_trough.index = np.arange(10000)"
   ]
  },
  {
   "cell_type": "code",
   "execution_count": 167,
   "metadata": {},
   "outputs": [],
   "source": [
    "cl_gg_trough['CL'] = cl_gg_trough['CL']*bias**2 + 1/density_steradians"
   ]
  },
  {
   "cell_type": "code",
   "execution_count": 168,
   "metadata": {},
   "outputs": [
    {
     "data": {
      "text/html": [
       "<div>\n",
       "<style scoped>\n",
       "    .dataframe tbody tr th:only-of-type {\n",
       "        vertical-align: middle;\n",
       "    }\n",
       "\n",
       "    .dataframe tbody tr th {\n",
       "        vertical-align: top;\n",
       "    }\n",
       "\n",
       "    .dataframe thead th {\n",
       "        text-align: right;\n",
       "    }\n",
       "</style>\n",
       "<table border=\"1\" class=\"dataframe\">\n",
       "  <thead>\n",
       "    <tr style=\"text-align: right;\">\n",
       "      <th></th>\n",
       "      <th>L</th>\n",
       "      <th>CL</th>\n",
       "    </tr>\n",
       "  </thead>\n",
       "  <tbody>\n",
       "    <tr>\n",
       "      <th>0</th>\n",
       "      <td>0.0</td>\n",
       "      <td>0.000002</td>\n",
       "    </tr>\n",
       "    <tr>\n",
       "      <th>1</th>\n",
       "      <td>1.0</td>\n",
       "      <td>0.000002</td>\n",
       "    </tr>\n",
       "    <tr>\n",
       "      <th>2</th>\n",
       "      <td>2.0</td>\n",
       "      <td>0.000021</td>\n",
       "    </tr>\n",
       "    <tr>\n",
       "      <th>3</th>\n",
       "      <td>3.0</td>\n",
       "      <td>0.000035</td>\n",
       "    </tr>\n",
       "    <tr>\n",
       "      <th>4</th>\n",
       "      <td>4.0</td>\n",
       "      <td>0.000045</td>\n",
       "    </tr>\n",
       "    <tr>\n",
       "      <th>...</th>\n",
       "      <td>...</td>\n",
       "      <td>...</td>\n",
       "    </tr>\n",
       "    <tr>\n",
       "      <th>9995</th>\n",
       "      <td>9995.0</td>\n",
       "      <td>0.000002</td>\n",
       "    </tr>\n",
       "    <tr>\n",
       "      <th>9996</th>\n",
       "      <td>9996.0</td>\n",
       "      <td>0.000002</td>\n",
       "    </tr>\n",
       "    <tr>\n",
       "      <th>9997</th>\n",
       "      <td>9997.0</td>\n",
       "      <td>0.000002</td>\n",
       "    </tr>\n",
       "    <tr>\n",
       "      <th>9998</th>\n",
       "      <td>9998.0</td>\n",
       "      <td>0.000002</td>\n",
       "    </tr>\n",
       "    <tr>\n",
       "      <th>9999</th>\n",
       "      <td>9999.0</td>\n",
       "      <td>0.000002</td>\n",
       "    </tr>\n",
       "  </tbody>\n",
       "</table>\n",
       "<p>10000 rows × 2 columns</p>\n",
       "</div>"
      ],
      "text/plain": [
       "           L        CL\n",
       "0        0.0  0.000002\n",
       "1        1.0  0.000002\n",
       "2        2.0  0.000021\n",
       "3        3.0  0.000035\n",
       "4        4.0  0.000045\n",
       "...      ...       ...\n",
       "9995  9995.0  0.000002\n",
       "9996  9996.0  0.000002\n",
       "9997  9997.0  0.000002\n",
       "9998  9998.0  0.000002\n",
       "9999  9999.0  0.000002\n",
       "\n",
       "[10000 rows x 2 columns]"
      ]
     },
     "execution_count": 168,
     "metadata": {},
     "output_type": "execute_result"
    }
   ],
   "source": [
    "cl_gg_trough"
   ]
  },
  {
   "cell_type": "code",
   "execution_count": 169,
   "metadata": {},
   "outputs": [
    {
     "name": "stderr",
     "output_type": "stream",
     "text": [
      "/Users/adiraju/opt/anaconda3/envs/deep_dss/lib/python3.8/site-packages/ipykernel/ipkernel.py:287: DeprecationWarning: `should_run_async` will not call `transform_cell` automatically in the future. Please pass the result to `transformed_cell` argument and any exception that happen during thetransform in `preprocessing_exc_tuple` in IPython 7.17 and above.\n",
      "  and should_run_async(code)\n"
     ]
    }
   ],
   "source": [
    "cl_gk_trough = pd.read_csv(c_ell_path+\"f1z1f2z1.dat\", sep=' ', header=None)\n",
    "cl_gk_trough.columns = ['L', 'CL']\n",
    "cl_gk_trough.index = np.arange(10000)"
   ]
  },
  {
   "cell_type": "code",
   "execution_count": 170,
   "metadata": {},
   "outputs": [],
   "source": [
    "cl_gk_trough['CL'] = bias*cl_gk_trough['CL']"
   ]
  },
  {
   "cell_type": "code",
   "execution_count": 171,
   "metadata": {},
   "outputs": [
    {
     "data": {
      "text/html": [
       "<div>\n",
       "<style scoped>\n",
       "    .dataframe tbody tr th:only-of-type {\n",
       "        vertical-align: middle;\n",
       "    }\n",
       "\n",
       "    .dataframe tbody tr th {\n",
       "        vertical-align: top;\n",
       "    }\n",
       "\n",
       "    .dataframe thead th {\n",
       "        text-align: right;\n",
       "    }\n",
       "</style>\n",
       "<table border=\"1\" class=\"dataframe\">\n",
       "  <thead>\n",
       "    <tr style=\"text-align: right;\">\n",
       "      <th></th>\n",
       "      <th>L</th>\n",
       "      <th>CL</th>\n",
       "    </tr>\n",
       "  </thead>\n",
       "  <tbody>\n",
       "    <tr>\n",
       "      <th>0</th>\n",
       "      <td>0.0</td>\n",
       "      <td>0.000000e+00</td>\n",
       "    </tr>\n",
       "    <tr>\n",
       "      <th>1</th>\n",
       "      <td>1.0</td>\n",
       "      <td>0.000000e+00</td>\n",
       "    </tr>\n",
       "    <tr>\n",
       "      <th>2</th>\n",
       "      <td>2.0</td>\n",
       "      <td>3.073930e-07</td>\n",
       "    </tr>\n",
       "    <tr>\n",
       "      <th>3</th>\n",
       "      <td>3.0</td>\n",
       "      <td>5.163153e-07</td>\n",
       "    </tr>\n",
       "    <tr>\n",
       "      <th>4</th>\n",
       "      <td>4.0</td>\n",
       "      <td>6.719013e-07</td>\n",
       "    </tr>\n",
       "    <tr>\n",
       "      <th>...</th>\n",
       "      <td>...</td>\n",
       "      <td>...</td>\n",
       "    </tr>\n",
       "    <tr>\n",
       "      <th>9995</th>\n",
       "      <td>9995.0</td>\n",
       "      <td>2.910872e-10</td>\n",
       "    </tr>\n",
       "    <tr>\n",
       "      <th>9996</th>\n",
       "      <td>9996.0</td>\n",
       "      <td>2.910246e-10</td>\n",
       "    </tr>\n",
       "    <tr>\n",
       "      <th>9997</th>\n",
       "      <td>9997.0</td>\n",
       "      <td>2.909620e-10</td>\n",
       "    </tr>\n",
       "    <tr>\n",
       "      <th>9998</th>\n",
       "      <td>9998.0</td>\n",
       "      <td>2.908994e-10</td>\n",
       "    </tr>\n",
       "    <tr>\n",
       "      <th>9999</th>\n",
       "      <td>9999.0</td>\n",
       "      <td>2.908369e-10</td>\n",
       "    </tr>\n",
       "  </tbody>\n",
       "</table>\n",
       "<p>10000 rows × 2 columns</p>\n",
       "</div>"
      ],
      "text/plain": [
       "           L            CL\n",
       "0        0.0  0.000000e+00\n",
       "1        1.0  0.000000e+00\n",
       "2        2.0  3.073930e-07\n",
       "3        3.0  5.163153e-07\n",
       "4        4.0  6.719013e-07\n",
       "...      ...           ...\n",
       "9995  9995.0  2.910872e-10\n",
       "9996  9996.0  2.910246e-10\n",
       "9997  9997.0  2.909620e-10\n",
       "9998  9998.0  2.908994e-10\n",
       "9999  9999.0  2.908369e-10\n",
       "\n",
       "[10000 rows x 2 columns]"
      ]
     },
     "execution_count": 171,
     "metadata": {},
     "output_type": "execute_result"
    }
   ],
   "source": [
    "cl_gk_trough"
   ]
  },
  {
   "cell_type": "code",
   "execution_count": 172,
   "metadata": {},
   "outputs": [
    {
     "name": "stderr",
     "output_type": "stream",
     "text": [
      "/Users/adiraju/opt/anaconda3/envs/deep_dss/lib/python3.8/site-packages/ipykernel/ipkernel.py:287: DeprecationWarning: `should_run_async` will not call `transform_cell` automatically in the future. Please pass the result to `transformed_cell` argument and any exception that happen during thetransform in `preprocessing_exc_tuple` in IPython 7.17 and above.\n",
      "  and should_run_async(code)\n"
     ]
    }
   ],
   "source": [
    "cl_k1k1_trough = pd.read_csv(c_ell_path+\"f2z1f2z1.dat\", sep=' ', header=None)\n",
    "cl_k1k1_trough.columns = ['L', 'CL']\n",
    "cl_k1k1_trough.index = np.arange(10000)\n",
    "\n",
    "cl_k2k2_trough = pd.read_csv(c_ell_path+\"f2z2f2z2.dat\", sep=' ', header=None)\n",
    "cl_k2k2_trough.columns = ['L', 'CL']\n",
    "cl_k2k2_trough.index = np.arange(10000)\n",
    "\n",
    "cl_kk_trough = pd.read_csv(c_ell_path+\"f1z1f2z1.dat\", sep=' ', header=None)\n",
    "cl_kk_trough.columns = ['L', 'CL']\n",
    "cl_kk_trough.index = np.arange(10000)\n",
    "cl_kk_trough['CL'] = cl_k1k1_trough['CL'] + cl_k2k2_trough['CL']"
   ]
  },
  {
   "cell_type": "code",
   "execution_count": 173,
   "metadata": {},
   "outputs": [
    {
     "data": {
      "text/html": [
       "<div>\n",
       "<style scoped>\n",
       "    .dataframe tbody tr th:only-of-type {\n",
       "        vertical-align: middle;\n",
       "    }\n",
       "\n",
       "    .dataframe tbody tr th {\n",
       "        vertical-align: top;\n",
       "    }\n",
       "\n",
       "    .dataframe thead th {\n",
       "        text-align: right;\n",
       "    }\n",
       "</style>\n",
       "<table border=\"1\" class=\"dataframe\">\n",
       "  <thead>\n",
       "    <tr style=\"text-align: right;\">\n",
       "      <th></th>\n",
       "      <th>L</th>\n",
       "      <th>CL</th>\n",
       "    </tr>\n",
       "  </thead>\n",
       "  <tbody>\n",
       "    <tr>\n",
       "      <th>0</th>\n",
       "      <td>0.0</td>\n",
       "      <td>0.000000e+00</td>\n",
       "    </tr>\n",
       "    <tr>\n",
       "      <th>1</th>\n",
       "      <td>1.0</td>\n",
       "      <td>0.000000e+00</td>\n",
       "    </tr>\n",
       "    <tr>\n",
       "      <th>2</th>\n",
       "      <td>2.0</td>\n",
       "      <td>1.951003e-08</td>\n",
       "    </tr>\n",
       "    <tr>\n",
       "      <th>3</th>\n",
       "      <td>3.0</td>\n",
       "      <td>2.813902e-08</td>\n",
       "    </tr>\n",
       "    <tr>\n",
       "      <th>4</th>\n",
       "      <td>4.0</td>\n",
       "      <td>3.265473e-08</td>\n",
       "    </tr>\n",
       "    <tr>\n",
       "      <th>...</th>\n",
       "      <td>...</td>\n",
       "      <td>...</td>\n",
       "    </tr>\n",
       "    <tr>\n",
       "      <th>9995</th>\n",
       "      <td>9995.0</td>\n",
       "      <td>8.427463e-12</td>\n",
       "    </tr>\n",
       "    <tr>\n",
       "      <th>9996</th>\n",
       "      <td>9996.0</td>\n",
       "      <td>8.425706e-12</td>\n",
       "    </tr>\n",
       "    <tr>\n",
       "      <th>9997</th>\n",
       "      <td>9997.0</td>\n",
       "      <td>8.423950e-12</td>\n",
       "    </tr>\n",
       "    <tr>\n",
       "      <th>9998</th>\n",
       "      <td>9998.0</td>\n",
       "      <td>8.422195e-12</td>\n",
       "    </tr>\n",
       "    <tr>\n",
       "      <th>9999</th>\n",
       "      <td>9999.0</td>\n",
       "      <td>8.420440e-12</td>\n",
       "    </tr>\n",
       "  </tbody>\n",
       "</table>\n",
       "<p>10000 rows × 2 columns</p>\n",
       "</div>"
      ],
      "text/plain": [
       "           L            CL\n",
       "0        0.0  0.000000e+00\n",
       "1        1.0  0.000000e+00\n",
       "2        2.0  1.951003e-08\n",
       "3        3.0  2.813902e-08\n",
       "4        4.0  3.265473e-08\n",
       "...      ...           ...\n",
       "9995  9995.0  8.427463e-12\n",
       "9996  9996.0  8.425706e-12\n",
       "9997  9997.0  8.423950e-12\n",
       "9998  9998.0  8.422195e-12\n",
       "9999  9999.0  8.420440e-12\n",
       "\n",
       "[10000 rows x 2 columns]"
      ]
     },
     "execution_count": 173,
     "metadata": {},
     "output_type": "execute_result"
    }
   ],
   "source": [
    "cl_kk_trough"
   ]
  },
  {
   "cell_type": "code",
   "execution_count": 174,
   "metadata": {},
   "outputs": [
    {
     "name": "stderr",
     "output_type": "stream",
     "text": [
      "/Users/adiraju/opt/anaconda3/envs/deep_dss/lib/python3.8/site-packages/ipykernel/ipkernel.py:287: DeprecationWarning: `should_run_async` will not call `transform_cell` automatically in the future. Please pass the result to `transformed_cell` argument and any exception that happen during thetransform in `preprocessing_exc_tuple` in IPython 7.17 and above.\n",
      "  and should_run_async(code)\n"
     ]
    },
    {
     "data": {
      "text/plain": [
       "Text(0.5, 1.0, 'Trough_lenser galaxy auto-correlation')"
      ]
     },
     "execution_count": 174,
     "metadata": {},
     "output_type": "execute_result"
    },
    {
     "data": {
      "image/png": "[encoded data removed]",
      "text/plain": [
       "<Figure size 432x288 with 1 Axes>"
      ]
     },
     "metadata": {
      "needs_background": "light"
     },
     "output_type": "display_data"
    }
   ],
   "source": [
    "plt.plot(cl_gg_trough['L'], cl_gg_trough['CL'])\n",
    "plt.title(\"Trough_lenser galaxy auto-correlation\")"
   ]
  },
  {
   "cell_type": "code",
   "execution_count": 175,
   "metadata": {},
   "outputs": [
    {
     "name": "stderr",
     "output_type": "stream",
     "text": [
      "/Users/adiraju/opt/anaconda3/envs/deep_dss/lib/python3.8/site-packages/ipykernel/ipkernel.py:287: DeprecationWarning: `should_run_async` will not call `transform_cell` automatically in the future. Please pass the result to `transformed_cell` argument and any exception that happen during thetransform in `preprocessing_exc_tuple` in IPython 7.17 and above.\n",
      "  and should_run_async(code)\n"
     ]
    },
    {
     "data": {
      "text/plain": [
       "Text(0.5, 1.0, 'Trough_lenser galaxy-lensing cross-correlation')"
      ]
     },
     "execution_count": 175,
     "metadata": {},
     "output_type": "execute_result"
    },
    {
     "data": {
      "image/png": "[encoded data removed]",
      "text/plain": [
       "<Figure size 432x288 with 1 Axes>"
      ]
     },
     "metadata": {
      "needs_background": "light"
     },
     "output_type": "display_data"
    }
   ],
   "source": [
    "plt.plot(cl_gk_trough['L'], cl_gk_trough['CL'])\n",
    "plt.title(\"Trough_lenser galaxy-lensing cross-correlation\")"
   ]
  },
  {
   "cell_type": "code",
   "execution_count": 176,
   "metadata": {},
   "outputs": [
    {
     "name": "stderr",
     "output_type": "stream",
     "text": [
      "/Users/adiraju/opt/anaconda3/envs/deep_dss/lib/python3.8/site-packages/ipykernel/ipkernel.py:287: DeprecationWarning: `should_run_async` will not call `transform_cell` automatically in the future. Please pass the result to `transformed_cell` argument and any exception that happen during thetransform in `preprocessing_exc_tuple` in IPython 7.17 and above.\n",
      "  and should_run_async(code)\n"
     ]
    },
    {
     "data": {
      "text/plain": [
       "Text(0.5, 1.0, 'Trough_lenser lensing auto-correlation')"
      ]
     },
     "execution_count": 176,
     "metadata": {},
     "output_type": "execute_result"
    },
    {
     "data": {
      "image/png": "[encoded data removed]",
      "text/plain": [
       "<Figure size 432x288 with 1 Axes>"
      ]
     },
     "metadata": {
      "needs_background": "light"
     },
     "output_type": "display_data"
    }
   ],
   "source": [
    "plt.plot(cl_kk_trough['L'], cl_kk_trough['CL'])\n",
    "plt.title(\"Trough_lenser lensing auto-correlation\")"
   ]
  },
  {
   "cell_type": "code",
   "execution_count": 188,
   "metadata": {},
   "outputs": [
    {
     "name": "stderr",
     "output_type": "stream",
     "text": [
      "/Users/adiraju/opt/anaconda3/envs/deep_dss/lib/python3.8/site-packages/ipykernel/ipkernel.py:287: DeprecationWarning: `should_run_async` will not call `transform_cell` automatically in the future. Please pass the result to `transformed_cell` argument and any exception that happen during thetransform in `preprocessing_exc_tuple` in IPython 7.17 and above.\n",
      "  and should_run_async(code)\n"
     ]
    },
    {
     "data": {
      "text/plain": [
       "Text(0.5, 1.0, 'Predicted vs. measured galaxy auto-correlations')"
      ]
     },
     "execution_count": 188,
     "metadata": {},
     "output_type": "execute_result"
    },
    {
     "data": {
      "image/png": "[encoded data removed]",
      "text/plain": [
       "<Figure size 432x288 with 1 Axes>"
      ]
     },
     "metadata": {
      "needs_background": "light"
     },
     "output_type": "display_data"
    }
   ],
   "source": [
    "plt.plot(ell_arr, cl_gg[0], 'b-', label='obs')\n",
    "plt.plot(cl_gg_trough['L'][:int(np.ceil(np.max(ell_arr)))], 1e8*cl_gg_trough['CL'][:int(np.ceil(np.max(ell_arr)))],\n",
    "         'r-', label='pred')\n",
    "plt.legend()\n",
    "plt.title(\"Predicted vs. measured galaxy auto-correlations\")"
   ]
  },
  {
   "cell_type": "code",
   "execution_count": null,
   "metadata": {},
   "outputs": [],
   "source": []
  },
  {
   "cell_type": "code",
   "execution_count": 187,
   "metadata": {},
   "outputs": [
    {
     "name": "stderr",
     "output_type": "stream",
     "text": [
      "/Users/adiraju/opt/anaconda3/envs/deep_dss/lib/python3.8/site-packages/ipykernel/ipkernel.py:287: DeprecationWarning: `should_run_async` will not call `transform_cell` automatically in the future. Please pass the result to `transformed_cell` argument and any exception that happen during thetransform in `preprocessing_exc_tuple` in IPython 7.17 and above.\n",
      "  and should_run_async(code)\n"
     ]
    },
    {
     "data": {
      "text/plain": [
       "Text(0.5, 1.0, 'Predicted vs. measured galaxy-lensing cross-correlations')"
      ]
     },
     "execution_count": 187,
     "metadata": {},
     "output_type": "execute_result"
    },
    {
     "data": {
      "image/png": "[encoded data removed]",
      "text/plain": [
       "<Figure size 432x288 with 1 Axes>"
      ]
     },
     "metadata": {
      "needs_background": "light"
     },
     "output_type": "display_data"
    }
   ],
   "source": [
    "plt.plot(ell_arr, cl_gk[0], 'b-', label='obs')\n",
    "plt.plot(cl_gk_trough['L'][:int(np.ceil(np.max(ell_arr)))], 1e8*cl_gk_trough['CL'][:int(np.ceil(np.max(ell_arr)))],\n",
    "         'r-', label='pred')\n",
    "plt.legend()\n",
    "plt.title(\"Predicted vs. measured galaxy-lensing cross-correlations\")"
   ]
  },
  {
   "cell_type": "code",
   "execution_count": 186,
   "metadata": {},
   "outputs": [
    {
     "name": "stderr",
     "output_type": "stream",
     "text": [
      "/Users/adiraju/opt/anaconda3/envs/deep_dss/lib/python3.8/site-packages/ipykernel/ipkernel.py:287: DeprecationWarning: `should_run_async` will not call `transform_cell` automatically in the future. Please pass the result to `transformed_cell` argument and any exception that happen during thetransform in `preprocessing_exc_tuple` in IPython 7.17 and above.\n",
      "  and should_run_async(code)\n"
     ]
    },
    {
     "data": {
      "text/plain": [
       "Text(0.5, 1.0, 'Predicted vs. measured lensing auto-correlations')"
      ]
     },
     "execution_count": 186,
     "metadata": {},
     "output_type": "execute_result"
    },
    {
     "data": {
      "image/png": "[encoded data removed]",
      "text/plain": [
       "<Figure size 432x288 with 1 Axes>"
      ]
     },
     "metadata": {
      "needs_background": "light"
     },
     "output_type": "display_data"
    }
   ],
   "source": [
    "plt.plot(ell_arr, cl_kk[0], 'b-', label='obs')\n",
    "plt.plot(cl_kk_trough['L'][:int(np.ceil(np.max(ell_arr)))], 1e11*cl_kk_trough['CL'][:int(np.ceil(np.max(ell_arr)))],\n",
    "         'r-', label='pred')\n",
    "plt.legend()\n",
    "plt.title(\"Predicted vs. measured lensing auto-correlations\")"
   ]
  },
  {
   "cell_type": "code",
   "execution_count": 194,
   "metadata": {},
   "outputs": [
    {
     "data": {
      "text/plain": [
       "(1, 383)"
      ]
     },
     "execution_count": 194,
     "metadata": {},
     "output_type": "execute_result"
    }
   ],
   "source": [
    "cl_kk.shape"
   ]
  },
  {
   "cell_type": "code",
   "execution_count": 196,
   "metadata": {},
   "outputs": [
    {
     "data": {
      "text/plain": [
       "(3072,)"
      ]
     },
     "execution_count": 196,
     "metadata": {},
     "output_type": "execute_result"
    }
   ],
   "source": [
    "hp.pixwin(1024).shape"
   ]
  },
  {
   "cell_type": "code",
   "execution_count": 197,
   "metadata": {},
   "outputs": [
    {
     "data": {
      "text/plain": [
       "array([   5.5,   13.5,   21.5,   29.5,   37.5,   45.5,   53.5,   61.5,\n",
       "         69.5,   77.5,   85.5,   93.5,  101.5,  109.5,  117.5,  125.5,\n",
       "        133.5,  141.5,  149.5,  157.5,  165.5,  173.5,  181.5,  189.5,\n",
       "        197.5,  205.5,  213.5,  221.5,  229.5,  237.5,  245.5,  253.5,\n",
       "        261.5,  269.5,  277.5,  285.5,  293.5,  301.5,  309.5,  317.5,\n",
       "        325.5,  333.5,  341.5,  349.5,  357.5,  365.5,  373.5,  381.5,\n",
       "        389.5,  397.5,  405.5,  413.5,  421.5,  429.5,  437.5,  445.5,\n",
       "        453.5,  461.5,  469.5,  477.5,  485.5,  493.5,  501.5,  509.5,\n",
       "        517.5,  525.5,  533.5,  541.5,  549.5,  557.5,  565.5,  573.5,\n",
       "        581.5,  589.5,  597.5,  605.5,  613.5,  621.5,  629.5,  637.5,\n",
       "        645.5,  653.5,  661.5,  669.5,  677.5,  685.5,  693.5,  701.5,\n",
       "        709.5,  717.5,  725.5,  733.5,  741.5,  749.5,  757.5,  765.5,\n",
       "        773.5,  781.5,  789.5,  797.5,  805.5,  813.5,  821.5,  829.5,\n",
       "        837.5,  845.5,  853.5,  861.5,  869.5,  877.5,  885.5,  893.5,\n",
       "        901.5,  909.5,  917.5,  925.5,  933.5,  941.5,  949.5,  957.5,\n",
       "        965.5,  973.5,  981.5,  989.5,  997.5, 1005.5, 1013.5, 1021.5,\n",
       "       1029.5, 1037.5, 1045.5, 1053.5, 1061.5, 1069.5, 1077.5, 1085.5,\n",
       "       1093.5, 1101.5, 1109.5, 1117.5, 1125.5, 1133.5, 1141.5, 1149.5,\n",
       "       1157.5, 1165.5, 1173.5, 1181.5, 1189.5, 1197.5, 1205.5, 1213.5,\n",
       "       1221.5, 1229.5, 1237.5, 1245.5, 1253.5, 1261.5, 1269.5, 1277.5,\n",
       "       1285.5, 1293.5, 1301.5, 1309.5, 1317.5, 1325.5, 1333.5, 1341.5,\n",
       "       1349.5, 1357.5, 1365.5, 1373.5, 1381.5, 1389.5, 1397.5, 1405.5,\n",
       "       1413.5, 1421.5, 1429.5, 1437.5, 1445.5, 1453.5, 1461.5, 1469.5,\n",
       "       1477.5, 1485.5, 1493.5, 1501.5, 1509.5, 1517.5, 1525.5, 1533.5,\n",
       "       1541.5, 1549.5, 1557.5, 1565.5, 1573.5, 1581.5, 1589.5, 1597.5,\n",
       "       1605.5, 1613.5, 1621.5, 1629.5, 1637.5, 1645.5, 1653.5, 1661.5,\n",
       "       1669.5, 1677.5, 1685.5, 1693.5, 1701.5, 1709.5, 1717.5, 1725.5,\n",
       "       1733.5, 1741.5, 1749.5, 1757.5, 1765.5, 1773.5, 1781.5, 1789.5,\n",
       "       1797.5, 1805.5, 1813.5, 1821.5, 1829.5, 1837.5, 1845.5, 1853.5,\n",
       "       1861.5, 1869.5, 1877.5, 1885.5, 1893.5, 1901.5, 1909.5, 1917.5,\n",
       "       1925.5, 1933.5, 1941.5, 1949.5, 1957.5, 1965.5, 1973.5, 1981.5,\n",
       "       1989.5, 1997.5, 2005.5, 2013.5, 2021.5, 2029.5, 2037.5, 2045.5,\n",
       "       2053.5, 2061.5, 2069.5, 2077.5, 2085.5, 2093.5, 2101.5, 2109.5,\n",
       "       2117.5, 2125.5, 2133.5, 2141.5, 2149.5, 2157.5, 2165.5, 2173.5,\n",
       "       2181.5, 2189.5, 2197.5, 2205.5, 2213.5, 2221.5, 2229.5, 2237.5,\n",
       "       2245.5, 2253.5, 2261.5, 2269.5, 2277.5, 2285.5, 2293.5, 2301.5,\n",
       "       2309.5, 2317.5, 2325.5, 2333.5, 2341.5, 2349.5, 2357.5, 2365.5,\n",
       "       2373.5, 2381.5, 2389.5, 2397.5, 2405.5, 2413.5, 2421.5, 2429.5,\n",
       "       2437.5, 2445.5, 2453.5, 2461.5, 2469.5, 2477.5, 2485.5, 2493.5,\n",
       "       2501.5, 2509.5, 2517.5, 2525.5, 2533.5, 2541.5, 2549.5, 2557.5,\n",
       "       2565.5, 2573.5, 2581.5, 2589.5, 2597.5, 2605.5, 2613.5, 2621.5,\n",
       "       2629.5, 2637.5, 2645.5, 2653.5, 2661.5, 2669.5, 2677.5, 2685.5,\n",
       "       2693.5, 2701.5, 2709.5, 2717.5, 2725.5, 2733.5, 2741.5, 2749.5,\n",
       "       2757.5, 2765.5, 2773.5, 2781.5, 2789.5, 2797.5, 2805.5, 2813.5,\n",
       "       2821.5, 2829.5, 2837.5, 2845.5, 2853.5, 2861.5, 2869.5, 2877.5,\n",
       "       2885.5, 2893.5, 2901.5, 2909.5, 2917.5, 2925.5, 2933.5, 2941.5,\n",
       "       2949.5, 2957.5, 2965.5, 2973.5, 2981.5, 2989.5, 2997.5, 3005.5,\n",
       "       3013.5, 3021.5, 3029.5, 3037.5, 3045.5, 3053.5, 3061.5])"
      ]
     },
     "execution_count": 197,
     "metadata": {},
     "output_type": "execute_result"
    }
   ],
   "source": [
    "ell_arr"
   ]
  },
  {
   "cell_type": "code",
   "execution_count": 203,
   "metadata": {},
   "outputs": [],
   "source": [
    "rounded_ell_arr = np.floor(ell_arr).astype(int)"
   ]
  },
  {
   "cell_type": "code",
   "execution_count": 200,
   "metadata": {},
   "outputs": [],
   "source": [
    "pixwin_func = hp.pixwin(1024)"
   ]
  },
  {
   "cell_type": "code",
   "execution_count": 204,
   "metadata": {},
   "outputs": [
    {
     "data": {
      "text/plain": [
       "array([0.99999905, 0.99999127, 0.99997917, 0.99996115, 0.99993737,\n",
       "       0.99990789, 0.99987272, 0.99983185, 0.99978529, 0.99973304,\n",
       "       0.9996751 , 0.99961148, 0.99954218, 0.99946719, 0.99938652,\n",
       "       0.99930017, 0.99920814, 0.99911043, 0.99900705, 0.99889799,\n",
       "       0.99878326, 0.99866286, 0.99853678, 0.99840504, 0.99826763,\n",
       "       0.99812456, 0.99797582, 0.99782143, 0.99766137, 0.99749567,\n",
       "       0.9973243 , 0.99714729, 0.99696463, 0.99677632, 0.99658237,\n",
       "       0.99638278, 0.99617755, 0.99596669, 0.99575019, 0.99552807,\n",
       "       0.99530032, 0.99506695, 0.99482795, 0.99458335, 0.99433313,\n",
       "       0.9940773 , 0.99381587, 0.99354884, 0.99327621, 0.99299798,\n",
       "       0.99271417, 0.99242477, 0.99212979, 0.99182923, 0.9915231 ,\n",
       "       0.9912114 , 0.99089414, 0.99057131, 0.99024293, 0.989909  ,\n",
       "       0.98956952, 0.98922451, 0.98887395, 0.98851787, 0.98815625,\n",
       "       0.98778912, 0.98741647, 0.98703831, 0.98665465, 0.98626548,\n",
       "       0.98587082, 0.98547067, 0.98506504, 0.98465393, 0.98423735,\n",
       "       0.9838153 , 0.98338779, 0.98295483, 0.98251642, 0.98207257,\n",
       "       0.98162328, 0.98116856, 0.98070843, 0.98024287, 0.9797719 ,\n",
       "       0.97929554, 0.97881377, 0.97832662, 0.97783408, 0.97733617,\n",
       "       0.97683288, 0.97632424, 0.97581024, 0.97529089, 0.97476621,\n",
       "       0.97423619, 0.97370084, 0.97316018, 0.97261421, 0.97206293,\n",
       "       0.97150636, 0.9709445 , 0.97037736, 0.96980495, 0.96922728,\n",
       "       0.96864435, 0.96805618, 0.96746276, 0.96686412, 0.96626025,\n",
       "       0.96565117, 0.96503688, 0.9644174 , 0.96379273, 0.96316288,\n",
       "       0.96252786, 0.96188767, 0.96124234, 0.96059186, 0.95993624,\n",
       "       0.9592755 , 0.95860964, 0.95793868, 0.95726262, 0.95658147,\n",
       "       0.95589524, 0.95520394, 0.95450758, 0.95380617, 0.95309972,\n",
       "       0.95238823, 0.95167173, 0.95095022, 0.95022371, 0.9494922 ,\n",
       "       0.94875572, 0.94801426, 0.94726784, 0.94651648, 0.94576017,\n",
       "       0.94499894, 0.94423278, 0.94346172, 0.94268576, 0.94190491,\n",
       "       0.94111919, 0.94032861, 0.93953317, 0.93873288, 0.93792776,\n",
       "       0.93711783, 0.93630308, 0.93548353, 0.9346592 , 0.93383009,\n",
       "       0.93299621, 0.93215759, 0.93131422, 0.93046612, 0.9296133 ,\n",
       "       0.92875577, 0.92789355, 0.92702665, 0.92615507, 0.92527883,\n",
       "       0.92439795, 0.92351243, 0.92262229, 0.92172754, 0.92082818,\n",
       "       0.91992424, 0.91901573, 0.91810265, 0.91718503, 0.91626287,\n",
       "       0.91533618, 0.91440498, 0.91346928, 0.9125291 , 0.91158444,\n",
       "       0.91063532, 0.90968175, 0.90872374, 0.90776132, 0.90679448,\n",
       "       0.90582325, 0.90484764, 0.90386765, 0.90288331, 0.90189463,\n",
       "       0.90090162, 0.89990429, 0.89890265, 0.89789673, 0.89688653,\n",
       "       0.89587207, 0.89485336, 0.89383042, 0.89280326, 0.89177188,\n",
       "       0.89073632, 0.88969657, 0.88865266, 0.8876046 , 0.8865524 ,\n",
       "       0.88549608, 0.88443564, 0.88337111, 0.88230251, 0.88122983,\n",
       "       0.8801531 , 0.87907234, 0.87798755, 0.87689875, 0.87580596,\n",
       "       0.87470918, 0.87360845, 0.87250376, 0.87139513, 0.87028259,\n",
       "       0.86916613, 0.86804579, 0.86692157, 0.86579348, 0.86466156,\n",
       "       0.86352579, 0.86238621, 0.86124283, 0.86009567, 0.85894473,\n",
       "       0.85779003, 0.85663159, 0.85546943, 0.85430356, 0.85313399,\n",
       "       0.85196074, 0.85078383, 0.84960326, 0.84841907, 0.84723125,\n",
       "       0.84603984, 0.84484483, 0.84364626, 0.84244413, 0.84123846,\n",
       "       0.84002927, 0.83881657, 0.83760037, 0.8363807 , 0.83515757,\n",
       "       0.83393099, 0.83270099, 0.83146757, 0.83023075, 0.82899056,\n",
       "       0.827747  , 0.82650009, 0.82524985, 0.82399629, 0.82273944,\n",
       "       0.8214793 , 0.82021589, 0.81894923, 0.81767934, 0.81640622,\n",
       "       0.81512991, 0.81385041, 0.81256774, 0.81128192, 0.80999296,\n",
       "       0.80870088, 0.8074057 , 0.80610744, 0.8048061 , 0.80350171,\n",
       "       0.80219429, 0.80088384, 0.79957039, 0.79825396, 0.79693455,\n",
       "       0.79561219, 0.7942869 , 0.79295869, 0.79162757, 0.79029357,\n",
       "       0.78895671, 0.78761699, 0.78627443, 0.78492906, 0.78358089,\n",
       "       0.78222993, 0.78087621, 0.77951974, 0.77816054, 0.77679862,\n",
       "       0.775434  , 0.77406671, 0.77269675, 0.77132414, 0.7699489 ,\n",
       "       0.76857106, 0.76719061, 0.76580759, 0.76442201, 0.76303389,\n",
       "       0.76164324, 0.76025008, 0.75885443, 0.75745631, 0.75605573,\n",
       "       0.75465272, 0.75324728, 0.75183943, 0.75042921, 0.74901661,\n",
       "       0.74760166, 0.74618438, 0.74476478, 0.74334288, 0.7419187 ,\n",
       "       0.74049225, 0.73906356, 0.73763264, 0.73619951, 0.73476418,\n",
       "       0.73332668, 0.73188702, 0.73044522, 0.7290013 , 0.72755527,\n",
       "       0.72610715, 0.72465696, 0.72320472, 0.72175044, 0.72029415,\n",
       "       0.71883586, 0.71737558, 0.71591334, 0.71444916, 0.71298304,\n",
       "       0.71151502, 0.7100451 , 0.7085733 , 0.70709965, 0.70562415,\n",
       "       0.70414684, 0.70266772, 0.70118681, 0.69970413, 0.6982197 ,\n",
       "       0.69673354, 0.69524566, 0.69375609, 0.69226483, 0.69077191,\n",
       "       0.68927735, 0.68778116, 0.68628336, 0.68478397, 0.683283  ,\n",
       "       0.68178048, 0.68027643, 0.67877085, 0.67726377, 0.6757552 ,\n",
       "       0.67424517, 0.67273369, 0.67122078, 0.66970645, 0.66819073,\n",
       "       0.66667363, 0.66515517, 0.66363537, 0.66211425, 0.66059181,\n",
       "       0.65906809, 0.6575431 , 0.65601685, 0.65448937, 0.65296067,\n",
       "       0.65143078, 0.64989969, 0.64836745])"
      ]
     },
     "execution_count": 204,
     "metadata": {},
     "output_type": "execute_result"
    }
   ],
   "source": [
    "pixwin_func[rounded_ell_arr]"
   ]
  },
  {
   "cell_type": "code",
   "execution_count": 205,
   "metadata": {},
   "outputs": [
    {
     "ename": "ValueError",
     "evalue": "operands could not be broadcast together with shapes (1,383) (3072,) ",
     "output_type": "error",
     "traceback": [
      "\u001b[0;31m---------------------------------------------------------------------------\u001b[0m",
      "\u001b[0;31mValueError\u001b[0m                                Traceback (most recent call last)",
      "\u001b[0;32m<ipython-input-205-364d02aebac3>\u001b[0m in \u001b[0;36m<module>\u001b[0;34m\u001b[0m\n\u001b[0;32m----> 1\u001b[0;31m \u001b[0mcl_kk_scaled\u001b[0m \u001b[0;34m=\u001b[0m \u001b[0mnp\u001b[0m\u001b[0;34m.\u001b[0m\u001b[0mmultiply\u001b[0m\u001b[0;34m(\u001b[0m\u001b[0mcl_kk\u001b[0m\u001b[0;34m,\u001b[0m \u001b[0mpixwin_func\u001b[0m\u001b[0;34m)\u001b[0m\u001b[0;34m\u001b[0m\u001b[0;34m\u001b[0m\u001b[0m\n\u001b[0m",
      "\u001b[0;31mValueError\u001b[0m: operands could not be broadcast together with shapes (1,383) (3072,) "
     ]
    }
   ],
   "source": [
    "cl_kk_scaled = np.multiply(cl_kk, pixwin_func)"
   ]
  },
  {
   "cell_type": "code",
   "execution_count": null,
   "metadata": {},
   "outputs": [],
   "source": []
  }
 ],
 "metadata": {
  "kernelspec": {
   "display_name": "Python 3",
   "language": "python",
   "name": "python3"
  },
  "language_info": {
   "codemirror_mode": {
    "name": "ipython",
    "version": 3
   },
   "file_extension": ".py",
   "mimetype": "text/x-python",
   "name": "python",
   "nbconvert_exporter": "python",
   "pygments_lexer": "ipython3",
   "version": "3.8.5"
  }
 },
 "nbformat": 4,
 "nbformat_minor": 4
}
