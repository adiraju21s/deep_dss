{
 "cells": [
  {
   "cell_type": "code",
   "execution_count": 1,
   "metadata": {},
   "outputs": [],
   "source": [
    "import numpy as np\n",
    "%matplotlib inline\n",
    "import matplotlib.pyplot as plt\n",
    "import healpy as hp\n",
    "\n",
    "plt.rcParams.update({\n",
    "'lines.color':'black',\n",
    "'font.family':'serif',\n",
    "'font.weight':'normal',\n",
    "'text.color':'black',\n",
    "'text.usetex':True,\n",
    "'axes.edgecolor':'black',\n",
    "'axes.linewidth':1.0,\n",
    "'axes.titlesize':'x-large',\n",
    "'axes.labelsize':'x-large',\n",
    "'axes.labelcolor':'black',\n",
    "'xtick.labelsize':'x-large',\n",
    "'xtick.minor.width':1.0,\n",
    "'xtick.major.width':1.0,\n",
    "'ytick.major.size':7,\n",
    "'ytick.minor.size':4,\n",
    "'ytick.major.pad':8,\n",
    "'ytick.minor.pad':8,\n",
    "'ytick.labelsize':'x-large',\n",
    "'ytick.minor.width':1.0,\n",
    "'ytick.major.width':1.0,\n",
    "'legend.numpoints':1,\n",
    "'legend.fontsize':'x-large',\n",
    "'legend.shadow':False,\n",
    "'legend.frameon':False})"
   ]
  },
  {
   "cell_type": "code",
   "execution_count": 8,
   "metadata": {},
   "outputs": [],
   "source": [
    "from deep_dss.helpers import *"
   ]
  },
  {
   "cell_type": "code",
   "execution_count": 2,
   "metadata": {},
   "outputs": [],
   "source": [
    "sigma8s = np.linspace(0.5, 1.2, num=101)"
   ]
  },
  {
   "cell_type": "code",
   "execution_count": null,
   "metadata": {},
   "outputs": [],
   "source": [
    "def plot_cl(sigma8):\n",
    "    return {\"gg\": load_cl_from_val(sigma8, lmax=9999), \n",
    "           \"gk\": load_cl_from_path(sigma8, name=\"f1z1f2z1\" lmax=9999), \n",
    "           \"kk\": load_cl_from_path(sigma8, name=\"f2z1f2z1\", lmax=9999),\n",
    "           \"kk_\": load_cl_from_path("
   ]
  }
 ],
 "metadata": {
  "kernelspec": {
   "display_name": "Python 3",
   "language": "python",
   "name": "python3"
  },
  "language_info": {
   "codemirror_mode": {
    "name": "ipython",
    "version": 3
   },
   "file_extension": ".py",
   "mimetype": "text/x-python",
   "name": "python",
   "nbconvert_exporter": "python",
   "pygments_lexer": "ipython3",
   "version": "3.8.5"
  }
 },
 "nbformat": 4,
 "nbformat_minor": 4
}
