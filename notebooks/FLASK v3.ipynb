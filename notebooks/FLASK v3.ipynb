{
 "cells": [
  {
   "cell_type": "code",
   "execution_count": 3,
   "metadata": {},
   "outputs": [],
   "source": [
    "%load_ext autoreload\n",
    "%autoreload 2"
   ]
  },
  {
   "cell_type": "code",
   "execution_count": 5,
   "metadata": {},
   "outputs": [],
   "source": [
    "import numpy as np\n",
    "import healpy as hp\n",
    "import matplotlib.pyplot as plt\n",
    "\n",
    "from deep_dss.helpers import *"
   ]
  },
  {
   "cell_type": "code",
   "execution_count": 6,
   "metadata": {},
   "outputs": [
    {
     "ename": "TypeError",
     "evalue": "read_map() got an unexpected keyword argument 'gaussian'",
     "output_type": "error",
     "traceback": [
      "\u001b[0;31m---------------------------------------------------------------------------\u001b[0m",
      "\u001b[0;31mTypeError\u001b[0m                                 Traceback (most recent call last)",
      "\u001b[0;32m<ipython-input-6-b03fadb153e2>\u001b[0m in \u001b[0;36m<module>\u001b[0;34m\u001b[0m\n\u001b[0;32m----> 1\u001b[0;31m \u001b[0mcounts\u001b[0m \u001b[0;34m=\u001b[0m \u001b[0mcount_map_by_val\u001b[0m\u001b[0;34m(\u001b[0m\u001b[0;36m0.5\u001b[0m\u001b[0;34m,\u001b[0m \u001b[0mgaussian\u001b[0m\u001b[0;34m=\u001b[0m\u001b[0;32mTrue\u001b[0m\u001b[0;34m)\u001b[0m\u001b[0;34m\u001b[0m\u001b[0;34m\u001b[0m\u001b[0m\n\u001b[0m",
      "\u001b[0;32m~/.local/lib/python3.8/site-packages/deep_dss-0.1.0-py3.8.egg/deep_dss/helpers.py\u001b[0m in \u001b[0;36mcount_map_by_val\u001b[0;34m(sigma8, name, path_to_output, field, nest, npix, pixarea, density, density_0, multiplier, bias, rand_bias, prior_low, prior_high, normalize, noiseless, gaussian)\u001b[0m\n\u001b[1;32m    491\u001b[0m             normalize=normalize, rand_bias=rand_bias, prior_low=prior_low, prior_high=prior_high)\n\u001b[1;32m    492\u001b[0m     return accelerated_poissonian_shot_noise(\n\u001b[0;32m--> 493\u001b[0;31m         \u001b[0mload_map_by_val\u001b[0m\u001b[0;34m(\u001b[0m\u001b[0msigma8\u001b[0m\u001b[0;34m,\u001b[0m \u001b[0mname\u001b[0m\u001b[0;34m=\u001b[0m\u001b[0mname\u001b[0m\u001b[0;34m,\u001b[0m \u001b[0mpath_to_output\u001b[0m\u001b[0;34m=\u001b[0m\u001b[0mpath_to_output\u001b[0m\u001b[0;34m,\u001b[0m \u001b[0mfield\u001b[0m\u001b[0;34m=\u001b[0m\u001b[0mfield\u001b[0m\u001b[0;34m,\u001b[0m \u001b[0mnest\u001b[0m\u001b[0;34m=\u001b[0m\u001b[0mnest\u001b[0m\u001b[0;34m,\u001b[0m \u001b[0mgaussian\u001b[0m\u001b[0;34m=\u001b[0m\u001b[0mgaussian\u001b[0m\u001b[0;34m)\u001b[0m\u001b[0;34m,\u001b[0m\u001b[0;34m\u001b[0m\u001b[0;34m\u001b[0m\u001b[0m\n\u001b[0m\u001b[1;32m    494\u001b[0m         \u001b[0mnpix\u001b[0m\u001b[0;34m=\u001b[0m\u001b[0mnpix\u001b[0m\u001b[0;34m,\u001b[0m \u001b[0mpixarea\u001b[0m\u001b[0;34m=\u001b[0m\u001b[0mpixarea\u001b[0m\u001b[0;34m,\u001b[0m \u001b[0mdensity\u001b[0m\u001b[0;34m=\u001b[0m\u001b[0mdensity\u001b[0m\u001b[0;34m,\u001b[0m \u001b[0mdensity_0\u001b[0m\u001b[0;34m=\u001b[0m\u001b[0mdensity_0\u001b[0m\u001b[0;34m,\u001b[0m \u001b[0mmultiplier\u001b[0m\u001b[0;34m=\u001b[0m\u001b[0mmultiplier\u001b[0m\u001b[0;34m,\u001b[0m \u001b[0mbias\u001b[0m\u001b[0;34m=\u001b[0m\u001b[0mbias\u001b[0m\u001b[0;34m,\u001b[0m\u001b[0;34m\u001b[0m\u001b[0;34m\u001b[0m\u001b[0m\n\u001b[1;32m    495\u001b[0m         normalize=normalize, rand_bias=rand_bias, prior_low=prior_low, prior_high=prior_high)\n",
      "\u001b[0;32m~/.local/lib/python3.8/site-packages/deep_dss-0.1.0-py3.8.egg/deep_dss/helpers.py\u001b[0m in \u001b[0;36mload_map_by_val\u001b[0;34m(sigma8, name, path_to_output, field, nest, gaussian)\u001b[0m\n\u001b[1;32m    258\u001b[0m     \u001b[0;34m:\u001b[0m\u001b[0;32mreturn\u001b[0m\u001b[0;34m:\u001b[0m \u001b[0mNumpy\u001b[0m \u001b[0marray\u001b[0m \u001b[0;32mwith\u001b[0m \u001b[0mmap\u001b[0m\u001b[0;34m\u001b[0m\u001b[0;34m\u001b[0m\u001b[0m\n\u001b[1;32m    259\u001b[0m     \"\"\"\n\u001b[0;32m--> 260\u001b[0;31m     return load_map_by_path(path_to_map(sigma8, name=name, path_to_output=path_to_output), field=field, nest=nest,\n\u001b[0m\u001b[1;32m    261\u001b[0m                             gaussian=gaussian)\n\u001b[1;32m    262\u001b[0m \u001b[0;34m\u001b[0m\u001b[0m\n",
      "\u001b[0;32m~/.local/lib/python3.8/site-packages/deep_dss-0.1.0-py3.8.egg/deep_dss/helpers.py\u001b[0m in \u001b[0;36mload_map_by_path\u001b[0;34m(path, field, nest, gaussian)\u001b[0m\n\u001b[1;32m    244\u001b[0m     \u001b[0;34m:\u001b[0m\u001b[0;32mreturn\u001b[0m\u001b[0;34m:\u001b[0m \u001b[0mNumpy\u001b[0m \u001b[0marray\u001b[0m \u001b[0;32mwith\u001b[0m \u001b[0mmap\u001b[0m\u001b[0;34m\u001b[0m\u001b[0;34m\u001b[0m\u001b[0m\n\u001b[1;32m    245\u001b[0m     \"\"\"\n\u001b[0;32m--> 246\u001b[0;31m     \u001b[0;32mreturn\u001b[0m \u001b[0mhp\u001b[0m\u001b[0;34m.\u001b[0m\u001b[0mread_map\u001b[0m\u001b[0;34m(\u001b[0m\u001b[0mpath\u001b[0m\u001b[0;34m,\u001b[0m \u001b[0mfield\u001b[0m\u001b[0;34m=\u001b[0m\u001b[0mfield\u001b[0m\u001b[0;34m,\u001b[0m \u001b[0mnest\u001b[0m\u001b[0;34m=\u001b[0m\u001b[0mnest\u001b[0m\u001b[0;34m,\u001b[0m \u001b[0mgaussian\u001b[0m\u001b[0;34m=\u001b[0m\u001b[0mgaussian\u001b[0m\u001b[0;34m)\u001b[0m\u001b[0;34m\u001b[0m\u001b[0;34m\u001b[0m\u001b[0m\n\u001b[0m\u001b[1;32m    247\u001b[0m \u001b[0;34m\u001b[0m\u001b[0m\n\u001b[1;32m    248\u001b[0m \u001b[0;34m\u001b[0m\u001b[0m\n",
      "\u001b[0;31mTypeError\u001b[0m: read_map() got an unexpected keyword argument 'gaussian'"
     ]
    }
   ],
   "source": [
    "counts = count_map_by_val(0.5, gaussian=True)"
   ]
  },
  {
   "cell_type": "code",
   "execution_count": null,
   "metadata": {},
   "outputs": [],
   "source": []
  }
 ],
 "metadata": {
  "kernelspec": {
   "display_name": "Python 3",
   "language": "python",
   "name": "python3"
  },
  "language_info": {
   "codemirror_mode": {
    "name": "ipython",
    "version": 3
   },
   "file_extension": ".py",
   "mimetype": "text/x-python",
   "name": "python",
   "nbconvert_exporter": "python",
   "pygments_lexer": "ipython3",
   "version": "3.8.5"
  }
 },
 "nbformat": 4,
 "nbformat_minor": 4
}
