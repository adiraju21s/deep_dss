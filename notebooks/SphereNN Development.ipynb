{
 "cells": [
  {
   "cell_type": "code",
   "execution_count": 172,
   "metadata": {},
   "outputs": [
    {
     "name": "stdout",
     "output_type": "stream",
     "text": [
      "The autoreload extension is already loaded. To reload it, use:\n",
      "  %reload_ext autoreload\n",
      "The tensorboard extension is already loaded. To reload it, use:\n",
      "  %reload_ext tensorboard\n"
     ]
    }
   ],
   "source": [
    "%load_ext autoreload\n",
    "%load_ext tensorboard\n",
    "%autoreload 2"
   ]
  },
  {
   "cell_type": "code",
   "execution_count": 173,
   "metadata": {},
   "outputs": [],
   "source": [
    "import numpy as np\n",
    "import healpy as hp\n",
    "import matplotlib.pyplot as plt\n",
    "import tensorflow as tf\n",
    "from tensorflow.keras import Sequential, layers\n",
    "from deep_dss.helpers import *"
   ]
  },
  {
   "cell_type": "code",
   "execution_count": 174,
   "metadata": {},
   "outputs": [
    {
     "name": "stderr",
     "output_type": "stream",
     "text": [
      "/Users/adiraju/opt/anaconda3/envs/deep_dss/lib/python3.8/site-packages/healpy/fitsfunc.py:368: UserWarning: If you are not specifying the input dtype and using the default np.float64 dtype of read_map(), please consider that it will change in a future version to None as to keep the same dtype of the input file: please explicitly set the dtype if it is important to you.\n",
      "  warnings.warn(\n",
      "/Users/adiraju/opt/anaconda3/envs/deep_dss/lib/python3.8/site-packages/healpy/fitsfunc.py:391: UserWarning: NSIDE = 1024\n",
      "  warnings.warn(\"NSIDE = {0:d}\".format(nside))\n",
      "/Users/adiraju/opt/anaconda3/envs/deep_dss/lib/python3.8/site-packages/healpy/fitsfunc.py:400: UserWarning: ORDERING = NESTED in fits file\n",
      "  warnings.warn(\"ORDERING = {0:s} in fits file\".format(ordering))\n",
      "/Users/adiraju/opt/anaconda3/envs/deep_dss/lib/python3.8/site-packages/healpy/fitsfunc.py:428: UserWarning: INDXSCHM = IMPLICIT\n",
      "  warnings.warn(\"INDXSCHM = {0:s}\".format(schm))\n"
     ]
    }
   ],
   "source": [
    "data = split_count_and_lensing_maps_by_dataset(\"TRAINLITE\", config=\"c\", mixed_bias=True, rand_bias=True)\n",
    "val = split_count_and_lensing_maps_by_dataset(\"TESTLITE\", config=\"c\", mixed_bias=True, rand_bias=True)\n",
    "\n",
    "data[\"x\"] = np.reshape(data[\"x\"], (768, 262144, 1))\n",
    "data[\"y\"] = np.reshape(data[\"y\"], (768, 1, 1))\n",
    "\n",
    "val[\"x\"] = np.reshape(data[\"x\"], (768, 262144, 1))\n",
    "val[\"y\"] = np.reshape(data[\"y\"], (768, 1, 1))"
   ]
  },
  {
   "cell_type": "code",
   "execution_count": 175,
   "metadata": {},
   "outputs": [],
   "source": [
    "def build_model():\n",
    "    return keras.Sequential([\n",
    "        keras.Input(shape=(262144, 1)),\n",
    "        layers.Conv1D(64, 4, strides=4, activation='relu'),\n",
    "        layers.Conv1D(128, 4, strides=4, activation='relu'),\n",
    "        layers.Conv1D(256, 4, strides=4, activation='relu'),\n",
    "        layers.Conv1D(256, 4, strides=4, activation='relu'),\n",
    "        layers.Conv1D(256, 4, strides=4, activation='relu'),\n",
    "        layers.Conv1D(256, 4, strides=4, activation='relu'),\n",
    "        layers.Conv1D(256, 4, strides=4, activation='relu'),\n",
    "        layers.Conv1D(256, 4, strides=4, activation='relu'),\n",
    "        layers.Conv1D(1, 4, strides=4, activation='relu'),\n",
    "    ])"
   ]
  },
  {
   "cell_type": "code",
   "execution_count": 176,
   "metadata": {},
   "outputs": [],
   "source": [
    "model = build_model()"
   ]
  },
  {
   "cell_type": "code",
   "execution_count": 177,
   "metadata": {},
   "outputs": [
    {
     "name": "stdout",
     "output_type": "stream",
     "text": [
      "Model: \"sequential_21\"\n",
      "_________________________________________________________________\n",
      "Layer (type)                 Output Shape              Param #   \n",
      "=================================================================\n",
      "conv1d_103 (Conv1D)          (None, 65536, 64)         320       \n",
      "_________________________________________________________________\n",
      "conv1d_104 (Conv1D)          (None, 16384, 128)        32896     \n",
      "_________________________________________________________________\n",
      "conv1d_105 (Conv1D)          (None, 4096, 256)         131328    \n",
      "_________________________________________________________________\n",
      "conv1d_106 (Conv1D)          (None, 1024, 256)         262400    \n",
      "_________________________________________________________________\n",
      "conv1d_107 (Conv1D)          (None, 256, 256)          262400    \n",
      "_________________________________________________________________\n",
      "conv1d_108 (Conv1D)          (None, 64, 256)           262400    \n",
      "_________________________________________________________________\n",
      "conv1d_109 (Conv1D)          (None, 16, 256)           262400    \n",
      "_________________________________________________________________\n",
      "conv1d_110 (Conv1D)          (None, 4, 256)            262400    \n",
      "_________________________________________________________________\n",
      "conv1d_111 (Conv1D)          (None, 1, 1)              1025      \n",
      "=================================================================\n",
      "Total params: 1,477,569\n",
      "Trainable params: 1,477,569\n",
      "Non-trainable params: 0\n",
      "_________________________________________________________________\n"
     ]
    }
   ],
   "source": [
    "model.summary()"
   ]
  },
  {
   "cell_type": "code",
   "execution_count": 178,
   "metadata": {},
   "outputs": [],
   "source": [
    "model.compile(optimizer=\"adam\", loss=tf.keras.losses.MAE, metrics=[])"
   ]
  },
  {
   "cell_type": "code",
   "execution_count": 179,
   "metadata": {},
   "outputs": [],
   "source": [
    "logdir = \"../log/v3-spherenn-simple-noisy-mixed-count-1\"\n",
    "tensorboard_callback = tf.keras.callbacks.TensorBoard(log_dir=logdir, histogram_freq=1)"
   ]
  },
  {
   "cell_type": "code",
   "execution_count": 180,
   "metadata": {},
   "outputs": [
    {
     "name": "stdout",
     "output_type": "stream",
     "text": [
      "Epoch 1/60\n",
      "24/24 [==============================] - 56s 2s/step - loss: 0.3225 - val_loss: 0.1703\n",
      "Epoch 2/60\n",
      "24/24 [==============================] - 51s 2s/step - loss: 0.1841 - val_loss: 0.1739\n",
      "Epoch 3/60\n",
      "24/24 [==============================] - 51s 2s/step - loss: 0.1816 - val_loss: 0.1676\n",
      "Epoch 4/60\n",
      "24/24 [==============================] - 50s 2s/step - loss: 0.1757 - val_loss: 0.1645\n",
      "Epoch 5/60\n",
      "24/24 [==============================] - 50s 2s/step - loss: 0.1841 - val_loss: 0.1678\n",
      "Epoch 6/60\n",
      "24/24 [==============================] - 50s 2s/step - loss: 0.1787 - val_loss: 0.2191\n",
      "Epoch 7/60\n",
      "24/24 [==============================] - 50s 2s/step - loss: 0.1769 - val_loss: 0.1628\n",
      "Epoch 8/60\n",
      "24/24 [==============================] - 51s 2s/step - loss: 0.1674 - val_loss: 0.1634\n",
      "Epoch 9/60\n",
      "24/24 [==============================] - 51s 2s/step - loss: 0.1690 - val_loss: 0.1469\n",
      "Epoch 10/60\n",
      "24/24 [==============================] - 52s 2s/step - loss: 0.1590 - val_loss: 0.1332\n",
      "Epoch 11/60\n",
      "24/24 [==============================] - 51s 2s/step - loss: 0.1232 - val_loss: 0.1106\n",
      "Epoch 12/60\n",
      "24/24 [==============================] - 52s 2s/step - loss: 0.1820 - val_loss: 0.1566\n",
      "Epoch 13/60\n",
      "24/24 [==============================] - 53s 2s/step - loss: 0.1440 - val_loss: 0.2013\n",
      "Epoch 14/60\n",
      "24/24 [==============================] - 51s 2s/step - loss: 0.1416 - val_loss: 0.1311\n",
      "Epoch 15/60\n",
      "24/24 [==============================] - 51s 2s/step - loss: 0.0775 - val_loss: 0.0592\n",
      "Epoch 16/60\n",
      "24/24 [==============================] - 51s 2s/step - loss: 0.0769 - val_loss: 0.0997\n",
      "Epoch 17/60\n",
      "24/24 [==============================] - 51s 2s/step - loss: 0.0657 - val_loss: 0.0394\n",
      "Epoch 18/60\n",
      "24/24 [==============================] - 52s 2s/step - loss: 0.0726 - val_loss: 0.0663\n",
      "Epoch 19/60\n",
      "24/24 [==============================] - 55s 2s/step - loss: 0.0480 - val_loss: 0.0405\n",
      "Epoch 20/60\n",
      "24/24 [==============================] - 51s 2s/step - loss: 0.0527 - val_loss: 0.1143\n",
      "Epoch 21/60\n",
      "24/24 [==============================] - 53s 2s/step - loss: 0.0617 - val_loss: 0.0334\n",
      "Epoch 22/60\n",
      "24/24 [==============================] - 55s 2s/step - loss: 0.0392 - val_loss: 0.0456\n",
      "Epoch 23/60\n",
      "24/24 [==============================] - 53s 2s/step - loss: 0.0636 - val_loss: 0.0789\n",
      "Epoch 24/60\n",
      "24/24 [==============================] - 54s 2s/step - loss: 0.0519 - val_loss: 0.0640\n",
      "Epoch 25/60\n",
      "24/24 [==============================] - 53s 2s/step - loss: 0.0567 - val_loss: 0.0728\n",
      "Epoch 26/60\n",
      "24/24 [==============================] - 56s 2s/step - loss: 0.0632 - val_loss: 0.0903\n",
      "Epoch 27/60\n",
      "24/24 [==============================] - 53s 2s/step - loss: 0.0567 - val_loss: 0.0740\n",
      "Epoch 28/60\n",
      "24/24 [==============================] - 51s 2s/step - loss: 0.0852 - val_loss: 0.0445\n",
      "Epoch 29/60\n",
      "24/24 [==============================] - 54s 2s/step - loss: 0.0408 - val_loss: 0.0245\n",
      "Epoch 30/60\n",
      "24/24 [==============================] - 54s 2s/step - loss: 0.0382 - val_loss: 0.0301\n",
      "Epoch 31/60\n",
      "24/24 [==============================] - 54s 2s/step - loss: 0.0343 - val_loss: 0.0875\n",
      "Epoch 32/60\n",
      "24/24 [==============================] - 55s 2s/step - loss: 0.0496 - val_loss: 0.0527\n",
      "Epoch 33/60\n",
      "24/24 [==============================] - 55s 2s/step - loss: 0.0339 - val_loss: 0.0225\n",
      "Epoch 34/60\n",
      "24/24 [==============================] - 56s 2s/step - loss: 0.0314 - val_loss: 0.0231\n",
      "Epoch 35/60\n",
      "24/24 [==============================] - 55s 2s/step - loss: 0.0392 - val_loss: 0.0229\n",
      "Epoch 36/60\n",
      "24/24 [==============================] - 57s 2s/step - loss: 0.0253 - val_loss: 0.0181\n",
      "Epoch 37/60\n",
      "24/24 [==============================] - 54s 2s/step - loss: 0.0370 - val_loss: 0.0339\n",
      "Epoch 38/60\n",
      "24/24 [==============================] - 55s 2s/step - loss: 0.0385 - val_loss: 0.0179\n",
      "Epoch 39/60\n",
      "24/24 [==============================] - 55s 2s/step - loss: 0.0281 - val_loss: 0.0469\n",
      "Epoch 40/60\n",
      "24/24 [==============================] - 55s 2s/step - loss: 0.0603 - val_loss: 0.0666\n",
      "Epoch 41/60\n",
      "24/24 [==============================] - 55s 2s/step - loss: 0.0303 - val_loss: 0.0262\n",
      "Epoch 42/60\n",
      "24/24 [==============================] - 56s 2s/step - loss: 0.0353 - val_loss: 0.0302\n",
      "Epoch 43/60\n",
      "24/24 [==============================] - 59s 2s/step - loss: 0.0276 - val_loss: 0.0166\n",
      "Epoch 44/60\n",
      "24/24 [==============================] - 59s 2s/step - loss: 0.0327 - val_loss: 0.0307\n",
      "Epoch 45/60\n",
      "24/24 [==============================] - 56s 2s/step - loss: 0.0205 - val_loss: 0.0127\n",
      "Epoch 46/60\n",
      "24/24 [==============================] - 56s 2s/step - loss: 0.0337 - val_loss: 0.0401\n",
      "Epoch 47/60\n",
      "24/24 [==============================] - 56s 2s/step - loss: 0.0274 - val_loss: 0.0481\n",
      "Epoch 48/60\n",
      "24/24 [==============================] - 54s 2s/step - loss: 0.0226 - val_loss: 0.0466\n",
      "Epoch 49/60\n",
      "24/24 [==============================] - 53s 2s/step - loss: 0.0231 - val_loss: 0.0122\n",
      "Epoch 50/60\n",
      "24/24 [==============================] - 53s 2s/step - loss: 0.0219 - val_loss: 0.0157\n",
      "Epoch 51/60\n",
      "24/24 [==============================] - 51s 2s/step - loss: 0.0279 - val_loss: 0.0387\n",
      "Epoch 52/60\n",
      "24/24 [==============================] - 50s 2s/step - loss: 0.0243 - val_loss: 0.0145\n",
      "Epoch 53/60\n",
      "24/24 [==============================] - 50s 2s/step - loss: 0.0206 - val_loss: 0.0189\n",
      "Epoch 54/60\n",
      "24/24 [==============================] - 50s 2s/step - loss: 0.0258 - val_loss: 0.0124\n",
      "Epoch 55/60\n",
      "24/24 [==============================] - 49s 2s/step - loss: 0.0164 - val_loss: 0.0229\n",
      "Epoch 56/60\n",
      "24/24 [==============================] - 50s 2s/step - loss: 0.0152 - val_loss: 0.0331\n",
      "Epoch 57/60\n",
      "24/24 [==============================] - 50s 2s/step - loss: 0.0182 - val_loss: 0.0086\n",
      "Epoch 58/60\n",
      "24/24 [==============================] - 50s 2s/step - loss: 0.0334 - val_loss: 0.0107\n",
      "Epoch 59/60\n",
      "24/24 [==============================] - 49s 2s/step - loss: 0.0234 - val_loss: 0.0264\n",
      "Epoch 60/60\n",
      "24/24 [==============================] - 49s 2s/step - loss: 0.0257 - val_loss: 0.0548\n"
     ]
    },
    {
     "data": {
      "text/plain": [
       "<tensorflow.python.keras.callbacks.History at 0x7fc44f550c70>"
      ]
     },
     "execution_count": 180,
     "metadata": {},
     "output_type": "execute_result"
    }
   ],
   "source": [
    "model.fit(x=data[\"x\"], y=data[\"y\"], batch_size=32, epochs=60, validation_data=(val[\"x\"], val[\"y\"]),\n",
    "         callbacks=[tensorboard_callback])"
   ]
  },
  {
   "cell_type": "code",
   "execution_count": 181,
   "metadata": {},
   "outputs": [
    {
     "data": {
      "text/html": [
       "\n",
       "      <iframe id=\"tensorboard-frame-2c9a485cf39e440d\" width=\"100%\" height=\"800\" frameborder=\"0\">\n",
       "      </iframe>\n",
       "      <script>\n",
       "        (function() {\n",
       "          const frame = document.getElementById(\"tensorboard-frame-2c9a485cf39e440d\");\n",
       "          const url = new URL(\"/\", window.location);\n",
       "          const port = 6007;\n",
       "          if (port) {\n",
       "            url.port = port;\n",
       "          }\n",
       "          frame.src = url;\n",
       "        })();\n",
       "      </script>\n",
       "    "
      ],
      "text/plain": [
       "<IPython.core.display.HTML object>"
      ]
     },
     "metadata": {},
     "output_type": "display_data"
    }
   ],
   "source": [
    "%tensorboard --logdir $logdir"
   ]
  }
 ],
 "metadata": {
  "kernelspec": {
   "display_name": "Python 3",
   "language": "python",
   "name": "python3"
  },
  "language_info": {
   "codemirror_mode": {
    "name": "ipython",
    "version": 3
   },
   "file_extension": ".py",
   "mimetype": "text/x-python",
   "name": "python",
   "nbconvert_exporter": "python",
   "pygments_lexer": "ipython3",
   "version": "3.8.5"
  }
 },
 "nbformat": 4,
 "nbformat_minor": 4
}
