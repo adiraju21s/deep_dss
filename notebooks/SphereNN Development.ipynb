{
 "cells": [
  {
   "cell_type": "markdown",
   "metadata": {},
   "source": [
    "# General Run Template"
   ]
  },
  {
   "cell_type": "code",
   "execution_count": 82,
   "metadata": {},
   "outputs": [
    {
     "name": "stdout",
     "output_type": "stream",
     "text": [
      "The autoreload extension is already loaded. To reload it, use:\n",
      "  %reload_ext autoreload\n",
      "The tensorboard extension is already loaded. To reload it, use:\n",
      "  %reload_ext tensorboard\n"
     ]
    }
   ],
   "source": [
    "%load_ext autoreload\n",
    "%load_ext tensorboard\n",
    "%autoreload 2"
   ]
  },
  {
   "cell_type": "code",
   "execution_count": 83,
   "metadata": {},
   "outputs": [],
   "source": [
    "import os\n",
    "from datetime import datetime\n",
    "import numpy as np\n",
    "import healpy as hp\n",
    "import matplotlib.pyplot as plt\n",
    "import tensorflow as tf\n",
    "import tensorflow.keras as keras\n",
    "from deep_dss.helpers import *\n",
    "\n",
    "# Run on GPU.\n",
    "os.environ[\"CUDA_VISIBLE_DEVICES\"] = \"0\""
   ]
  },
  {
   "cell_type": "code",
   "execution_count": 84,
   "metadata": {},
   "outputs": [],
   "source": [
    "# Defaults\n",
    "plt.rcParams.update({\n",
    "'lines.color':'black',\n",
    "'font.family':'serif',\n",
    "'font.weight':'normal',\n",
    "'text.color':'black',\n",
    "'text.usetex': True,\n",
    "'axes.edgecolor':'black',\n",
    "'axes.linewidth':1.0,\n",
    "'axes.titlesize':'x-large',\n",
    "'axes.labelsize':'x-large',\n",
    "'axes.labelcolor':'black',\n",
    "'xtick.labelsize':'x-large',\n",
    "'xtick.minor.width':1.0,\n",
    "'xtick.major.width':1.0,\n",
    "'ytick.major.size':7,\n",
    "'ytick.minor.size':4,\n",
    "'ytick.major.pad':8,\n",
    "'ytick.minor.pad':8,\n",
    "'ytick.labelsize':'x-large',\n",
    "'ytick.minor.width':1.0,\n",
    "'ytick.major.width':1.0,\n",
    "'legend.numpoints':1,\n",
    "'legend.fontsize':'x-large',\n",
    "'legend.shadow':False,\n",
    "'legend.frameon':False})"
   ]
  },
  {
   "cell_type": "code",
   "execution_count": 85,
   "metadata": {},
   "outputs": [
    {
     "name": "stdout",
     "output_type": "stream",
     "text": [
      "mkdir: ../checkpoints/spherenn/spherenn-v3-simple-noisy-fixed-gamma: File exists\n",
      "mkdir: ../log/spherenn-v3-simple-noisy-fixed-gamma: File exists\n",
      "mkdir: ../figures/spherenn-v3-simple-noisy-fixed-gamma: File exists\n"
     ]
    }
   ],
   "source": [
    "config = \"g\"\n",
    "channels = 2\n",
    "noiseless_m = False\n",
    "noiseless_kg = False\n",
    "rand_bias = False\n",
    "mixed_bias = False\n",
    "\n",
    "order = 2\n",
    "nside = 1024\n",
    "\n",
    "val_set = \"TEST\"\n",
    "\n",
    "exp_name = \"spherenn-v3-simple-noisy-fixed-gamma\"\n",
    "num_id = 1\n",
    "checkpoint_path = \"../checkpoints/spherenn/{0}/{0}-{1}\".format(exp_name, num_id)\n",
    "checkpoint_dir = \"../checkpoints/spherenn/{0}\".format(exp_name)\n",
    "!mkdir $checkpoint_dir\n",
    "log_dir = \"../log/{0}\".format(exp_name)\n",
    "!mkdir $log_dir\n",
    "fig_dir = \"../figures/{0}\".format(exp_name)\n",
    "!mkdir $fig_dir"
   ]
  },
  {
   "cell_type": "code",
   "execution_count": 86,
   "metadata": {},
   "outputs": [],
   "source": [
    "def num_cosmologies(dataset):\n",
    "    if dataset == \"TRAINLITE\":\n",
    "        return 16\n",
    "    if dataset == \"TESTLITE\":\n",
    "        return 4\n",
    "    if dataset == \"TEST\":\n",
    "        return 21\n",
    "    return 45"
   ]
  },
  {
   "cell_type": "code",
   "execution_count": 87,
   "metadata": {},
   "outputs": [],
   "source": [
    "def generate_reshaped_data(dataset):\n",
    "    print(\"Generating data for {0}!\".format(dataset))\n",
    "    num_cosmos = num_cosmologies(dataset)\n",
    "    data = split_count_and_lensing_maps_by_dataset(dataset, config=config, noiseless_m=noiseless_m,\n",
    "                                                  noiseless_kg=noiseless_kg, rand_bias=rand_bias, \n",
    "                                                  mixed_bias=mixed_bias)\n",
    "    data[\"x\"] = np.reshape(data[\"x\"], (12*(order**2)*num_cosmos, (nside//order)**2, channels))\n",
    "    data[\"y\"] = np.reshape(data[\"y\"], (12*(order**2)*num_cosmos, 1, 1))\n",
    "    return data"
   ]
  },
  {
   "cell_type": "code",
   "execution_count": 88,
   "metadata": {},
   "outputs": [],
   "source": [
    "def build_model():\n",
    "    return keras.Sequential([\n",
    "        keras.Input(shape=(262144, 1)),\n",
    "        keras.layers.Conv1D(64, 4, strides=4, activation='relu'),\n",
    "        keras.layers.Conv1D(128, 4, strides=4, activation='relu'),\n",
    "        keras.layers.Conv1D(256, 4, strides=4, activation='relu'),\n",
    "        keras.layers.Conv1D(256, 4, strides=4, activation='relu'),\n",
    "        keras.layers.Conv1D(256, 4, strides=4, activation='relu'),\n",
    "        keras.layers.Conv1D(256, 4, strides=4, activation='relu'),\n",
    "        keras.layers.Conv1D(256, 4, strides=4, activation='relu'),\n",
    "        keras.layers.Conv1D(256, 4, strides=4, activation='relu'),\n",
    "        keras.layers.Conv1D(1, 4, strides=4, activation='relu'),\n",
    "    ])"
   ]
  },
  {
   "cell_type": "code",
   "execution_count": 89,
   "metadata": {},
   "outputs": [],
   "source": [
    "def train_model_single_dataset(dataset, n_epochs=12, load_model=False, chkpt_path=None, val_data=None):\n",
    "    train_data = generate_reshaped_data(dataset)\n",
    "    if val_data is None:\n",
    "        val_data = generate_reshaped_data(val_set)\n",
    "    \n",
    "    model = build_model()\n",
    "    if load_model:\n",
    "        model.load_weights(chkpt_path)\n",
    "    model.compile(optimizer=\"adam\", loss=tf.keras.losses.MAE, metrics=[])\n",
    "    \n",
    "    tensorboard_callback = tf.keras.callbacks.TensorBoard(log_dir=log_dir+\"/{0}-{1}\".format(num_id, dataset),\n",
    "                                                          histogram_freq=1)\n",
    "    cp_callback = tf.keras.callbacks.ModelCheckpoint(filepath=checkpoint_path+\"-{0}\".format(dataset),\n",
    "                                                     monitor=\"val_loss\", save_weights_only=True, save_best_only=True, \n",
    "                                                     verbose=1, mode=\"min\")\n",
    "    \n",
    "    model.fit(x=train_data[\"x\"], y=train_data[\"y\"], batch_size=32, epochs=n_epochs, \n",
    "              validation_data=(val_data[\"x\"], val_data[\"y\"]),\n",
    "              callbacks=[tensorboard_callback, cp_callback])\n",
    "    return checkpoint_path+\"-{0}\".format(dataset)"
   ]
  },
  {
   "cell_type": "code",
   "execution_count": 90,
   "metadata": {},
   "outputs": [],
   "source": [
    "def train_model():\n",
    "    val_data = generate_reshaped_data(val_set)\n",
    "    print(\"Training on Q1 data:\")\n",
    "    path = train_model_single_dataset(\"Q1\", val_data=val_data)\n",
    "    print(\"Training on Q2 data:\")\n",
    "    path = train_model_single_dataset(\"Q2\", load_model=True, chkpt_path=path, val_data=val_data)\n",
    "    print(\"Training on Q3 data:\")\n",
    "    path = train_model_single_dataset(\"Q3\", load_model=True, chkpt_path=path, val_data=val_data)\n",
    "    print(\"Training on Q4 data:\")\n",
    "    train_model_single_dataset(\"Q4\", load_model=True, chkpt_path=path, val_data=val_data)"
   ]
  },
  {
   "cell_type": "code",
   "execution_count": 91,
   "metadata": {},
   "outputs": [],
   "source": [
    "def full_predictions_and_truths():\n",
    "    model = build_model()\n",
    "    model.load_weights(checkpoint_path+\"-Q4\")\n",
    "    \n",
    "    print(\"Processing Q1 data\")\n",
    "    data = generate_reshaped_data(\"Q1\")\n",
    "    preds_q1 = model.predict(data[\"x\"])\n",
    "    truths_q1 = data[\"y\"]\n",
    "    q1 = {\"p\": preds_q1, \"t\": truths_q1}\n",
    "    \n",
    "    print(\"Processing Q2 data\")\n",
    "    data = generate_reshaped_data(\"Q2\")\n",
    "    preds_q2 = model.predict(data[\"x\"])\n",
    "    truths_q2 = data[\"y\"]\n",
    "    q2 = {\"p\": preds_q2, \"t\": truths_q2}\n",
    "\n",
    "    print(\"Processing Q3 data\")    \n",
    "    data = generate_reshaped_data(\"Q3\")\n",
    "    preds_q3 = model.predict(data[\"x\"])\n",
    "    truths_q3 = data[\"y\"]\n",
    "    q3 = {\"p\": preds_q3, \"t\": truths_q3}\n",
    "    \n",
    "    print(\"Processing Q4 data\")\n",
    "    data = generate_reshaped_data(\"Q4\")\n",
    "    preds_q4 = model.predict(data[\"x\"])\n",
    "    truths_q4 = data[\"y\"]\n",
    "    q4 = {\"p\": preds_q4, \"t\": truths_q4}\n",
    "    \n",
    "    print(\"Processing TEST data\")\n",
    "    data = generate_reshaped_data(\"TEST\")\n",
    "    preds_test = model.predict(data[\"x\"])\n",
    "    truths_test = data[\"y\"]\n",
    "    test = {\"p\": preds_test, \"t\": truths_test}\n",
    "    \n",
    "    return {\"Q1\": q1, \"Q2\": q2, \"Q3\": q3, \"Q4\": q4, \"TEST\": test}"
   ]
  },
  {
   "cell_type": "code",
   "execution_count": 92,
   "metadata": {},
   "outputs": [],
   "source": [
    "def print_losses(full_results):\n",
    "    with open(\"{0}/{1}-{2}-losses.txt\".format(fig_dir, exp_name, num_id), \"w\") as logfile:\n",
    "        print(\"Average Q1 Loss:\", np.average(np.abs(full_results[\"Q1\"][\"p\"] - full_results[\"Q1\"][\"t\"])), file=logfile)\n",
    "        print(\"Average Q2 Loss:\", np.average(np.abs(full_results[\"Q2\"][\"p\"] - full_results[\"Q2\"][\"t\"])), file=logfile)\n",
    "        print(\"Average Q3 Loss:\", np.average(np.abs(full_results[\"Q3\"][\"p\"] - full_results[\"Q3\"][\"t\"])), file=logfile)\n",
    "        print(\"Average Q4 Loss:\", np.average(np.abs(full_results[\"Q4\"][\"p\"] - full_results[\"Q4\"][\"t\"])), file=logfile)\n",
    "        print(\"Average TEST Loss:\", np.average(np.abs(full_results[\"TEST\"][\"p\"] - full_results[\"TEST\"][\"t\"])),\n",
    "             file=logfile)"
   ]
  },
  {
   "cell_type": "code",
   "execution_count": 93,
   "metadata": {},
   "outputs": [],
   "source": [
    "def plot_preds_vs_truths(full_results, title):\n",
    "    plt.rcParams.update({\n",
    "        'lines.color':'black',\n",
    "        'font.family':'serif',\n",
    "        'font.weight':'normal',\n",
    "        'text.color':'black',\n",
    "        'text.usetex': True,\n",
    "        'axes.edgecolor':'black',\n",
    "        'axes.linewidth':1.0,\n",
    "        'axes.titlesize':'x-large',\n",
    "        'axes.labelsize':'x-large',\n",
    "        'axes.labelcolor':'black',\n",
    "        'xtick.labelsize':'x-large',\n",
    "        'xtick.minor.width':1.0,\n",
    "        'xtick.major.width':1.0,\n",
    "        'ytick.major.size':7,\n",
    "        'ytick.minor.size':4,\n",
    "        'ytick.major.pad':8,\n",
    "        'ytick.minor.pad':8,\n",
    "        'ytick.labelsize':'x-large',\n",
    "        'ytick.minor.width':1.0,\n",
    "        'ytick.major.width':1.0,\n",
    "        'legend.numpoints':1,\n",
    "        'legend.fontsize':'x-large',\n",
    "        'legend.shadow':False,\n",
    "        'legend.frameon':False})\n",
    "    \n",
    "    plt.scatter(full_results[\"Q1\"][\"t\"][:,0,0], full_results[\"Q1\"][\"p\"][:,0,0], label=\"q1\")    \n",
    "    plt.scatter(full_results[\"Q2\"][\"t\"][:,0,0], full_results[\"Q2\"][\"p\"][:,0,0], label=\"q2\")    \n",
    "    plt.scatter(full_results[\"Q3\"][\"t\"][:,0,0], full_results[\"Q3\"][\"p\"][:,0,0], label=\"q3\")    \n",
    "    plt.scatter(full_results[\"Q4\"][\"t\"][:,0,0], full_results[\"Q4\"][\"p\"][:,0,0], label=\"q4\")    \n",
    "    plt.scatter(full_results[\"TEST\"][\"t\"][:,0,0], full_results[\"TEST\"][\"p\"][:,0,0], label=\"test\")    \n",
    "    plt.plot([0.5, 1.2], [0.5, 1.2], \"k-\", linewidth=4, label=\"ground truth\")\n",
    "    \n",
    "    plt.xlabel(r\"True clustering of matter ($\\sigma_8$)\")\n",
    "    plt.ylabel(r\"Predicted clustering of matter ($\\widehat{\\sigma_8}$)\")\n",
    "    plt.title(title)\n",
    "    \n",
    "#     linreg = np.polyfit(full_results[\"TEST\"][\"t\"][:,0,0], p(full_results[\"TEST\"][\"t\"][:,0,0]), 1)\n",
    "#     p = np.poly1d(linreg)\n",
    "#     plt.plot(val[\"y\"][:,0,0], val[\"y\"][:,0,0], \"k-\", linewidth=4, label='linear fit')\n",
    "    \n",
    "    plt.legend()\n",
    "    \n",
    "    plt.savefig(\"{0}/{1}-{2}-full-preds-vs-truths.png\".format(fig_dir, exp_name, num_id))"
   ]
  },
  {
   "cell_type": "code",
   "execution_count": 94,
   "metadata": {},
   "outputs": [],
   "source": [
    "def plot_residuals(full_results, title):\n",
    "    plt.rcParams.update({\n",
    "        'lines.color':'black',\n",
    "        'font.family':'serif',\n",
    "        'font.weight':'normal',\n",
    "        'text.color':'black',\n",
    "        'text.usetex': True,\n",
    "        'axes.edgecolor':'black',\n",
    "        'axes.linewidth':1.0,\n",
    "        'axes.titlesize':'x-large',\n",
    "        'axes.labelsize':'x-large',\n",
    "        'axes.labelcolor':'black',\n",
    "        'xtick.labelsize':'x-large',\n",
    "        'xtick.minor.width':1.0,\n",
    "        'xtick.major.width':1.0,\n",
    "        'ytick.major.size':7,\n",
    "        'ytick.minor.size':4,\n",
    "        'ytick.major.pad':8,\n",
    "        'ytick.minor.pad':8,\n",
    "        'ytick.labelsize':'x-large',\n",
    "        'ytick.minor.width':1.0,\n",
    "        'ytick.major.width':1.0,\n",
    "        'legend.numpoints':1,\n",
    "        'legend.fontsize':'small',\n",
    "        'legend.shadow':False,\n",
    "        'legend.frameon':False})\n",
    "    \n",
    "    plt.scatter(full_results[\"Q1\"][\"t\"][:,0,0], full_results[\"Q1\"][\"p\"][:,0,0]-full_results[\"Q1\"][\"t\"][:,0,0],\n",
    "                label=\"q1\")    \n",
    "    plt.scatter(full_results[\"Q2\"][\"t\"][:,0,0], full_results[\"Q2\"][\"p\"][:,0,0]-full_results[\"Q2\"][\"t\"][:,0,0],\n",
    "                label=\"q2\")    \n",
    "    plt.scatter(full_results[\"Q3\"][\"t\"][:,0,0], full_results[\"Q3\"][\"p\"][:,0,0]-full_results[\"Q3\"][\"t\"][:,0,0],\n",
    "                label=\"q3\")    \n",
    "    plt.scatter(full_results[\"Q4\"][\"t\"][:,0,0], full_results[\"Q4\"][\"p\"][:,0,0]-full_results[\"Q4\"][\"t\"][:,0,0],\n",
    "                label=\"q4\")    \n",
    "    plt.scatter(full_results[\"TEST\"][\"t\"][:,0,0], full_results[\"TEST\"][\"p\"][:,0,0]-full_results[\"TEST\"][\"t\"][:,0,0],\n",
    "                label=\"test\")    \n",
    "    plt.plot([0.5, 1.2], [0, 0], \"k-\", linewidth=4, label=\"ground truth\")\n",
    "    \n",
    "#     linreg = np.polyfit(full_results[\"TEST\"][\"t\"][:,0,0], p(full_results[\"TEST\"][\"t\"][:,0,0]), 1)\n",
    "#     p = np.poly1d(linreg)\n",
    "#     plt.plot(val[\"y\"][:,0,0], val[\"y\"][:,0,0], \"k-\", linewidth=4, label='linear fit')\n",
    "\n",
    "    plt.xlabel(r\"True clustering of matter ($\\sigma_8$)\")\n",
    "    plt.ylabel(r\"Error in model prediction ($\\widehat{\\sigma_8} - \\sigma_8$)\")\n",
    "    plt.title(title)\n",
    "    \n",
    "    plt.ylim(-0.1, 0.1)\n",
    "    \n",
    "    plt.legend()\n",
    "    \n",
    "    plt.savefig(\"{0}/{1}-{2}-full-residuals.png\".format(fig_dir, exp_name, num_id))"
   ]
  },
  {
   "cell_type": "code",
   "execution_count": 95,
   "metadata": {},
   "outputs": [
    {
     "name": "stdout",
     "output_type": "stream",
     "text": [
      "Model: \"sequential_10\"\n",
      "_________________________________________________________________\n",
      "Layer (type)                 Output Shape              Param #   \n",
      "=================================================================\n",
      "conv1d_90 (Conv1D)           (None, 65536, 64)         320       \n",
      "_________________________________________________________________\n",
      "conv1d_91 (Conv1D)           (None, 16384, 128)        32896     \n",
      "_________________________________________________________________\n",
      "conv1d_92 (Conv1D)           (None, 4096, 256)         131328    \n",
      "_________________________________________________________________\n",
      "conv1d_93 (Conv1D)           (None, 1024, 256)         262400    \n",
      "_________________________________________________________________\n",
      "conv1d_94 (Conv1D)           (None, 256, 256)          262400    \n",
      "_________________________________________________________________\n",
      "conv1d_95 (Conv1D)           (None, 64, 256)           262400    \n",
      "_________________________________________________________________\n",
      "conv1d_96 (Conv1D)           (None, 16, 256)           262400    \n",
      "_________________________________________________________________\n",
      "conv1d_97 (Conv1D)           (None, 4, 256)            262400    \n",
      "_________________________________________________________________\n",
      "conv1d_98 (Conv1D)           (None, 1, 1)              1025      \n",
      "=================================================================\n",
      "Total params: 1,477,569\n",
      "Trainable params: 1,477,569\n",
      "Non-trainable params: 0\n",
      "_________________________________________________________________\n"
     ]
    }
   ],
   "source": [
    "dummy_model = build_model()\n",
    "dummy_model.summary()"
   ]
  },
  {
   "cell_type": "code",
   "execution_count": null,
   "metadata": {},
   "outputs": [
    {
     "name": "stdout",
     "output_type": "stream",
     "text": [
      "Generating data for TEST!\n",
      "Training on Q1 data:\n",
      "Generating data for Q1!\n"
     ]
    }
   ],
   "source": [
    "train_model()"
   ]
  },
  {
   "cell_type": "code",
   "execution_count": null,
   "metadata": {},
   "outputs": [],
   "source": [
    "%tensorboard --logdir $log_dir"
   ]
  },
  {
   "cell_type": "code",
   "execution_count": null,
   "metadata": {},
   "outputs": [],
   "source": [
    "results = full_predictions_and_truths()"
   ]
  },
  {
   "cell_type": "code",
   "execution_count": null,
   "metadata": {},
   "outputs": [],
   "source": [
    "plot_preds_vs_truths(results, \"SphereNN Estimates from Noisy Shear\")"
   ]
  },
  {
   "cell_type": "code",
   "execution_count": null,
   "metadata": {},
   "outputs": [],
   "source": [
    "plot_residuals(results, \"SphereNN Residuals from Noisy Shear\")"
   ]
  },
  {
   "cell_type": "code",
   "execution_count": null,
   "metadata": {},
   "outputs": [],
   "source": [
    "print_losses(results)"
   ]
  },
  {
   "cell_type": "markdown",
   "metadata": {},
   "source": [
    "# First run: Noiseless, Fixed-bias Counts"
   ]
  },
  {
   "cell_type": "code",
   "execution_count": 34,
   "metadata": {},
   "outputs": [],
   "source": [
    "data = split_count_and_lensing_maps_by_dataset(train_set, config=config, noiseless_m=noiseless_m,\n",
    "                                              noiseless_kg=noiseless_kg, rand_bias=rand_bias, mixed_bias=mixed_bias)\n",
    "val = split_count_and_lensing_maps_by_dataset(test_set, config=config, noiseless_m=noiseless_m,\n",
    "                                              noiseless_kg=noiseless_kg, rand_bias=rand_bias, mixed_bias=mixed_bias)"
   ]
  },
  {
   "cell_type": "code",
   "execution_count": 41,
   "metadata": {},
   "outputs": [],
   "source": [
    "data[\"x\"] = np.reshape(data[\"x\"], (48*45, 262144, 1))\n",
    "data[\"y\"] = np.reshape(data[\"y\"], (48*45, 1, 1))\n",
    "\n",
    "val[\"x\"] = np.reshape(val[\"x\"], (48*21, 262144, 1))\n",
    "val[\"y\"] = np.reshape(val[\"y\"], (48*21, 1, 1))"
   ]
  },
  {
   "cell_type": "code",
   "execution_count": 27,
   "metadata": {},
   "outputs": [],
   "source": [
    "model = build_model()"
   ]
  },
  {
   "cell_type": "code",
   "execution_count": 29,
   "metadata": {},
   "outputs": [],
   "source": [
    "model.compile(optimizer=\"adam\", loss=tf.keras.losses.MAE, metrics=[])"
   ]
  },
  {
   "cell_type": "code",
   "execution_count": 30,
   "metadata": {},
   "outputs": [],
   "source": [
    "exp_name = \"simple-noisy-fixed-count-1\"\n",
    "\n",
    "logdir = \"../log/spherenn-v3-{0}\".format(exp_name)\n",
    "tensorboard_callback = tf.keras.callbacks.TensorBoard(log_dir=logdir, histogram_freq=1)\n",
    "\n",
    "chkptdir = \"../checkpoints/spherenn/spherenn-v3-{0}\".format(exp_name)\n",
    "cp_callback = tf.keras.callbacks.ModelCheckpoint(filepath=chkptdir, save_weights_only=True, verbose=1)"
   ]
  },
  {
   "cell_type": "code",
   "execution_count": 31,
   "metadata": {},
   "outputs": [
    {
     "name": "stdout",
     "output_type": "stream",
     "text": [
      "Epoch 1/60\n",
      "68/68 [==============================] - ETA: 0s - loss: 0.3459\n",
      "Epoch 00001: saving model to ../checkpoints/spherenn/spherenn-v3-simple-noisy-fixed-count-1\n",
      "68/68 [==============================] - 159s 2s/step - loss: 0.3459 - val_loss: 0.1390\n",
      "Epoch 2/60\n",
      "68/68 [==============================] - ETA: 0s - loss: 0.1690\n",
      "Epoch 00002: saving model to ../checkpoints/spherenn/spherenn-v3-simple-noisy-fixed-count-1\n",
      "68/68 [==============================] - 147s 2s/step - loss: 0.1690 - val_loss: 0.1982\n",
      "Epoch 3/60\n",
      "68/68 [==============================] - ETA: 0s - loss: 0.0970\n",
      "Epoch 00003: saving model to ../checkpoints/spherenn/spherenn-v3-simple-noisy-fixed-count-1\n",
      "68/68 [==============================] - 147s 2s/step - loss: 0.0970 - val_loss: 0.1358\n",
      "Epoch 4/60\n",
      "68/68 [==============================] - ETA: 0s - loss: 0.0633\n",
      "Epoch 00004: saving model to ../checkpoints/spherenn/spherenn-v3-simple-noisy-fixed-count-1\n",
      "68/68 [==============================] - 153s 2s/step - loss: 0.0633 - val_loss: 0.0559\n",
      "Epoch 5/60\n",
      "68/68 [==============================] - ETA: 0s - loss: 0.0606\n",
      "Epoch 00005: saving model to ../checkpoints/spherenn/spherenn-v3-simple-noisy-fixed-count-1\n",
      "68/68 [==============================] - 145s 2s/step - loss: 0.0606 - val_loss: 0.0291\n",
      "Epoch 6/60\n",
      "68/68 [==============================] - ETA: 0s - loss: 0.0580\n",
      "Epoch 00006: saving model to ../checkpoints/spherenn/spherenn-v3-simple-noisy-fixed-count-1\n",
      "68/68 [==============================] - 146s 2s/step - loss: 0.0580 - val_loss: 0.0288\n",
      "Epoch 7/60\n",
      "68/68 [==============================] - ETA: 0s - loss: 0.0508\n",
      "Epoch 00007: saving model to ../checkpoints/spherenn/spherenn-v3-simple-noisy-fixed-count-1\n",
      "68/68 [==============================] - 144s 2s/step - loss: 0.0508 - val_loss: 0.0603\n",
      "Epoch 8/60\n",
      "68/68 [==============================] - ETA: 0s - loss: 0.0566\n",
      "Epoch 00008: saving model to ../checkpoints/spherenn/spherenn-v3-simple-noisy-fixed-count-1\n",
      "68/68 [==============================] - 147s 2s/step - loss: 0.0566 - val_loss: 0.1058\n",
      "Epoch 9/60\n",
      "68/68 [==============================] - ETA: 0s - loss: 0.0415\n",
      "Epoch 00009: saving model to ../checkpoints/spherenn/spherenn-v3-simple-noisy-fixed-count-1\n",
      "68/68 [==============================] - 140s 2s/step - loss: 0.0415 - val_loss: 0.0862\n",
      "Epoch 10/60\n",
      "68/68 [==============================] - ETA: 0s - loss: 0.0660\n",
      "Epoch 00010: saving model to ../checkpoints/spherenn/spherenn-v3-simple-noisy-fixed-count-1\n",
      "68/68 [==============================] - 146s 2s/step - loss: 0.0660 - val_loss: 0.0403\n",
      "Epoch 11/60\n",
      "68/68 [==============================] - ETA: 0s - loss: 0.0349\n",
      "Epoch 00011: saving model to ../checkpoints/spherenn/spherenn-v3-simple-noisy-fixed-count-1\n",
      "68/68 [==============================] - 145s 2s/step - loss: 0.0349 - val_loss: 0.0564\n",
      "Epoch 12/60\n",
      "68/68 [==============================] - ETA: 0s - loss: 0.0698\n",
      "Epoch 00012: saving model to ../checkpoints/spherenn/spherenn-v3-simple-noisy-fixed-count-1\n",
      "68/68 [==============================] - 142s 2s/step - loss: 0.0698 - val_loss: 0.0322\n",
      "Epoch 13/60\n",
      "68/68 [==============================] - ETA: 0s - loss: 0.0380\n",
      "Epoch 00013: saving model to ../checkpoints/spherenn/spherenn-v3-simple-noisy-fixed-count-1\n",
      "68/68 [==============================] - 141s 2s/step - loss: 0.0380 - val_loss: 0.0530\n",
      "Epoch 14/60\n",
      "68/68 [==============================] - ETA: 0s - loss: 0.0463\n",
      "Epoch 00014: saving model to ../checkpoints/spherenn/spherenn-v3-simple-noisy-fixed-count-1\n",
      "68/68 [==============================] - 144s 2s/step - loss: 0.0463 - val_loss: 0.0856\n",
      "Epoch 15/60\n",
      "68/68 [==============================] - ETA: 0s - loss: 0.0406\n",
      "Epoch 00015: saving model to ../checkpoints/spherenn/spherenn-v3-simple-noisy-fixed-count-1\n",
      "68/68 [==============================] - 141s 2s/step - loss: 0.0406 - val_loss: 0.0326\n",
      "Epoch 16/60\n",
      "68/68 [==============================] - ETA: 0s - loss: 0.0344\n",
      "Epoch 00016: saving model to ../checkpoints/spherenn/spherenn-v3-simple-noisy-fixed-count-1\n",
      "68/68 [==============================] - 141s 2s/step - loss: 0.0344 - val_loss: 0.0194\n",
      "Epoch 17/60\n",
      "68/68 [==============================] - ETA: 0s - loss: 0.0187\n",
      "Epoch 00017: saving model to ../checkpoints/spherenn/spherenn-v3-simple-noisy-fixed-count-1\n",
      "68/68 [==============================] - 139s 2s/step - loss: 0.0187 - val_loss: 0.0119\n",
      "Epoch 18/60\n",
      "68/68 [==============================] - ETA: 0s - loss: 0.0262\n",
      "Epoch 00018: saving model to ../checkpoints/spherenn/spherenn-v3-simple-noisy-fixed-count-1\n",
      "68/68 [==============================] - 131s 2s/step - loss: 0.0262 - val_loss: 0.0193\n",
      "Epoch 19/60\n",
      "68/68 [==============================] - ETA: 0s - loss: 0.0203\n",
      "Epoch 00019: saving model to ../checkpoints/spherenn/spherenn-v3-simple-noisy-fixed-count-1\n",
      "68/68 [==============================] - 133s 2s/step - loss: 0.0203 - val_loss: 0.0279\n",
      "Epoch 20/60\n",
      "68/68 [==============================] - ETA: 0s - loss: 0.0477\n",
      "Epoch 00020: saving model to ../checkpoints/spherenn/spherenn-v3-simple-noisy-fixed-count-1\n",
      "68/68 [==============================] - 132s 2s/step - loss: 0.0477 - val_loss: 0.0736\n",
      "Epoch 21/60\n",
      "68/68 [==============================] - ETA: 0s - loss: 0.0322\n",
      "Epoch 00021: saving model to ../checkpoints/spherenn/spherenn-v3-simple-noisy-fixed-count-1\n",
      "68/68 [==============================] - 131s 2s/step - loss: 0.0322 - val_loss: 0.0176\n",
      "Epoch 22/60\n",
      "68/68 [==============================] - ETA: 0s - loss: 0.0177\n",
      "Epoch 00022: saving model to ../checkpoints/spherenn/spherenn-v3-simple-noisy-fixed-count-1\n",
      "68/68 [==============================] - 133s 2s/step - loss: 0.0177 - val_loss: 0.0153\n",
      "Epoch 23/60\n",
      "68/68 [==============================] - ETA: 0s - loss: 0.0288\n",
      "Epoch 00023: saving model to ../checkpoints/spherenn/spherenn-v3-simple-noisy-fixed-count-1\n",
      "68/68 [==============================] - 132s 2s/step - loss: 0.0288 - val_loss: 0.0163\n",
      "Epoch 24/60\n",
      "68/68 [==============================] - ETA: 0s - loss: 0.0256\n",
      "Epoch 00024: saving model to ../checkpoints/spherenn/spherenn-v3-simple-noisy-fixed-count-1\n",
      "68/68 [==============================] - 131s 2s/step - loss: 0.0256 - val_loss: 0.0334\n",
      "Epoch 25/60\n",
      "68/68 [==============================] - ETA: 0s - loss: 0.0201\n",
      "Epoch 00025: saving model to ../checkpoints/spherenn/spherenn-v3-simple-noisy-fixed-count-1\n",
      "68/68 [==============================] - 133s 2s/step - loss: 0.0201 - val_loss: 0.0168\n",
      "Epoch 26/60\n",
      "68/68 [==============================] - ETA: 0s - loss: 0.0178\n",
      "Epoch 00026: saving model to ../checkpoints/spherenn/spherenn-v3-simple-noisy-fixed-count-1\n",
      "68/68 [==============================] - 131s 2s/step - loss: 0.0178 - val_loss: 0.0135\n",
      "Epoch 27/60\n",
      "68/68 [==============================] - ETA: 0s - loss: 0.0244\n",
      "Epoch 00027: saving model to ../checkpoints/spherenn/spherenn-v3-simple-noisy-fixed-count-1\n",
      "68/68 [==============================] - 134s 2s/step - loss: 0.0244 - val_loss: 0.0143\n",
      "Epoch 28/60\n",
      "68/68 [==============================] - ETA: 0s - loss: 0.0200\n",
      "Epoch 00028: saving model to ../checkpoints/spherenn/spherenn-v3-simple-noisy-fixed-count-1\n",
      "68/68 [==============================] - 131s 2s/step - loss: 0.0200 - val_loss: 0.0296\n",
      "Epoch 29/60\n",
      "68/68 [==============================] - ETA: 0s - loss: 0.0203\n",
      "Epoch 00029: saving model to ../checkpoints/spherenn/spherenn-v3-simple-noisy-fixed-count-1\n",
      "68/68 [==============================] - 131s 2s/step - loss: 0.0203 - val_loss: 0.0523\n",
      "Epoch 30/60\n",
      "68/68 [==============================] - ETA: 0s - loss: 0.0291\n",
      "Epoch 00030: saving model to ../checkpoints/spherenn/spherenn-v3-simple-noisy-fixed-count-1\n",
      "68/68 [==============================] - 134s 2s/step - loss: 0.0291 - val_loss: 0.0130\n",
      "Epoch 31/60\n",
      "68/68 [==============================] - ETA: 0s - loss: 0.0219\n",
      "Epoch 00031: saving model to ../checkpoints/spherenn/spherenn-v3-simple-noisy-fixed-count-1\n",
      "68/68 [==============================] - 131s 2s/step - loss: 0.0219 - val_loss: 0.0335\n",
      "Epoch 32/60\n",
      "68/68 [==============================] - ETA: 0s - loss: 0.0255\n",
      "Epoch 00032: saving model to ../checkpoints/spherenn/spherenn-v3-simple-noisy-fixed-count-1\n",
      "68/68 [==============================] - 131s 2s/step - loss: 0.0255 - val_loss: 0.0132\n",
      "Epoch 33/60\n"
     ]
    },
    {
     "name": "stdout",
     "output_type": "stream",
     "text": [
      "68/68 [==============================] - ETA: 0s - loss: 0.0162\n",
      "Epoch 00033: saving model to ../checkpoints/spherenn/spherenn-v3-simple-noisy-fixed-count-1\n",
      "68/68 [==============================] - 131s 2s/step - loss: 0.0162 - val_loss: 0.0274\n",
      "Epoch 34/60\n",
      "68/68 [==============================] - ETA: 0s - loss: 0.0205\n",
      "Epoch 00034: saving model to ../checkpoints/spherenn/spherenn-v3-simple-noisy-fixed-count-1\n",
      "68/68 [==============================] - 139s 2s/step - loss: 0.0205 - val_loss: 0.0240\n",
      "Epoch 35/60\n",
      "68/68 [==============================] - ETA: 0s - loss: 0.0225\n",
      "Epoch 00035: saving model to ../checkpoints/spherenn/spherenn-v3-simple-noisy-fixed-count-1\n",
      "68/68 [==============================] - 178s 3s/step - loss: 0.0225 - val_loss: 0.0195\n",
      "Epoch 36/60\n",
      "68/68 [==============================] - ETA: 0s - loss: 0.0246 \n",
      "Epoch 00036: saving model to ../checkpoints/spherenn/spherenn-v3-simple-noisy-fixed-count-1\n",
      "68/68 [==============================] - 698s 10s/step - loss: 0.0246 - val_loss: 0.0324\n",
      "Epoch 37/60\n",
      "68/68 [==============================] - ETA: 0s - loss: 0.0167\n",
      "Epoch 00037: saving model to ../checkpoints/spherenn/spherenn-v3-simple-noisy-fixed-count-1\n",
      "68/68 [==============================] - 207s 3s/step - loss: 0.0167 - val_loss: 0.0143\n",
      "Epoch 38/60\n",
      "68/68 [==============================] - ETA: 0s - loss: 0.0233\n",
      "Epoch 00038: saving model to ../checkpoints/spherenn/spherenn-v3-simple-noisy-fixed-count-1\n",
      "68/68 [==============================] - 151s 2s/step - loss: 0.0233 - val_loss: 0.0210\n",
      "Epoch 39/60\n",
      "68/68 [==============================] - ETA: 0s - loss: 0.0249\n",
      "Epoch 00039: saving model to ../checkpoints/spherenn/spherenn-v3-simple-noisy-fixed-count-1\n",
      "68/68 [==============================] - 132s 2s/step - loss: 0.0249 - val_loss: 0.0141\n",
      "Epoch 40/60\n",
      "68/68 [==============================] - ETA: 0s - loss: 0.0147\n",
      "Epoch 00040: saving model to ../checkpoints/spherenn/spherenn-v3-simple-noisy-fixed-count-1\n",
      "68/68 [==============================] - 130s 2s/step - loss: 0.0147 - val_loss: 0.0189\n",
      "Epoch 41/60\n",
      "12/68 [====>.........................] - ETA: 1:32 - loss: 0.0235"
     ]
    },
    {
     "ename": "KeyboardInterrupt",
     "evalue": "",
     "output_type": "error",
     "traceback": [
      "\u001b[0;31m---------------------------------------------------------------------------\u001b[0m",
      "\u001b[0;31mKeyboardInterrupt\u001b[0m                         Traceback (most recent call last)",
      "\u001b[0;32m<ipython-input-31-2b37da6a3111>\u001b[0m in \u001b[0;36m<module>\u001b[0;34m\u001b[0m\n\u001b[0;32m----> 1\u001b[0;31m model.fit(x=data[\"x\"], y=data[\"y\"], batch_size=32, epochs=60, validation_data=(val[\"x\"], val[\"y\"]),\n\u001b[0m\u001b[1;32m      2\u001b[0m          callbacks=[tensorboard_callback, cp_callback])\n",
      "\u001b[0;32m~/opt/anaconda3/envs/deep_dss/lib/python3.8/site-packages/tensorflow/python/keras/engine/training.py\u001b[0m in \u001b[0;36m_method_wrapper\u001b[0;34m(self, *args, **kwargs)\u001b[0m\n\u001b[1;32m    106\u001b[0m   \u001b[0;32mdef\u001b[0m \u001b[0m_method_wrapper\u001b[0m\u001b[0;34m(\u001b[0m\u001b[0mself\u001b[0m\u001b[0;34m,\u001b[0m \u001b[0;34m*\u001b[0m\u001b[0margs\u001b[0m\u001b[0;34m,\u001b[0m \u001b[0;34m**\u001b[0m\u001b[0mkwargs\u001b[0m\u001b[0;34m)\u001b[0m\u001b[0;34m:\u001b[0m\u001b[0;34m\u001b[0m\u001b[0;34m\u001b[0m\u001b[0m\n\u001b[1;32m    107\u001b[0m     \u001b[0;32mif\u001b[0m \u001b[0;32mnot\u001b[0m \u001b[0mself\u001b[0m\u001b[0;34m.\u001b[0m\u001b[0m_in_multi_worker_mode\u001b[0m\u001b[0;34m(\u001b[0m\u001b[0;34m)\u001b[0m\u001b[0;34m:\u001b[0m  \u001b[0;31m# pylint: disable=protected-access\u001b[0m\u001b[0;34m\u001b[0m\u001b[0;34m\u001b[0m\u001b[0m\n\u001b[0;32m--> 108\u001b[0;31m       \u001b[0;32mreturn\u001b[0m \u001b[0mmethod\u001b[0m\u001b[0;34m(\u001b[0m\u001b[0mself\u001b[0m\u001b[0;34m,\u001b[0m \u001b[0;34m*\u001b[0m\u001b[0margs\u001b[0m\u001b[0;34m,\u001b[0m \u001b[0;34m**\u001b[0m\u001b[0mkwargs\u001b[0m\u001b[0;34m)\u001b[0m\u001b[0;34m\u001b[0m\u001b[0;34m\u001b[0m\u001b[0m\n\u001b[0m\u001b[1;32m    109\u001b[0m \u001b[0;34m\u001b[0m\u001b[0m\n\u001b[1;32m    110\u001b[0m     \u001b[0;31m# Running inside `run_distribute_coordinator` already.\u001b[0m\u001b[0;34m\u001b[0m\u001b[0;34m\u001b[0m\u001b[0;34m\u001b[0m\u001b[0m\n",
      "\u001b[0;32m~/opt/anaconda3/envs/deep_dss/lib/python3.8/site-packages/tensorflow/python/keras/engine/training.py\u001b[0m in \u001b[0;36mfit\u001b[0;34m(self, x, y, batch_size, epochs, verbose, callbacks, validation_split, validation_data, shuffle, class_weight, sample_weight, initial_epoch, steps_per_epoch, validation_steps, validation_batch_size, validation_freq, max_queue_size, workers, use_multiprocessing)\u001b[0m\n\u001b[1;32m   1096\u001b[0m                 batch_size=batch_size):\n\u001b[1;32m   1097\u001b[0m               \u001b[0mcallbacks\u001b[0m\u001b[0;34m.\u001b[0m\u001b[0mon_train_batch_begin\u001b[0m\u001b[0;34m(\u001b[0m\u001b[0mstep\u001b[0m\u001b[0;34m)\u001b[0m\u001b[0;34m\u001b[0m\u001b[0;34m\u001b[0m\u001b[0m\n\u001b[0;32m-> 1098\u001b[0;31m               \u001b[0mtmp_logs\u001b[0m \u001b[0;34m=\u001b[0m \u001b[0mtrain_function\u001b[0m\u001b[0;34m(\u001b[0m\u001b[0miterator\u001b[0m\u001b[0;34m)\u001b[0m\u001b[0;34m\u001b[0m\u001b[0;34m\u001b[0m\u001b[0m\n\u001b[0m\u001b[1;32m   1099\u001b[0m               \u001b[0;32mif\u001b[0m \u001b[0mdata_handler\u001b[0m\u001b[0;34m.\u001b[0m\u001b[0mshould_sync\u001b[0m\u001b[0;34m:\u001b[0m\u001b[0;34m\u001b[0m\u001b[0;34m\u001b[0m\u001b[0m\n\u001b[1;32m   1100\u001b[0m                 \u001b[0mcontext\u001b[0m\u001b[0;34m.\u001b[0m\u001b[0masync_wait\u001b[0m\u001b[0;34m(\u001b[0m\u001b[0;34m)\u001b[0m\u001b[0;34m\u001b[0m\u001b[0;34m\u001b[0m\u001b[0m\n",
      "\u001b[0;32m~/opt/anaconda3/envs/deep_dss/lib/python3.8/site-packages/tensorflow/python/eager/def_function.py\u001b[0m in \u001b[0;36m__call__\u001b[0;34m(self, *args, **kwds)\u001b[0m\n\u001b[1;32m    778\u001b[0m       \u001b[0;32melse\u001b[0m\u001b[0;34m:\u001b[0m\u001b[0;34m\u001b[0m\u001b[0;34m\u001b[0m\u001b[0m\n\u001b[1;32m    779\u001b[0m         \u001b[0mcompiler\u001b[0m \u001b[0;34m=\u001b[0m \u001b[0;34m\"nonXla\"\u001b[0m\u001b[0;34m\u001b[0m\u001b[0;34m\u001b[0m\u001b[0m\n\u001b[0;32m--> 780\u001b[0;31m         \u001b[0mresult\u001b[0m \u001b[0;34m=\u001b[0m \u001b[0mself\u001b[0m\u001b[0;34m.\u001b[0m\u001b[0m_call\u001b[0m\u001b[0;34m(\u001b[0m\u001b[0;34m*\u001b[0m\u001b[0margs\u001b[0m\u001b[0;34m,\u001b[0m \u001b[0;34m**\u001b[0m\u001b[0mkwds\u001b[0m\u001b[0;34m)\u001b[0m\u001b[0;34m\u001b[0m\u001b[0;34m\u001b[0m\u001b[0m\n\u001b[0m\u001b[1;32m    781\u001b[0m \u001b[0;34m\u001b[0m\u001b[0m\n\u001b[1;32m    782\u001b[0m       \u001b[0mnew_tracing_count\u001b[0m \u001b[0;34m=\u001b[0m \u001b[0mself\u001b[0m\u001b[0;34m.\u001b[0m\u001b[0m_get_tracing_count\u001b[0m\u001b[0;34m(\u001b[0m\u001b[0;34m)\u001b[0m\u001b[0;34m\u001b[0m\u001b[0;34m\u001b[0m\u001b[0m\n",
      "\u001b[0;32m~/opt/anaconda3/envs/deep_dss/lib/python3.8/site-packages/tensorflow/python/eager/def_function.py\u001b[0m in \u001b[0;36m_call\u001b[0;34m(self, *args, **kwds)\u001b[0m\n\u001b[1;32m    805\u001b[0m       \u001b[0;31m# In this case we have created variables on the first call, so we run the\u001b[0m\u001b[0;34m\u001b[0m\u001b[0;34m\u001b[0m\u001b[0;34m\u001b[0m\u001b[0m\n\u001b[1;32m    806\u001b[0m       \u001b[0;31m# defunned version which is guaranteed to never create variables.\u001b[0m\u001b[0;34m\u001b[0m\u001b[0;34m\u001b[0m\u001b[0;34m\u001b[0m\u001b[0m\n\u001b[0;32m--> 807\u001b[0;31m       \u001b[0;32mreturn\u001b[0m \u001b[0mself\u001b[0m\u001b[0;34m.\u001b[0m\u001b[0m_stateless_fn\u001b[0m\u001b[0;34m(\u001b[0m\u001b[0;34m*\u001b[0m\u001b[0margs\u001b[0m\u001b[0;34m,\u001b[0m \u001b[0;34m**\u001b[0m\u001b[0mkwds\u001b[0m\u001b[0;34m)\u001b[0m  \u001b[0;31m# pylint: disable=not-callable\u001b[0m\u001b[0;34m\u001b[0m\u001b[0;34m\u001b[0m\u001b[0m\n\u001b[0m\u001b[1;32m    808\u001b[0m     \u001b[0;32melif\u001b[0m \u001b[0mself\u001b[0m\u001b[0;34m.\u001b[0m\u001b[0m_stateful_fn\u001b[0m \u001b[0;32mis\u001b[0m \u001b[0;32mnot\u001b[0m \u001b[0;32mNone\u001b[0m\u001b[0;34m:\u001b[0m\u001b[0;34m\u001b[0m\u001b[0;34m\u001b[0m\u001b[0m\n\u001b[1;32m    809\u001b[0m       \u001b[0;31m# Release the lock early so that multiple threads can perform the call\u001b[0m\u001b[0;34m\u001b[0m\u001b[0;34m\u001b[0m\u001b[0;34m\u001b[0m\u001b[0m\n",
      "\u001b[0;32m~/opt/anaconda3/envs/deep_dss/lib/python3.8/site-packages/tensorflow/python/eager/function.py\u001b[0m in \u001b[0;36m__call__\u001b[0;34m(self, *args, **kwargs)\u001b[0m\n\u001b[1;32m   2827\u001b[0m     \u001b[0;32mwith\u001b[0m \u001b[0mself\u001b[0m\u001b[0;34m.\u001b[0m\u001b[0m_lock\u001b[0m\u001b[0;34m:\u001b[0m\u001b[0;34m\u001b[0m\u001b[0;34m\u001b[0m\u001b[0m\n\u001b[1;32m   2828\u001b[0m       \u001b[0mgraph_function\u001b[0m\u001b[0;34m,\u001b[0m \u001b[0margs\u001b[0m\u001b[0;34m,\u001b[0m \u001b[0mkwargs\u001b[0m \u001b[0;34m=\u001b[0m \u001b[0mself\u001b[0m\u001b[0;34m.\u001b[0m\u001b[0m_maybe_define_function\u001b[0m\u001b[0;34m(\u001b[0m\u001b[0margs\u001b[0m\u001b[0;34m,\u001b[0m \u001b[0mkwargs\u001b[0m\u001b[0;34m)\u001b[0m\u001b[0;34m\u001b[0m\u001b[0;34m\u001b[0m\u001b[0m\n\u001b[0;32m-> 2829\u001b[0;31m     \u001b[0;32mreturn\u001b[0m \u001b[0mgraph_function\u001b[0m\u001b[0;34m.\u001b[0m\u001b[0m_filtered_call\u001b[0m\u001b[0;34m(\u001b[0m\u001b[0margs\u001b[0m\u001b[0;34m,\u001b[0m \u001b[0mkwargs\u001b[0m\u001b[0;34m)\u001b[0m  \u001b[0;31m# pylint: disable=protected-access\u001b[0m\u001b[0;34m\u001b[0m\u001b[0;34m\u001b[0m\u001b[0m\n\u001b[0m\u001b[1;32m   2830\u001b[0m \u001b[0;34m\u001b[0m\u001b[0m\n\u001b[1;32m   2831\u001b[0m   \u001b[0;34m@\u001b[0m\u001b[0mproperty\u001b[0m\u001b[0;34m\u001b[0m\u001b[0;34m\u001b[0m\u001b[0m\n",
      "\u001b[0;32m~/opt/anaconda3/envs/deep_dss/lib/python3.8/site-packages/tensorflow/python/eager/function.py\u001b[0m in \u001b[0;36m_filtered_call\u001b[0;34m(self, args, kwargs, cancellation_manager)\u001b[0m\n\u001b[1;32m   1841\u001b[0m       \u001b[0;31m`\u001b[0m\u001b[0margs\u001b[0m\u001b[0;31m`\u001b[0m \u001b[0;32mand\u001b[0m\u001b[0;31m \u001b[0m\u001b[0;31m`\u001b[0m\u001b[0mkwargs\u001b[0m\u001b[0;31m`\u001b[0m\u001b[0;34m.\u001b[0m\u001b[0;34m\u001b[0m\u001b[0;34m\u001b[0m\u001b[0m\n\u001b[1;32m   1842\u001b[0m     \"\"\"\n\u001b[0;32m-> 1843\u001b[0;31m     return self._call_flat(\n\u001b[0m\u001b[1;32m   1844\u001b[0m         [t for t in nest.flatten((args, kwargs), expand_composites=True)\n\u001b[1;32m   1845\u001b[0m          if isinstance(t, (ops.Tensor,\n",
      "\u001b[0;32m~/opt/anaconda3/envs/deep_dss/lib/python3.8/site-packages/tensorflow/python/eager/function.py\u001b[0m in \u001b[0;36m_call_flat\u001b[0;34m(self, args, captured_inputs, cancellation_manager)\u001b[0m\n\u001b[1;32m   1921\u001b[0m         and executing_eagerly):\n\u001b[1;32m   1922\u001b[0m       \u001b[0;31m# No tape is watching; skip to running the function.\u001b[0m\u001b[0;34m\u001b[0m\u001b[0;34m\u001b[0m\u001b[0;34m\u001b[0m\u001b[0m\n\u001b[0;32m-> 1923\u001b[0;31m       return self._build_call_outputs(self._inference_function.call(\n\u001b[0m\u001b[1;32m   1924\u001b[0m           ctx, args, cancellation_manager=cancellation_manager))\n\u001b[1;32m   1925\u001b[0m     forward_backward = self._select_forward_and_backward_functions(\n",
      "\u001b[0;32m~/opt/anaconda3/envs/deep_dss/lib/python3.8/site-packages/tensorflow/python/eager/function.py\u001b[0m in \u001b[0;36mcall\u001b[0;34m(self, ctx, args, cancellation_manager)\u001b[0m\n\u001b[1;32m    543\u001b[0m       \u001b[0;32mwith\u001b[0m \u001b[0m_InterpolateFunctionError\u001b[0m\u001b[0;34m(\u001b[0m\u001b[0mself\u001b[0m\u001b[0;34m)\u001b[0m\u001b[0;34m:\u001b[0m\u001b[0;34m\u001b[0m\u001b[0;34m\u001b[0m\u001b[0m\n\u001b[1;32m    544\u001b[0m         \u001b[0;32mif\u001b[0m \u001b[0mcancellation_manager\u001b[0m \u001b[0;32mis\u001b[0m \u001b[0;32mNone\u001b[0m\u001b[0;34m:\u001b[0m\u001b[0;34m\u001b[0m\u001b[0;34m\u001b[0m\u001b[0m\n\u001b[0;32m--> 545\u001b[0;31m           outputs = execute.execute(\n\u001b[0m\u001b[1;32m    546\u001b[0m               \u001b[0mstr\u001b[0m\u001b[0;34m(\u001b[0m\u001b[0mself\u001b[0m\u001b[0;34m.\u001b[0m\u001b[0msignature\u001b[0m\u001b[0;34m.\u001b[0m\u001b[0mname\u001b[0m\u001b[0;34m)\u001b[0m\u001b[0;34m,\u001b[0m\u001b[0;34m\u001b[0m\u001b[0;34m\u001b[0m\u001b[0m\n\u001b[1;32m    547\u001b[0m               \u001b[0mnum_outputs\u001b[0m\u001b[0;34m=\u001b[0m\u001b[0mself\u001b[0m\u001b[0;34m.\u001b[0m\u001b[0m_num_outputs\u001b[0m\u001b[0;34m,\u001b[0m\u001b[0;34m\u001b[0m\u001b[0;34m\u001b[0m\u001b[0m\n",
      "\u001b[0;32m~/opt/anaconda3/envs/deep_dss/lib/python3.8/site-packages/tensorflow/python/eager/execute.py\u001b[0m in \u001b[0;36mquick_execute\u001b[0;34m(op_name, num_outputs, inputs, attrs, ctx, name)\u001b[0m\n\u001b[1;32m     57\u001b[0m   \u001b[0;32mtry\u001b[0m\u001b[0;34m:\u001b[0m\u001b[0;34m\u001b[0m\u001b[0;34m\u001b[0m\u001b[0m\n\u001b[1;32m     58\u001b[0m     \u001b[0mctx\u001b[0m\u001b[0;34m.\u001b[0m\u001b[0mensure_initialized\u001b[0m\u001b[0;34m(\u001b[0m\u001b[0;34m)\u001b[0m\u001b[0;34m\u001b[0m\u001b[0;34m\u001b[0m\u001b[0m\n\u001b[0;32m---> 59\u001b[0;31m     tensors = pywrap_tfe.TFE_Py_Execute(ctx._handle, device_name, op_name,\n\u001b[0m\u001b[1;32m     60\u001b[0m                                         inputs, attrs, num_outputs)\n\u001b[1;32m     61\u001b[0m   \u001b[0;32mexcept\u001b[0m \u001b[0mcore\u001b[0m\u001b[0;34m.\u001b[0m\u001b[0m_NotOkStatusException\u001b[0m \u001b[0;32mas\u001b[0m \u001b[0me\u001b[0m\u001b[0;34m:\u001b[0m\u001b[0;34m\u001b[0m\u001b[0;34m\u001b[0m\u001b[0m\n",
      "\u001b[0;31mKeyboardInterrupt\u001b[0m: "
     ]
    }
   ],
   "source": [
    "model.fit(x=data[\"x\"], y=data[\"y\"], batch_size=32, epochs=60, validation_data=(val[\"x\"], val[\"y\"]),\n",
    "         callbacks=[tensorboard_callback, cp_callback])"
   ]
  },
  {
   "cell_type": "code",
   "execution_count": 36,
   "metadata": {},
   "outputs": [
    {
     "data": {
      "text/html": [
       "\n",
       "      <iframe id=\"tensorboard-frame-34407e2ada505a5d\" width=\"100%\" height=\"800\" frameborder=\"0\">\n",
       "      </iframe>\n",
       "      <script>\n",
       "        (function() {\n",
       "          const frame = document.getElementById(\"tensorboard-frame-34407e2ada505a5d\");\n",
       "          const url = new URL(\"/\", window.location);\n",
       "          const port = 6008;\n",
       "          if (port) {\n",
       "            url.port = port;\n",
       "          }\n",
       "          frame.src = url;\n",
       "        })();\n",
       "      </script>\n",
       "    "
      ],
      "text/plain": [
       "<IPython.core.display.HTML object>"
      ]
     },
     "metadata": {},
     "output_type": "display_data"
    }
   ],
   "source": [
    "%tensorboard --logdir $logdir"
   ]
  },
  {
   "cell_type": "code",
   "execution_count": 118,
   "metadata": {},
   "outputs": [
    {
     "name": "stdout",
     "output_type": "stream",
     "text": [
      "Processing Q1 data\n",
      "Processing Q2 data\n",
      "Processing Q3 data\n",
      "Processing Q4 data\n",
      "Processing TEST data\n"
     ]
    }
   ],
   "source": [
    "results = full_predictions_and_truths()"
   ]
  },
  {
   "cell_type": "code",
   "execution_count": 165,
   "metadata": {},
   "outputs": [],
   "source": [
    "print_losses(results)"
   ]
  },
  {
   "cell_type": "code",
   "execution_count": 152,
   "metadata": {},
   "outputs": [
    {
     "data": {
      "image/png": "[encoded data removed]",
      "text/plain": [
       "<Figure size 432x288 with 1 Axes>"
      ]
     },
     "metadata": {
      "needs_background": "light"
     },
     "output_type": "display_data"
    }
   ],
   "source": [
    "plot_preds_vs_truths(results, \"SphereNN Estimates from Noisy, Fixed-Bias Counts-in-Cells\")"
   ]
  },
  {
   "cell_type": "code",
   "execution_count": 160,
   "metadata": {},
   "outputs": [
    {
     "data": {
      "image/png": "[encoded data removed]",
      "text/plain": [
       "<Figure size 432x288 with 1 Axes>"
      ]
     },
     "metadata": {
      "needs_background": "light"
     },
     "output_type": "display_data"
    }
   ],
   "source": [
    "plot_residuals(results, \"SphereNN Residuals from Noisy, Fixed-Bias Counts-in-Cells\")"
   ]
  },
  {
   "cell_type": "code",
   "execution_count": null,
   "metadata": {},
   "outputs": [],
   "source": []
  }
 ],
 "metadata": {
  "kernelspec": {
   "display_name": "Python 3",
   "language": "python",
   "name": "python3"
  },
  "language_info": {
   "codemirror_mode": {
    "name": "ipython",
    "version": 3
   },
   "file_extension": ".py",
   "mimetype": "text/x-python",
   "name": "python",
   "nbconvert_exporter": "python",
   "pygments_lexer": "ipython3",
   "version": "3.8.5"
  }
 },
 "nbformat": 4,
 "nbformat_minor": 4
}
