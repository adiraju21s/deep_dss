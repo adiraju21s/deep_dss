{
 "cells": [
  {
   "cell_type": "markdown",
   "metadata": {},
   "source": [
    "# Working with Tensorflow 2.0: Keras Sequential API"
   ]
  },
  {
   "cell_type": "code",
   "execution_count": 1,
   "metadata": {},
   "outputs": [
    {
     "name": "stderr",
     "output_type": "stream",
     "text": [
      "In /Users/adiraju/opt/anaconda3/envs/deep_dss/lib/python3.6/site-packages/matplotlib/mpl-data/stylelib/_classic_test.mplstyle: \n",
      "The text.latex.unicode rcparam was deprecated in Matplotlib 3.0 and will be removed in 3.2.\n",
      "In /Users/adiraju/opt/anaconda3/envs/deep_dss/lib/python3.6/site-packages/matplotlib/mpl-data/stylelib/_classic_test.mplstyle: \n",
      "The savefig.frameon rcparam was deprecated in Matplotlib 3.1 and will be removed in 3.3.\n",
      "In /Users/adiraju/opt/anaconda3/envs/deep_dss/lib/python3.6/site-packages/matplotlib/mpl-data/stylelib/_classic_test.mplstyle: \n",
      "The pgf.debug rcparam was deprecated in Matplotlib 3.0 and will be removed in 3.2.\n",
      "In /Users/adiraju/opt/anaconda3/envs/deep_dss/lib/python3.6/site-packages/matplotlib/mpl-data/stylelib/_classic_test.mplstyle: \n",
      "The verbose.level rcparam was deprecated in Matplotlib 3.1 and will be removed in 3.3.\n",
      "In /Users/adiraju/opt/anaconda3/envs/deep_dss/lib/python3.6/site-packages/matplotlib/mpl-data/stylelib/_classic_test.mplstyle: \n",
      "The verbose.fileo rcparam was deprecated in Matplotlib 3.1 and will be removed in 3.3.\n"
     ]
    }
   ],
   "source": [
    "import numpy as np\n",
    "import healpy as hp\n",
    "import matplotlib as mpl\n",
    "import matplotlib.pyplot as plt\n",
    "\n",
    "import tensorflow as tf"
   ]
  },
  {
   "cell_type": "code",
   "execution_count": 2,
   "metadata": {},
   "outputs": [],
   "source": [
    "%load_ext tensorboard"
   ]
  },
  {
   "cell_type": "markdown",
   "metadata": {},
   "source": [
    "## MNIST: A Toy Demo of Keras/Tensorboard"
   ]
  },
  {
   "cell_type": "code",
   "execution_count": 4,
   "metadata": {},
   "outputs": [],
   "source": [
    "mnist = tf.keras.datasets.mnist\n",
    "\n",
    "(x_train, y_train), (x_test, y_test) = mnist.load_data()\n",
    "x_train, x_test = x_train / 255.0, x_test / 255.0"
   ]
  },
  {
   "cell_type": "code",
   "execution_count": 16,
   "metadata": {},
   "outputs": [],
   "source": [
    "def create_model():\n",
    "    return tf.keras.Sequential([\n",
    "        tf.keras.layers.Flatten(input_shape=(28, 28)),\n",
    "        tf.keras.layers.Dense(512, activation='relu'),\n",
    "        tf.keras.layers.Dense(128, activation='relu'),\n",
    "        tf.keras.layers.Dense(10),\n",
    "        tf.keras.layers.Dropout(0.2),\n",
    "        tf.keras.layers.Softmax()\n",
    "    ])"
   ]
  },
  {
   "cell_type": "code",
   "execution_count": 17,
   "metadata": {},
   "outputs": [],
   "source": [
    "model = create_model()"
   ]
  },
  {
   "cell_type": "code",
   "execution_count": 18,
   "metadata": {},
   "outputs": [
    {
     "name": "stdout",
     "output_type": "stream",
     "text": [
      "Model: \"sequential_2\"\n",
      "_________________________________________________________________\n",
      "Layer (type)                 Output Shape              Param #   \n",
      "=================================================================\n",
      "flatten_2 (Flatten)          (None, 784)               0         \n",
      "_________________________________________________________________\n",
      "dense_5 (Dense)              (None, 512)               401920    \n",
      "_________________________________________________________________\n",
      "dense_6 (Dense)              (None, 128)               65664     \n",
      "_________________________________________________________________\n",
      "dense_7 (Dense)              (None, 10)                1290      \n",
      "_________________________________________________________________\n",
      "dropout_1 (Dropout)          (None, 10)                0         \n",
      "_________________________________________________________________\n",
      "softmax_2 (Softmax)          (None, 10)                0         \n",
      "=================================================================\n",
      "Total params: 468,874\n",
      "Trainable params: 468,874\n",
      "Non-trainable params: 0\n",
      "_________________________________________________________________\n"
     ]
    }
   ],
   "source": [
    "model.summary()"
   ]
  },
  {
   "cell_type": "code",
   "execution_count": 19,
   "metadata": {},
   "outputs": [],
   "source": [
    "model.compile(optimizer='adam',\n",
    "             loss='sparse_categorical_crossentropy',\n",
    "             metrics=['accuracy'])"
   ]
  },
  {
   "cell_type": "code",
   "execution_count": 21,
   "metadata": {},
   "outputs": [],
   "source": [
    "callback = tf.keras.callbacks.TensorBoard(log_dir=\"log\", histogram_freq=1)"
   ]
  },
  {
   "cell_type": "code",
   "execution_count": 22,
   "metadata": {},
   "outputs": [
    {
     "name": "stdout",
     "output_type": "stream",
     "text": [
      "Train on 60000 samples, validate on 10000 samples\n",
      "Epoch 1/12\n",
      "60000/60000 [==============================] - 18s 304us/sample - loss: 0.4112 - accuracy: 0.8335 - val_loss: 0.1139 - val_accuracy: 0.9636\n",
      "Epoch 2/12\n",
      "60000/60000 [==============================] - 18s 292us/sample - loss: 0.2938 - accuracy: 0.8643 - val_loss: 0.0852 - val_accuracy: 0.9748\n",
      "Epoch 3/12\n",
      "60000/60000 [==============================] - 18s 297us/sample - loss: 0.2654 - accuracy: 0.8725 - val_loss: 0.0683 - val_accuracy: 0.9804\n",
      "Epoch 4/12\n",
      "60000/60000 [==============================] - 18s 305us/sample - loss: 0.2489 - accuracy: 0.8747 - val_loss: 0.0672 - val_accuracy: 0.9787\n",
      "Epoch 5/12\n",
      "60000/60000 [==============================] - 19s 314us/sample - loss: 0.2352 - accuracy: 0.8787 - val_loss: 0.1036 - val_accuracy: 0.9740\n",
      "Epoch 6/12\n",
      "60000/60000 [==============================] - 19s 312us/sample - loss: 0.2280 - accuracy: 0.8792 - val_loss: 0.0897 - val_accuracy: 0.9783\n",
      "Epoch 7/12\n",
      "60000/60000 [==============================] - 18s 304us/sample - loss: 0.2272 - accuracy: 0.8814 - val_loss: 0.0879 - val_accuracy: 0.9803\n",
      "Epoch 8/12\n",
      "60000/60000 [==============================] - 18s 302us/sample - loss: 0.2169 - accuracy: 0.8835 - val_loss: 0.0985 - val_accuracy: 0.9794\n",
      "Epoch 9/12\n",
      "60000/60000 [==============================] - 18s 304us/sample - loss: 0.2185 - accuracy: 0.8817 - val_loss: 0.1007 - val_accuracy: 0.9792\n",
      "Epoch 10/12\n",
      "60000/60000 [==============================] - 20s 329us/sample - loss: 0.2118 - accuracy: 0.8850 - val_loss: 0.1005 - val_accuracy: 0.9803\n",
      "Epoch 11/12\n",
      "60000/60000 [==============================] - 19s 323us/sample - loss: 0.2113 - accuracy: 0.8862 - val_loss: 0.1136 - val_accuracy: 0.9809\n",
      "Epoch 12/12\n",
      "60000/60000 [==============================] - 20s 327us/sample - loss: 0.2093 - accuracy: 0.8849 - val_loss: 0.1168 - val_accuracy: 0.9823\n"
     ]
    },
    {
     "data": {
      "text/plain": [
       "<tensorflow.python.keras.callbacks.History at 0x7f83563b4ac8>"
      ]
     },
     "execution_count": 22,
     "metadata": {},
     "output_type": "execute_result"
    }
   ],
   "source": [
    "model.fit(x=x_train, y=y_train, batch_size=16, epochs=12,\n",
    "          validation_data=(x_test, y_test), callbacks=[callback])"
   ]
  },
  {
   "cell_type": "code",
   "execution_count": 23,
   "metadata": {},
   "outputs": [
    {
     "data": {
      "text/html": [
       "\n",
       "      <iframe id=\"tensorboard-frame-af609b470dcd45a3\" width=\"100%\" height=\"800\" frameborder=\"0\">\n",
       "      </iframe>\n",
       "      <script>\n",
       "        (function() {\n",
       "          const frame = document.getElementById(\"tensorboard-frame-af609b470dcd45a3\");\n",
       "          const url = new URL(\"/\", window.location);\n",
       "          url.port = 6006;\n",
       "          frame.src = url;\n",
       "        })();\n",
       "      </script>\n",
       "  "
      ],
      "text/plain": [
       "<IPython.core.display.HTML object>"
      ]
     },
     "metadata": {},
     "output_type": "display_data"
    }
   ],
   "source": [
    "%tensorboard --logdir log"
   ]
  },
  {
   "cell_type": "markdown",
   "metadata": {},
   "source": [
    "## Application to Deep DSS: A Toy Example"
   ]
  },
  {
   "cell_type": "code",
   "execution_count": 3,
   "metadata": {},
   "outputs": [],
   "source": [
    "from sklearn.utils import shuffle\n",
    "\n",
    "from deep_dss.utils import *"
   ]
  },
  {
   "cell_type": "code",
   "execution_count": 4,
   "metadata": {},
   "outputs": [
    {
     "name": "stderr",
     "output_type": "stream",
     "text": [
      "/Users/adiraju/opt/anaconda3/envs/deep_dss/lib/python3.6/site-packages/healpy/fitsfunc.py:352: UserWarning: If you are not specifying the input dtype and using the default np.float64 dtype of read_map(), please consider that it will change in a future version to None as to keep the same dtype of the input file: please explicitly set the dtype if it is important to you.\n",
      "  \"If you are not specifying the input dtype and using the default \"\n"
     ]
    },
    {
     "name": "stdout",
     "output_type": "stream",
     "text": [
      "NSIDE = 1024\n",
      "ORDERING = NESTED in fits file\n",
      "INDXSCHM = IMPLICIT\n"
     ]
    },
    {
     "name": "stderr",
     "output_type": "stream",
     "text": [
      "/Users/adiraju/opt/anaconda3/envs/deep_dss/lib/python3.6/site-packages/healpy/fitsfunc.py:352: UserWarning: If you are not specifying the input dtype and using the default np.float64 dtype of read_map(), please consider that it will change in a future version to None as to keep the same dtype of the input file: please explicitly set the dtype if it is important to you.\n",
      "  \"If you are not specifying the input dtype and using the default \"\n"
     ]
    },
    {
     "name": "stdout",
     "output_type": "stream",
     "text": [
      "NSIDE = 1024\n",
      "ORDERING = NESTED in fits file\n",
      "INDXSCHM = IMPLICIT\n",
      "NSIDE = 1024\n",
      "ORDERING = NESTED in fits file\n",
      "INDXSCHM = IMPLICIT\n",
      "NSIDE = 1024\n",
      "ORDERING = NESTED in fits file\n",
      "INDXSCHM = IMPLICIT\n",
      "NSIDE = 1024\n",
      "ORDERING = NESTED in fits file\n",
      "INDXSCHM = IMPLICIT\n",
      "NSIDE = 1024\n",
      "ORDERING = NESTED in fits file\n",
      "INDXSCHM = IMPLICIT\n",
      "NSIDE = 1024\n",
      "ORDERING = NESTED in fits file\n",
      "INDXSCHM = IMPLICIT\n",
      "NSIDE = 1024\n",
      "ORDERING = NESTED in fits file\n",
      "INDXSCHM = IMPLICIT\n",
      "NSIDE = 1024\n",
      "ORDERING = NESTED in fits file\n",
      "INDXSCHM = IMPLICIT\n",
      "NSIDE = 1024\n",
      "ORDERING = NESTED in fits file\n",
      "INDXSCHM = IMPLICIT\n",
      "NSIDE = 1024\n",
      "ORDERING = NESTED in fits file\n",
      "INDXSCHM = IMPLICIT\n",
      "NSIDE = 1024\n",
      "ORDERING = NESTED in fits file\n",
      "INDXSCHM = IMPLICIT\n",
      "NSIDE = 1024\n",
      "ORDERING = NESTED in fits file\n",
      "INDXSCHM = IMPLICIT\n",
      "NSIDE = 1024\n",
      "ORDERING = NESTED in fits file\n",
      "INDXSCHM = IMPLICIT\n",
      "NSIDE = 1024\n",
      "ORDERING = NESTED in fits file\n",
      "INDXSCHM = IMPLICIT\n",
      "NSIDE = 1024\n",
      "ORDERING = NESTED in fits file\n",
      "INDXSCHM = IMPLICIT\n",
      "NSIDE = 1024\n",
      "ORDERING = NESTED in fits file\n",
      "INDXSCHM = IMPLICIT\n",
      "NSIDE = 1024\n",
      "ORDERING = NESTED in fits file\n",
      "INDXSCHM = IMPLICIT\n",
      "NSIDE = 1024\n",
      "ORDERING = NESTED in fits file\n",
      "INDXSCHM = IMPLICIT\n",
      "NSIDE = 1024\n",
      "ORDERING = NESTED in fits file\n",
      "INDXSCHM = IMPLICIT\n"
     ]
    }
   ],
   "source": [
    "data = split_count_and_lensing_maps_by_dataset(\"Q1\", order=2, noiseless_m=True, config=\"c\")"
   ]
  },
  {
   "cell_type": "markdown",
   "metadata": {},
   "source": [
    "Note: The resolution order of the Healpix maps (NSIDE=1024) is 10, so splitting with an order beyond ten loses the physical interpretation associated with the pixellization hierarchy."
   ]
  },
  {
   "cell_type": "code",
   "execution_count": 61,
   "metadata": {},
   "outputs": [],
   "source": [
    "data[\"x\"] = data[\"x\"][:480]\n",
    "data[\"y\"] = data[\"y\"][:480]"
   ]
  },
  {
   "cell_type": "code",
   "execution_count": 5,
   "metadata": {},
   "outputs": [],
   "source": [
    "data[\"x\"] = np.reshape(data[\"x\"], (960*256, 1024))"
   ]
  },
  {
   "cell_type": "code",
   "execution_count": 6,
   "metadata": {},
   "outputs": [
    {
     "data": {
      "text/plain": [
       "(245760, 1024)"
      ]
     },
     "execution_count": 6,
     "metadata": {},
     "output_type": "execute_result"
    }
   ],
   "source": [
    "data[\"x\"].shape"
   ]
  },
  {
   "cell_type": "code",
   "execution_count": 7,
   "metadata": {},
   "outputs": [],
   "source": [
    "new_y = np.zeros(122880*2)"
   ]
  },
  {
   "cell_type": "code",
   "execution_count": 8,
   "metadata": {},
   "outputs": [
    {
     "data": {
      "text/plain": [
       "(960, 1)"
      ]
     },
     "execution_count": 8,
     "metadata": {},
     "output_type": "execute_result"
    }
   ],
   "source": [
    "data[\"y\"].shape"
   ]
  },
  {
   "cell_type": "code",
   "execution_count": 9,
   "metadata": {},
   "outputs": [],
   "source": [
    "for i in range(960):\n",
    "    new_y[i*256:(i+1)*256] = data[\"y\"][i, 0]"
   ]
  },
  {
   "cell_type": "code",
   "execution_count": 10,
   "metadata": {},
   "outputs": [],
   "source": [
    "new_y = np.reshape(new_y, (122880*2, 1))"
   ]
  },
  {
   "cell_type": "code",
   "execution_count": 11,
   "metadata": {},
   "outputs": [],
   "source": [
    "data[\"y\"] = new_y"
   ]
  },
  {
   "cell_type": "code",
   "execution_count": 12,
   "metadata": {},
   "outputs": [
    {
     "name": "stdout",
     "output_type": "stream",
     "text": [
      "NSIDE = 1024\n",
      "ORDERING = NESTED in fits file\n",
      "INDXSCHM = IMPLICIT\n",
      "NSIDE = 1024\n",
      "ORDERING = NESTED in fits file\n",
      "INDXSCHM = IMPLICIT\n",
      "NSIDE = 1024\n",
      "ORDERING = NESTED in fits file\n",
      "INDXSCHM = IMPLICIT\n",
      "NSIDE = 1024\n",
      "ORDERING = NESTED in fits file\n",
      "INDXSCHM = IMPLICIT\n",
      "NSIDE = 1024\n",
      "ORDERING = NESTED in fits file\n",
      "INDXSCHM = IMPLICIT\n",
      "NSIDE = 1024\n",
      "ORDERING = NESTED in fits file\n",
      "INDXSCHM = IMPLICIT\n",
      "NSIDE = 1024\n",
      "ORDERING = NESTED in fits file\n",
      "INDXSCHM = IMPLICIT\n",
      "NSIDE = 1024\n",
      "ORDERING = NESTED in fits file\n",
      "INDXSCHM = IMPLICIT\n",
      "NSIDE = 1024\n",
      "ORDERING = NESTED in fits file\n",
      "INDXSCHM = IMPLICIT\n",
      "NSIDE = 1024\n",
      "ORDERING = NESTED in fits file\n",
      "INDXSCHM = IMPLICIT\n",
      "NSIDE = 1024\n",
      "ORDERING = NESTED in fits file\n",
      "INDXSCHM = IMPLICIT\n",
      "NSIDE = 1024\n",
      "ORDERING = NESTED in fits file\n",
      "INDXSCHM = IMPLICIT\n",
      "NSIDE = 1024\n",
      "ORDERING = NESTED in fits file\n",
      "INDXSCHM = IMPLICIT\n",
      "NSIDE = 1024\n",
      "ORDERING = NESTED in fits file\n",
      "INDXSCHM = IMPLICIT\n",
      "NSIDE = 1024\n",
      "ORDERING = NESTED in fits file\n",
      "INDXSCHM = IMPLICIT\n",
      "NSIDE = 1024\n",
      "ORDERING = NESTED in fits file\n",
      "INDXSCHM = IMPLICIT\n",
      "NSIDE = 1024\n",
      "ORDERING = NESTED in fits file\n",
      "INDXSCHM = IMPLICIT\n",
      "NSIDE = 1024\n",
      "ORDERING = NESTED in fits file\n",
      "INDXSCHM = IMPLICIT\n",
      "NSIDE = 1024\n",
      "ORDERING = NESTED in fits file\n",
      "INDXSCHM = IMPLICIT\n",
      "NSIDE = 1024\n",
      "ORDERING = NESTED in fits file\n",
      "INDXSCHM = IMPLICIT\n"
     ]
    }
   ],
   "source": [
    "data2 = split_count_and_lensing_maps_by_dataset(\"Q2\", order=2, noiseless_m=True, config=\"c\")"
   ]
  },
  {
   "cell_type": "code",
   "execution_count": 13,
   "metadata": {},
   "outputs": [],
   "source": [
    "data2[\"x\"] = np.reshape(data2[\"x\"], (960*256, 1024))"
   ]
  },
  {
   "cell_type": "code",
   "execution_count": 14,
   "metadata": {},
   "outputs": [
    {
     "data": {
      "text/plain": [
       "(245760, 1024)"
      ]
     },
     "execution_count": 14,
     "metadata": {},
     "output_type": "execute_result"
    }
   ],
   "source": [
    "data2[\"x\"].shape"
   ]
  },
  {
   "cell_type": "code",
   "execution_count": 15,
   "metadata": {},
   "outputs": [],
   "source": [
    "new_y = np.zeros(122880*2)"
   ]
  },
  {
   "cell_type": "code",
   "execution_count": 16,
   "metadata": {},
   "outputs": [
    {
     "data": {
      "text/plain": [
       "(960, 1)"
      ]
     },
     "execution_count": 16,
     "metadata": {},
     "output_type": "execute_result"
    }
   ],
   "source": [
    "data2[\"y\"].shape"
   ]
  },
  {
   "cell_type": "code",
   "execution_count": 17,
   "metadata": {},
   "outputs": [],
   "source": [
    "for i in range(960):\n",
    "    new_y[i*256:(i+1)*256] = data2[\"y\"][i, 0]"
   ]
  },
  {
   "cell_type": "code",
   "execution_count": 18,
   "metadata": {},
   "outputs": [],
   "source": [
    "new_y = np.reshape(new_y, (122880*2, 1))"
   ]
  },
  {
   "cell_type": "code",
   "execution_count": 19,
   "metadata": {},
   "outputs": [],
   "source": [
    "data2[\"y\"] = new_y"
   ]
  },
  {
   "cell_type": "code",
   "execution_count": 20,
   "metadata": {},
   "outputs": [
    {
     "name": "stdout",
     "output_type": "stream",
     "text": [
      "NSIDE = 1024\n",
      "ORDERING = NESTED in fits file\n",
      "INDXSCHM = IMPLICIT\n",
      "NSIDE = 1024\n",
      "ORDERING = NESTED in fits file\n",
      "INDXSCHM = IMPLICIT\n",
      "NSIDE = 1024\n",
      "ORDERING = NESTED in fits file\n",
      "INDXSCHM = IMPLICIT\n",
      "NSIDE = 1024\n",
      "ORDERING = NESTED in fits file\n",
      "INDXSCHM = IMPLICIT\n",
      "NSIDE = 1024\n",
      "ORDERING = NESTED in fits file\n",
      "INDXSCHM = IMPLICIT\n",
      "NSIDE = 1024\n",
      "ORDERING = NESTED in fits file\n",
      "INDXSCHM = IMPLICIT\n",
      "NSIDE = 1024\n",
      "ORDERING = NESTED in fits file\n",
      "INDXSCHM = IMPLICIT\n",
      "NSIDE = 1024\n",
      "ORDERING = NESTED in fits file\n",
      "INDXSCHM = IMPLICIT\n",
      "NSIDE = 1024\n",
      "ORDERING = NESTED in fits file\n",
      "INDXSCHM = IMPLICIT\n",
      "NSIDE = 1024\n",
      "ORDERING = NESTED in fits file\n",
      "INDXSCHM = IMPLICIT\n",
      "NSIDE = 1024\n",
      "ORDERING = NESTED in fits file\n",
      "INDXSCHM = IMPLICIT\n",
      "NSIDE = 1024\n",
      "ORDERING = NESTED in fits file\n",
      "INDXSCHM = IMPLICIT\n",
      "NSIDE = 1024\n",
      "ORDERING = NESTED in fits file\n",
      "INDXSCHM = IMPLICIT\n",
      "NSIDE = 1024\n",
      "ORDERING = NESTED in fits file\n",
      "INDXSCHM = IMPLICIT\n",
      "NSIDE = 1024\n",
      "ORDERING = NESTED in fits file\n",
      "INDXSCHM = IMPLICIT\n",
      "NSIDE = 1024\n",
      "ORDERING = NESTED in fits file\n",
      "INDXSCHM = IMPLICIT\n",
      "NSIDE = 1024\n",
      "ORDERING = NESTED in fits file\n",
      "INDXSCHM = IMPLICIT\n",
      "NSIDE = 1024\n",
      "ORDERING = NESTED in fits file\n",
      "INDXSCHM = IMPLICIT\n",
      "NSIDE = 1024\n",
      "ORDERING = NESTED in fits file\n",
      "INDXSCHM = IMPLICIT\n",
      "NSIDE = 1024\n",
      "ORDERING = NESTED in fits file\n",
      "INDXSCHM = IMPLICIT\n",
      "NSIDE = 1024\n",
      "ORDERING = NESTED in fits file\n",
      "INDXSCHM = IMPLICIT\n"
     ]
    }
   ],
   "source": [
    "val = split_count_and_lensing_maps_by_dataset(\"TEST\", order=2, noiseless_m=True, config=\"c\")"
   ]
  },
  {
   "cell_type": "code",
   "execution_count": 21,
   "metadata": {},
   "outputs": [],
   "source": [
    "val[\"x\"] = val[\"x\"][:64]\n",
    "val[\"y\"] = val[\"y\"][:64]"
   ]
  },
  {
   "cell_type": "code",
   "execution_count": 22,
   "metadata": {},
   "outputs": [],
   "source": [
    "val[\"x\"] = np.reshape(val[\"x\"], (64*256, 1024))"
   ]
  },
  {
   "cell_type": "code",
   "execution_count": 23,
   "metadata": {},
   "outputs": [
    {
     "data": {
      "text/plain": [
       "(16384, 1024)"
      ]
     },
     "execution_count": 23,
     "metadata": {},
     "output_type": "execute_result"
    }
   ],
   "source": [
    "val[\"x\"].shape"
   ]
  },
  {
   "cell_type": "code",
   "execution_count": 24,
   "metadata": {},
   "outputs": [],
   "source": [
    "new_y = np.zeros(64*256)"
   ]
  },
  {
   "cell_type": "code",
   "execution_count": 25,
   "metadata": {},
   "outputs": [
    {
     "data": {
      "text/plain": [
       "(64, 1)"
      ]
     },
     "execution_count": 25,
     "metadata": {},
     "output_type": "execute_result"
    }
   ],
   "source": [
    "val[\"y\"].shape"
   ]
  },
  {
   "cell_type": "code",
   "execution_count": 26,
   "metadata": {},
   "outputs": [],
   "source": [
    "for i in range(64):\n",
    "    new_y[i*256:(i+1)*256] = val[\"y\"][i, 0]"
   ]
  },
  {
   "cell_type": "code",
   "execution_count": 27,
   "metadata": {},
   "outputs": [],
   "source": [
    "new_y = np.reshape(new_y, (64*256, 1))"
   ]
  },
  {
   "cell_type": "code",
   "execution_count": 28,
   "metadata": {},
   "outputs": [],
   "source": [
    "val[\"y\"] = new_y"
   ]
  },
  {
   "cell_type": "code",
   "execution_count": 85,
   "metadata": {},
   "outputs": [],
   "source": [
    "def create_model():\n",
    "    return tf.keras.Sequential([\n",
    "        tf.keras.layers.Dense(512, activation='relu', input_shape=(1024,)),\n",
    "        tf.keras.layers.Dropout(0.2),\n",
    "        tf.keras.layers.BatchNormalization(),\n",
    "        tf.keras.layers.Dense(256, activation='relu'),\n",
    "        tf.keras.layers.Dropout(0.2),\n",
    "        tf.keras.layers.BatchNormalization(),\n",
    "        tf.keras.layers.Dense(128, activation='relu'),\n",
    "        tf.keras.layers.Dropout(0.2),\n",
    "        tf.keras.layers.BatchNormalization(),\n",
    "        tf.keras.layers.Dense(64, activation='relu'),\n",
    "        tf.keras.layers.Dense(32, activation='relu'),\n",
    "        tf.keras.layers.Dense(16, activation='relu'),\n",
    "        tf.keras.layers.Dense(8, activation='relu'),\n",
    "        tf.keras.layers.Dense(4, activation='relu'),\n",
    "        tf.keras.layers.Dense(2, activation='relu'),\n",
    "        tf.keras.layers.Dense(1, activation='relu')\n",
    "    ])"
   ]
  },
  {
   "cell_type": "code",
   "execution_count": 86,
   "metadata": {},
   "outputs": [],
   "source": [
    "model = create_model()"
   ]
  },
  {
   "cell_type": "code",
   "execution_count": 87,
   "metadata": {},
   "outputs": [
    {
     "name": "stdout",
     "output_type": "stream",
     "text": [
      "Model: \"sequential_4\"\n",
      "_________________________________________________________________\n",
      "Layer (type)                 Output Shape              Param #   \n",
      "=================================================================\n",
      "dense_18 (Dense)             (None, 512)               524800    \n",
      "_________________________________________________________________\n",
      "dropout_5 (Dropout)          (None, 512)               0         \n",
      "_________________________________________________________________\n",
      "batch_normalization_3 (Batch (None, 512)               2048      \n",
      "_________________________________________________________________\n",
      "dense_19 (Dense)             (None, 256)               131328    \n",
      "_________________________________________________________________\n",
      "dropout_6 (Dropout)          (None, 256)               0         \n",
      "_________________________________________________________________\n",
      "batch_normalization_4 (Batch (None, 256)               1024      \n",
      "_________________________________________________________________\n",
      "dense_20 (Dense)             (None, 128)               32896     \n",
      "_________________________________________________________________\n",
      "dropout_7 (Dropout)          (None, 128)               0         \n",
      "_________________________________________________________________\n",
      "batch_normalization_5 (Batch (None, 128)               512       \n",
      "_________________________________________________________________\n",
      "dense_21 (Dense)             (None, 64)                8256      \n",
      "_________________________________________________________________\n",
      "dense_22 (Dense)             (None, 32)                2080      \n",
      "_________________________________________________________________\n",
      "dense_23 (Dense)             (None, 16)                528       \n",
      "_________________________________________________________________\n",
      "dense_24 (Dense)             (None, 8)                 136       \n",
      "_________________________________________________________________\n",
      "dense_25 (Dense)             (None, 4)                 36        \n",
      "_________________________________________________________________\n",
      "dense_26 (Dense)             (None, 2)                 10        \n",
      "_________________________________________________________________\n",
      "dense_27 (Dense)             (None, 1)                 3         \n",
      "=================================================================\n",
      "Total params: 703,657\n",
      "Trainable params: 701,865\n",
      "Non-trainable params: 1,792\n",
      "_________________________________________________________________\n"
     ]
    }
   ],
   "source": [
    "model.summary()"
   ]
  },
  {
   "cell_type": "code",
   "execution_count": 88,
   "metadata": {},
   "outputs": [],
   "source": [
    "callback = tf.keras.callbacks.TensorBoard(log_dir=\"../log\", histogram_freq=1)"
   ]
  },
  {
   "cell_type": "code",
   "execution_count": 89,
   "metadata": {},
   "outputs": [],
   "source": [
    "model.compile(optimizer=\"adam\", loss=\"mean_absolute_error\", metrics=[\"mean_absolute_error\"], callbacks=[callback])"
   ]
  },
  {
   "cell_type": "code",
   "execution_count": 90,
   "metadata": {},
   "outputs": [
    {
     "name": "stdout",
     "output_type": "stream",
     "text": [
      "Train on 122880 samples, validate on 16384 samples\n",
      "Epoch 1/20\n",
      "122880/122880 [==============================] - 35s 283us/sample - loss: 0.1936 - mean_absolute_error: 0.1936 - val_loss: 0.1616 - val_mean_absolute_error: 0.1616\n",
      "Epoch 2/20\n",
      "122880/122880 [==============================] - 32s 258us/sample - loss: 0.1792 - mean_absolute_error: 0.1792 - val_loss: 0.1772 - val_mean_absolute_error: 0.1772\n",
      "Epoch 3/20\n",
      "122880/122880 [==============================] - 32s 261us/sample - loss: 0.1787 - mean_absolute_error: 0.1787 - val_loss: 0.2044 - val_mean_absolute_error: 0.2044\n",
      "Epoch 4/20\n",
      "122880/122880 [==============================] - 32s 261us/sample - loss: 0.1810 - mean_absolute_error: 0.1810 - val_loss: 0.1544 - val_mean_absolute_error: 0.1544\n",
      "Epoch 5/20\n",
      "122880/122880 [==============================] - 32s 263us/sample - loss: 0.1697 - mean_absolute_error: 0.1697 - val_loss: 0.2158 - val_mean_absolute_error: 0.2158\n",
      "Epoch 6/20\n",
      "122880/122880 [==============================] - 34s 277us/sample - loss: 0.1674 - mean_absolute_error: 0.1674 - val_loss: 0.1787 - val_mean_absolute_error: 0.1787\n",
      "Epoch 7/20\n",
      "122880/122880 [==============================] - 33s 271us/sample - loss: 0.1776 - mean_absolute_error: 0.1776 - val_loss: 0.1838 - val_mean_absolute_error: 0.1838\n",
      "Epoch 8/20\n",
      "122880/122880 [==============================] - 35s 286us/sample - loss: 0.1778 - mean_absolute_error: 0.1778 - val_loss: 0.1637 - val_mean_absolute_error: 0.1637\n",
      "Epoch 9/20\n",
      "122880/122880 [==============================] - 33s 271us/sample - loss: 0.1773 - mean_absolute_error: 0.1773 - val_loss: 0.1978 - val_mean_absolute_error: 0.1978\n",
      "Epoch 10/20\n",
      "122880/122880 [==============================] - 34s 275us/sample - loss: 0.1764 - mean_absolute_error: 0.1764 - val_loss: 0.2138 - val_mean_absolute_error: 0.2138\n",
      "Epoch 11/20\n",
      "122880/122880 [==============================] - 34s 275us/sample - loss: 0.1760 - mean_absolute_error: 0.1760 - val_loss: 0.1460 - val_mean_absolute_error: 0.1460\n",
      "Epoch 12/20\n",
      "122880/122880 [==============================] - 34s 274us/sample - loss: 0.1757 - mean_absolute_error: 0.1757 - val_loss: 0.1705 - val_mean_absolute_error: 0.1705\n",
      "Epoch 13/20\n",
      "122880/122880 [==============================] - 35s 283us/sample - loss: 0.1756 - mean_absolute_error: 0.1756 - val_loss: 0.2079 - val_mean_absolute_error: 0.2079\n",
      "Epoch 14/20\n",
      "122880/122880 [==============================] - 34s 279us/sample - loss: 0.1760 - mean_absolute_error: 0.1760 - val_loss: 0.1922 - val_mean_absolute_error: 0.1922\n",
      "Epoch 15/20\n",
      "122880/122880 [==============================] - 35s 284us/sample - loss: 0.1750 - mean_absolute_error: 0.1750 - val_loss: 0.1606 - val_mean_absolute_error: 0.1606\n",
      "Epoch 16/20\n",
      "122880/122880 [==============================] - 35s 288us/sample - loss: 0.1747 - mean_absolute_error: 0.1747 - val_loss: 0.1991 - val_mean_absolute_error: 0.1991\n",
      "Epoch 17/20\n",
      "122880/122880 [==============================] - 36s 290us/sample - loss: 0.1745 - mean_absolute_error: 0.1745 - val_loss: 0.1675 - val_mean_absolute_error: 0.1675\n",
      "Epoch 18/20\n",
      "122880/122880 [==============================] - 36s 293us/sample - loss: 0.1745 - mean_absolute_error: 0.1745 - val_loss: 0.1725 - val_mean_absolute_error: 0.1725\n",
      "Epoch 19/20\n",
      "122880/122880 [==============================] - 36s 297us/sample - loss: 0.1744 - mean_absolute_error: 0.1744 - val_loss: 0.2235 - val_mean_absolute_error: 0.2235\n",
      "Epoch 20/20\n",
      "122880/122880 [==============================] - 38s 307us/sample - loss: 0.1744 - mean_absolute_error: 0.1744 - val_loss: 0.1916 - val_mean_absolute_error: 0.1916\n"
     ]
    },
    {
     "data": {
      "text/plain": [
       "<tensorflow.python.keras.callbacks.History at 0x7f811789fe10>"
      ]
     },
     "execution_count": 90,
     "metadata": {},
     "output_type": "execute_result"
    }
   ],
   "source": [
    "model.fit(x=data[\"x\"], y=data[\"y\"], batch_size=64, shuffle=True, epochs=20, validation_data=(val[\"x\"], val[\"y\"]))"
   ]
  },
  {
   "cell_type": "code",
   "execution_count": 93,
   "metadata": {},
   "outputs": [
    {
     "data": {
      "text/html": [
       "\n",
       "      <iframe id=\"tensorboard-frame-db519774bbf50e51\" width=\"100%\" height=\"800\" frameborder=\"0\">\n",
       "      </iframe>\n",
       "      <script>\n",
       "        (function() {\n",
       "          const frame = document.getElementById(\"tensorboard-frame-db519774bbf50e51\");\n",
       "          const url = new URL(\"/\", window.location);\n",
       "          url.port = 6008;\n",
       "          frame.src = url;\n",
       "        })();\n",
       "      </script>\n",
       "  "
      ],
      "text/plain": [
       "<IPython.core.display.HTML object>"
      ]
     },
     "metadata": {},
     "output_type": "display_data"
    }
   ],
   "source": [
    "%tensorboard --logdir ~/deep_dss/log"
   ]
  },
  {
   "cell_type": "code",
   "execution_count": 94,
   "metadata": {},
   "outputs": [],
   "source": [
    "def create_model():\n",
    "    return tf.keras.Sequential([\n",
    "        tf.keras.layers.Dense(512, activation='relu', input_shape=(1024,)),\n",
    "        tf.keras.layers.Dropout(0.2),\n",
    "        tf.keras.layers.BatchNormalization(),\n",
    "        tf.keras.layers.Dense(512, activation='relu', input_shape=(1024,)),\n",
    "        tf.keras.layers.Dropout(0.2),\n",
    "        tf.keras.layers.BatchNormalization(),\n",
    "        tf.keras.layers.Dense(512, activation='relu', input_shape=(1024,)),\n",
    "        tf.keras.layers.Dropout(0.2),\n",
    "        tf.keras.layers.BatchNormalization(),\n",
    "        tf.keras.layers.Dense(512, activation='relu', input_shape=(1024,)),\n",
    "        tf.keras.layers.Dropout(0.2),\n",
    "        tf.keras.layers.BatchNormalization(),\n",
    "        tf.keras.layers.Dense(256, activation='relu'),\n",
    "        tf.keras.layers.Dropout(0.2),\n",
    "        tf.keras.layers.BatchNormalization(),\n",
    "        tf.keras.layers.Dense(256, activation='relu'),\n",
    "        tf.keras.layers.Dropout(0.2),\n",
    "        tf.keras.layers.BatchNormalization(),\n",
    "        tf.keras.layers.Dense(256, activation='relu'),\n",
    "        tf.keras.layers.Dropout(0.2),\n",
    "        tf.keras.layers.BatchNormalization(),\n",
    "        tf.keras.layers.Dense(256, activation='relu'),\n",
    "        tf.keras.layers.Dropout(0.2),\n",
    "        tf.keras.layers.BatchNormalization(),\n",
    "        tf.keras.layers.Dense(128, activation='relu'),\n",
    "        tf.keras.layers.Dropout(0.2),\n",
    "        tf.keras.layers.BatchNormalization(),\n",
    "        tf.keras.layers.Dense(128, activation='relu'),\n",
    "        tf.keras.layers.Dropout(0.2),\n",
    "        tf.keras.layers.BatchNormalization(),\n",
    "        tf.keras.layers.Dense(128, activation='relu'),\n",
    "        tf.keras.layers.Dropout(0.2),\n",
    "        tf.keras.layers.BatchNormalization(),\n",
    "        tf.keras.layers.Dense(128, activation='relu'),\n",
    "        tf.keras.layers.Dropout(0.2),\n",
    "        tf.keras.layers.BatchNormalization(),\n",
    "        tf.keras.layers.Dense(128, activation='relu'),\n",
    "        tf.keras.layers.Dropout(0.2),\n",
    "        tf.keras.layers.BatchNormalization(),\n",
    "        tf.keras.layers.Dense(64, activation='relu'),\n",
    "        tf.keras.layers.Dense(32, activation='relu'),\n",
    "        tf.keras.layers.Dense(16, activation='relu'),\n",
    "        tf.keras.layers.Dense(8, activation='relu'),\n",
    "        tf.keras.layers.Dense(4, activation='relu'),\n",
    "        tf.keras.layers.Dense(2, activation='relu'),\n",
    "        tf.keras.layers.Dense(1, activation='relu')\n",
    "    ])"
   ]
  },
  {
   "cell_type": "code",
   "execution_count": 95,
   "metadata": {},
   "outputs": [],
   "source": [
    "model = create_model()"
   ]
  },
  {
   "cell_type": "code",
   "execution_count": 96,
   "metadata": {},
   "outputs": [
    {
     "name": "stdout",
     "output_type": "stream",
     "text": [
      "Model: \"sequential_5\"\n",
      "_________________________________________________________________\n",
      "Layer (type)                 Output Shape              Param #   \n",
      "=================================================================\n",
      "dense_28 (Dense)             (None, 512)               524800    \n",
      "_________________________________________________________________\n",
      "dropout_8 (Dropout)          (None, 512)               0         \n",
      "_________________________________________________________________\n",
      "batch_normalization_6 (Batch (None, 512)               2048      \n",
      "_________________________________________________________________\n",
      "dense_29 (Dense)             (None, 512)               262656    \n",
      "_________________________________________________________________\n",
      "dropout_9 (Dropout)          (None, 512)               0         \n",
      "_________________________________________________________________\n",
      "batch_normalization_7 (Batch (None, 512)               2048      \n",
      "_________________________________________________________________\n",
      "dense_30 (Dense)             (None, 512)               262656    \n",
      "_________________________________________________________________\n",
      "dropout_10 (Dropout)         (None, 512)               0         \n",
      "_________________________________________________________________\n",
      "batch_normalization_8 (Batch (None, 512)               2048      \n",
      "_________________________________________________________________\n",
      "dense_31 (Dense)             (None, 512)               262656    \n",
      "_________________________________________________________________\n",
      "dropout_11 (Dropout)         (None, 512)               0         \n",
      "_________________________________________________________________\n",
      "batch_normalization_9 (Batch (None, 512)               2048      \n",
      "_________________________________________________________________\n",
      "dense_32 (Dense)             (None, 256)               131328    \n",
      "_________________________________________________________________\n",
      "dropout_12 (Dropout)         (None, 256)               0         \n",
      "_________________________________________________________________\n",
      "batch_normalization_10 (Batc (None, 256)               1024      \n",
      "_________________________________________________________________\n",
      "dense_33 (Dense)             (None, 256)               65792     \n",
      "_________________________________________________________________\n",
      "dropout_13 (Dropout)         (None, 256)               0         \n",
      "_________________________________________________________________\n",
      "batch_normalization_11 (Batc (None, 256)               1024      \n",
      "_________________________________________________________________\n",
      "dense_34 (Dense)             (None, 256)               65792     \n",
      "_________________________________________________________________\n",
      "dropout_14 (Dropout)         (None, 256)               0         \n",
      "_________________________________________________________________\n",
      "batch_normalization_12 (Batc (None, 256)               1024      \n",
      "_________________________________________________________________\n",
      "dense_35 (Dense)             (None, 256)               65792     \n",
      "_________________________________________________________________\n",
      "dropout_15 (Dropout)         (None, 256)               0         \n",
      "_________________________________________________________________\n",
      "batch_normalization_13 (Batc (None, 256)               1024      \n",
      "_________________________________________________________________\n",
      "dense_36 (Dense)             (None, 128)               32896     \n",
      "_________________________________________________________________\n",
      "dropout_16 (Dropout)         (None, 128)               0         \n",
      "_________________________________________________________________\n",
      "batch_normalization_14 (Batc (None, 128)               512       \n",
      "_________________________________________________________________\n",
      "dense_37 (Dense)             (None, 128)               16512     \n",
      "_________________________________________________________________\n",
      "dropout_17 (Dropout)         (None, 128)               0         \n",
      "_________________________________________________________________\n",
      "batch_normalization_15 (Batc (None, 128)               512       \n",
      "_________________________________________________________________\n",
      "dense_38 (Dense)             (None, 128)               16512     \n",
      "_________________________________________________________________\n",
      "dropout_18 (Dropout)         (None, 128)               0         \n",
      "_________________________________________________________________\n",
      "batch_normalization_16 (Batc (None, 128)               512       \n",
      "_________________________________________________________________\n",
      "dense_39 (Dense)             (None, 128)               16512     \n",
      "_________________________________________________________________\n",
      "dropout_19 (Dropout)         (None, 128)               0         \n",
      "_________________________________________________________________\n",
      "batch_normalization_17 (Batc (None, 128)               512       \n",
      "_________________________________________________________________\n",
      "dense_40 (Dense)             (None, 128)               16512     \n",
      "_________________________________________________________________\n",
      "dropout_20 (Dropout)         (None, 128)               0         \n",
      "_________________________________________________________________\n",
      "batch_normalization_18 (Batc (None, 128)               512       \n",
      "_________________________________________________________________\n",
      "dense_41 (Dense)             (None, 64)                8256      \n",
      "_________________________________________________________________\n",
      "dense_42 (Dense)             (None, 32)                2080      \n",
      "_________________________________________________________________\n",
      "dense_43 (Dense)             (None, 16)                528       \n",
      "_________________________________________________________________\n",
      "dense_44 (Dense)             (None, 8)                 136       \n",
      "_________________________________________________________________\n",
      "dense_45 (Dense)             (None, 4)                 36        \n",
      "_________________________________________________________________\n",
      "dense_46 (Dense)             (None, 2)                 10        \n",
      "_________________________________________________________________\n",
      "dense_47 (Dense)             (None, 1)                 3         \n",
      "=================================================================\n",
      "Total params: 1,766,313\n",
      "Trainable params: 1,758,889\n",
      "Non-trainable params: 7,424\n",
      "_________________________________________________________________\n"
     ]
    }
   ],
   "source": [
    "model.summary()"
   ]
  },
  {
   "cell_type": "code",
   "execution_count": 97,
   "metadata": {},
   "outputs": [],
   "source": [
    "callback = tf.keras.callbacks.TensorBoard(log_dir=\"../log\", histogram_freq=1)"
   ]
  },
  {
   "cell_type": "code",
   "execution_count": 98,
   "metadata": {},
   "outputs": [],
   "source": [
    "model.compile(optimizer=\"adam\", loss=\"mean_absolute_error\", metrics=[\"mean_absolute_error\"])"
   ]
  },
  {
   "cell_type": "code",
   "execution_count": 99,
   "metadata": {},
   "outputs": [
    {
     "name": "stdout",
     "output_type": "stream",
     "text": [
      "Train on 122880 samples, validate on 16384 samples\n",
      "Epoch 1/60\n",
      "122880/122880 [==============================] - 112s 910us/sample - loss: 0.2554 - mean_absolute_error: 0.2554 - val_loss: 0.2672 - val_mean_absolute_error: 0.2672\n",
      "Epoch 2/60\n",
      "122880/122880 [==============================] - 109s 883us/sample - loss: 0.1898 - mean_absolute_error: 0.1898 - val_loss: 0.3455 - val_mean_absolute_error: 0.3455\n",
      "Epoch 3/60\n",
      "122880/122880 [==============================] - 111s 903us/sample - loss: 0.1861 - mean_absolute_error: 0.1861 - val_loss: 0.1690 - val_mean_absolute_error: 0.1690\n",
      "Epoch 4/60\n",
      "122880/122880 [==============================] - 114s 925us/sample - loss: 0.1874 - mean_absolute_error: 0.1874 - val_loss: 0.1470 - val_mean_absolute_error: 0.1470\n",
      "Epoch 5/60\n",
      "122880/122880 [==============================] - 113s 919us/sample - loss: 0.1812 - mean_absolute_error: 0.1812 - val_loss: 0.1736 - val_mean_absolute_error: 0.1736\n",
      "Epoch 6/60\n",
      "122880/122880 [==============================] - 113s 922us/sample - loss: 0.1836 - mean_absolute_error: 0.1836 - val_loss: 0.1945 - val_mean_absolute_error: 0.1945\n",
      "Epoch 7/60\n",
      "122880/122880 [==============================] - 114s 928us/sample - loss: 0.1868 - mean_absolute_error: 0.1868 - val_loss: 0.2104 - val_mean_absolute_error: 0.2104\n",
      "Epoch 8/60\n",
      "122880/122880 [==============================] - 115s 939us/sample - loss: 0.1867 - mean_absolute_error: 0.1867 - val_loss: 0.1654 - val_mean_absolute_error: 0.1654\n",
      "Epoch 9/60\n",
      "122880/122880 [==============================] - 116s 942us/sample - loss: 0.1855 - mean_absolute_error: 0.1855 - val_loss: 0.1542 - val_mean_absolute_error: 0.1542\n",
      "Epoch 10/60\n",
      "122880/122880 [==============================] - 116s 941us/sample - loss: 0.1853 - mean_absolute_error: 0.1853 - val_loss: 0.1429 - val_mean_absolute_error: 0.1429\n",
      "Epoch 11/60\n",
      "122880/122880 [==============================] - 115s 940us/sample - loss: 0.1839 - mean_absolute_error: 0.1839 - val_loss: 0.2070 - val_mean_absolute_error: 0.2070\n",
      "Epoch 12/60\n",
      "122880/122880 [==============================] - 121s 983us/sample - loss: 0.1840 - mean_absolute_error: 0.1840 - val_loss: 0.1483 - val_mean_absolute_error: 0.1483\n",
      "Epoch 13/60\n",
      "122880/122880 [==============================] - 117s 950us/sample - loss: 0.1830 - mean_absolute_error: 0.1830 - val_loss: 0.1650 - val_mean_absolute_error: 0.1650\n",
      "Epoch 14/60\n",
      "122880/122880 [==============================] - 116s 947us/sample - loss: 0.1842 - mean_absolute_error: 0.1842 - val_loss: 0.1453 - val_mean_absolute_error: 0.1453\n",
      "Epoch 15/60\n",
      "122880/122880 [==============================] - 117s 949us/sample - loss: 0.1854 - mean_absolute_error: 0.1854 - val_loss: 0.1835 - val_mean_absolute_error: 0.1835\n",
      "Epoch 16/60\n",
      "122880/122880 [==============================] - 117s 949us/sample - loss: 0.1834 - mean_absolute_error: 0.1834 - val_loss: 0.1456 - val_mean_absolute_error: 0.1456\n",
      "Epoch 17/60\n",
      "122880/122880 [==============================] - 116s 946us/sample - loss: 0.1826 - mean_absolute_error: 0.1826 - val_loss: 0.1526 - val_mean_absolute_error: 0.1526\n",
      "Epoch 18/60\n",
      "122880/122880 [==============================] - 116s 947us/sample - loss: 0.1839 - mean_absolute_error: 0.1839 - val_loss: 0.1837 - val_mean_absolute_error: 0.1837\n",
      "Epoch 19/60\n",
      "122880/122880 [==============================] - 116s 947us/sample - loss: 0.1826 - mean_absolute_error: 0.1826 - val_loss: 0.1880 - val_mean_absolute_error: 0.1880\n",
      "Epoch 20/60\n",
      "122880/122880 [==============================] - 116s 942us/sample - loss: 0.1824 - mean_absolute_error: 0.1824 - val_loss: 0.1961 - val_mean_absolute_error: 0.1961\n",
      "Epoch 21/60\n",
      "122880/122880 [==============================] - 116s 945us/sample - loss: 0.1823 - mean_absolute_error: 0.1823 - val_loss: 0.1754 - val_mean_absolute_error: 0.1754\n",
      "Epoch 22/60\n",
      "122880/122880 [==============================] - 117s 951us/sample - loss: 0.1811 - mean_absolute_error: 0.1811 - val_loss: 0.2254 - val_mean_absolute_error: 0.2254\n",
      "Epoch 23/60\n",
      "122880/122880 [==============================] - 117s 949us/sample - loss: 0.1825 - mean_absolute_error: 0.1825 - val_loss: 0.1993 - val_mean_absolute_error: 0.1993\n",
      "Epoch 24/60\n",
      "122880/122880 [==============================] - 117s 949us/sample - loss: 0.1821 - mean_absolute_error: 0.1821 - val_loss: 0.1806 - val_mean_absolute_error: 0.1806\n",
      "Epoch 25/60\n",
      "122880/122880 [==============================] - 118s 964us/sample - loss: 0.1832 - mean_absolute_error: 0.1832 - val_loss: 0.1824 - val_mean_absolute_error: 0.1824\n",
      "Epoch 26/60\n",
      "122880/122880 [==============================] - 120s 976us/sample - loss: 0.1827 - mean_absolute_error: 0.1827 - val_loss: 0.1737 - val_mean_absolute_error: 0.1737\n",
      "Epoch 27/60\n",
      "122880/122880 [==============================] - 123s 1000us/sample - loss: 0.1825 - mean_absolute_error: 0.1825 - val_loss: 0.1510 - val_mean_absolute_error: 0.1510\n",
      "Epoch 28/60\n",
      "122880/122880 [==============================] - 124s 1ms/sample - loss: 0.1827 - mean_absolute_error: 0.1827 - val_loss: 0.1651 - val_mean_absolute_error: 0.1651\n",
      "Epoch 29/60\n",
      "122880/122880 [==============================] - 126s 1ms/sample - loss: 0.1821 - mean_absolute_error: 0.1821 - val_loss: 0.1748 - val_mean_absolute_error: 0.1748\n",
      "Epoch 30/60\n",
      "122880/122880 [==============================] - 127s 1ms/sample - loss: 0.1838 - mean_absolute_error: 0.1838 - val_loss: 0.1408 - val_mean_absolute_error: 0.1408\n",
      "Epoch 31/60\n",
      "122880/122880 [==============================] - 128s 1ms/sample - loss: 0.1849 - mean_absolute_error: 0.1849 - val_loss: 0.1866 - val_mean_absolute_error: 0.1866\n",
      "Epoch 32/60\n",
      "122880/122880 [==============================] - 128s 1ms/sample - loss: 0.1838 - mean_absolute_error: 0.1838 - val_loss: 0.2485 - val_mean_absolute_error: 0.2485\n",
      "Epoch 33/60\n",
      "122880/122880 [==============================] - 129s 1ms/sample - loss: 0.1823 - mean_absolute_error: 0.1823 - val_loss: 0.1748 - val_mean_absolute_error: 0.1748\n",
      "Epoch 34/60\n",
      "122880/122880 [==============================] - 132s 1ms/sample - loss: 0.1823 - mean_absolute_error: 0.1823 - val_loss: 0.2054 - val_mean_absolute_error: 0.2054\n",
      "Epoch 35/60\n",
      "122880/122880 [==============================] - 139s 1ms/sample - loss: 0.1824 - mean_absolute_error: 0.1824 - val_loss: 0.1722 - val_mean_absolute_error: 0.1722\n",
      "Epoch 36/60\n",
      "122880/122880 [==============================] - 144s 1ms/sample - loss: 0.1822 - mean_absolute_error: 0.1822 - val_loss: 0.1373 - val_mean_absolute_error: 0.1373\n",
      "Epoch 37/60\n",
      "122880/122880 [==============================] - 142s 1ms/sample - loss: 0.1822 - mean_absolute_error: 0.1822 - val_loss: 0.2056 - val_mean_absolute_error: 0.2056\n",
      "Epoch 38/60\n",
      "122880/122880 [==============================] - 139s 1ms/sample - loss: 0.1825 - mean_absolute_error: 0.1825 - val_loss: 0.1403 - val_mean_absolute_error: 0.1403\n",
      "Epoch 39/60\n",
      "122880/122880 [==============================] - 143s 1ms/sample - loss: 0.1815 - mean_absolute_error: 0.1815 - val_loss: 0.1364 - val_mean_absolute_error: 0.1364\n",
      "Epoch 40/60\n",
      "122880/122880 [==============================] - 149s 1ms/sample - loss: 0.1830 - mean_absolute_error: 0.1830 - val_loss: 0.1507 - val_mean_absolute_error: 0.1507\n",
      "Epoch 41/60\n",
      "122880/122880 [==============================] - 141s 1ms/sample - loss: 0.1860 - mean_absolute_error: 0.1860 - val_loss: 0.1911 - val_mean_absolute_error: 0.1911\n",
      "Epoch 42/60\n",
      "122880/122880 [==============================] - 140s 1ms/sample - loss: 0.1830 - mean_absolute_error: 0.1830 - val_loss: 0.2289 - val_mean_absolute_error: 0.2289\n",
      "Epoch 43/60\n",
      "122880/122880 [==============================] - 140s 1ms/sample - loss: 0.1827 - mean_absolute_error: 0.1827 - val_loss: 0.1562 - val_mean_absolute_error: 0.1562\n",
      "Epoch 44/60\n",
      "122880/122880 [==============================] - 137s 1ms/sample - loss: 0.1837 - mean_absolute_error: 0.1837 - val_loss: 0.1895 - val_mean_absolute_error: 0.1895\n",
      "Epoch 45/60\n",
      "122880/122880 [==============================] - 134s 1ms/sample - loss: 0.1827 - mean_absolute_error: 0.1827 - val_loss: 0.2629 - val_mean_absolute_error: 0.2629\n",
      "Epoch 46/60\n",
      "122880/122880 [==============================] - 124s 1ms/sample - loss: 0.1834 - mean_absolute_error: 0.1834 - val_loss: 0.1499 - val_mean_absolute_error: 0.1499\n",
      "Epoch 47/60\n",
      "122880/122880 [==============================] - 123s 1ms/sample - loss: 0.1827 - mean_absolute_error: 0.1827 - val_loss: 0.1551 - val_mean_absolute_error: 0.1551\n",
      "Epoch 48/60\n",
      "122880/122880 [==============================] - 127s 1ms/sample - loss: 0.1821 - mean_absolute_error: 0.1821 - val_loss: 0.2457 - val_mean_absolute_error: 0.2457\n",
      "Epoch 49/60\n",
      "122880/122880 [==============================] - 130s 1ms/sample - loss: 0.1811 - mean_absolute_error: 0.1811 - val_loss: 0.1746 - val_mean_absolute_error: 0.1746\n",
      "Epoch 50/60\n",
      "122880/122880 [==============================] - 134s 1ms/sample - loss: 0.1810 - mean_absolute_error: 0.1810 - val_loss: 0.1952 - val_mean_absolute_error: 0.1952\n",
      "Epoch 51/60\n",
      "122880/122880 [==============================] - 129s 1ms/sample - loss: 0.1800 - mean_absolute_error: 0.1800 - val_loss: 0.1945 - val_mean_absolute_error: 0.1945\n",
      "Epoch 52/60\n",
      "122880/122880 [==============================] - 128s 1ms/sample - loss: 0.1805 - mean_absolute_error: 0.1805 - val_loss: 0.1657 - val_mean_absolute_error: 0.1657\n",
      "Epoch 53/60\n",
      "122880/122880 [==============================] - 129s 1ms/sample - loss: 0.1800 - mean_absolute_error: 0.1800 - val_loss: 0.2061 - val_mean_absolute_error: 0.2061\n",
      "Epoch 54/60\n",
      "122880/122880 [==============================] - 128s 1ms/sample - loss: 0.1797 - mean_absolute_error: 0.1797 - val_loss: 0.2379 - val_mean_absolute_error: 0.2379\n",
      "Epoch 55/60\n",
      "122880/122880 [==============================] - 132s 1ms/sample - loss: 0.1800 - mean_absolute_error: 0.1800 - val_loss: 0.2317 - val_mean_absolute_error: 0.2317\n",
      "Epoch 56/60\n",
      "122880/122880 [==============================] - 135s 1ms/sample - loss: 0.1795 - mean_absolute_error: 0.1795 - val_loss: 0.1883 - val_mean_absolute_error: 0.1883\n",
      "Epoch 57/60\n",
      "122880/122880 [==============================] - 139s 1ms/sample - loss: 0.1790 - mean_absolute_error: 0.1790 - val_loss: 0.1440 - val_mean_absolute_error: 0.1440\n",
      "Epoch 58/60\n",
      "122880/122880 [==============================] - 141s 1ms/sample - loss: 0.1798 - mean_absolute_error: 0.1798 - val_loss: 0.2118 - val_mean_absolute_error: 0.2118\n",
      "Epoch 59/60\n",
      "122880/122880 [==============================] - 137s 1ms/sample - loss: 0.1795 - mean_absolute_error: 0.1795 - val_loss: 0.1969 - val_mean_absolute_error: 0.1969\n",
      "Epoch 60/60\n",
      "122880/122880 [==============================] - 129s 1ms/sample - loss: 0.1794 - mean_absolute_error: 0.1794 - val_loss: 0.1870 - val_mean_absolute_error: 0.1870\n"
     ]
    },
    {
     "data": {
      "text/plain": [
       "<tensorflow.python.keras.callbacks.History at 0x7f818c118ef0>"
      ]
     },
     "execution_count": 99,
     "metadata": {},
     "output_type": "execute_result"
    }
   ],
   "source": [
    "model.fit(x=data[\"x\"], y=data[\"y\"], batch_size=64, shuffle=True, epochs=60, validation_data=(val[\"x\"], val[\"y\"]))"
   ]
  },
  {
   "cell_type": "code",
   "execution_count": 100,
   "metadata": {},
   "outputs": [
    {
     "data": {
      "text/plain": [
       "Reusing TensorBoard on port 6008 (pid 74304), started 2:19:58 ago. (Use '!kill 74304' to kill it.)"
      ]
     },
     "metadata": {},
     "output_type": "display_data"
    },
    {
     "data": {
      "text/html": [
       "\n",
       "      <iframe id=\"tensorboard-frame-b2821d91d1e2d094\" width=\"100%\" height=\"800\" frameborder=\"0\">\n",
       "      </iframe>\n",
       "      <script>\n",
       "        (function() {\n",
       "          const frame = document.getElementById(\"tensorboard-frame-b2821d91d1e2d094\");\n",
       "          const url = new URL(\"/\", window.location);\n",
       "          url.port = 6008;\n",
       "          frame.src = url;\n",
       "        })();\n",
       "      </script>\n",
       "  "
      ],
      "text/plain": [
       "<IPython.core.display.HTML object>"
      ]
     },
     "metadata": {},
     "output_type": "display_data"
    }
   ],
   "source": [
    "%tensorboard --logdir ~/deep_dss/log"
   ]
  },
  {
   "cell_type": "code",
   "execution_count": 29,
   "metadata": {},
   "outputs": [],
   "source": [
    "def create_model():\n",
    "    return tf.keras.Sequential([\n",
    "        tf.keras.layers.Dense(512, activation='relu', input_shape=(1024,)),\n",
    "        tf.keras.layers.Dropout(0.2),\n",
    "        tf.keras.layers.BatchNormalization(),\n",
    "        tf.keras.layers.Dense(512, activation='relu', input_shape=(1024,)),\n",
    "        tf.keras.layers.Dropout(0.2),\n",
    "        tf.keras.layers.BatchNormalization(),\n",
    "        tf.keras.layers.Dense(512, activation='relu', input_shape=(1024,)),\n",
    "        tf.keras.layers.Dropout(0.2),\n",
    "        tf.keras.layers.BatchNormalization(),\n",
    "        tf.keras.layers.Dense(512, activation='relu', input_shape=(1024,)),\n",
    "        tf.keras.layers.Dropout(0.2),\n",
    "        tf.keras.layers.BatchNormalization(),\n",
    "        tf.keras.layers.Dense(512, activation='relu', input_shape=(1024,)),\n",
    "        tf.keras.layers.Dropout(0.2),\n",
    "        tf.keras.layers.BatchNormalization(),\n",
    "        tf.keras.layers.Dense(512, activation='relu', input_shape=(1024,)),\n",
    "        tf.keras.layers.Dropout(0.2),\n",
    "        tf.keras.layers.BatchNormalization(),\n",
    "        tf.keras.layers.Dense(512, activation='relu', input_shape=(1024,)),\n",
    "        tf.keras.layers.Dropout(0.2),\n",
    "        tf.keras.layers.BatchNormalization(),\n",
    "        tf.keras.layers.Dense(512, activation='relu', input_shape=(1024,)),\n",
    "        tf.keras.layers.Dropout(0.2),\n",
    "        tf.keras.layers.BatchNormalization(),\n",
    "        tf.keras.layers.Dense(256, activation='relu'),\n",
    "        tf.keras.layers.Dropout(0.2),\n",
    "        tf.keras.layers.BatchNormalization(),\n",
    "        tf.keras.layers.Dense(256, activation='relu'),\n",
    "        tf.keras.layers.Dropout(0.2),\n",
    "        tf.keras.layers.BatchNormalization(),\n",
    "        tf.keras.layers.Dense(256, activation='relu'),\n",
    "        tf.keras.layers.Dropout(0.2),\n",
    "        tf.keras.layers.BatchNormalization(),\n",
    "        tf.keras.layers.Dense(256, activation='relu'),\n",
    "        tf.keras.layers.Dropout(0.2),\n",
    "        tf.keras.layers.BatchNormalization(),\n",
    "        tf.keras.layers.Dense(256, activation='relu'),\n",
    "        tf.keras.layers.Dropout(0.2),\n",
    "        tf.keras.layers.BatchNormalization(),\n",
    "        tf.keras.layers.Dense(128, activation='relu'),\n",
    "        tf.keras.layers.Dropout(0.2),\n",
    "        tf.keras.layers.BatchNormalization(),\n",
    "        tf.keras.layers.Dense(128, activation='relu'),\n",
    "        tf.keras.layers.Dropout(0.2),\n",
    "        tf.keras.layers.BatchNormalization(),\n",
    "        tf.keras.layers.Dense(128, activation='relu'),\n",
    "        tf.keras.layers.Dropout(0.2),\n",
    "        tf.keras.layers.BatchNormalization(),\n",
    "        tf.keras.layers.Dense(128, activation='relu'),\n",
    "        tf.keras.layers.Dropout(0.2),\n",
    "        tf.keras.layers.BatchNormalization(),\n",
    "        tf.keras.layers.Dense(128, activation='relu'),\n",
    "        tf.keras.layers.Dropout(0.2),\n",
    "        tf.keras.layers.BatchNormalization(),\n",
    "        tf.keras.layers.Dense(64, activation='relu'),\n",
    "        tf.keras.layers.Dense(32, activation='relu'),\n",
    "        tf.keras.layers.Dense(16, activation='relu'),\n",
    "        tf.keras.layers.Dense(8, activation='relu'),\n",
    "        tf.keras.layers.Dense(4, activation='relu'),\n",
    "        tf.keras.layers.Dense(2, activation='relu'),\n",
    "        tf.keras.layers.Dense(1, activation='relu')\n",
    "    ])"
   ]
  },
  {
   "cell_type": "code",
   "execution_count": 47,
   "metadata": {},
   "outputs": [],
   "source": [
    "tf.random.set_seed(720)"
   ]
  },
  {
   "cell_type": "code",
   "execution_count": 52,
   "metadata": {},
   "outputs": [],
   "source": [
    "model = create_model()"
   ]
  },
  {
   "cell_type": "code",
   "execution_count": 53,
   "metadata": {},
   "outputs": [
    {
     "name": "stdout",
     "output_type": "stream",
     "text": [
      "Model: \"sequential_4\"\n",
      "_________________________________________________________________\n",
      "Layer (type)                 Output Shape              Param #   \n",
      "=================================================================\n",
      "dense_100 (Dense)            (None, 512)               524800    \n",
      "_________________________________________________________________\n",
      "dropout_72 (Dropout)         (None, 512)               0         \n",
      "_________________________________________________________________\n",
      "batch_normalization_72 (Batc (None, 512)               2048      \n",
      "_________________________________________________________________\n",
      "dense_101 (Dense)            (None, 512)               262656    \n",
      "_________________________________________________________________\n",
      "dropout_73 (Dropout)         (None, 512)               0         \n",
      "_________________________________________________________________\n",
      "batch_normalization_73 (Batc (None, 512)               2048      \n",
      "_________________________________________________________________\n",
      "dense_102 (Dense)            (None, 512)               262656    \n",
      "_________________________________________________________________\n",
      "dropout_74 (Dropout)         (None, 512)               0         \n",
      "_________________________________________________________________\n",
      "batch_normalization_74 (Batc (None, 512)               2048      \n",
      "_________________________________________________________________\n",
      "dense_103 (Dense)            (None, 512)               262656    \n",
      "_________________________________________________________________\n",
      "dropout_75 (Dropout)         (None, 512)               0         \n",
      "_________________________________________________________________\n",
      "batch_normalization_75 (Batc (None, 512)               2048      \n",
      "_________________________________________________________________\n",
      "dense_104 (Dense)            (None, 512)               262656    \n",
      "_________________________________________________________________\n",
      "dropout_76 (Dropout)         (None, 512)               0         \n",
      "_________________________________________________________________\n",
      "batch_normalization_76 (Batc (None, 512)               2048      \n",
      "_________________________________________________________________\n",
      "dense_105 (Dense)            (None, 512)               262656    \n",
      "_________________________________________________________________\n",
      "dropout_77 (Dropout)         (None, 512)               0         \n",
      "_________________________________________________________________\n",
      "batch_normalization_77 (Batc (None, 512)               2048      \n",
      "_________________________________________________________________\n",
      "dense_106 (Dense)            (None, 512)               262656    \n",
      "_________________________________________________________________\n",
      "dropout_78 (Dropout)         (None, 512)               0         \n",
      "_________________________________________________________________\n",
      "batch_normalization_78 (Batc (None, 512)               2048      \n",
      "_________________________________________________________________\n",
      "dense_107 (Dense)            (None, 512)               262656    \n",
      "_________________________________________________________________\n",
      "dropout_79 (Dropout)         (None, 512)               0         \n",
      "_________________________________________________________________\n",
      "batch_normalization_79 (Batc (None, 512)               2048      \n",
      "_________________________________________________________________\n",
      "dense_108 (Dense)            (None, 256)               131328    \n",
      "_________________________________________________________________\n",
      "dropout_80 (Dropout)         (None, 256)               0         \n",
      "_________________________________________________________________\n",
      "batch_normalization_80 (Batc (None, 256)               1024      \n",
      "_________________________________________________________________\n",
      "dense_109 (Dense)            (None, 256)               65792     \n",
      "_________________________________________________________________\n",
      "dropout_81 (Dropout)         (None, 256)               0         \n",
      "_________________________________________________________________\n",
      "batch_normalization_81 (Batc (None, 256)               1024      \n",
      "_________________________________________________________________\n",
      "dense_110 (Dense)            (None, 256)               65792     \n",
      "_________________________________________________________________\n",
      "dropout_82 (Dropout)         (None, 256)               0         \n",
      "_________________________________________________________________\n",
      "batch_normalization_82 (Batc (None, 256)               1024      \n",
      "_________________________________________________________________\n",
      "dense_111 (Dense)            (None, 256)               65792     \n",
      "_________________________________________________________________\n",
      "dropout_83 (Dropout)         (None, 256)               0         \n",
      "_________________________________________________________________\n",
      "batch_normalization_83 (Batc (None, 256)               1024      \n",
      "_________________________________________________________________\n",
      "dense_112 (Dense)            (None, 256)               65792     \n",
      "_________________________________________________________________\n",
      "dropout_84 (Dropout)         (None, 256)               0         \n",
      "_________________________________________________________________\n",
      "batch_normalization_84 (Batc (None, 256)               1024      \n",
      "_________________________________________________________________\n",
      "dense_113 (Dense)            (None, 128)               32896     \n",
      "_________________________________________________________________\n",
      "dropout_85 (Dropout)         (None, 128)               0         \n",
      "_________________________________________________________________\n",
      "batch_normalization_85 (Batc (None, 128)               512       \n",
      "_________________________________________________________________\n",
      "dense_114 (Dense)            (None, 128)               16512     \n",
      "_________________________________________________________________\n",
      "dropout_86 (Dropout)         (None, 128)               0         \n",
      "_________________________________________________________________\n",
      "batch_normalization_86 (Batc (None, 128)               512       \n",
      "_________________________________________________________________\n",
      "dense_115 (Dense)            (None, 128)               16512     \n",
      "_________________________________________________________________\n",
      "dropout_87 (Dropout)         (None, 128)               0         \n",
      "_________________________________________________________________\n",
      "batch_normalization_87 (Batc (None, 128)               512       \n",
      "_________________________________________________________________\n",
      "dense_116 (Dense)            (None, 128)               16512     \n",
      "_________________________________________________________________\n",
      "dropout_88 (Dropout)         (None, 128)               0         \n",
      "_________________________________________________________________\n",
      "batch_normalization_88 (Batc (None, 128)               512       \n",
      "_________________________________________________________________\n",
      "dense_117 (Dense)            (None, 128)               16512     \n",
      "_________________________________________________________________\n",
      "dropout_89 (Dropout)         (None, 128)               0         \n",
      "_________________________________________________________________\n",
      "batch_normalization_89 (Batc (None, 128)               512       \n",
      "_________________________________________________________________\n",
      "dense_118 (Dense)            (None, 64)                8256      \n",
      "_________________________________________________________________\n",
      "dense_119 (Dense)            (None, 32)                2080      \n",
      "_________________________________________________________________\n",
      "dense_120 (Dense)            (None, 16)                528       \n",
      "_________________________________________________________________\n",
      "dense_121 (Dense)            (None, 8)                 136       \n",
      "_________________________________________________________________\n",
      "dense_122 (Dense)            (None, 4)                 36        \n",
      "_________________________________________________________________\n",
      "dense_123 (Dense)            (None, 2)                 10        \n",
      "_________________________________________________________________\n",
      "dense_124 (Dense)            (None, 1)                 3         \n",
      "=================================================================\n",
      "Total params: 2,891,945\n",
      "Trainable params: 2,879,913\n",
      "Non-trainable params: 12,032\n",
      "_________________________________________________________________\n"
     ]
    }
   ],
   "source": [
    "model.summary()"
   ]
  },
  {
   "cell_type": "code",
   "execution_count": 44,
   "metadata": {},
   "outputs": [],
   "source": [
    "callback = tf.keras.callbacks.TensorBoard(log_dir=\"../log/v3\", histogram_freq=1)"
   ]
  },
  {
   "cell_type": "code",
   "execution_count": 50,
   "metadata": {},
   "outputs": [],
   "source": [
    "model.compile(optimizer=\"sgd\", loss=\"mean_absolute_error\", metrics=[\"mean_absolute_error\"])"
   ]
  },
  {
   "cell_type": "code",
   "execution_count": 51,
   "metadata": {},
   "outputs": [
    {
     "name": "stdout",
     "output_type": "stream",
     "text": [
      "Train on 491520 samples, validate on 16384 samples\n",
      "Epoch 1/60\n",
      "491520/491520 [==============================] - 552s 1ms/sample - loss: 0.1730 - mean_absolute_error: 0.1730 - val_loss: 0.1909 - val_mean_absolute_error: 0.1909\n",
      "Epoch 2/60\n",
      "491520/491520 [==============================] - 547s 1ms/sample - loss: 0.1601 - mean_absolute_error: 0.1601 - val_loss: 0.1483 - val_mean_absolute_error: 0.1483\n",
      "Epoch 3/60\n",
      "491520/491520 [==============================] - 545s 1ms/sample - loss: 0.1395 - mean_absolute_error: 0.1395 - val_loss: 0.5425 - val_mean_absolute_error: 0.5425\n",
      "Epoch 4/60\n",
      "491520/491520 [==============================] - 539s 1ms/sample - loss: 0.1657 - mean_absolute_error: 0.1657 - val_loss: 0.3700 - val_mean_absolute_error: 0.3700\n",
      "Epoch 5/60\n",
      "491520/491520 [==============================] - 539s 1ms/sample - loss: 0.1691 - mean_absolute_error: 0.1691 - val_loss: 0.1993 - val_mean_absolute_error: 0.1993\n",
      "Epoch 6/60\n",
      "491520/491520 [==============================] - 546s 1ms/sample - loss: 0.1715 - mean_absolute_error: 0.1715 - val_loss: 0.2097 - val_mean_absolute_error: 0.2097\n",
      "Epoch 7/60\n",
      "491520/491520 [==============================] - 1153s 2ms/sample - loss: 0.1716 - mean_absolute_error: 0.1716 - val_loss: 0.2240 - val_mean_absolute_error: 0.2240\n",
      "Epoch 8/60\n",
      "491520/491520 [==============================] - 601s 1ms/sample - loss: 0.1715 - mean_absolute_error: 0.1715 - val_loss: 0.2196 - val_mean_absolute_error: 0.2196\n",
      "Epoch 9/60\n",
      "280832/491520 [================>.............] - ETA: 3:57 - loss: 0.1717 - mean_absolute_error: 0.1717"
     ]
    },
    {
     "ename": "KeyboardInterrupt",
     "evalue": "",
     "output_type": "error",
     "traceback": [
      "\u001b[0;31m---------------------------------------------------------------------------\u001b[0m",
      "\u001b[0;31mKeyboardInterrupt\u001b[0m                         Traceback (most recent call last)",
      "\u001b[0;32m<ipython-input-51-a80afeefc177>\u001b[0m in \u001b[0;36m<module>\u001b[0;34m\u001b[0m\n\u001b[1;32m      1\u001b[0m model.fit(x=np.vstack((data[\"x\"], data2[\"x\"])), y=np.vstack((data[\"y\"], data2[\"y\"])), \n\u001b[0;32m----> 2\u001b[0;31m         batch_size=64, shuffle=True, epochs=60, validation_data=(val[\"x\"], val[\"y\"]), callbacks=[callback])\n\u001b[0m",
      "\u001b[0;32m~/opt/anaconda3/envs/deep_dss/lib/python3.6/site-packages/tensorflow_core/python/keras/engine/training.py\u001b[0m in \u001b[0;36mfit\u001b[0;34m(self, x, y, batch_size, epochs, verbose, callbacks, validation_split, validation_data, shuffle, class_weight, sample_weight, initial_epoch, steps_per_epoch, validation_steps, validation_freq, max_queue_size, workers, use_multiprocessing, **kwargs)\u001b[0m\n\u001b[1;32m    726\u001b[0m         \u001b[0mmax_queue_size\u001b[0m\u001b[0;34m=\u001b[0m\u001b[0mmax_queue_size\u001b[0m\u001b[0;34m,\u001b[0m\u001b[0;34m\u001b[0m\u001b[0;34m\u001b[0m\u001b[0m\n\u001b[1;32m    727\u001b[0m         \u001b[0mworkers\u001b[0m\u001b[0;34m=\u001b[0m\u001b[0mworkers\u001b[0m\u001b[0;34m,\u001b[0m\u001b[0;34m\u001b[0m\u001b[0;34m\u001b[0m\u001b[0m\n\u001b[0;32m--> 728\u001b[0;31m         use_multiprocessing=use_multiprocessing)\n\u001b[0m\u001b[1;32m    729\u001b[0m \u001b[0;34m\u001b[0m\u001b[0m\n\u001b[1;32m    730\u001b[0m   def evaluate(self,\n",
      "\u001b[0;32m~/opt/anaconda3/envs/deep_dss/lib/python3.6/site-packages/tensorflow_core/python/keras/engine/training_v2.py\u001b[0m in \u001b[0;36mfit\u001b[0;34m(self, model, x, y, batch_size, epochs, verbose, callbacks, validation_split, validation_data, shuffle, class_weight, sample_weight, initial_epoch, steps_per_epoch, validation_steps, validation_freq, **kwargs)\u001b[0m\n\u001b[1;32m    322\u001b[0m                 \u001b[0mmode\u001b[0m\u001b[0;34m=\u001b[0m\u001b[0mModeKeys\u001b[0m\u001b[0;34m.\u001b[0m\u001b[0mTRAIN\u001b[0m\u001b[0;34m,\u001b[0m\u001b[0;34m\u001b[0m\u001b[0;34m\u001b[0m\u001b[0m\n\u001b[1;32m    323\u001b[0m                 \u001b[0mtraining_context\u001b[0m\u001b[0;34m=\u001b[0m\u001b[0mtraining_context\u001b[0m\u001b[0;34m,\u001b[0m\u001b[0;34m\u001b[0m\u001b[0;34m\u001b[0m\u001b[0m\n\u001b[0;32m--> 324\u001b[0;31m                 total_epochs=epochs)\n\u001b[0m\u001b[1;32m    325\u001b[0m             \u001b[0mcbks\u001b[0m\u001b[0;34m.\u001b[0m\u001b[0mmake_logs\u001b[0m\u001b[0;34m(\u001b[0m\u001b[0mmodel\u001b[0m\u001b[0;34m,\u001b[0m \u001b[0mepoch_logs\u001b[0m\u001b[0;34m,\u001b[0m \u001b[0mtraining_result\u001b[0m\u001b[0;34m,\u001b[0m \u001b[0mModeKeys\u001b[0m\u001b[0;34m.\u001b[0m\u001b[0mTRAIN\u001b[0m\u001b[0;34m)\u001b[0m\u001b[0;34m\u001b[0m\u001b[0;34m\u001b[0m\u001b[0m\n\u001b[1;32m    326\u001b[0m \u001b[0;34m\u001b[0m\u001b[0m\n",
      "\u001b[0;32m~/opt/anaconda3/envs/deep_dss/lib/python3.6/site-packages/tensorflow_core/python/keras/engine/training_v2.py\u001b[0m in \u001b[0;36mrun_one_epoch\u001b[0;34m(model, iterator, execution_function, dataset_size, batch_size, strategy, steps_per_epoch, num_samples, mode, training_context, total_epochs)\u001b[0m\n\u001b[1;32m    121\u001b[0m         step=step, mode=mode, size=current_batch_size) as batch_logs:\n\u001b[1;32m    122\u001b[0m       \u001b[0;32mtry\u001b[0m\u001b[0;34m:\u001b[0m\u001b[0;34m\u001b[0m\u001b[0;34m\u001b[0m\u001b[0m\n\u001b[0;32m--> 123\u001b[0;31m         \u001b[0mbatch_outs\u001b[0m \u001b[0;34m=\u001b[0m \u001b[0mexecution_function\u001b[0m\u001b[0;34m(\u001b[0m\u001b[0miterator\u001b[0m\u001b[0;34m)\u001b[0m\u001b[0;34m\u001b[0m\u001b[0;34m\u001b[0m\u001b[0m\n\u001b[0m\u001b[1;32m    124\u001b[0m       \u001b[0;32mexcept\u001b[0m \u001b[0;34m(\u001b[0m\u001b[0mStopIteration\u001b[0m\u001b[0;34m,\u001b[0m \u001b[0merrors\u001b[0m\u001b[0;34m.\u001b[0m\u001b[0mOutOfRangeError\u001b[0m\u001b[0;34m)\u001b[0m\u001b[0;34m:\u001b[0m\u001b[0;34m\u001b[0m\u001b[0;34m\u001b[0m\u001b[0m\n\u001b[1;32m    125\u001b[0m         \u001b[0;31m# TODO(kaftan): File bug about tf function and errors.OutOfRangeError?\u001b[0m\u001b[0;34m\u001b[0m\u001b[0;34m\u001b[0m\u001b[0;34m\u001b[0m\u001b[0m\n",
      "\u001b[0;32m~/opt/anaconda3/envs/deep_dss/lib/python3.6/site-packages/tensorflow_core/python/keras/engine/training_v2_utils.py\u001b[0m in \u001b[0;36mexecution_function\u001b[0;34m(input_fn)\u001b[0m\n\u001b[1;32m     84\u001b[0m     \u001b[0;31m# `numpy` translates Tensors to values in Eager mode.\u001b[0m\u001b[0;34m\u001b[0m\u001b[0;34m\u001b[0m\u001b[0;34m\u001b[0m\u001b[0m\n\u001b[1;32m     85\u001b[0m     return nest.map_structure(_non_none_constant_value,\n\u001b[0;32m---> 86\u001b[0;31m                               distributed_function(input_fn))\n\u001b[0m\u001b[1;32m     87\u001b[0m \u001b[0;34m\u001b[0m\u001b[0m\n\u001b[1;32m     88\u001b[0m   \u001b[0;32mreturn\u001b[0m \u001b[0mexecution_function\u001b[0m\u001b[0;34m\u001b[0m\u001b[0;34m\u001b[0m\u001b[0m\n",
      "\u001b[0;32m~/opt/anaconda3/envs/deep_dss/lib/python3.6/site-packages/tensorflow_core/python/eager/def_function.py\u001b[0m in \u001b[0;36m__call__\u001b[0;34m(self, *args, **kwds)\u001b[0m\n\u001b[1;32m    455\u001b[0m \u001b[0;34m\u001b[0m\u001b[0m\n\u001b[1;32m    456\u001b[0m     \u001b[0mtracing_count\u001b[0m \u001b[0;34m=\u001b[0m \u001b[0mself\u001b[0m\u001b[0;34m.\u001b[0m\u001b[0m_get_tracing_count\u001b[0m\u001b[0;34m(\u001b[0m\u001b[0;34m)\u001b[0m\u001b[0;34m\u001b[0m\u001b[0;34m\u001b[0m\u001b[0m\n\u001b[0;32m--> 457\u001b[0;31m     \u001b[0mresult\u001b[0m \u001b[0;34m=\u001b[0m \u001b[0mself\u001b[0m\u001b[0;34m.\u001b[0m\u001b[0m_call\u001b[0m\u001b[0;34m(\u001b[0m\u001b[0;34m*\u001b[0m\u001b[0margs\u001b[0m\u001b[0;34m,\u001b[0m \u001b[0;34m**\u001b[0m\u001b[0mkwds\u001b[0m\u001b[0;34m)\u001b[0m\u001b[0;34m\u001b[0m\u001b[0;34m\u001b[0m\u001b[0m\n\u001b[0m\u001b[1;32m    458\u001b[0m     \u001b[0;32mif\u001b[0m \u001b[0mtracing_count\u001b[0m \u001b[0;34m==\u001b[0m \u001b[0mself\u001b[0m\u001b[0;34m.\u001b[0m\u001b[0m_get_tracing_count\u001b[0m\u001b[0;34m(\u001b[0m\u001b[0;34m)\u001b[0m\u001b[0;34m:\u001b[0m\u001b[0;34m\u001b[0m\u001b[0;34m\u001b[0m\u001b[0m\n\u001b[1;32m    459\u001b[0m       \u001b[0mself\u001b[0m\u001b[0;34m.\u001b[0m\u001b[0m_call_counter\u001b[0m\u001b[0;34m.\u001b[0m\u001b[0mcalled_without_tracing\u001b[0m\u001b[0;34m(\u001b[0m\u001b[0;34m)\u001b[0m\u001b[0;34m\u001b[0m\u001b[0;34m\u001b[0m\u001b[0m\n",
      "\u001b[0;32m~/opt/anaconda3/envs/deep_dss/lib/python3.6/site-packages/tensorflow_core/python/eager/def_function.py\u001b[0m in \u001b[0;36m_call\u001b[0;34m(self, *args, **kwds)\u001b[0m\n\u001b[1;32m    485\u001b[0m       \u001b[0;31m# In this case we have created variables on the first call, so we run the\u001b[0m\u001b[0;34m\u001b[0m\u001b[0;34m\u001b[0m\u001b[0;34m\u001b[0m\u001b[0m\n\u001b[1;32m    486\u001b[0m       \u001b[0;31m# defunned version which is guaranteed to never create variables.\u001b[0m\u001b[0;34m\u001b[0m\u001b[0;34m\u001b[0m\u001b[0;34m\u001b[0m\u001b[0m\n\u001b[0;32m--> 487\u001b[0;31m       \u001b[0;32mreturn\u001b[0m \u001b[0mself\u001b[0m\u001b[0;34m.\u001b[0m\u001b[0m_stateless_fn\u001b[0m\u001b[0;34m(\u001b[0m\u001b[0;34m*\u001b[0m\u001b[0margs\u001b[0m\u001b[0;34m,\u001b[0m \u001b[0;34m**\u001b[0m\u001b[0mkwds\u001b[0m\u001b[0;34m)\u001b[0m  \u001b[0;31m# pylint: disable=not-callable\u001b[0m\u001b[0;34m\u001b[0m\u001b[0;34m\u001b[0m\u001b[0m\n\u001b[0m\u001b[1;32m    488\u001b[0m     \u001b[0;32melif\u001b[0m \u001b[0mself\u001b[0m\u001b[0;34m.\u001b[0m\u001b[0m_stateful_fn\u001b[0m \u001b[0;32mis\u001b[0m \u001b[0;32mnot\u001b[0m \u001b[0;32mNone\u001b[0m\u001b[0;34m:\u001b[0m\u001b[0;34m\u001b[0m\u001b[0;34m\u001b[0m\u001b[0m\n\u001b[1;32m    489\u001b[0m       \u001b[0;31m# Release the lock early so that multiple threads can perform the call\u001b[0m\u001b[0;34m\u001b[0m\u001b[0;34m\u001b[0m\u001b[0;34m\u001b[0m\u001b[0m\n",
      "\u001b[0;32m~/opt/anaconda3/envs/deep_dss/lib/python3.6/site-packages/tensorflow_core/python/eager/function.py\u001b[0m in \u001b[0;36m__call__\u001b[0;34m(self, *args, **kwargs)\u001b[0m\n\u001b[1;32m   1821\u001b[0m     \u001b[0;34m\"\"\"Calls a graph function specialized to the inputs.\"\"\"\u001b[0m\u001b[0;34m\u001b[0m\u001b[0;34m\u001b[0m\u001b[0m\n\u001b[1;32m   1822\u001b[0m     \u001b[0mgraph_function\u001b[0m\u001b[0;34m,\u001b[0m \u001b[0margs\u001b[0m\u001b[0;34m,\u001b[0m \u001b[0mkwargs\u001b[0m \u001b[0;34m=\u001b[0m \u001b[0mself\u001b[0m\u001b[0;34m.\u001b[0m\u001b[0m_maybe_define_function\u001b[0m\u001b[0;34m(\u001b[0m\u001b[0margs\u001b[0m\u001b[0;34m,\u001b[0m \u001b[0mkwargs\u001b[0m\u001b[0;34m)\u001b[0m\u001b[0;34m\u001b[0m\u001b[0;34m\u001b[0m\u001b[0m\n\u001b[0;32m-> 1823\u001b[0;31m     \u001b[0;32mreturn\u001b[0m \u001b[0mgraph_function\u001b[0m\u001b[0;34m.\u001b[0m\u001b[0m_filtered_call\u001b[0m\u001b[0;34m(\u001b[0m\u001b[0margs\u001b[0m\u001b[0;34m,\u001b[0m \u001b[0mkwargs\u001b[0m\u001b[0;34m)\u001b[0m  \u001b[0;31m# pylint: disable=protected-access\u001b[0m\u001b[0;34m\u001b[0m\u001b[0;34m\u001b[0m\u001b[0m\n\u001b[0m\u001b[1;32m   1824\u001b[0m \u001b[0;34m\u001b[0m\u001b[0m\n\u001b[1;32m   1825\u001b[0m   \u001b[0;34m@\u001b[0m\u001b[0mproperty\u001b[0m\u001b[0;34m\u001b[0m\u001b[0;34m\u001b[0m\u001b[0m\n",
      "\u001b[0;32m~/opt/anaconda3/envs/deep_dss/lib/python3.6/site-packages/tensorflow_core/python/eager/function.py\u001b[0m in \u001b[0;36m_filtered_call\u001b[0;34m(self, args, kwargs)\u001b[0m\n\u001b[1;32m   1139\u001b[0m          if isinstance(t, (ops.Tensor,\n\u001b[1;32m   1140\u001b[0m                            resource_variable_ops.BaseResourceVariable))),\n\u001b[0;32m-> 1141\u001b[0;31m         self.captured_inputs)\n\u001b[0m\u001b[1;32m   1142\u001b[0m \u001b[0;34m\u001b[0m\u001b[0m\n\u001b[1;32m   1143\u001b[0m   \u001b[0;32mdef\u001b[0m \u001b[0m_call_flat\u001b[0m\u001b[0;34m(\u001b[0m\u001b[0mself\u001b[0m\u001b[0;34m,\u001b[0m \u001b[0margs\u001b[0m\u001b[0;34m,\u001b[0m \u001b[0mcaptured_inputs\u001b[0m\u001b[0;34m,\u001b[0m \u001b[0mcancellation_manager\u001b[0m\u001b[0;34m=\u001b[0m\u001b[0;32mNone\u001b[0m\u001b[0;34m)\u001b[0m\u001b[0;34m:\u001b[0m\u001b[0;34m\u001b[0m\u001b[0;34m\u001b[0m\u001b[0m\n",
      "\u001b[0;32m~/opt/anaconda3/envs/deep_dss/lib/python3.6/site-packages/tensorflow_core/python/eager/function.py\u001b[0m in \u001b[0;36m_call_flat\u001b[0;34m(self, args, captured_inputs, cancellation_manager)\u001b[0m\n\u001b[1;32m   1222\u001b[0m     \u001b[0;32mif\u001b[0m \u001b[0mexecuting_eagerly\u001b[0m\u001b[0;34m:\u001b[0m\u001b[0;34m\u001b[0m\u001b[0;34m\u001b[0m\u001b[0m\n\u001b[1;32m   1223\u001b[0m       flat_outputs = forward_function.call(\n\u001b[0;32m-> 1224\u001b[0;31m           ctx, args, cancellation_manager=cancellation_manager)\n\u001b[0m\u001b[1;32m   1225\u001b[0m     \u001b[0;32melse\u001b[0m\u001b[0;34m:\u001b[0m\u001b[0;34m\u001b[0m\u001b[0;34m\u001b[0m\u001b[0m\n\u001b[1;32m   1226\u001b[0m       \u001b[0mgradient_name\u001b[0m \u001b[0;34m=\u001b[0m \u001b[0mself\u001b[0m\u001b[0;34m.\u001b[0m\u001b[0m_delayed_rewrite_functions\u001b[0m\u001b[0;34m.\u001b[0m\u001b[0mregister\u001b[0m\u001b[0;34m(\u001b[0m\u001b[0;34m)\u001b[0m\u001b[0;34m\u001b[0m\u001b[0;34m\u001b[0m\u001b[0m\n",
      "\u001b[0;32m~/opt/anaconda3/envs/deep_dss/lib/python3.6/site-packages/tensorflow_core/python/eager/function.py\u001b[0m in \u001b[0;36mcall\u001b[0;34m(self, ctx, args, cancellation_manager)\u001b[0m\n\u001b[1;32m    509\u001b[0m               \u001b[0minputs\u001b[0m\u001b[0;34m=\u001b[0m\u001b[0margs\u001b[0m\u001b[0;34m,\u001b[0m\u001b[0;34m\u001b[0m\u001b[0;34m\u001b[0m\u001b[0m\n\u001b[1;32m    510\u001b[0m               \u001b[0mattrs\u001b[0m\u001b[0;34m=\u001b[0m\u001b[0;34m(\u001b[0m\u001b[0;34m\"executor_type\"\u001b[0m\u001b[0;34m,\u001b[0m \u001b[0mexecutor_type\u001b[0m\u001b[0;34m,\u001b[0m \u001b[0;34m\"config_proto\"\u001b[0m\u001b[0;34m,\u001b[0m \u001b[0mconfig\u001b[0m\u001b[0;34m)\u001b[0m\u001b[0;34m,\u001b[0m\u001b[0;34m\u001b[0m\u001b[0;34m\u001b[0m\u001b[0m\n\u001b[0;32m--> 511\u001b[0;31m               ctx=ctx)\n\u001b[0m\u001b[1;32m    512\u001b[0m         \u001b[0;32melse\u001b[0m\u001b[0;34m:\u001b[0m\u001b[0;34m\u001b[0m\u001b[0;34m\u001b[0m\u001b[0m\n\u001b[1;32m    513\u001b[0m           outputs = execute.execute_with_cancellation(\n",
      "\u001b[0;32m~/opt/anaconda3/envs/deep_dss/lib/python3.6/site-packages/tensorflow_core/python/eager/execute.py\u001b[0m in \u001b[0;36mquick_execute\u001b[0;34m(op_name, num_outputs, inputs, attrs, ctx, name)\u001b[0m\n\u001b[1;32m     59\u001b[0m     tensors = pywrap_tensorflow.TFE_Py_Execute(ctx._handle, device_name,\n\u001b[1;32m     60\u001b[0m                                                \u001b[0mop_name\u001b[0m\u001b[0;34m,\u001b[0m \u001b[0minputs\u001b[0m\u001b[0;34m,\u001b[0m \u001b[0mattrs\u001b[0m\u001b[0;34m,\u001b[0m\u001b[0;34m\u001b[0m\u001b[0;34m\u001b[0m\u001b[0m\n\u001b[0;32m---> 61\u001b[0;31m                                                num_outputs)\n\u001b[0m\u001b[1;32m     62\u001b[0m   \u001b[0;32mexcept\u001b[0m \u001b[0mcore\u001b[0m\u001b[0;34m.\u001b[0m\u001b[0m_NotOkStatusException\u001b[0m \u001b[0;32mas\u001b[0m \u001b[0me\u001b[0m\u001b[0;34m:\u001b[0m\u001b[0;34m\u001b[0m\u001b[0;34m\u001b[0m\u001b[0m\n\u001b[1;32m     63\u001b[0m     \u001b[0;32mif\u001b[0m \u001b[0mname\u001b[0m \u001b[0;32mis\u001b[0m \u001b[0;32mnot\u001b[0m \u001b[0;32mNone\u001b[0m\u001b[0;34m:\u001b[0m\u001b[0;34m\u001b[0m\u001b[0;34m\u001b[0m\u001b[0m\n",
      "\u001b[0;31mKeyboardInterrupt\u001b[0m: "
     ]
    }
   ],
   "source": [
    "model.fit(x=np.vstack((data[\"x\"], data2[\"x\"])), y=np.vstack((data[\"y\"], data2[\"y\"])), \n",
    "        batch_size=64, shuffle=True, epochs=60, validation_data=(val[\"x\"], val[\"y\"]), callbacks=[callback])"
   ]
  },
  {
   "cell_type": "code",
   "execution_count": null,
   "metadata": {},
   "outputs": [],
   "source": [
    "%tensorboard --logdir log/v3"
   ]
  },
  {
   "cell_type": "code",
   "execution_count": 54,
   "metadata": {},
   "outputs": [],
   "source": [
    "model.compile(optimizer=\"adam\", loss=\"mean_absolute_error\", metrics=[\"mean_absolute_error\"])"
   ]
  },
  {
   "cell_type": "code",
   "execution_count": 55,
   "metadata": {},
   "outputs": [],
   "source": [
    "callback = tf.keras.callbacks.TensorBoard(log_dir=\"../log/v4\", histogram_freq=1)"
   ]
  },
  {
   "cell_type": "code",
   "execution_count": null,
   "metadata": {},
   "outputs": [
    {
     "name": "stdout",
     "output_type": "stream",
     "text": [
      "Train on 491520 samples, validate on 16384 samples\n",
      "Epoch 1/60\n",
      "491520/491520 [==============================] - 633s 1ms/sample - loss: 0.1671 - mean_absolute_error: 0.1671 - val_loss: 0.3675 - val_mean_absolute_error: 0.3675\n",
      "Epoch 2/60\n",
      "491520/491520 [==============================] - 593s 1ms/sample - loss: 0.1553 - mean_absolute_error: 0.1553 - val_loss: 0.2794 - val_mean_absolute_error: 0.2794\n",
      "Epoch 3/60\n",
      "491520/491520 [==============================] - 571s 1ms/sample - loss: 0.1500 - mean_absolute_error: 0.1500 - val_loss: 0.2089 - val_mean_absolute_error: 0.2089\n",
      "Epoch 4/60\n",
      "491520/491520 [==============================] - 572s 1ms/sample - loss: 0.1463 - mean_absolute_error: 0.1463 - val_loss: 0.1702 - val_mean_absolute_error: 0.1702\n",
      "Epoch 5/60\n",
      "491520/491520 [==============================] - 575s 1ms/sample - loss: 0.1438 - mean_absolute_error: 0.1438 - val_loss: 0.1413 - val_mean_absolute_error: 0.1413\n",
      "Epoch 6/60\n",
      "491520/491520 [==============================] - 578s 1ms/sample - loss: 0.1427 - mean_absolute_error: 0.1427 - val_loss: 0.1770 - val_mean_absolute_error: 0.1770\n",
      "Epoch 7/60\n",
      "491520/491520 [==============================] - 584s 1ms/sample - loss: 0.1421 - mean_absolute_error: 0.1421 - val_loss: 0.2520 - val_mean_absolute_error: 0.2520\n",
      "Epoch 8/60\n",
      "491520/491520 [==============================] - 581s 1ms/sample - loss: 0.1405 - mean_absolute_error: 0.1405 - val_loss: 0.1149 - val_mean_absolute_error: 0.1149\n",
      "Epoch 9/60\n",
      "491520/491520 [==============================] - 578s 1ms/sample - loss: 0.1398 - mean_absolute_error: 0.1398 - val_loss: 0.1805 - val_mean_absolute_error: 0.1805\n",
      "Epoch 10/60\n",
      "491520/491520 [==============================] - 584s 1ms/sample - loss: 0.1395 - mean_absolute_error: 0.1395 - val_loss: 0.2117 - val_mean_absolute_error: 0.2117\n",
      "Epoch 11/60\n",
      "491520/491520 [==============================] - 577s 1ms/sample - loss: 0.1389 - mean_absolute_error: 0.1389 - val_loss: 0.2520 - val_mean_absolute_error: 0.2520\n",
      "Epoch 12/60\n",
      "491520/491520 [==============================] - 571s 1ms/sample - loss: 0.1387 - mean_absolute_error: 0.1387 - val_loss: 0.1720 - val_mean_absolute_error: 0.1720\n",
      "Epoch 13/60\n",
      "491520/491520 [==============================] - 573s 1ms/sample - loss: 0.1382 - mean_absolute_error: 0.1382 - val_loss: 0.1985 - val_mean_absolute_error: 0.1985\n",
      "Epoch 14/60\n",
      "491520/491520 [==============================] - 576s 1ms/sample - loss: 0.1378 - mean_absolute_error: 0.1378 - val_loss: 0.2132 - val_mean_absolute_error: 0.2132\n",
      "Epoch 15/60\n",
      "491520/491520 [==============================] - 574s 1ms/sample - loss: 0.1373 - mean_absolute_error: 0.1373 - val_loss: 0.1714 - val_mean_absolute_error: 0.1714\n",
      "Epoch 16/60\n",
      "491520/491520 [==============================] - 574s 1ms/sample - loss: 0.1373 - mean_absolute_error: 0.1373 - val_loss: 0.2365 - val_mean_absolute_error: 0.2365\n",
      "Epoch 17/60\n",
      "491520/491520 [==============================] - 568s 1ms/sample - loss: 0.1370 - mean_absolute_error: 0.1370 - val_loss: 0.2200 - val_mean_absolute_error: 0.2200\n",
      "Epoch 18/60\n",
      "491520/491520 [==============================] - 567s 1ms/sample - loss: 0.1364 - mean_absolute_error: 0.1364 - val_loss: 0.2223 - val_mean_absolute_error: 0.2223\n",
      "Epoch 19/60\n",
      "491520/491520 [==============================] - 585s 1ms/sample - loss: 0.1366 - mean_absolute_error: 0.1366 - val_loss: 0.2350 - val_mean_absolute_error: 0.2350\n",
      "Epoch 20/60\n",
      "491520/491520 [==============================] - 599s 1ms/sample - loss: 0.1383 - mean_absolute_error: 0.1383 - val_loss: 0.1935 - val_mean_absolute_error: 0.1935\n",
      "Epoch 21/60\n",
      "491520/491520 [==============================] - 602s 1ms/sample - loss: 0.1377 - mean_absolute_error: 0.1377 - val_loss: 0.2383 - val_mean_absolute_error: 0.2383\n",
      "Epoch 22/60\n",
      "491520/491520 [==============================] - 605s 1ms/sample - loss: 0.1371 - mean_absolute_error: 0.1371 - val_loss: 0.2139 - val_mean_absolute_error: 0.2139\n",
      "Epoch 23/60\n",
      "491520/491520 [==============================] - 631s 1ms/sample - loss: 0.1391 - mean_absolute_error: 0.1391 - val_loss: 0.2314 - val_mean_absolute_error: 0.2314\n",
      "Epoch 24/60\n",
      "491520/491520 [==============================] - 607s 1ms/sample - loss: 0.1383 - mean_absolute_error: 0.1383 - val_loss: 0.2197 - val_mean_absolute_error: 0.2197\n",
      "Epoch 25/60\n",
      "491520/491520 [==============================] - 604s 1ms/sample - loss: 0.1377 - mean_absolute_error: 0.1377 - val_loss: 0.1830 - val_mean_absolute_error: 0.1830\n",
      "Epoch 26/60\n",
      "491520/491520 [==============================] - 616s 1ms/sample - loss: 0.1364 - mean_absolute_error: 0.1364 - val_loss: 0.2266 - val_mean_absolute_error: 0.2266\n",
      "Epoch 27/60\n",
      "491520/491520 [==============================] - 597s 1ms/sample - loss: 0.1358 - mean_absolute_error: 0.1358 - val_loss: 0.2421 - val_mean_absolute_error: 0.2421\n",
      "Epoch 28/60\n",
      "491520/491520 [==============================] - 606s 1ms/sample - loss: 0.1356 - mean_absolute_error: 0.1356 - val_loss: 0.2232 - val_mean_absolute_error: 0.2232\n",
      "Epoch 29/60\n",
      "491520/491520 [==============================] - 604s 1ms/sample - loss: 0.1356 - mean_absolute_error: 0.1356 - val_loss: 0.2229 - val_mean_absolute_error: 0.2229\n",
      "Epoch 30/60\n",
      "491520/491520 [==============================] - 608s 1ms/sample - loss: 0.1353 - mean_absolute_error: 0.1353 - val_loss: 0.1847 - val_mean_absolute_error: 0.1847\n",
      "Epoch 31/60\n",
      "491520/491520 [==============================] - 591s 1ms/sample - loss: 0.1353 - mean_absolute_error: 0.1353 - val_loss: 0.1857 - val_mean_absolute_error: 0.1857\n",
      "Epoch 32/60\n",
      "491520/491520 [==============================] - 573s 1ms/sample - loss: 0.1353 - mean_absolute_error: 0.1353 - val_loss: 0.2339 - val_mean_absolute_error: 0.2339\n",
      "Epoch 33/60\n",
      "491520/491520 [==============================] - 601s 1ms/sample - loss: 0.1356 - mean_absolute_error: 0.1356 - val_loss: 0.2379 - val_mean_absolute_error: 0.2379\n",
      "Epoch 34/60\n",
      "491520/491520 [==============================] - 613s 1ms/sample - loss: 0.1350 - mean_absolute_error: 0.1350 - val_loss: 0.1815 - val_mean_absolute_error: 0.1815\n",
      "Epoch 35/60\n",
      "465664/491520 [===========================>..] - ETA: 32s - loss: 0.1345 - mean_absolute_error: 0.1345"
     ]
    }
   ],
   "source": [
    "model.fit(x=np.vstack((data[\"x\"], data2[\"x\"])), y=np.vstack((data[\"y\"], data2[\"y\"])), \n",
    "        batch_size=64, shuffle=True, epochs=60, validation_data=(val[\"x\"], val[\"y\"]), callbacks=[callback])"
   ]
  },
  {
   "cell_type": "code",
   "execution_count": 5,
   "metadata": {},
   "outputs": [
    {
     "data": {
      "text/html": [
       "\n",
       "      <iframe id=\"tensorboard-frame-1c72f9fa8dd59e37\" width=\"100%\" height=\"800\" frameborder=\"0\">\n",
       "      </iframe>\n",
       "      <script>\n",
       "        (function() {\n",
       "          const frame = document.getElementById(\"tensorboard-frame-1c72f9fa8dd59e37\");\n",
       "          const url = new URL(\"/\", window.location);\n",
       "          url.port = 6008;\n",
       "          frame.src = url;\n",
       "        })();\n",
       "      </script>\n",
       "  "
      ],
      "text/plain": [
       "<IPython.core.display.HTML object>"
      ]
     },
     "metadata": {},
     "output_type": "display_data"
    }
   ],
   "source": [
    "%tensorboard --logdir ../log/v3"
   ]
  },
  {
   "cell_type": "code",
   "execution_count": 6,
   "metadata": {},
   "outputs": [
    {
     "data": {
      "text/html": [
       "\n",
       "      <iframe id=\"tensorboard-frame-a09485135918da30\" width=\"100%\" height=\"800\" frameborder=\"0\">\n",
       "      </iframe>\n",
       "      <script>\n",
       "        (function() {\n",
       "          const frame = document.getElementById(\"tensorboard-frame-a09485135918da30\");\n",
       "          const url = new URL(\"/\", window.location);\n",
       "          url.port = 6009;\n",
       "          frame.src = url;\n",
       "        })();\n",
       "      </script>\n",
       "  "
      ],
      "text/plain": [
       "<IPython.core.display.HTML object>"
      ]
     },
     "metadata": {},
     "output_type": "display_data"
    }
   ],
   "source": [
    "%tensorboard --logdir ../log/v4"
   ]
  },
  {
   "cell_type": "code",
   "execution_count": null,
   "metadata": {},
   "outputs": [],
   "source": []
  }
 ],
 "metadata": {
  "kernelspec": {
   "display_name": "Python 3",
   "language": "python",
   "name": "python3"
  },
  "language_info": {
   "codemirror_mode": {
    "name": "ipython",
    "version": 3
   },
   "file_extension": ".py",
   "mimetype": "text/x-python",
   "name": "python",
   "nbconvert_exporter": "python",
   "pygments_lexer": "ipython3",
   "version": "3.6.10"
  }
 },
 "nbformat": 4,
 "nbformat_minor": 4
}
